{
 "cells": [
  {
   "cell_type": "code",
   "execution_count": 1,
   "id": "e1437c7d",
   "metadata": {},
   "outputs": [],
   "source": [
    "import pandas as pd\n",
    "import numpy as np\n",
    "from tqdm.notebook import tqdm\n",
    "\n",
    "import plotly.graph_objs as go\n",
    "from plotly.subplots import make_subplots\n",
    "import plotly.io as pio\n",
    "pio.templates.default = 'plotly_white'\n",
    "\n",
    "import warnings\n",
    "warnings.filterwarnings(\"ignore\")"
   ]
  },
  {
   "cell_type": "code",
   "execution_count": 2,
   "id": "aeaa32fa",
   "metadata": {},
   "outputs": [],
   "source": [
    "bdt_J19 = pd.read_csv('df_bdt_eval.csv')\n",
    "bdt_J19_5M_23 = bdt_J19[(bdt_J19['opt']==23) & (bdt_J19['model']=='5M')]\n",
    "bdt_J19_5M_0 = bdt_J19[(bdt_J19['opt']==0) & (bdt_J19['model']=='5M')]"
   ]
  },
  {
   "cell_type": "code",
   "execution_count": 3,
   "id": "94430561",
   "metadata": {},
   "outputs": [
    {
     "name": "stdout",
     "output_type": "stream",
     "text": [
      "yes\n"
     ]
    }
   ],
   "source": [
    "vm = input()\n",
    "if vm.lower()=='yes':\n",
    "    path='/mnt/cephfs/ml_data/mc_2021/'\n",
    "else:\n",
    "    path=''"
   ]
  },
  {
   "cell_type": "code",
   "execution_count": 4,
   "id": "d73431c1",
   "metadata": {},
   "outputs": [
    {
     "name": "stdout",
     "output_type": "stream",
     "text": [
      "xgb or nn: nn\n"
     ]
    }
   ],
   "source": [
    "import pickle\n",
    "from tensorflow.keras.models import load_model\n",
    "\n",
    "model_type = input('xgb or nn: ', )\n",
    "models = []\n",
    "if model_type=='xgb':\n",
    "    models.append(pickle.load(open(\"models/16_features_max_depth_10/xgb_energy_ideal_opt_16.dat\", \"rb\")))\n",
    "    models.append(pickle.load(open(\"models/16_features_max_depth_10/xgb_energy_real_opt_16.dat\", \"rb\")))\n",
    "elif model_type=='nn':\n",
    "    models.append(load_model(\"models/5M_ideal.h5\"))\n",
    "    models.append(load_model(\"models/5M_real.h5\"))"
   ]
  },
  {
   "cell_type": "code",
   "execution_count": 5,
   "id": "04cdb855",
   "metadata": {},
   "outputs": [],
   "source": [
    "# opt_features = ['AccumCharge', 'R_cht', 'z_cc', 'pe_std',\n",
    "#                 'nPMTs', 'ht_kurtosis', 'ht_25-20p', 'R_cc',\n",
    "#                 'ht_5-2p', 'pe_mean', 'jacob_cht', 'phi_cc',\n",
    "#                 'ht_35-30p', 'ht_20-15p', 'pe_35p', 'ht_30-25p']"
   ]
  },
  {
   "cell_type": "code",
   "execution_count": 6,
   "id": "80ea36e9",
   "metadata": {},
   "outputs": [],
   "source": [
    "opt_features = ['AccumCharge', 'nPMTs', 'R_cc', 'R_cht', 'pe_mean',\n",
    "                'pe_std', 'pe_skew', 'pe_kurtosis', 'pho_cc', 'pho_cht',\n",
    "                'ht_2p', 'ht_5p', 'ht_10p', 'ht_15p', 'ht_20p',\n",
    "                'ht_25p', 'ht_30p', 'ht_35p', 'ht_40p', 'ht_45p',\n",
    "                'ht_50p', 'ht_55p', 'ht_60p', 'ht_65p', 'ht_70p',\n",
    "                'ht_75p', 'ht_80p', 'ht_85p', 'ht_90p', 'ht_95p']"
   ]
  },
  {
   "cell_type": "code",
   "execution_count": 7,
   "id": "819fc2c4",
   "metadata": {},
   "outputs": [],
   "source": [
    "scalers = []\n",
    "scalers.append(pickle.load(open('models/scaler_ideal.pkl','rb')))\n",
    "scalers.append(pickle.load(open('models/scaler_real.pkl','rb')))"
   ]
  },
  {
   "cell_type": "code",
   "execution_count": 39,
   "id": "18a4da26",
   "metadata": {
    "scrolled": true
   },
   "outputs": [
    {
     "data": {
      "application/vnd.jupyter.widget-view+json": {
       "model_id": "",
       "version_major": 2,
       "version_minor": 0
      },
      "text/plain": [
       "Models...:   0%|          | 0/2 [00:00<?, ?it/s]"
      ]
     },
     "metadata": {},
     "output_type": "display_data"
    },
    {
     "data": {
      "application/vnd.jupyter.widget-view+json": {
       "model_id": "",
       "version_major": 2,
       "version_minor": 0
      },
      "text/plain": [
       "Energies...:   0%|          | 0/14 [00:00<?, ?it/s]"
      ]
     },
     "metadata": {},
     "output_type": "display_data"
    },
    {
     "data": {
      "application/vnd.jupyter.widget-view+json": {
       "model_id": "",
       "version_major": 2,
       "version_minor": 0
      },
      "text/plain": [
       "Rs...:   0%|          | 0/33 [00:00<?, ?it/s]"
      ]
     },
     "metadata": {},
     "output_type": "display_data"
    },
    {
     "data": {
      "application/vnd.jupyter.widget-view+json": {
       "model_id": "",
       "version_major": 2,
       "version_minor": 0
      },
      "text/plain": [
       "Rs...:   0%|          | 0/33 [00:00<?, ?it/s]"
      ]
     },
     "metadata": {},
     "output_type": "display_data"
    },
    {
     "data": {
      "application/vnd.jupyter.widget-view+json": {
       "model_id": "",
       "version_major": 2,
       "version_minor": 0
      },
      "text/plain": [
       "Rs...:   0%|          | 0/33 [00:00<?, ?it/s]"
      ]
     },
     "metadata": {},
     "output_type": "display_data"
    },
    {
     "data": {
      "application/vnd.jupyter.widget-view+json": {
       "model_id": "",
       "version_major": 2,
       "version_minor": 0
      },
      "text/plain": [
       "Rs...:   0%|          | 0/33 [00:00<?, ?it/s]"
      ]
     },
     "metadata": {},
     "output_type": "display_data"
    },
    {
     "data": {
      "application/vnd.jupyter.widget-view+json": {
       "model_id": "",
       "version_major": 2,
       "version_minor": 0
      },
      "text/plain": [
       "Rs...:   0%|          | 0/33 [00:00<?, ?it/s]"
      ]
     },
     "metadata": {},
     "output_type": "display_data"
    },
    {
     "data": {
      "application/vnd.jupyter.widget-view+json": {
       "model_id": "",
       "version_major": 2,
       "version_minor": 0
      },
      "text/plain": [
       "Rs...:   0%|          | 0/33 [00:00<?, ?it/s]"
      ]
     },
     "metadata": {},
     "output_type": "display_data"
    },
    {
     "data": {
      "application/vnd.jupyter.widget-view+json": {
       "model_id": "",
       "version_major": 2,
       "version_minor": 0
      },
      "text/plain": [
       "Rs...:   0%|          | 0/33 [00:00<?, ?it/s]"
      ]
     },
     "metadata": {},
     "output_type": "display_data"
    },
    {
     "data": {
      "application/vnd.jupyter.widget-view+json": {
       "model_id": "",
       "version_major": 2,
       "version_minor": 0
      },
      "text/plain": [
       "Rs...:   0%|          | 0/33 [00:00<?, ?it/s]"
      ]
     },
     "metadata": {},
     "output_type": "display_data"
    },
    {
     "data": {
      "application/vnd.jupyter.widget-view+json": {
       "model_id": "",
       "version_major": 2,
       "version_minor": 0
      },
      "text/plain": [
       "Rs...:   0%|          | 0/33 [00:00<?, ?it/s]"
      ]
     },
     "metadata": {},
     "output_type": "display_data"
    },
    {
     "data": {
      "application/vnd.jupyter.widget-view+json": {
       "model_id": "",
       "version_major": 2,
       "version_minor": 0
      },
      "text/plain": [
       "Rs...:   0%|          | 0/33 [00:00<?, ?it/s]"
      ]
     },
     "metadata": {},
     "output_type": "display_data"
    },
    {
     "data": {
      "application/vnd.jupyter.widget-view+json": {
       "model_id": "",
       "version_major": 2,
       "version_minor": 0
      },
      "text/plain": [
       "Rs...:   0%|          | 0/33 [00:00<?, ?it/s]"
      ]
     },
     "metadata": {},
     "output_type": "display_data"
    },
    {
     "data": {
      "application/vnd.jupyter.widget-view+json": {
       "model_id": "",
       "version_major": 2,
       "version_minor": 0
      },
      "text/plain": [
       "Rs...:   0%|          | 0/33 [00:00<?, ?it/s]"
      ]
     },
     "metadata": {},
     "output_type": "display_data"
    },
    {
     "data": {
      "application/vnd.jupyter.widget-view+json": {
       "model_id": "",
       "version_major": 2,
       "version_minor": 0
      },
      "text/plain": [
       "Rs...:   0%|          | 0/33 [00:00<?, ?it/s]"
      ]
     },
     "metadata": {},
     "output_type": "display_data"
    },
    {
     "data": {
      "application/vnd.jupyter.widget-view+json": {
       "model_id": "",
       "version_major": 2,
       "version_minor": 0
      },
      "text/plain": [
       "Rs...:   0%|          | 0/33 [00:00<?, ?it/s]"
      ]
     },
     "metadata": {},
     "output_type": "display_data"
    },
    {
     "data": {
      "application/vnd.jupyter.widget-view+json": {
       "model_id": "",
       "version_major": 2,
       "version_minor": 0
      },
      "text/plain": [
       "Energies...:   0%|          | 0/14 [00:00<?, ?it/s]"
      ]
     },
     "metadata": {},
     "output_type": "display_data"
    },
    {
     "data": {
      "application/vnd.jupyter.widget-view+json": {
       "model_id": "",
       "version_major": 2,
       "version_minor": 0
      },
      "text/plain": [
       "Rs...:   0%|          | 0/33 [00:00<?, ?it/s]"
      ]
     },
     "metadata": {},
     "output_type": "display_data"
    },
    {
     "data": {
      "application/vnd.jupyter.widget-view+json": {
       "model_id": "",
       "version_major": 2,
       "version_minor": 0
      },
      "text/plain": [
       "Rs...:   0%|          | 0/33 [00:00<?, ?it/s]"
      ]
     },
     "metadata": {},
     "output_type": "display_data"
    },
    {
     "data": {
      "application/vnd.jupyter.widget-view+json": {
       "model_id": "",
       "version_major": 2,
       "version_minor": 0
      },
      "text/plain": [
       "Rs...:   0%|          | 0/33 [00:00<?, ?it/s]"
      ]
     },
     "metadata": {},
     "output_type": "display_data"
    },
    {
     "data": {
      "application/vnd.jupyter.widget-view+json": {
       "model_id": "",
       "version_major": 2,
       "version_minor": 0
      },
      "text/plain": [
       "Rs...:   0%|          | 0/33 [00:00<?, ?it/s]"
      ]
     },
     "metadata": {},
     "output_type": "display_data"
    },
    {
     "data": {
      "application/vnd.jupyter.widget-view+json": {
       "model_id": "",
       "version_major": 2,
       "version_minor": 0
      },
      "text/plain": [
       "Rs...:   0%|          | 0/33 [00:00<?, ?it/s]"
      ]
     },
     "metadata": {},
     "output_type": "display_data"
    },
    {
     "data": {
      "application/vnd.jupyter.widget-view+json": {
       "model_id": "",
       "version_major": 2,
       "version_minor": 0
      },
      "text/plain": [
       "Rs...:   0%|          | 0/33 [00:00<?, ?it/s]"
      ]
     },
     "metadata": {},
     "output_type": "display_data"
    },
    {
     "data": {
      "application/vnd.jupyter.widget-view+json": {
       "model_id": "",
       "version_major": 2,
       "version_minor": 0
      },
      "text/plain": [
       "Rs...:   0%|          | 0/33 [00:00<?, ?it/s]"
      ]
     },
     "metadata": {},
     "output_type": "display_data"
    },
    {
     "data": {
      "application/vnd.jupyter.widget-view+json": {
       "model_id": "",
       "version_major": 2,
       "version_minor": 0
      },
      "text/plain": [
       "Rs...:   0%|          | 0/33 [00:00<?, ?it/s]"
      ]
     },
     "metadata": {},
     "output_type": "display_data"
    },
    {
     "data": {
      "application/vnd.jupyter.widget-view+json": {
       "model_id": "",
       "version_major": 2,
       "version_minor": 0
      },
      "text/plain": [
       "Rs...:   0%|          | 0/33 [00:00<?, ?it/s]"
      ]
     },
     "metadata": {},
     "output_type": "display_data"
    },
    {
     "data": {
      "application/vnd.jupyter.widget-view+json": {
       "model_id": "",
       "version_major": 2,
       "version_minor": 0
      },
      "text/plain": [
       "Rs...:   0%|          | 0/33 [00:00<?, ?it/s]"
      ]
     },
     "metadata": {},
     "output_type": "display_data"
    },
    {
     "data": {
      "application/vnd.jupyter.widget-view+json": {
       "model_id": "",
       "version_major": 2,
       "version_minor": 0
      },
      "text/plain": [
       "Rs...:   0%|          | 0/33 [00:00<?, ?it/s]"
      ]
     },
     "metadata": {},
     "output_type": "display_data"
    },
    {
     "data": {
      "application/vnd.jupyter.widget-view+json": {
       "model_id": "",
       "version_major": 2,
       "version_minor": 0
      },
      "text/plain": [
       "Rs...:   0%|          | 0/33 [00:00<?, ?it/s]"
      ]
     },
     "metadata": {},
     "output_type": "display_data"
    },
    {
     "data": {
      "application/vnd.jupyter.widget-view+json": {
       "model_id": "",
       "version_major": 2,
       "version_minor": 0
      },
      "text/plain": [
       "Rs...:   0%|          | 0/33 [00:00<?, ?it/s]"
      ]
     },
     "metadata": {},
     "output_type": "display_data"
    },
    {
     "data": {
      "application/vnd.jupyter.widget-view+json": {
       "model_id": "",
       "version_major": 2,
       "version_minor": 0
      },
      "text/plain": [
       "Rs...:   0%|          | 0/33 [00:00<?, ?it/s]"
      ]
     },
     "metadata": {},
     "output_type": "display_data"
    },
    {
     "name": "stdout",
     "output_type": "stream",
     "text": [
      "CPU times: user 11min 37s, sys: 1min 27s, total: 13min 4s\n",
      "Wall time: 8min 6s\n"
     ]
    }
   ],
   "source": [
    "%%time\n",
    "Rs = np.linspace(14, 17.2, 33)\n",
    "energies = [0, 0.1, 0.3, 0.6] + list(range(1, 11))\n",
    "\n",
    "y_true_all = []\n",
    "y_pred_all = []\n",
    "for j in tqdm(range(len(models)), \"Models...\", leave=False):\n",
    "    y_true_array = []\n",
    "    y_pred_array = []\n",
    "    if j == 0:\n",
    "        name = 'ProcessedTestIdeal'\n",
    "    elif j == 1:\n",
    "        name = 'ProcessedTestReal'\n",
    "    for energy in tqdm(energies, \"Energies...\", leave=False):\n",
    "        test = pd.read_csv('{}processed_data/{}/{}MeV.csv.gz'.format(path, name, energy))\n",
    "        edep = np.array(test['edep'])\n",
    "        X_test = test.iloc[:, :-5][opt_features]\n",
    "        X_test = scalers[j].transform(X_test)\n",
    "        edep_preds = models[j].predict(X_test).flatten()\n",
    "\n",
    "        y_true = []\n",
    "        y_pred = []\n",
    "        for k in tqdm(range(len(Rs)), \"Rs...\", leave=False): \n",
    "            y_true.append(edep[test['edepR'] < Rs[k]])\n",
    "            y_pred.append(edep_preds[test['edepR'] < Rs[k]])\n",
    "\n",
    "        y_true_array.append(y_true)\n",
    "        y_pred_array.append(y_pred)\n",
    "\n",
    "    y_true_all.append(y_true_array)\n",
    "    y_pred_all.append(y_pred_array)"
   ]
  },
  {
   "cell_type": "code",
   "execution_count": 44,
   "id": "46b03cb2",
   "metadata": {},
   "outputs": [
    {
     "data": {
      "text/plain": [
       "(2, 14, 33)"
      ]
     },
     "execution_count": 44,
     "metadata": {},
     "output_type": "execute_result"
    }
   ],
   "source": [
    "np.array(y_true_all).shape"
   ]
  },
  {
   "cell_type": "code",
   "execution_count": 56,
   "id": "d888d9bb",
   "metadata": {},
   "outputs": [],
   "source": [
    "diffs = np.array([\n",
    "    [[y_pred_all[k][j][i] - y_true_all[k][j][i] for i in range(len(y_pred_array[0]))]\n",
    "    for j in range(len(y_true_all[0]))]\n",
    "    for k in range(len(y_true_all))\n",
    "])"
   ]
  },
  {
   "cell_type": "code",
   "execution_count": 57,
   "id": "007cd0fe",
   "metadata": {},
   "outputs": [
    {
     "data": {
      "text/plain": [
       "array([ 1.022,  1.122,  1.322,  1.622,  2.022,  3.022,  4.022,  5.022,\n",
       "        6.022,  7.022,  8.022,  9.022, 10.022, 11.022])"
      ]
     },
     "execution_count": 57,
     "metadata": {},
     "output_type": "execute_result"
    }
   ],
   "source": [
    "energies = [0, 0.1, 0.3, 0.6] + list(range(1, 11))\n",
    "energies = np.array([1.022+i for i in energies]).round(5)\n",
    "energies"
   ]
  },
  {
   "cell_type": "code",
   "execution_count": 59,
   "id": "d29550b7",
   "metadata": {},
   "outputs": [
    {
     "data": {
      "text/plain": [
       "(2, 14, 33)"
      ]
     },
     "execution_count": 59,
     "metadata": {},
     "output_type": "execute_result"
    }
   ],
   "source": [
    "diffs.shape"
   ]
  },
  {
   "cell_type": "code",
   "execution_count": 60,
   "id": "e045b925",
   "metadata": {},
   "outputs": [
    {
     "data": {
      "text/plain": [
       "[(49396,),\n",
       " (50474,),\n",
       " (51584,),\n",
       " (52647,),\n",
       " (53766,),\n",
       " (54898,),\n",
       " (56026,),\n",
       " (57174,),\n",
       " (58329,),\n",
       " (59597,),\n",
       " (60795,),\n",
       " (62097,),\n",
       " (63355,),\n",
       " (64562,),\n",
       " (65776,),\n",
       " (67081,),\n",
       " (68367,),\n",
       " (69648,),\n",
       " (71016,),\n",
       " (72361,),\n",
       " (73736,),\n",
       " (75115,),\n",
       " (76548,),\n",
       " (77968,),\n",
       " (79375,),\n",
       " (80783,),\n",
       " (82316,),\n",
       " (83822,),\n",
       " (85343,),\n",
       " (86924,),\n",
       " (88477,),\n",
       " (90127,),\n",
       " (91767,)]"
      ]
     },
     "execution_count": 60,
     "metadata": {},
     "output_type": "execute_result"
    }
   ],
   "source": [
    "[diffs[0][0][i].shape for i in range(len(Rs))]"
   ]
  },
  {
   "cell_type": "code",
   "execution_count": 131,
   "id": "8933a26a",
   "metadata": {},
   "outputs": [
    {
     "data": {
      "application/vnd.jupyter.widget-view+json": {
       "model_id": "5fa79e593d1e4cc6bac27a0e9aa01f36",
       "version_major": 2,
       "version_minor": 0
      },
      "text/plain": [
       "  0%|          | 0/2 [00:00<?, ?it/s]"
      ]
     },
     "metadata": {},
     "output_type": "display_data"
    }
   ],
   "source": [
    "import matplotlib.pyplot as plt\n",
    "from scipy.optimize import curve_fit\n",
    "from scipy.stats import norm\n",
    "\n",
    "a_all = []\n",
    "errors_all = []\n",
    "for i in tqdm(range(diffs.shape[0])):\n",
    "    a_array = []\n",
    "    errors_array = []\n",
    "    for j in range(diffs.shape[1]):\n",
    "        a = []\n",
    "        e = []\n",
    "        for k in range(diffs.shape[2]):\n",
    "            fig, ax = plt.subplots()\n",
    "            nbins = 150\n",
    "            n, bins, patches = ax.hist(diffs[i][j][k], nbins, density=True, facecolor = 'grey', alpha = 0.5, label='before');\n",
    "            plt.close(fig)\n",
    "            centers = (0.5*(bins[1:]+bins[:-1]))\n",
    "            pars, cov = curve_fit(lambda x, mu, sig : norm.pdf(x, loc=mu, scale=sig), centers, n, p0=[0,1])  \n",
    "            a.append(pars)\n",
    "            e.append(cov)\n",
    "        a_array.append(a)\n",
    "        errors_array.append(e)\n",
    "    a_all.append(a_array)\n",
    "    errors_all.append(errors_array)"
   ]
  },
  {
   "cell_type": "code",
   "execution_count": 139,
   "id": "c88901fe",
   "metadata": {},
   "outputs": [],
   "source": [
    "# from scipy import stats\n",
    "# fig = go.Figure()\n",
    "\n",
    "# N = -1\n",
    "\n",
    "# for i in range(len(diffs[1])): \n",
    "#     x = np.linspace(diffs[1][i][N].min(), diffs[1][i][N].max(), 100)\n",
    "#     p = stats.norm.pdf(x, a_all[1][i][N][0], a_all[1][i][N][1])\n",
    "\n",
    "#     fig.add_trace(go.Scatter(x=x,\n",
    "#                  y=p, mode='lines', name='mu={:.3f} +- {:.3f}, sigma={:.3f} +- {:.3f}'.format(\n",
    "#                      a_all[1][i][N][0], np.sqrt(errors_all[1][i][N][0][0]),\n",
    "#                      a_all[1][i][N][1], np.sqrt(errors_all[1][i][N][1][1])),\n",
    "#                     visible = (i==0)\n",
    "#                 ))\n",
    "\n",
    "# for i in range(len(diffs[1])): \n",
    "#     fig.add_trace(go.Histogram(x=diffs[1][i][N], xbins=dict(size=0.005),\n",
    "#                   showlegend=False, histnorm='probability density',\n",
    "#                  visible = (i==0)\n",
    "#                 ))\n",
    "\n",
    "# buttons = []\n",
    "# for N in range(len(diffs[1])): \n",
    "#     buttons.append(\n",
    "#         dict(\n",
    "#              args=['visible', [False]*N + [True] + [False]*(len(diffs[1])-1-N)],\n",
    "#                  label='Energy =  {} MeV'.format(energies[N]),\n",
    "#              method='restyle'\n",
    "#         )\n",
    "#     )\n",
    "\n",
    "# fig.update_layout(\n",
    "\n",
    "#     xaxis = dict(\n",
    "#         showline=True,\n",
    "#         ticks='outside',\n",
    "#         mirror=True,\n",
    "#         linecolor='black',\n",
    "#         showgrid=True,\n",
    "#         gridcolor='grey',\n",
    "#         gridwidth=0.25,\n",
    "#     ),\n",
    "\n",
    "#     yaxis = dict(\n",
    "#         showline=True,\n",
    "#         ticks='outside',\n",
    "#         mirror=True,\n",
    "#         linecolor='black',\n",
    "#         tick0=0,\n",
    "# #             dtick=1,\n",
    "#         showgrid=True,\n",
    "#         gridcolor='grey',\n",
    "#         gridwidth=0.25,\n",
    "#         zeroline=True,\n",
    "#         zerolinecolor='black',\n",
    "#         zerolinewidth=0.25\n",
    "#         ),\n",
    "# )\n",
    "\n",
    "\n",
    "# fig.update_layout(\n",
    "#     xaxis_title=r\"$$E_{rec} - E_{true}$$\",\n",
    "# #         yaxis_title=\"y\",\n",
    "#     showlegend=True,\n",
    "#     updatemenus=list([\n",
    "#         dict(\n",
    "#             x=0.5,\n",
    "#             y=1.2,\n",
    "#             yanchor='top',\n",
    "#             buttons=buttons\n",
    "#         ),\n",
    "#     ]),\n",
    "#     legend=dict(\n",
    "#         orientation=\"h\",\n",
    "#         yanchor=\"bottom\",\n",
    "#         y=1.05,\n",
    "#         xanchor=\"right\",\n",
    "#         x=1\n",
    "#     )\n",
    "# )\n",
    "\n",
    "# fig.show()"
   ]
  },
  {
   "cell_type": "code",
   "execution_count": 132,
   "id": "ba338781",
   "metadata": {},
   "outputs": [],
   "source": [
    "error_sigma_all = []\n",
    "for ind in range(diffs.shape[0]):\n",
    "    error_sigma = []\n",
    "    for k in range(diffs.shape[2]):\n",
    "        error = [100 * np.sqrt(errors_all[ind][i][k][1][1]) / energies[i] for i in range(1, len(energies)-1)]\n",
    "        error_sigma.append(error)\n",
    "    error_sigma_all.append(error_sigma)\n",
    "\n",
    "error_mu_all = []\n",
    "for ind in range(diffs.shape[0]):\n",
    "    error_mu = []\n",
    "    for k in range(diffs.shape[2]):\n",
    "        error = [100 * np.sqrt(errors_all[ind][i][k][1][1]) / energies[i] for i in range(1, len(energies)-1)]\n",
    "        error_mu.append(error)\n",
    "    error_mu_all.append(error_mu)"
   ]
  },
  {
   "cell_type": "code",
   "execution_count": 86,
   "id": "cbd4fb13",
   "metadata": {},
   "outputs": [],
   "source": [
    "res_all = []\n",
    "bias_all = []\n",
    "for ind in range(diffs.shape[0]):\n",
    "    res = []\n",
    "    bias = []\n",
    "    for k in range(diffs.shape[2]):\n",
    "        sigma = [100 * a_all[ind][i][k][1] / energies[i] for i in range(1, len(energies)-1)]\n",
    "        mu = [100 * a_all[ind][i][k][0] / energies[i] for i in range(1, len(energies)-1)]\n",
    "        res.append(sigma)\n",
    "        bias.append(mu)\n",
    "        \n",
    "    res_all.append(res)\n",
    "    bias_all.append(bias)"
   ]
  },
  {
   "cell_type": "code",
   "execution_count": 88,
   "id": "35ca0006",
   "metadata": {},
   "outputs": [],
   "source": [
    "def a(x, a):\n",
    "    return np.sqrt((a/x**0.5)**2)\n",
    "\n",
    "\n",
    "def b(x, b):\n",
    "    b_list = []\n",
    "    b_list.append(np.sqrt(b**2))\n",
    "    return b_list*len(x)\n",
    "\n",
    "\n",
    "def c(x, c):\n",
    "    return np.sqrt((c/x)**2)\n",
    "\n",
    "\n",
    "def func(x, a, b, c):\n",
    "    return np.sqrt((a/x**0.5)**2 + b**2 + (c/x)**2) \n",
    "\n",
    "\n",
    "def approximated(x, y, yerr):\n",
    "    popt, pcov = curve_fit(func, x, y, sigma=yerr, maxfev=10**8, bounds=([0, 0, 0.25], [5, 5, 5]))\n",
    "    a, b, c = popt\n",
    "    #perr = np.sqrt(abs(pcov.diagonal()))\n",
    "\n",
    "    return func(x, a, b, c), popt, pcov"
   ]
  },
  {
   "cell_type": "code",
   "execution_count": 90,
   "id": "065aef29",
   "metadata": {},
   "outputs": [
    {
     "data": {
      "application/vnd.plotly.v1+json": {
       "config": {
        "plotlyServerURL": "https://plot.ly"
       },
       "data": [
        {
         "colorscale": [
          [
           0,
           "#000004"
          ],
          [
           0.1111111111111111,
           "#1b0c41"
          ],
          [
           0.2222222222222222,
           "#4a0c6b"
          ],
          [
           0.3333333333333333,
           "#781c6d"
          ],
          [
           0.4444444444444444,
           "#a52c60"
          ],
          [
           0.5555555555555556,
           "#cf4446"
          ],
          [
           0.6666666666666666,
           "#ed6925"
          ],
          [
           0.7777777777777778,
           "#fb9b06"
          ],
          [
           0.8888888888888888,
           "#f7d13d"
          ],
          [
           1,
           "#fcffa4"
          ]
         ],
         "type": "surface",
         "x": [
          1.122,
          1.322,
          1.622,
          2.022,
          3.022,
          4.022,
          5.022,
          6.022,
          7.022,
          8.022,
          9.022,
          10.022
         ],
         "y": [
          14,
          14.1,
          14.2,
          14.3,
          14.4,
          14.5,
          14.6,
          14.7,
          14.8,
          14.9,
          15,
          15.1,
          15.2,
          15.3,
          15.4,
          15.5,
          15.6,
          15.7,
          15.799999999999999,
          15.899999999999999,
          16,
          16.1,
          16.2,
          16.3,
          16.4,
          16.5,
          16.6,
          16.7,
          16.8,
          16.9,
          17,
          17.099999999999998,
          17.2
         ],
         "z": [
          [
           2.7223478068028713,
           2.377403717202839,
           2.128732726128547,
           1.8859488094643375,
           1.6185217922664292,
           1.4685627465422066,
           1.351576240338189,
           1.2753907146256247,
           1.213715591377849,
           1.1598372858545882,
           1.1002859737552366,
           1.0758336133594628
          ],
          [
           2.722801886408885,
           2.3782274236828065,
           2.1278799022368937,
           1.8838519685658193,
           1.6194212685098017,
           1.4703680028136175,
           1.3525790600804797,
           1.2756852840832111,
           1.2127816557077957,
           1.1592945667808519,
           1.0992193213351795,
           1.0755995443707984
          ],
          [
           2.7234572739470555,
           2.37902538415256,
           2.126703509440466,
           1.884839408711645,
           1.6199280955628879,
           1.4710762429491497,
           1.3524876893704536,
           1.2755773632533975,
           1.213372984672806,
           1.160179837429172,
           1.099022652877398,
           1.0746961652364717
          ],
          [
           2.7207085817479997,
           2.379373019663238,
           2.124363837714988,
           1.882456324565333,
           1.6202404343116763,
           1.4716028757611441,
           1.3511518674229366,
           1.2769330222103792,
           1.212612776120008,
           1.1606952879956045,
           1.1000770358829723,
           1.0746842774748668
          ],
          [
           2.7223324355562437,
           2.37840869053839,
           2.1242745040779503,
           1.878987806157372,
           1.6194344262071356,
           1.4713198630996835,
           1.350901739898226,
           1.276508588971612,
           1.212113769859371,
           1.160907042418019,
           1.1002971428198767,
           1.075975000287335
          ],
          [
           2.7247490457488044,
           2.3778250984283336,
           2.125310429905529,
           1.8773898371191755,
           1.6189147841682532,
           1.4727454383658185,
           1.350705138566592,
           1.2775828045347748,
           1.2131524367857787,
           1.1619323859635404,
           1.1017548667506016,
           1.0763968836154545
          ],
          [
           2.724990884269206,
           2.3792676006649773,
           2.125360425975823,
           1.8758539381663646,
           1.6179314427759348,
           1.4737230586578944,
           1.3510969005623361,
           1.2769475219283806,
           1.2132955532235945,
           1.1623212982893336,
           1.1018866705154398,
           1.0759102761922774
          ],
          [
           2.7259089232169846,
           2.3801744158965823,
           2.1234217088595555,
           1.8771037152946526,
           1.6170292084988165,
           1.4753567098400904,
           1.3503641311700545,
           1.2777800877835148,
           1.2136421156325965,
           1.162237753327318,
           1.1016362956101766,
           1.0754359659016868
          ],
          [
           2.727040564542953,
           2.3808320682920385,
           2.121966191281403,
           1.8780168726974475,
           1.616092249846017,
           1.4762409706890072,
           1.3506511120513358,
           1.2797069317988687,
           1.2138768006984306,
           1.1612171365009005,
           1.1012855000680535,
           1.075260006189391
          ],
          [
           2.7265343887519107,
           2.3814642790859435,
           2.1221530930687718,
           1.877453664084349,
           1.616259341031922,
           1.4778892665494794,
           1.351467496511465,
           1.280480632000386,
           1.2142744587938477,
           1.1613133483016989,
           1.1011716464572843,
           1.0756173794360728
          ],
          [
           2.725314598329657,
           2.3811476748929516,
           2.1214008381029283,
           1.8771897873465457,
           1.6162572690476469,
           1.478100262664913,
           1.351957518477772,
           1.2812123292477426,
           1.2137284063547702,
           1.1627835682317376,
           1.1002449541415589,
           1.0752338492524502
          ],
          [
           2.726823396390714,
           2.380892161115959,
           2.1217721515828996,
           1.8766651692268674,
           1.6168502421291897,
           1.47832018327792,
           1.3513187909672382,
           1.2811458862204002,
           1.2143310701242853,
           1.1627833633493796,
           1.1005376176209176,
           1.0752865171018382
          ],
          [
           2.729657171594885,
           2.381177203270026,
           2.120231170535321,
           1.8766291984190235,
           1.616589674584253,
           1.4782981492720553,
           1.3515181379820578,
           1.2802880732208408,
           1.2137746395472768,
           1.1629144095207005,
           1.1014815631226325,
           1.0752242857389946
          ],
          [
           2.730629199990855,
           2.3790271288063027,
           2.120457019924099,
           1.875635363254925,
           1.6158731662544426,
           1.4791320947483708,
           1.3519426513826127,
           1.281744570864024,
           1.2148717834068863,
           1.162475872179973,
           1.1016126303257094,
           1.0753172244306786
          ],
          [
           2.730489079000739,
           2.3788591323503026,
           2.1197940845159535,
           1.8777242186570187,
           1.6175661625366609,
           1.4798813067236032,
           1.3576869956818287,
           1.2822408144189812,
           1.2151954052234668,
           1.163029255723126,
           1.1022216696987572,
           1.0750616726026576
          ],
          [
           2.7295654869837445,
           2.377967102385522,
           2.119516474753165,
           1.8768674119584832,
           1.6179948228046508,
           1.4797193757129454,
           1.3584981119447292,
           1.2833886377252524,
           1.2151025433808975,
           1.162398607992498,
           1.1029122853720588,
           1.074670113754272
          ],
          [
           2.731543582024416,
           2.37751691518094,
           2.1192695787821574,
           1.8765484195232338,
           1.6186721704371194,
           1.479620578657162,
           1.3600646573076158,
           1.283338726937704,
           1.2151440580909993,
           1.1622381633507928,
           1.1040004639608982,
           1.0752700363005947
          ],
          [
           2.732939966368356,
           2.3771826971068912,
           2.118672079469819,
           1.8782253097993895,
           1.6192645373928267,
           1.4788659824236228,
           1.3619519177101174,
           1.2835616845494158,
           1.2147327354514965,
           1.162599564129618,
           1.1042491574026994,
           1.0750750351341705
          ],
          [
           2.7369175196396354,
           2.3763214483325896,
           2.119051479313003,
           1.878341452500421,
           1.6191207710162008,
           1.4809294646784488,
           1.363910763546229,
           1.2841221175759179,
           1.214644656104683,
           1.1636306639902185,
           1.1046183871062432,
           1.074874599883869
          ],
          [
           2.7391168206791567,
           2.380043253122313,
           2.119408249858743,
           1.8784243572426238,
           1.6207628462329724,
           1.4807813624394304,
           1.3662368857468608,
           1.2838336381358022,
           1.2138605219272232,
           1.1642234486388585,
           1.1055900998714563,
           1.0753733651263526
          ],
          [
           2.7432580167375846,
           2.3835119083284764,
           2.1213132628747284,
           1.8821287609531272,
           1.6209534192607078,
           1.4816987367526149,
           1.368171893034359,
           1.2843368280261231,
           1.2139671513560129,
           1.1643086631463795,
           1.1071621483440157,
           1.0764150630465739
          ],
          [
           2.7487717534648572,
           2.3847563381868886,
           2.124688316070463,
           1.8839122739049277,
           1.6215313226814536,
           1.4830782133819802,
           1.3697799944391005,
           1.28554533410047,
           1.2146461055848665,
           1.1640116364676982,
           1.1077023195985911,
           1.077414749365709
          ],
          [
           2.7538014332119887,
           2.389645788415407,
           2.1264617465858637,
           1.8871892088534976,
           1.623395243226188,
           1.4840980695474595,
           1.3724008415725641,
           1.2868071871919675,
           1.2152634405587954,
           1.1647884433220623,
           1.1086700949543025,
           1.0785039449402232
          ],
          [
           2.7559338026206497,
           2.3934856059402816,
           2.130575289186805,
           1.890236989661751,
           1.6246148229526005,
           1.4857749305789316,
           1.3730037718538408,
           1.2886702780943684,
           1.215333901902762,
           1.165703835472885,
           1.1098538427223352,
           1.079642420295099
          ],
          [
           2.761879091517908,
           2.397934060656736,
           2.133421598850825,
           1.8933136570235023,
           1.625905629483633,
           1.4882953486647235,
           1.374354398733112,
           1.2898409829012019,
           1.2159298608750637,
           1.1674485384096054,
           1.1120843327474983,
           1.0798816151025492
          ],
          [
           2.7671820001767364,
           2.400936816155213,
           2.1388817770574446,
           1.8963598917124929,
           1.6281772341391838,
           1.4897850834160953,
           1.3745983489743443,
           1.2912918782454657,
           1.2173157920193165,
           1.1686830635998073,
           1.1133097726514396,
           1.0804125054388953
          ],
          [
           2.772179536124145,
           2.406259450946223,
           2.1417046924811114,
           1.899506007233812,
           1.6305879396097365,
           1.4912787509236223,
           1.3760736807733291,
           1.2919654971444299,
           1.2185929514623366,
           1.1704266843277966,
           1.1141826727013795,
           1.0822235342805964
          ],
          [
           2.776765564385105,
           2.4106312779807815,
           2.1452175083668727,
           1.9032324386309645,
           1.6320355264494442,
           1.4936485994628401,
           1.3789439919952402,
           1.2924798634269354,
           1.219328206767391,
           1.1712333458079842,
           1.1156894329192983,
           1.0833729701955526
          ],
          [
           2.781539135462784,
           2.413524415704532,
           2.1495224259809533,
           1.906427203311663,
           1.6344569467090322,
           1.4957607235147279,
           1.3811876967314791,
           1.2942210076197838,
           1.220311001655374,
           1.1721804047513529,
           1.116573703053111,
           1.0842860939135501
          ],
          [
           2.7856369331761566,
           2.418076689821148,
           2.1543443817838925,
           1.9095729881802281,
           1.6367993123617979,
           1.4975532808681367,
           1.3835844322354713,
           1.2952135319939966,
           1.2220961397132148,
           1.1740797501620484,
           1.118579815654019,
           1.0863071805464402
          ],
          [
           2.7881040779742543,
           2.423269362263787,
           2.158016751989836,
           1.9127042116653523,
           1.6389430535249792,
           1.5001465594286585,
           1.3861654457394081,
           1.2972568912983853,
           1.2235281009468997,
           1.175635804699501,
           1.120422783905596,
           1.087822349823767
          ],
          [
           2.792388352218092,
           2.427951164612992,
           2.1623901877781755,
           1.9169035975531494,
           1.6433835178326384,
           1.5021140703849263,
           1.3887765179528562,
           1.2988904742506153,
           1.2267154599058772,
           1.1780270598295057,
           1.1224824155954038,
           1.0899673828147074
          ],
          [
           2.7995945826400694,
           2.4340347604789927,
           2.1669214578218647,
           1.922066018020856,
           1.6480743783857905,
           1.5066837947930831,
           1.3921811732687184,
           1.3020194419830287,
           1.2298888093601552,
           1.180974150396172,
           1.1251146643755372,
           1.093165889365209
          ]
         ]
        }
       ],
       "layout": {
        "autosize": true,
        "height": 700,
        "scene": {
         "xaxis": {
          "title": {
           "text": "Visible energy, MeV"
          }
         },
         "yaxis": {
          "title": {
           "text": "R, m"
          }
         },
         "zaxis": {
          "title": {
           "text": "Resolution, %"
          }
         }
        },
        "template": {
         "data": {
          "bar": [
           {
            "error_x": {
             "color": "#2a3f5f"
            },
            "error_y": {
             "color": "#2a3f5f"
            },
            "marker": {
             "line": {
              "color": "white",
              "width": 0.5
             },
             "pattern": {
              "fillmode": "overlay",
              "size": 10,
              "solidity": 0.2
             }
            },
            "type": "bar"
           }
          ],
          "barpolar": [
           {
            "marker": {
             "line": {
              "color": "white",
              "width": 0.5
             },
             "pattern": {
              "fillmode": "overlay",
              "size": 10,
              "solidity": 0.2
             }
            },
            "type": "barpolar"
           }
          ],
          "carpet": [
           {
            "aaxis": {
             "endlinecolor": "#2a3f5f",
             "gridcolor": "#C8D4E3",
             "linecolor": "#C8D4E3",
             "minorgridcolor": "#C8D4E3",
             "startlinecolor": "#2a3f5f"
            },
            "baxis": {
             "endlinecolor": "#2a3f5f",
             "gridcolor": "#C8D4E3",
             "linecolor": "#C8D4E3",
             "minorgridcolor": "#C8D4E3",
             "startlinecolor": "#2a3f5f"
            },
            "type": "carpet"
           }
          ],
          "choropleth": [
           {
            "colorbar": {
             "outlinewidth": 0,
             "ticks": ""
            },
            "type": "choropleth"
           }
          ],
          "contour": [
           {
            "colorbar": {
             "outlinewidth": 0,
             "ticks": ""
            },
            "colorscale": [
             [
              0,
              "#0d0887"
             ],
             [
              0.1111111111111111,
              "#46039f"
             ],
             [
              0.2222222222222222,
              "#7201a8"
             ],
             [
              0.3333333333333333,
              "#9c179e"
             ],
             [
              0.4444444444444444,
              "#bd3786"
             ],
             [
              0.5555555555555556,
              "#d8576b"
             ],
             [
              0.6666666666666666,
              "#ed7953"
             ],
             [
              0.7777777777777778,
              "#fb9f3a"
             ],
             [
              0.8888888888888888,
              "#fdca26"
             ],
             [
              1,
              "#f0f921"
             ]
            ],
            "type": "contour"
           }
          ],
          "contourcarpet": [
           {
            "colorbar": {
             "outlinewidth": 0,
             "ticks": ""
            },
            "type": "contourcarpet"
           }
          ],
          "heatmap": [
           {
            "colorbar": {
             "outlinewidth": 0,
             "ticks": ""
            },
            "colorscale": [
             [
              0,
              "#0d0887"
             ],
             [
              0.1111111111111111,
              "#46039f"
             ],
             [
              0.2222222222222222,
              "#7201a8"
             ],
             [
              0.3333333333333333,
              "#9c179e"
             ],
             [
              0.4444444444444444,
              "#bd3786"
             ],
             [
              0.5555555555555556,
              "#d8576b"
             ],
             [
              0.6666666666666666,
              "#ed7953"
             ],
             [
              0.7777777777777778,
              "#fb9f3a"
             ],
             [
              0.8888888888888888,
              "#fdca26"
             ],
             [
              1,
              "#f0f921"
             ]
            ],
            "type": "heatmap"
           }
          ],
          "heatmapgl": [
           {
            "colorbar": {
             "outlinewidth": 0,
             "ticks": ""
            },
            "colorscale": [
             [
              0,
              "#0d0887"
             ],
             [
              0.1111111111111111,
              "#46039f"
             ],
             [
              0.2222222222222222,
              "#7201a8"
             ],
             [
              0.3333333333333333,
              "#9c179e"
             ],
             [
              0.4444444444444444,
              "#bd3786"
             ],
             [
              0.5555555555555556,
              "#d8576b"
             ],
             [
              0.6666666666666666,
              "#ed7953"
             ],
             [
              0.7777777777777778,
              "#fb9f3a"
             ],
             [
              0.8888888888888888,
              "#fdca26"
             ],
             [
              1,
              "#f0f921"
             ]
            ],
            "type": "heatmapgl"
           }
          ],
          "histogram": [
           {
            "marker": {
             "pattern": {
              "fillmode": "overlay",
              "size": 10,
              "solidity": 0.2
             }
            },
            "type": "histogram"
           }
          ],
          "histogram2d": [
           {
            "colorbar": {
             "outlinewidth": 0,
             "ticks": ""
            },
            "colorscale": [
             [
              0,
              "#0d0887"
             ],
             [
              0.1111111111111111,
              "#46039f"
             ],
             [
              0.2222222222222222,
              "#7201a8"
             ],
             [
              0.3333333333333333,
              "#9c179e"
             ],
             [
              0.4444444444444444,
              "#bd3786"
             ],
             [
              0.5555555555555556,
              "#d8576b"
             ],
             [
              0.6666666666666666,
              "#ed7953"
             ],
             [
              0.7777777777777778,
              "#fb9f3a"
             ],
             [
              0.8888888888888888,
              "#fdca26"
             ],
             [
              1,
              "#f0f921"
             ]
            ],
            "type": "histogram2d"
           }
          ],
          "histogram2dcontour": [
           {
            "colorbar": {
             "outlinewidth": 0,
             "ticks": ""
            },
            "colorscale": [
             [
              0,
              "#0d0887"
             ],
             [
              0.1111111111111111,
              "#46039f"
             ],
             [
              0.2222222222222222,
              "#7201a8"
             ],
             [
              0.3333333333333333,
              "#9c179e"
             ],
             [
              0.4444444444444444,
              "#bd3786"
             ],
             [
              0.5555555555555556,
              "#d8576b"
             ],
             [
              0.6666666666666666,
              "#ed7953"
             ],
             [
              0.7777777777777778,
              "#fb9f3a"
             ],
             [
              0.8888888888888888,
              "#fdca26"
             ],
             [
              1,
              "#f0f921"
             ]
            ],
            "type": "histogram2dcontour"
           }
          ],
          "mesh3d": [
           {
            "colorbar": {
             "outlinewidth": 0,
             "ticks": ""
            },
            "type": "mesh3d"
           }
          ],
          "parcoords": [
           {
            "line": {
             "colorbar": {
              "outlinewidth": 0,
              "ticks": ""
             }
            },
            "type": "parcoords"
           }
          ],
          "pie": [
           {
            "automargin": true,
            "type": "pie"
           }
          ],
          "scatter": [
           {
            "marker": {
             "colorbar": {
              "outlinewidth": 0,
              "ticks": ""
             }
            },
            "type": "scatter"
           }
          ],
          "scatter3d": [
           {
            "line": {
             "colorbar": {
              "outlinewidth": 0,
              "ticks": ""
             }
            },
            "marker": {
             "colorbar": {
              "outlinewidth": 0,
              "ticks": ""
             }
            },
            "type": "scatter3d"
           }
          ],
          "scattercarpet": [
           {
            "marker": {
             "colorbar": {
              "outlinewidth": 0,
              "ticks": ""
             }
            },
            "type": "scattercarpet"
           }
          ],
          "scattergeo": [
           {
            "marker": {
             "colorbar": {
              "outlinewidth": 0,
              "ticks": ""
             }
            },
            "type": "scattergeo"
           }
          ],
          "scattergl": [
           {
            "marker": {
             "colorbar": {
              "outlinewidth": 0,
              "ticks": ""
             }
            },
            "type": "scattergl"
           }
          ],
          "scattermapbox": [
           {
            "marker": {
             "colorbar": {
              "outlinewidth": 0,
              "ticks": ""
             }
            },
            "type": "scattermapbox"
           }
          ],
          "scatterpolar": [
           {
            "marker": {
             "colorbar": {
              "outlinewidth": 0,
              "ticks": ""
             }
            },
            "type": "scatterpolar"
           }
          ],
          "scatterpolargl": [
           {
            "marker": {
             "colorbar": {
              "outlinewidth": 0,
              "ticks": ""
             }
            },
            "type": "scatterpolargl"
           }
          ],
          "scatterternary": [
           {
            "marker": {
             "colorbar": {
              "outlinewidth": 0,
              "ticks": ""
             }
            },
            "type": "scatterternary"
           }
          ],
          "surface": [
           {
            "colorbar": {
             "outlinewidth": 0,
             "ticks": ""
            },
            "colorscale": [
             [
              0,
              "#0d0887"
             ],
             [
              0.1111111111111111,
              "#46039f"
             ],
             [
              0.2222222222222222,
              "#7201a8"
             ],
             [
              0.3333333333333333,
              "#9c179e"
             ],
             [
              0.4444444444444444,
              "#bd3786"
             ],
             [
              0.5555555555555556,
              "#d8576b"
             ],
             [
              0.6666666666666666,
              "#ed7953"
             ],
             [
              0.7777777777777778,
              "#fb9f3a"
             ],
             [
              0.8888888888888888,
              "#fdca26"
             ],
             [
              1,
              "#f0f921"
             ]
            ],
            "type": "surface"
           }
          ],
          "table": [
           {
            "cells": {
             "fill": {
              "color": "#EBF0F8"
             },
             "line": {
              "color": "white"
             }
            },
            "header": {
             "fill": {
              "color": "#C8D4E3"
             },
             "line": {
              "color": "white"
             }
            },
            "type": "table"
           }
          ]
         },
         "layout": {
          "annotationdefaults": {
           "arrowcolor": "#2a3f5f",
           "arrowhead": 0,
           "arrowwidth": 1
          },
          "autotypenumbers": "strict",
          "coloraxis": {
           "colorbar": {
            "outlinewidth": 0,
            "ticks": ""
           }
          },
          "colorscale": {
           "diverging": [
            [
             0,
             "#8e0152"
            ],
            [
             0.1,
             "#c51b7d"
            ],
            [
             0.2,
             "#de77ae"
            ],
            [
             0.3,
             "#f1b6da"
            ],
            [
             0.4,
             "#fde0ef"
            ],
            [
             0.5,
             "#f7f7f7"
            ],
            [
             0.6,
             "#e6f5d0"
            ],
            [
             0.7,
             "#b8e186"
            ],
            [
             0.8,
             "#7fbc41"
            ],
            [
             0.9,
             "#4d9221"
            ],
            [
             1,
             "#276419"
            ]
           ],
           "sequential": [
            [
             0,
             "#0d0887"
            ],
            [
             0.1111111111111111,
             "#46039f"
            ],
            [
             0.2222222222222222,
             "#7201a8"
            ],
            [
             0.3333333333333333,
             "#9c179e"
            ],
            [
             0.4444444444444444,
             "#bd3786"
            ],
            [
             0.5555555555555556,
             "#d8576b"
            ],
            [
             0.6666666666666666,
             "#ed7953"
            ],
            [
             0.7777777777777778,
             "#fb9f3a"
            ],
            [
             0.8888888888888888,
             "#fdca26"
            ],
            [
             1,
             "#f0f921"
            ]
           ],
           "sequentialminus": [
            [
             0,
             "#0d0887"
            ],
            [
             0.1111111111111111,
             "#46039f"
            ],
            [
             0.2222222222222222,
             "#7201a8"
            ],
            [
             0.3333333333333333,
             "#9c179e"
            ],
            [
             0.4444444444444444,
             "#bd3786"
            ],
            [
             0.5555555555555556,
             "#d8576b"
            ],
            [
             0.6666666666666666,
             "#ed7953"
            ],
            [
             0.7777777777777778,
             "#fb9f3a"
            ],
            [
             0.8888888888888888,
             "#fdca26"
            ],
            [
             1,
             "#f0f921"
            ]
           ]
          },
          "colorway": [
           "#636efa",
           "#EF553B",
           "#00cc96",
           "#ab63fa",
           "#FFA15A",
           "#19d3f3",
           "#FF6692",
           "#B6E880",
           "#FF97FF",
           "#FECB52"
          ],
          "font": {
           "color": "#2a3f5f"
          },
          "geo": {
           "bgcolor": "white",
           "lakecolor": "white",
           "landcolor": "white",
           "showlakes": true,
           "showland": true,
           "subunitcolor": "#C8D4E3"
          },
          "hoverlabel": {
           "align": "left"
          },
          "hovermode": "closest",
          "mapbox": {
           "style": "light"
          },
          "paper_bgcolor": "white",
          "plot_bgcolor": "white",
          "polar": {
           "angularaxis": {
            "gridcolor": "#EBF0F8",
            "linecolor": "#EBF0F8",
            "ticks": ""
           },
           "bgcolor": "white",
           "radialaxis": {
            "gridcolor": "#EBF0F8",
            "linecolor": "#EBF0F8",
            "ticks": ""
           }
          },
          "scene": {
           "xaxis": {
            "backgroundcolor": "white",
            "gridcolor": "#DFE8F3",
            "gridwidth": 2,
            "linecolor": "#EBF0F8",
            "showbackground": true,
            "ticks": "",
            "zerolinecolor": "#EBF0F8"
           },
           "yaxis": {
            "backgroundcolor": "white",
            "gridcolor": "#DFE8F3",
            "gridwidth": 2,
            "linecolor": "#EBF0F8",
            "showbackground": true,
            "ticks": "",
            "zerolinecolor": "#EBF0F8"
           },
           "zaxis": {
            "backgroundcolor": "white",
            "gridcolor": "#DFE8F3",
            "gridwidth": 2,
            "linecolor": "#EBF0F8",
            "showbackground": true,
            "ticks": "",
            "zerolinecolor": "#EBF0F8"
           }
          },
          "shapedefaults": {
           "line": {
            "color": "#2a3f5f"
           }
          },
          "ternary": {
           "aaxis": {
            "gridcolor": "#DFE8F3",
            "linecolor": "#A2B1C6",
            "ticks": ""
           },
           "baxis": {
            "gridcolor": "#DFE8F3",
            "linecolor": "#A2B1C6",
            "ticks": ""
           },
           "bgcolor": "white",
           "caxis": {
            "gridcolor": "#DFE8F3",
            "linecolor": "#A2B1C6",
            "ticks": ""
           }
          },
          "title": {
           "x": 0.05
          },
          "xaxis": {
           "automargin": true,
           "gridcolor": "#EBF0F8",
           "linecolor": "#EBF0F8",
           "ticks": "",
           "title": {
            "standoff": 15
           },
           "zerolinecolor": "#EBF0F8",
           "zerolinewidth": 2
          },
          "yaxis": {
           "automargin": true,
           "gridcolor": "#EBF0F8",
           "linecolor": "#EBF0F8",
           "ticks": "",
           "title": {
            "standoff": 15
           },
           "zerolinecolor": "#EBF0F8",
           "zerolinewidth": 2
          }
         }
        },
        "title": {
         "text": "Real"
        },
        "width": 800
       }
      },
      "text/html": [
       "<div>                            <div id=\"a222c905-77f5-4784-b636-33686f5af1e5\" class=\"plotly-graph-div\" style=\"height:700px; width:800px;\"></div>            <script type=\"text/javascript\">                require([\"plotly\"], function(Plotly) {                    window.PLOTLYENV=window.PLOTLYENV || {};                                    if (document.getElementById(\"a222c905-77f5-4784-b636-33686f5af1e5\")) {                    Plotly.newPlot(                        \"a222c905-77f5-4784-b636-33686f5af1e5\",                        [{\"colorscale\":[[0.0,\"#000004\"],[0.1111111111111111,\"#1b0c41\"],[0.2222222222222222,\"#4a0c6b\"],[0.3333333333333333,\"#781c6d\"],[0.4444444444444444,\"#a52c60\"],[0.5555555555555556,\"#cf4446\"],[0.6666666666666666,\"#ed6925\"],[0.7777777777777778,\"#fb9b06\"],[0.8888888888888888,\"#f7d13d\"],[1.0,\"#fcffa4\"]],\"type\":\"surface\",\"x\":[1.122,1.322,1.622,2.022,3.022,4.022,5.022,6.022,7.022,8.022,9.022,10.022],\"y\":[14.0,14.1,14.2,14.3,14.4,14.5,14.6,14.7,14.8,14.9,15.0,15.1,15.2,15.3,15.4,15.5,15.6,15.7,15.799999999999999,15.899999999999999,16.0,16.1,16.2,16.3,16.4,16.5,16.6,16.7,16.8,16.9,17.0,17.099999999999998,17.2],\"z\":[[2.7223478068028713,2.377403717202839,2.128732726128547,1.8859488094643375,1.6185217922664292,1.4685627465422066,1.351576240338189,1.2753907146256247,1.213715591377849,1.1598372858545882,1.1002859737552366,1.0758336133594628],[2.722801886408885,2.3782274236828065,2.1278799022368937,1.8838519685658193,1.6194212685098017,1.4703680028136175,1.3525790600804797,1.2756852840832111,1.2127816557077957,1.1592945667808519,1.0992193213351795,1.0755995443707984],[2.7234572739470555,2.37902538415256,2.126703509440466,1.884839408711645,1.6199280955628879,1.4710762429491497,1.3524876893704536,1.2755773632533975,1.213372984672806,1.160179837429172,1.099022652877398,1.0746961652364717],[2.7207085817479997,2.379373019663238,2.124363837714988,1.882456324565333,1.6202404343116763,1.4716028757611441,1.3511518674229366,1.2769330222103792,1.212612776120008,1.1606952879956045,1.1000770358829723,1.0746842774748668],[2.7223324355562437,2.37840869053839,2.1242745040779503,1.878987806157372,1.6194344262071356,1.4713198630996835,1.350901739898226,1.276508588971612,1.212113769859371,1.160907042418019,1.1002971428198767,1.075975000287335],[2.7247490457488044,2.3778250984283336,2.125310429905529,1.8773898371191755,1.6189147841682532,1.4727454383658185,1.350705138566592,1.2775828045347748,1.2131524367857787,1.1619323859635404,1.1017548667506016,1.0763968836154545],[2.724990884269206,2.3792676006649773,2.125360425975823,1.8758539381663646,1.6179314427759348,1.4737230586578944,1.3510969005623361,1.2769475219283806,1.2132955532235945,1.1623212982893336,1.1018866705154398,1.0759102761922774],[2.7259089232169846,2.3801744158965823,2.1234217088595555,1.8771037152946526,1.6170292084988165,1.4753567098400904,1.3503641311700545,1.2777800877835148,1.2136421156325965,1.162237753327318,1.1016362956101766,1.0754359659016868],[2.727040564542953,2.3808320682920385,2.121966191281403,1.8780168726974475,1.616092249846017,1.4762409706890072,1.3506511120513358,1.2797069317988687,1.2138768006984306,1.1612171365009005,1.1012855000680535,1.075260006189391],[2.7265343887519107,2.3814642790859435,2.1221530930687718,1.877453664084349,1.616259341031922,1.4778892665494794,1.351467496511465,1.280480632000386,1.2142744587938477,1.1613133483016989,1.1011716464572843,1.0756173794360728],[2.725314598329657,2.3811476748929516,2.1214008381029283,1.8771897873465457,1.6162572690476469,1.478100262664913,1.351957518477772,1.2812123292477426,1.2137284063547702,1.1627835682317376,1.1002449541415589,1.0752338492524502],[2.726823396390714,2.380892161115959,2.1217721515828996,1.8766651692268674,1.6168502421291897,1.47832018327792,1.3513187909672382,1.2811458862204002,1.2143310701242853,1.1627833633493796,1.1005376176209176,1.0752865171018382],[2.729657171594885,2.381177203270026,2.120231170535321,1.8766291984190235,1.616589674584253,1.4782981492720553,1.3515181379820578,1.2802880732208408,1.2137746395472768,1.1629144095207005,1.1014815631226325,1.0752242857389946],[2.730629199990855,2.3790271288063027,2.120457019924099,1.875635363254925,1.6158731662544426,1.4791320947483708,1.3519426513826127,1.281744570864024,1.2148717834068863,1.162475872179973,1.1016126303257094,1.0753172244306786],[2.730489079000739,2.3788591323503026,2.1197940845159535,1.8777242186570187,1.6175661625366609,1.4798813067236032,1.3576869956818287,1.2822408144189812,1.2151954052234668,1.163029255723126,1.1022216696987572,1.0750616726026576],[2.7295654869837445,2.377967102385522,2.119516474753165,1.8768674119584832,1.6179948228046508,1.4797193757129454,1.3584981119447292,1.2833886377252524,1.2151025433808975,1.162398607992498,1.1029122853720588,1.074670113754272],[2.731543582024416,2.37751691518094,2.1192695787821574,1.8765484195232338,1.6186721704371194,1.479620578657162,1.3600646573076158,1.283338726937704,1.2151440580909993,1.1622381633507928,1.1040004639608982,1.0752700363005947],[2.732939966368356,2.3771826971068912,2.118672079469819,1.8782253097993895,1.6192645373928267,1.4788659824236228,1.3619519177101174,1.2835616845494158,1.2147327354514965,1.162599564129618,1.1042491574026994,1.0750750351341705],[2.7369175196396354,2.3763214483325896,2.119051479313003,1.878341452500421,1.6191207710162008,1.4809294646784488,1.363910763546229,1.2841221175759179,1.214644656104683,1.1636306639902185,1.1046183871062432,1.074874599883869],[2.7391168206791567,2.380043253122313,2.119408249858743,1.8784243572426238,1.6207628462329724,1.4807813624394304,1.3662368857468608,1.2838336381358022,1.2138605219272232,1.1642234486388585,1.1055900998714563,1.0753733651263526],[2.7432580167375846,2.3835119083284764,2.1213132628747284,1.8821287609531272,1.6209534192607078,1.4816987367526149,1.368171893034359,1.2843368280261231,1.2139671513560129,1.1643086631463795,1.1071621483440157,1.0764150630465739],[2.7487717534648572,2.3847563381868886,2.124688316070463,1.8839122739049277,1.6215313226814536,1.4830782133819802,1.3697799944391005,1.28554533410047,1.2146461055848665,1.1640116364676982,1.1077023195985911,1.077414749365709],[2.7538014332119887,2.389645788415407,2.1264617465858637,1.8871892088534976,1.623395243226188,1.4840980695474595,1.3724008415725641,1.2868071871919675,1.2152634405587954,1.1647884433220623,1.1086700949543025,1.0785039449402232],[2.7559338026206497,2.3934856059402816,2.130575289186805,1.890236989661751,1.6246148229526005,1.4857749305789316,1.3730037718538408,1.2886702780943684,1.215333901902762,1.165703835472885,1.1098538427223352,1.079642420295099],[2.761879091517908,2.397934060656736,2.133421598850825,1.8933136570235023,1.625905629483633,1.4882953486647235,1.374354398733112,1.2898409829012019,1.2159298608750637,1.1674485384096054,1.1120843327474983,1.0798816151025492],[2.7671820001767364,2.400936816155213,2.1388817770574446,1.8963598917124929,1.6281772341391838,1.4897850834160953,1.3745983489743443,1.2912918782454657,1.2173157920193165,1.1686830635998073,1.1133097726514396,1.0804125054388953],[2.772179536124145,2.406259450946223,2.1417046924811114,1.899506007233812,1.6305879396097365,1.4912787509236223,1.3760736807733291,1.2919654971444299,1.2185929514623366,1.1704266843277966,1.1141826727013795,1.0822235342805964],[2.776765564385105,2.4106312779807815,2.1452175083668727,1.9032324386309645,1.6320355264494442,1.4936485994628401,1.3789439919952402,1.2924798634269354,1.219328206767391,1.1712333458079842,1.1156894329192983,1.0833729701955526],[2.781539135462784,2.413524415704532,2.1495224259809533,1.906427203311663,1.6344569467090322,1.4957607235147279,1.3811876967314791,1.2942210076197838,1.220311001655374,1.1721804047513529,1.116573703053111,1.0842860939135501],[2.7856369331761566,2.418076689821148,2.1543443817838925,1.9095729881802281,1.6367993123617979,1.4975532808681367,1.3835844322354713,1.2952135319939966,1.2220961397132148,1.1740797501620484,1.118579815654019,1.0863071805464402],[2.7881040779742543,2.423269362263787,2.158016751989836,1.9127042116653523,1.6389430535249792,1.5001465594286585,1.3861654457394081,1.2972568912983853,1.2235281009468997,1.175635804699501,1.120422783905596,1.087822349823767],[2.792388352218092,2.427951164612992,2.1623901877781755,1.9169035975531494,1.6433835178326384,1.5021140703849263,1.3887765179528562,1.2988904742506153,1.2267154599058772,1.1780270598295057,1.1224824155954038,1.0899673828147074],[2.7995945826400694,2.4340347604789927,2.1669214578218647,1.922066018020856,1.6480743783857905,1.5066837947930831,1.3921811732687184,1.3020194419830287,1.2298888093601552,1.180974150396172,1.1251146643755372,1.093165889365209]]}],                        {\"autosize\":true,\"height\":700,\"scene\":{\"xaxis\":{\"title\":{\"text\":\"Visible energy, MeV\"}},\"yaxis\":{\"title\":{\"text\":\"R, m\"}},\"zaxis\":{\"title\":{\"text\":\"Resolution, %\"}}},\"template\":{\"data\":{\"bar\":[{\"error_x\":{\"color\":\"#2a3f5f\"},\"error_y\":{\"color\":\"#2a3f5f\"},\"marker\":{\"line\":{\"color\":\"white\",\"width\":0.5},\"pattern\":{\"fillmode\":\"overlay\",\"size\":10,\"solidity\":0.2}},\"type\":\"bar\"}],\"barpolar\":[{\"marker\":{\"line\":{\"color\":\"white\",\"width\":0.5},\"pattern\":{\"fillmode\":\"overlay\",\"size\":10,\"solidity\":0.2}},\"type\":\"barpolar\"}],\"carpet\":[{\"aaxis\":{\"endlinecolor\":\"#2a3f5f\",\"gridcolor\":\"#C8D4E3\",\"linecolor\":\"#C8D4E3\",\"minorgridcolor\":\"#C8D4E3\",\"startlinecolor\":\"#2a3f5f\"},\"baxis\":{\"endlinecolor\":\"#2a3f5f\",\"gridcolor\":\"#C8D4E3\",\"linecolor\":\"#C8D4E3\",\"minorgridcolor\":\"#C8D4E3\",\"startlinecolor\":\"#2a3f5f\"},\"type\":\"carpet\"}],\"choropleth\":[{\"colorbar\":{\"outlinewidth\":0,\"ticks\":\"\"},\"type\":\"choropleth\"}],\"contour\":[{\"colorbar\":{\"outlinewidth\":0,\"ticks\":\"\"},\"colorscale\":[[0.0,\"#0d0887\"],[0.1111111111111111,\"#46039f\"],[0.2222222222222222,\"#7201a8\"],[0.3333333333333333,\"#9c179e\"],[0.4444444444444444,\"#bd3786\"],[0.5555555555555556,\"#d8576b\"],[0.6666666666666666,\"#ed7953\"],[0.7777777777777778,\"#fb9f3a\"],[0.8888888888888888,\"#fdca26\"],[1.0,\"#f0f921\"]],\"type\":\"contour\"}],\"contourcarpet\":[{\"colorbar\":{\"outlinewidth\":0,\"ticks\":\"\"},\"type\":\"contourcarpet\"}],\"heatmap\":[{\"colorbar\":{\"outlinewidth\":0,\"ticks\":\"\"},\"colorscale\":[[0.0,\"#0d0887\"],[0.1111111111111111,\"#46039f\"],[0.2222222222222222,\"#7201a8\"],[0.3333333333333333,\"#9c179e\"],[0.4444444444444444,\"#bd3786\"],[0.5555555555555556,\"#d8576b\"],[0.6666666666666666,\"#ed7953\"],[0.7777777777777778,\"#fb9f3a\"],[0.8888888888888888,\"#fdca26\"],[1.0,\"#f0f921\"]],\"type\":\"heatmap\"}],\"heatmapgl\":[{\"colorbar\":{\"outlinewidth\":0,\"ticks\":\"\"},\"colorscale\":[[0.0,\"#0d0887\"],[0.1111111111111111,\"#46039f\"],[0.2222222222222222,\"#7201a8\"],[0.3333333333333333,\"#9c179e\"],[0.4444444444444444,\"#bd3786\"],[0.5555555555555556,\"#d8576b\"],[0.6666666666666666,\"#ed7953\"],[0.7777777777777778,\"#fb9f3a\"],[0.8888888888888888,\"#fdca26\"],[1.0,\"#f0f921\"]],\"type\":\"heatmapgl\"}],\"histogram\":[{\"marker\":{\"pattern\":{\"fillmode\":\"overlay\",\"size\":10,\"solidity\":0.2}},\"type\":\"histogram\"}],\"histogram2d\":[{\"colorbar\":{\"outlinewidth\":0,\"ticks\":\"\"},\"colorscale\":[[0.0,\"#0d0887\"],[0.1111111111111111,\"#46039f\"],[0.2222222222222222,\"#7201a8\"],[0.3333333333333333,\"#9c179e\"],[0.4444444444444444,\"#bd3786\"],[0.5555555555555556,\"#d8576b\"],[0.6666666666666666,\"#ed7953\"],[0.7777777777777778,\"#fb9f3a\"],[0.8888888888888888,\"#fdca26\"],[1.0,\"#f0f921\"]],\"type\":\"histogram2d\"}],\"histogram2dcontour\":[{\"colorbar\":{\"outlinewidth\":0,\"ticks\":\"\"},\"colorscale\":[[0.0,\"#0d0887\"],[0.1111111111111111,\"#46039f\"],[0.2222222222222222,\"#7201a8\"],[0.3333333333333333,\"#9c179e\"],[0.4444444444444444,\"#bd3786\"],[0.5555555555555556,\"#d8576b\"],[0.6666666666666666,\"#ed7953\"],[0.7777777777777778,\"#fb9f3a\"],[0.8888888888888888,\"#fdca26\"],[1.0,\"#f0f921\"]],\"type\":\"histogram2dcontour\"}],\"mesh3d\":[{\"colorbar\":{\"outlinewidth\":0,\"ticks\":\"\"},\"type\":\"mesh3d\"}],\"parcoords\":[{\"line\":{\"colorbar\":{\"outlinewidth\":0,\"ticks\":\"\"}},\"type\":\"parcoords\"}],\"pie\":[{\"automargin\":true,\"type\":\"pie\"}],\"scatter\":[{\"marker\":{\"colorbar\":{\"outlinewidth\":0,\"ticks\":\"\"}},\"type\":\"scatter\"}],\"scatter3d\":[{\"line\":{\"colorbar\":{\"outlinewidth\":0,\"ticks\":\"\"}},\"marker\":{\"colorbar\":{\"outlinewidth\":0,\"ticks\":\"\"}},\"type\":\"scatter3d\"}],\"scattercarpet\":[{\"marker\":{\"colorbar\":{\"outlinewidth\":0,\"ticks\":\"\"}},\"type\":\"scattercarpet\"}],\"scattergeo\":[{\"marker\":{\"colorbar\":{\"outlinewidth\":0,\"ticks\":\"\"}},\"type\":\"scattergeo\"}],\"scattergl\":[{\"marker\":{\"colorbar\":{\"outlinewidth\":0,\"ticks\":\"\"}},\"type\":\"scattergl\"}],\"scattermapbox\":[{\"marker\":{\"colorbar\":{\"outlinewidth\":0,\"ticks\":\"\"}},\"type\":\"scattermapbox\"}],\"scatterpolar\":[{\"marker\":{\"colorbar\":{\"outlinewidth\":0,\"ticks\":\"\"}},\"type\":\"scatterpolar\"}],\"scatterpolargl\":[{\"marker\":{\"colorbar\":{\"outlinewidth\":0,\"ticks\":\"\"}},\"type\":\"scatterpolargl\"}],\"scatterternary\":[{\"marker\":{\"colorbar\":{\"outlinewidth\":0,\"ticks\":\"\"}},\"type\":\"scatterternary\"}],\"surface\":[{\"colorbar\":{\"outlinewidth\":0,\"ticks\":\"\"},\"colorscale\":[[0.0,\"#0d0887\"],[0.1111111111111111,\"#46039f\"],[0.2222222222222222,\"#7201a8\"],[0.3333333333333333,\"#9c179e\"],[0.4444444444444444,\"#bd3786\"],[0.5555555555555556,\"#d8576b\"],[0.6666666666666666,\"#ed7953\"],[0.7777777777777778,\"#fb9f3a\"],[0.8888888888888888,\"#fdca26\"],[1.0,\"#f0f921\"]],\"type\":\"surface\"}],\"table\":[{\"cells\":{\"fill\":{\"color\":\"#EBF0F8\"},\"line\":{\"color\":\"white\"}},\"header\":{\"fill\":{\"color\":\"#C8D4E3\"},\"line\":{\"color\":\"white\"}},\"type\":\"table\"}]},\"layout\":{\"annotationdefaults\":{\"arrowcolor\":\"#2a3f5f\",\"arrowhead\":0,\"arrowwidth\":1},\"autotypenumbers\":\"strict\",\"coloraxis\":{\"colorbar\":{\"outlinewidth\":0,\"ticks\":\"\"}},\"colorscale\":{\"diverging\":[[0,\"#8e0152\"],[0.1,\"#c51b7d\"],[0.2,\"#de77ae\"],[0.3,\"#f1b6da\"],[0.4,\"#fde0ef\"],[0.5,\"#f7f7f7\"],[0.6,\"#e6f5d0\"],[0.7,\"#b8e186\"],[0.8,\"#7fbc41\"],[0.9,\"#4d9221\"],[1,\"#276419\"]],\"sequential\":[[0.0,\"#0d0887\"],[0.1111111111111111,\"#46039f\"],[0.2222222222222222,\"#7201a8\"],[0.3333333333333333,\"#9c179e\"],[0.4444444444444444,\"#bd3786\"],[0.5555555555555556,\"#d8576b\"],[0.6666666666666666,\"#ed7953\"],[0.7777777777777778,\"#fb9f3a\"],[0.8888888888888888,\"#fdca26\"],[1.0,\"#f0f921\"]],\"sequentialminus\":[[0.0,\"#0d0887\"],[0.1111111111111111,\"#46039f\"],[0.2222222222222222,\"#7201a8\"],[0.3333333333333333,\"#9c179e\"],[0.4444444444444444,\"#bd3786\"],[0.5555555555555556,\"#d8576b\"],[0.6666666666666666,\"#ed7953\"],[0.7777777777777778,\"#fb9f3a\"],[0.8888888888888888,\"#fdca26\"],[1.0,\"#f0f921\"]]},\"colorway\":[\"#636efa\",\"#EF553B\",\"#00cc96\",\"#ab63fa\",\"#FFA15A\",\"#19d3f3\",\"#FF6692\",\"#B6E880\",\"#FF97FF\",\"#FECB52\"],\"font\":{\"color\":\"#2a3f5f\"},\"geo\":{\"bgcolor\":\"white\",\"lakecolor\":\"white\",\"landcolor\":\"white\",\"showlakes\":true,\"showland\":true,\"subunitcolor\":\"#C8D4E3\"},\"hoverlabel\":{\"align\":\"left\"},\"hovermode\":\"closest\",\"mapbox\":{\"style\":\"light\"},\"paper_bgcolor\":\"white\",\"plot_bgcolor\":\"white\",\"polar\":{\"angularaxis\":{\"gridcolor\":\"#EBF0F8\",\"linecolor\":\"#EBF0F8\",\"ticks\":\"\"},\"bgcolor\":\"white\",\"radialaxis\":{\"gridcolor\":\"#EBF0F8\",\"linecolor\":\"#EBF0F8\",\"ticks\":\"\"}},\"scene\":{\"xaxis\":{\"backgroundcolor\":\"white\",\"gridcolor\":\"#DFE8F3\",\"gridwidth\":2,\"linecolor\":\"#EBF0F8\",\"showbackground\":true,\"ticks\":\"\",\"zerolinecolor\":\"#EBF0F8\"},\"yaxis\":{\"backgroundcolor\":\"white\",\"gridcolor\":\"#DFE8F3\",\"gridwidth\":2,\"linecolor\":\"#EBF0F8\",\"showbackground\":true,\"ticks\":\"\",\"zerolinecolor\":\"#EBF0F8\"},\"zaxis\":{\"backgroundcolor\":\"white\",\"gridcolor\":\"#DFE8F3\",\"gridwidth\":2,\"linecolor\":\"#EBF0F8\",\"showbackground\":true,\"ticks\":\"\",\"zerolinecolor\":\"#EBF0F8\"}},\"shapedefaults\":{\"line\":{\"color\":\"#2a3f5f\"}},\"ternary\":{\"aaxis\":{\"gridcolor\":\"#DFE8F3\",\"linecolor\":\"#A2B1C6\",\"ticks\":\"\"},\"baxis\":{\"gridcolor\":\"#DFE8F3\",\"linecolor\":\"#A2B1C6\",\"ticks\":\"\"},\"bgcolor\":\"white\",\"caxis\":{\"gridcolor\":\"#DFE8F3\",\"linecolor\":\"#A2B1C6\",\"ticks\":\"\"}},\"title\":{\"x\":0.05},\"xaxis\":{\"automargin\":true,\"gridcolor\":\"#EBF0F8\",\"linecolor\":\"#EBF0F8\",\"ticks\":\"\",\"title\":{\"standoff\":15},\"zerolinecolor\":\"#EBF0F8\",\"zerolinewidth\":2},\"yaxis\":{\"automargin\":true,\"gridcolor\":\"#EBF0F8\",\"linecolor\":\"#EBF0F8\",\"ticks\":\"\",\"title\":{\"standoff\":15},\"zerolinecolor\":\"#EBF0F8\",\"zerolinewidth\":2}}},\"title\":{\"text\":\"Real\"},\"width\":800},                        {\"responsive\": true}                    ).then(function(){\n",
       "                            \n",
       "var gd = document.getElementById('a222c905-77f5-4784-b636-33686f5af1e5');\n",
       "var x = new MutationObserver(function (mutations, observer) {{\n",
       "        var display = window.getComputedStyle(gd).display;\n",
       "        if (!display || display === 'none') {{\n",
       "            console.log([gd, 'removed!']);\n",
       "            Plotly.purge(gd);\n",
       "            observer.disconnect();\n",
       "        }}\n",
       "}});\n",
       "\n",
       "// Listen for the removal of the full notebook cells\n",
       "var notebookContainer = gd.closest('#notebook-container');\n",
       "if (notebookContainer) {{\n",
       "    x.observe(notebookContainer, {childList: true});\n",
       "}}\n",
       "\n",
       "// Listen for the clearing of the current output cell\n",
       "var outputEl = gd.closest('.output');\n",
       "if (outputEl) {{\n",
       "    x.observe(outputEl, {childList: true});\n",
       "}}\n",
       "\n",
       "                        })                };                });            </script>        </div>"
      ]
     },
     "metadata": {},
     "output_type": "display_data"
    }
   ],
   "source": [
    "fig = go.Figure()\n",
    "\n",
    "fig.add_trace(\n",
    "    go.Surface(\n",
    "        x=energies[1:-1],\n",
    "        y=Rs,\n",
    "        z=np.array(res_all)[1, :, :],\n",
    "        colorscale='inferno'\n",
    "    )\n",
    ")\n",
    "\n",
    "fig.update_layout(\n",
    "    autosize=True,\n",
    "    title=\"Real\",\n",
    "    scene = dict(\n",
    "        xaxis_title='Visible energy, MeV',\n",
    "        yaxis_title='R, m',\n",
    "        zaxis_title='Resolution, %',\n",
    "    ),\n",
    "    width=800,\n",
    "    height=700\n",
    ")\n",
    "\n",
    "fig.show()"
   ]
  },
  {
   "cell_type": "code",
   "execution_count": 105,
   "id": "581d98b1",
   "metadata": {},
   "outputs": [],
   "source": [
    "from statsmodels.stats.moment_helpers import cov2corr\n",
    "\n",
    "y_approximated_all = []\n",
    "coefs_all = []\n",
    "errors_all = []\n",
    "corr_matrixes_all = []\n",
    "for i in range(len(models)):\n",
    "    y_approximated_array = []\n",
    "    coefs_array = []\n",
    "    errors_array = []\n",
    "    corr_matrixes = []\n",
    "    for k in range(diffs.shape[2]):\n",
    "        y_approximated, coefs, pcov = approximated(\n",
    "            energies[1:13], res_all[i][k], error_sigma_all[i][k])\n",
    "        y_approximated_array.append(y_approximated)\n",
    "        coefs_array.append(coefs)\n",
    "        errors_array.append(np.sqrt(abs(pcov.diagonal())))\n",
    "        corr_matrixes.append(cov2corr(pcov))\n",
    "        \n",
    "    y_approximated_all.append(y_approximated_array)\n",
    "    coefs_all.append(coefs_array)\n",
    "    errors_all.append(errors_array)\n",
    "    corr_matrixes_all.append(corr_matrixes)\n",
    "\n",
    "corr_matrixes_all = np.array(corr_matrixes_all)"
   ]
  },
  {
   "cell_type": "code",
   "execution_count": 108,
   "id": "3a2db6f2",
   "metadata": {},
   "outputs": [],
   "source": [
    "a = np.array(coefs_all).T[0]\n",
    "b = np.array(coefs_all).T[1]\n",
    "c = np.array(coefs_all).T[2]"
   ]
  },
  {
   "cell_type": "code",
   "execution_count": 109,
   "id": "ca49d067",
   "metadata": {},
   "outputs": [],
   "source": [
    "reindex = [0, 3, 1, 4, 2, 5]\n",
    "coefs_df_real = pd.DataFrame(\n",
    "    np.hstack((coefs_all[1], errors_all[1]))\n",
    ")[reindex]\n",
    "coefs_df_real.columns = ['a', r'$\\Delta a$', 'b', r'$\\Delta b$', 'c', r'$\\Delta c$']\n",
    "\n",
    "coefs_df_real = coefs_df_real.round(3)\n",
    "coefs_df_real.index = Rs\n",
    "coefs_df_real[r'$\\tilde{a}$'] = (coefs_df_real['a']**2 + (1.6 * coefs_df_real['b'])**2 + (coefs_df_real['c'] / 1.6)**2)**0.5 \n",
    "coefs_df_real[r'$\\Delta \\tilde{a}$'] = np.sqrt( (coefs_df_real['a']*coefs_df_real[r'$\\Delta a$'])**2 + \\\n",
    "                                           (2.56*coefs_df_real['b']*coefs_df_real[r'$\\Delta b$'])**2 + \\\n",
    "                                           (coefs_df_real['c']*coefs_df_real[r'$\\Delta c$'] / 2.56)**2) / coefs_df_real[r'$\\tilde{a}$']\n",
    "\n",
    "coefs_df_real[r'$\\Delta \\tilde{a}$'] = np.sqrt(\n",
    "    coefs_df_real[r'$\\Delta \\tilde{a}$']**2 + 2 * (\n",
    "        1.6**2 * coefs_df_real['a'] * coefs_df_real['b'] / coefs_df_real[r'$\\tilde{a}$']**2 *\\\n",
    "        corr_matrixes_all[1, :, 0, 1] * coefs_df_real[r'$\\Delta a$'] * coefs_df_real[r'$\\Delta b$'] +\\\n",
    "        \n",
    "        coefs_df_real['a'] * coefs_df_real['c'] / (coefs_df_real[r'$\\tilde{a}$']**2 * 1.6**2) *\\\n",
    "        corr_matrixes_all[1, :, 0, 2] * coefs_df_real[r'$\\Delta a$'] * coefs_df_real[r'$\\Delta c$'] +\\\n",
    "\n",
    "        coefs_df_real['b'] * coefs_df_real['c'] / coefs_df_real[r'$\\tilde{a}$']**2 *\\\n",
    "        corr_matrixes_all[1, :, 1, 2] * coefs_df_real[r'$\\Delta b$'] * coefs_df_real[r'$\\Delta c$']\n",
    "    )\n",
    ")"
   ]
  },
  {
   "cell_type": "code",
   "execution_count": 110,
   "id": "2f9a0b6d",
   "metadata": {},
   "outputs": [],
   "source": [
    "f_df = pd.read_csv('plots/f_df.csv')\n",
    "f_df.index = Rs\n",
    "coefs_df_real['f'] = f_df['f']\n",
    "coefs_df_real['df'] = f_df['df']"
   ]
  },
  {
   "cell_type": "code",
   "execution_count": 112,
   "id": "f8803642",
   "metadata": {},
   "outputs": [],
   "source": [
    "df = coefs_df_real[['a', r'$\\Delta a$', 'b', r'$\\Delta b$', 'c', r'$\\Delta c$', 'f', 'df']]\n",
    "df.columns = ['a', 'da', 'b', 'db', 'c', 'dc', 'f', 'df']\n",
    "df.to_csv('plots/res_params_fv_NN.csv', index=False)\n",
    "df.to_csv('plots/res_params_fv_NN.tsv', sep='\\t', index=False)"
   ]
  },
  {
   "cell_type": "code",
   "execution_count": 118,
   "id": "b16ade85",
   "metadata": {},
   "outputs": [
    {
     "data": {
      "application/vnd.plotly.v1+json": {
       "config": {
        "plotlyServerURL": "https://plot.ly"
       },
       "data": [
        {
         "line": {
          "color": "black",
          "width": 0.75
         },
         "type": "scatter",
         "x": [
          14,
          14.1,
          14.2,
          14.3,
          14.4,
          14.5,
          14.6,
          14.7,
          14.8,
          14.9,
          15,
          15.1,
          15.2,
          15.3,
          15.4,
          15.5,
          15.6,
          15.7,
          15.799999999999999,
          15.899999999999999,
          16,
          16.1,
          16.2,
          16.3,
          16.4,
          16.5,
          16.6,
          16.7,
          16.8,
          16.9,
          17,
          17.099999999999998,
          17.2
         ],
         "y": [
          2.790910386928287,
          2.792925280546691,
          2.7932082787249564,
          2.793405419359206,
          2.792419055011436,
          2.7911363327849843,
          2.792066932907462,
          2.7920910225422424,
          2.7922008936582903,
          2.792976868726915,
          2.7921879479915543,
          2.792423984818372,
          2.7897394130085296,
          2.7887427159895464,
          2.7929722759672937,
          2.7944583121224693,
          2.7957043843548446,
          2.794714117932996,
          2.796538641594189,
          2.7978469888472235,
          2.7986754482206644,
          2.7997823065289844,
          2.803203631544256,
          2.8051217379100253,
          2.812193397433859,
          2.8155224951202613,
          2.8205579817209117,
          2.8240597651060138,
          2.827640929730976,
          2.8321841012527553,
          2.834143534880322,
          2.8419248527804117,
          2.8485129173413326
         ]
        },
        {
         "fill": "tonexty",
         "fillcolor": "rgba(150, 0, 0, 0.3)",
         "line": {
          "color": "black",
          "width": 0.75
         },
         "type": "scatter",
         "x": [
          14,
          14.1,
          14.2,
          14.3,
          14.4,
          14.5,
          14.6,
          14.7,
          14.8,
          14.9,
          15,
          15.1,
          15.2,
          15.3,
          15.4,
          15.5,
          15.6,
          15.7,
          15.799999999999999,
          15.899999999999999,
          16,
          16.1,
          16.2,
          16.3,
          16.4,
          16.5,
          16.6,
          16.7,
          16.8,
          16.9,
          17,
          17.099999999999998,
          17.2
         ],
         "y": [
          2.746224305536761,
          2.7466113067952502,
          2.746999980898503,
          2.746387683501225,
          2.744776139534264,
          2.741913130214601,
          2.7427177458311784,
          2.7436297299885424,
          2.743123537890415,
          2.742616838365396,
          2.7417706432882905,
          2.7409203766415215,
          2.7384890919015206,
          2.7361797470410436,
          2.7407263072589374,
          2.741017783255416,
          2.7412105111442724,
          2.7424789941049066,
          2.7429540075569947,
          2.7436005749667665,
          2.7437985411183927,
          2.744830547629545,
          2.748234763142296,
          2.7511090069385,
          2.7572570467302686,
          2.760673385809676,
          2.7667817645268498,
          2.770793606520449,
          2.774487812095652,
          2.778663745775357,
          2.7810930409462036,
          2.788628668854917,
          2.79539204376494
         ]
        },
        {
         "line": {
          "color": "black",
          "dash": "dash"
         },
         "marker": {
          "color": "black",
          "size": 8,
          "symbol": "x"
         },
         "mode": "lines+markers",
         "type": "scatter",
         "x": [
          14,
          14.1,
          14.2,
          14.3,
          14.4,
          14.5,
          14.6,
          14.7,
          14.8,
          14.9,
          15,
          15.1,
          15.2,
          15.3,
          15.4,
          15.5,
          15.6,
          15.7,
          15.799999999999999,
          15.899999999999999,
          16,
          16.1,
          16.2,
          16.3,
          16.4,
          16.5,
          16.6,
          16.7,
          16.8,
          16.9,
          17,
          17.099999999999998,
          17.2
         ],
         "y": [
          2.768567346232524,
          2.7697682936709707,
          2.7701041298117297,
          2.7698965514302154,
          2.76859759727285,
          2.7665247314997927,
          2.7673923393693203,
          2.7678603762653924,
          2.7676622157743527,
          2.7677968535461557,
          2.7669792956399224,
          2.766672180729947,
          2.764114252455025,
          2.762461231515295,
          2.7668492916131155,
          2.7677380476889426,
          2.7684574477495585,
          2.7685965560189514,
          2.769746324575592,
          2.770723781906995,
          2.7712369946695286,
          2.772306427079265,
          2.775719197343276,
          2.7781153724242627,
          2.7847252220820637,
          2.7880979404649686,
          2.7936698731238807,
          2.7974266858132313,
          2.801064370913314,
          2.805423923514056,
          2.8076182879132627,
          2.8152767608176643,
          2.8219524805531364
         ]
        }
       ],
       "layout": {
        "font": {
         "family": "Times New Roman",
         "size": 16
        },
        "height": 500,
        "showlegend": false,
        "template": {
         "data": {
          "bar": [
           {
            "error_x": {
             "color": "#2a3f5f"
            },
            "error_y": {
             "color": "#2a3f5f"
            },
            "marker": {
             "line": {
              "color": "white",
              "width": 0.5
             },
             "pattern": {
              "fillmode": "overlay",
              "size": 10,
              "solidity": 0.2
             }
            },
            "type": "bar"
           }
          ],
          "barpolar": [
           {
            "marker": {
             "line": {
              "color": "white",
              "width": 0.5
             },
             "pattern": {
              "fillmode": "overlay",
              "size": 10,
              "solidity": 0.2
             }
            },
            "type": "barpolar"
           }
          ],
          "carpet": [
           {
            "aaxis": {
             "endlinecolor": "#2a3f5f",
             "gridcolor": "#C8D4E3",
             "linecolor": "#C8D4E3",
             "minorgridcolor": "#C8D4E3",
             "startlinecolor": "#2a3f5f"
            },
            "baxis": {
             "endlinecolor": "#2a3f5f",
             "gridcolor": "#C8D4E3",
             "linecolor": "#C8D4E3",
             "minorgridcolor": "#C8D4E3",
             "startlinecolor": "#2a3f5f"
            },
            "type": "carpet"
           }
          ],
          "choropleth": [
           {
            "colorbar": {
             "outlinewidth": 0,
             "ticks": ""
            },
            "type": "choropleth"
           }
          ],
          "contour": [
           {
            "colorbar": {
             "outlinewidth": 0,
             "ticks": ""
            },
            "colorscale": [
             [
              0,
              "#0d0887"
             ],
             [
              0.1111111111111111,
              "#46039f"
             ],
             [
              0.2222222222222222,
              "#7201a8"
             ],
             [
              0.3333333333333333,
              "#9c179e"
             ],
             [
              0.4444444444444444,
              "#bd3786"
             ],
             [
              0.5555555555555556,
              "#d8576b"
             ],
             [
              0.6666666666666666,
              "#ed7953"
             ],
             [
              0.7777777777777778,
              "#fb9f3a"
             ],
             [
              0.8888888888888888,
              "#fdca26"
             ],
             [
              1,
              "#f0f921"
             ]
            ],
            "type": "contour"
           }
          ],
          "contourcarpet": [
           {
            "colorbar": {
             "outlinewidth": 0,
             "ticks": ""
            },
            "type": "contourcarpet"
           }
          ],
          "heatmap": [
           {
            "colorbar": {
             "outlinewidth": 0,
             "ticks": ""
            },
            "colorscale": [
             [
              0,
              "#0d0887"
             ],
             [
              0.1111111111111111,
              "#46039f"
             ],
             [
              0.2222222222222222,
              "#7201a8"
             ],
             [
              0.3333333333333333,
              "#9c179e"
             ],
             [
              0.4444444444444444,
              "#bd3786"
             ],
             [
              0.5555555555555556,
              "#d8576b"
             ],
             [
              0.6666666666666666,
              "#ed7953"
             ],
             [
              0.7777777777777778,
              "#fb9f3a"
             ],
             [
              0.8888888888888888,
              "#fdca26"
             ],
             [
              1,
              "#f0f921"
             ]
            ],
            "type": "heatmap"
           }
          ],
          "heatmapgl": [
           {
            "colorbar": {
             "outlinewidth": 0,
             "ticks": ""
            },
            "colorscale": [
             [
              0,
              "#0d0887"
             ],
             [
              0.1111111111111111,
              "#46039f"
             ],
             [
              0.2222222222222222,
              "#7201a8"
             ],
             [
              0.3333333333333333,
              "#9c179e"
             ],
             [
              0.4444444444444444,
              "#bd3786"
             ],
             [
              0.5555555555555556,
              "#d8576b"
             ],
             [
              0.6666666666666666,
              "#ed7953"
             ],
             [
              0.7777777777777778,
              "#fb9f3a"
             ],
             [
              0.8888888888888888,
              "#fdca26"
             ],
             [
              1,
              "#f0f921"
             ]
            ],
            "type": "heatmapgl"
           }
          ],
          "histogram": [
           {
            "marker": {
             "pattern": {
              "fillmode": "overlay",
              "size": 10,
              "solidity": 0.2
             }
            },
            "type": "histogram"
           }
          ],
          "histogram2d": [
           {
            "colorbar": {
             "outlinewidth": 0,
             "ticks": ""
            },
            "colorscale": [
             [
              0,
              "#0d0887"
             ],
             [
              0.1111111111111111,
              "#46039f"
             ],
             [
              0.2222222222222222,
              "#7201a8"
             ],
             [
              0.3333333333333333,
              "#9c179e"
             ],
             [
              0.4444444444444444,
              "#bd3786"
             ],
             [
              0.5555555555555556,
              "#d8576b"
             ],
             [
              0.6666666666666666,
              "#ed7953"
             ],
             [
              0.7777777777777778,
              "#fb9f3a"
             ],
             [
              0.8888888888888888,
              "#fdca26"
             ],
             [
              1,
              "#f0f921"
             ]
            ],
            "type": "histogram2d"
           }
          ],
          "histogram2dcontour": [
           {
            "colorbar": {
             "outlinewidth": 0,
             "ticks": ""
            },
            "colorscale": [
             [
              0,
              "#0d0887"
             ],
             [
              0.1111111111111111,
              "#46039f"
             ],
             [
              0.2222222222222222,
              "#7201a8"
             ],
             [
              0.3333333333333333,
              "#9c179e"
             ],
             [
              0.4444444444444444,
              "#bd3786"
             ],
             [
              0.5555555555555556,
              "#d8576b"
             ],
             [
              0.6666666666666666,
              "#ed7953"
             ],
             [
              0.7777777777777778,
              "#fb9f3a"
             ],
             [
              0.8888888888888888,
              "#fdca26"
             ],
             [
              1,
              "#f0f921"
             ]
            ],
            "type": "histogram2dcontour"
           }
          ],
          "mesh3d": [
           {
            "colorbar": {
             "outlinewidth": 0,
             "ticks": ""
            },
            "type": "mesh3d"
           }
          ],
          "parcoords": [
           {
            "line": {
             "colorbar": {
              "outlinewidth": 0,
              "ticks": ""
             }
            },
            "type": "parcoords"
           }
          ],
          "pie": [
           {
            "automargin": true,
            "type": "pie"
           }
          ],
          "scatter": [
           {
            "marker": {
             "colorbar": {
              "outlinewidth": 0,
              "ticks": ""
             }
            },
            "type": "scatter"
           }
          ],
          "scatter3d": [
           {
            "line": {
             "colorbar": {
              "outlinewidth": 0,
              "ticks": ""
             }
            },
            "marker": {
             "colorbar": {
              "outlinewidth": 0,
              "ticks": ""
             }
            },
            "type": "scatter3d"
           }
          ],
          "scattercarpet": [
           {
            "marker": {
             "colorbar": {
              "outlinewidth": 0,
              "ticks": ""
             }
            },
            "type": "scattercarpet"
           }
          ],
          "scattergeo": [
           {
            "marker": {
             "colorbar": {
              "outlinewidth": 0,
              "ticks": ""
             }
            },
            "type": "scattergeo"
           }
          ],
          "scattergl": [
           {
            "marker": {
             "colorbar": {
              "outlinewidth": 0,
              "ticks": ""
             }
            },
            "type": "scattergl"
           }
          ],
          "scattermapbox": [
           {
            "marker": {
             "colorbar": {
              "outlinewidth": 0,
              "ticks": ""
             }
            },
            "type": "scattermapbox"
           }
          ],
          "scatterpolar": [
           {
            "marker": {
             "colorbar": {
              "outlinewidth": 0,
              "ticks": ""
             }
            },
            "type": "scatterpolar"
           }
          ],
          "scatterpolargl": [
           {
            "marker": {
             "colorbar": {
              "outlinewidth": 0,
              "ticks": ""
             }
            },
            "type": "scatterpolargl"
           }
          ],
          "scatterternary": [
           {
            "marker": {
             "colorbar": {
              "outlinewidth": 0,
              "ticks": ""
             }
            },
            "type": "scatterternary"
           }
          ],
          "surface": [
           {
            "colorbar": {
             "outlinewidth": 0,
             "ticks": ""
            },
            "colorscale": [
             [
              0,
              "#0d0887"
             ],
             [
              0.1111111111111111,
              "#46039f"
             ],
             [
              0.2222222222222222,
              "#7201a8"
             ],
             [
              0.3333333333333333,
              "#9c179e"
             ],
             [
              0.4444444444444444,
              "#bd3786"
             ],
             [
              0.5555555555555556,
              "#d8576b"
             ],
             [
              0.6666666666666666,
              "#ed7953"
             ],
             [
              0.7777777777777778,
              "#fb9f3a"
             ],
             [
              0.8888888888888888,
              "#fdca26"
             ],
             [
              1,
              "#f0f921"
             ]
            ],
            "type": "surface"
           }
          ],
          "table": [
           {
            "cells": {
             "fill": {
              "color": "#EBF0F8"
             },
             "line": {
              "color": "white"
             }
            },
            "header": {
             "fill": {
              "color": "#C8D4E3"
             },
             "line": {
              "color": "white"
             }
            },
            "type": "table"
           }
          ]
         },
         "layout": {
          "annotationdefaults": {
           "arrowcolor": "#2a3f5f",
           "arrowhead": 0,
           "arrowwidth": 1
          },
          "autotypenumbers": "strict",
          "coloraxis": {
           "colorbar": {
            "outlinewidth": 0,
            "ticks": ""
           }
          },
          "colorscale": {
           "diverging": [
            [
             0,
             "#8e0152"
            ],
            [
             0.1,
             "#c51b7d"
            ],
            [
             0.2,
             "#de77ae"
            ],
            [
             0.3,
             "#f1b6da"
            ],
            [
             0.4,
             "#fde0ef"
            ],
            [
             0.5,
             "#f7f7f7"
            ],
            [
             0.6,
             "#e6f5d0"
            ],
            [
             0.7,
             "#b8e186"
            ],
            [
             0.8,
             "#7fbc41"
            ],
            [
             0.9,
             "#4d9221"
            ],
            [
             1,
             "#276419"
            ]
           ],
           "sequential": [
            [
             0,
             "#0d0887"
            ],
            [
             0.1111111111111111,
             "#46039f"
            ],
            [
             0.2222222222222222,
             "#7201a8"
            ],
            [
             0.3333333333333333,
             "#9c179e"
            ],
            [
             0.4444444444444444,
             "#bd3786"
            ],
            [
             0.5555555555555556,
             "#d8576b"
            ],
            [
             0.6666666666666666,
             "#ed7953"
            ],
            [
             0.7777777777777778,
             "#fb9f3a"
            ],
            [
             0.8888888888888888,
             "#fdca26"
            ],
            [
             1,
             "#f0f921"
            ]
           ],
           "sequentialminus": [
            [
             0,
             "#0d0887"
            ],
            [
             0.1111111111111111,
             "#46039f"
            ],
            [
             0.2222222222222222,
             "#7201a8"
            ],
            [
             0.3333333333333333,
             "#9c179e"
            ],
            [
             0.4444444444444444,
             "#bd3786"
            ],
            [
             0.5555555555555556,
             "#d8576b"
            ],
            [
             0.6666666666666666,
             "#ed7953"
            ],
            [
             0.7777777777777778,
             "#fb9f3a"
            ],
            [
             0.8888888888888888,
             "#fdca26"
            ],
            [
             1,
             "#f0f921"
            ]
           ]
          },
          "colorway": [
           "#636efa",
           "#EF553B",
           "#00cc96",
           "#ab63fa",
           "#FFA15A",
           "#19d3f3",
           "#FF6692",
           "#B6E880",
           "#FF97FF",
           "#FECB52"
          ],
          "font": {
           "color": "#2a3f5f"
          },
          "geo": {
           "bgcolor": "white",
           "lakecolor": "white",
           "landcolor": "white",
           "showlakes": true,
           "showland": true,
           "subunitcolor": "#C8D4E3"
          },
          "hoverlabel": {
           "align": "left"
          },
          "hovermode": "closest",
          "mapbox": {
           "style": "light"
          },
          "paper_bgcolor": "white",
          "plot_bgcolor": "white",
          "polar": {
           "angularaxis": {
            "gridcolor": "#EBF0F8",
            "linecolor": "#EBF0F8",
            "ticks": ""
           },
           "bgcolor": "white",
           "radialaxis": {
            "gridcolor": "#EBF0F8",
            "linecolor": "#EBF0F8",
            "ticks": ""
           }
          },
          "scene": {
           "xaxis": {
            "backgroundcolor": "white",
            "gridcolor": "#DFE8F3",
            "gridwidth": 2,
            "linecolor": "#EBF0F8",
            "showbackground": true,
            "ticks": "",
            "zerolinecolor": "#EBF0F8"
           },
           "yaxis": {
            "backgroundcolor": "white",
            "gridcolor": "#DFE8F3",
            "gridwidth": 2,
            "linecolor": "#EBF0F8",
            "showbackground": true,
            "ticks": "",
            "zerolinecolor": "#EBF0F8"
           },
           "zaxis": {
            "backgroundcolor": "white",
            "gridcolor": "#DFE8F3",
            "gridwidth": 2,
            "linecolor": "#EBF0F8",
            "showbackground": true,
            "ticks": "",
            "zerolinecolor": "#EBF0F8"
           }
          },
          "shapedefaults": {
           "line": {
            "color": "#2a3f5f"
           }
          },
          "ternary": {
           "aaxis": {
            "gridcolor": "#DFE8F3",
            "linecolor": "#A2B1C6",
            "ticks": ""
           },
           "baxis": {
            "gridcolor": "#DFE8F3",
            "linecolor": "#A2B1C6",
            "ticks": ""
           },
           "bgcolor": "white",
           "caxis": {
            "gridcolor": "#DFE8F3",
            "linecolor": "#A2B1C6",
            "ticks": ""
           }
          },
          "title": {
           "x": 0.05
          },
          "xaxis": {
           "automargin": true,
           "gridcolor": "#EBF0F8",
           "linecolor": "#EBF0F8",
           "ticks": "",
           "title": {
            "standoff": 15
           },
           "zerolinecolor": "#EBF0F8",
           "zerolinewidth": 2
          },
          "yaxis": {
           "automargin": true,
           "gridcolor": "#EBF0F8",
           "linecolor": "#EBF0F8",
           "ticks": "",
           "title": {
            "standoff": 15
           },
           "zerolinecolor": "#EBF0F8",
           "zerolinewidth": 2
          }
         }
        },
        "width": 950,
        "xaxis": {
         "dtick": 0.2,
         "gridcolor": "grey",
         "gridwidth": 0.25,
         "linecolor": "black",
         "mirror": true,
         "range": [
          14,
          17.2
         ],
         "showgrid": true,
         "showline": true,
         "tick0": 1,
         "ticks": "outside",
         "title": {
          "text": "R, m"
         }
        },
        "yaxis": {
         "gridcolor": "grey",
         "gridwidth": 0.25,
         "linecolor": "black",
         "mirror": true,
         "range": [
          2.73,
          2.855
         ],
         "showgrid": true,
         "showline": true,
         "ticks": "outside",
         "title": {
          "text": "$\\tilde{a}$"
         },
         "zeroline": true,
         "zerolinecolor": "black",
         "zerolinewidth": 0.25
        }
       }
      },
      "text/html": [
       "<div>                            <div id=\"96bafa3e-eeeb-46af-b6e2-6e2563b8a7d7\" class=\"plotly-graph-div\" style=\"height:500px; width:950px;\"></div>            <script type=\"text/javascript\">                require([\"plotly\"], function(Plotly) {                    window.PLOTLYENV=window.PLOTLYENV || {};                                    if (document.getElementById(\"96bafa3e-eeeb-46af-b6e2-6e2563b8a7d7\")) {                    Plotly.newPlot(                        \"96bafa3e-eeeb-46af-b6e2-6e2563b8a7d7\",                        [{\"line\":{\"color\":\"black\",\"width\":0.75},\"type\":\"scatter\",\"x\":[14.0,14.1,14.2,14.3,14.4,14.5,14.6,14.7,14.8,14.9,15.0,15.1,15.2,15.3,15.4,15.5,15.6,15.7,15.799999999999999,15.899999999999999,16.0,16.1,16.2,16.3,16.4,16.5,16.6,16.7,16.8,16.9,17.0,17.099999999999998,17.2],\"y\":[2.790910386928287,2.792925280546691,2.7932082787249564,2.793405419359206,2.792419055011436,2.7911363327849843,2.792066932907462,2.7920910225422424,2.7922008936582903,2.792976868726915,2.7921879479915543,2.792423984818372,2.7897394130085296,2.7887427159895464,2.7929722759672937,2.7944583121224693,2.7957043843548446,2.794714117932996,2.796538641594189,2.7978469888472235,2.7986754482206644,2.7997823065289844,2.803203631544256,2.8051217379100253,2.812193397433859,2.8155224951202613,2.8205579817209117,2.8240597651060138,2.827640929730976,2.8321841012527553,2.834143534880322,2.8419248527804117,2.8485129173413326]},{\"fill\":\"tonexty\",\"fillcolor\":\"rgba(150, 0, 0, 0.3)\",\"line\":{\"color\":\"black\",\"width\":0.75},\"type\":\"scatter\",\"x\":[14.0,14.1,14.2,14.3,14.4,14.5,14.6,14.7,14.8,14.9,15.0,15.1,15.2,15.3,15.4,15.5,15.6,15.7,15.799999999999999,15.899999999999999,16.0,16.1,16.2,16.3,16.4,16.5,16.6,16.7,16.8,16.9,17.0,17.099999999999998,17.2],\"y\":[2.746224305536761,2.7466113067952502,2.746999980898503,2.746387683501225,2.744776139534264,2.741913130214601,2.7427177458311784,2.7436297299885424,2.743123537890415,2.742616838365396,2.7417706432882905,2.7409203766415215,2.7384890919015206,2.7361797470410436,2.7407263072589374,2.741017783255416,2.7412105111442724,2.7424789941049066,2.7429540075569947,2.7436005749667665,2.7437985411183927,2.744830547629545,2.748234763142296,2.7511090069385,2.7572570467302686,2.760673385809676,2.7667817645268498,2.770793606520449,2.774487812095652,2.778663745775357,2.7810930409462036,2.788628668854917,2.79539204376494]},{\"line\":{\"color\":\"black\",\"dash\":\"dash\"},\"marker\":{\"color\":\"black\",\"size\":8,\"symbol\":\"x\"},\"mode\":\"lines+markers\",\"type\":\"scatter\",\"x\":[14.0,14.1,14.2,14.3,14.4,14.5,14.6,14.7,14.8,14.9,15.0,15.1,15.2,15.3,15.4,15.5,15.6,15.7,15.799999999999999,15.899999999999999,16.0,16.1,16.2,16.3,16.4,16.5,16.6,16.7,16.8,16.9,17.0,17.099999999999998,17.2],\"y\":[2.768567346232524,2.7697682936709707,2.7701041298117297,2.7698965514302154,2.76859759727285,2.7665247314997927,2.7673923393693203,2.7678603762653924,2.7676622157743527,2.7677968535461557,2.7669792956399224,2.766672180729947,2.764114252455025,2.762461231515295,2.7668492916131155,2.7677380476889426,2.7684574477495585,2.7685965560189514,2.769746324575592,2.770723781906995,2.7712369946695286,2.772306427079265,2.775719197343276,2.7781153724242627,2.7847252220820637,2.7880979404649686,2.7936698731238807,2.7974266858132313,2.801064370913314,2.805423923514056,2.8076182879132627,2.8152767608176643,2.8219524805531364]}],                        {\"font\":{\"family\":\"Times New Roman\",\"size\":16},\"height\":500,\"showlegend\":false,\"template\":{\"data\":{\"bar\":[{\"error_x\":{\"color\":\"#2a3f5f\"},\"error_y\":{\"color\":\"#2a3f5f\"},\"marker\":{\"line\":{\"color\":\"white\",\"width\":0.5},\"pattern\":{\"fillmode\":\"overlay\",\"size\":10,\"solidity\":0.2}},\"type\":\"bar\"}],\"barpolar\":[{\"marker\":{\"line\":{\"color\":\"white\",\"width\":0.5},\"pattern\":{\"fillmode\":\"overlay\",\"size\":10,\"solidity\":0.2}},\"type\":\"barpolar\"}],\"carpet\":[{\"aaxis\":{\"endlinecolor\":\"#2a3f5f\",\"gridcolor\":\"#C8D4E3\",\"linecolor\":\"#C8D4E3\",\"minorgridcolor\":\"#C8D4E3\",\"startlinecolor\":\"#2a3f5f\"},\"baxis\":{\"endlinecolor\":\"#2a3f5f\",\"gridcolor\":\"#C8D4E3\",\"linecolor\":\"#C8D4E3\",\"minorgridcolor\":\"#C8D4E3\",\"startlinecolor\":\"#2a3f5f\"},\"type\":\"carpet\"}],\"choropleth\":[{\"colorbar\":{\"outlinewidth\":0,\"ticks\":\"\"},\"type\":\"choropleth\"}],\"contour\":[{\"colorbar\":{\"outlinewidth\":0,\"ticks\":\"\"},\"colorscale\":[[0.0,\"#0d0887\"],[0.1111111111111111,\"#46039f\"],[0.2222222222222222,\"#7201a8\"],[0.3333333333333333,\"#9c179e\"],[0.4444444444444444,\"#bd3786\"],[0.5555555555555556,\"#d8576b\"],[0.6666666666666666,\"#ed7953\"],[0.7777777777777778,\"#fb9f3a\"],[0.8888888888888888,\"#fdca26\"],[1.0,\"#f0f921\"]],\"type\":\"contour\"}],\"contourcarpet\":[{\"colorbar\":{\"outlinewidth\":0,\"ticks\":\"\"},\"type\":\"contourcarpet\"}],\"heatmap\":[{\"colorbar\":{\"outlinewidth\":0,\"ticks\":\"\"},\"colorscale\":[[0.0,\"#0d0887\"],[0.1111111111111111,\"#46039f\"],[0.2222222222222222,\"#7201a8\"],[0.3333333333333333,\"#9c179e\"],[0.4444444444444444,\"#bd3786\"],[0.5555555555555556,\"#d8576b\"],[0.6666666666666666,\"#ed7953\"],[0.7777777777777778,\"#fb9f3a\"],[0.8888888888888888,\"#fdca26\"],[1.0,\"#f0f921\"]],\"type\":\"heatmap\"}],\"heatmapgl\":[{\"colorbar\":{\"outlinewidth\":0,\"ticks\":\"\"},\"colorscale\":[[0.0,\"#0d0887\"],[0.1111111111111111,\"#46039f\"],[0.2222222222222222,\"#7201a8\"],[0.3333333333333333,\"#9c179e\"],[0.4444444444444444,\"#bd3786\"],[0.5555555555555556,\"#d8576b\"],[0.6666666666666666,\"#ed7953\"],[0.7777777777777778,\"#fb9f3a\"],[0.8888888888888888,\"#fdca26\"],[1.0,\"#f0f921\"]],\"type\":\"heatmapgl\"}],\"histogram\":[{\"marker\":{\"pattern\":{\"fillmode\":\"overlay\",\"size\":10,\"solidity\":0.2}},\"type\":\"histogram\"}],\"histogram2d\":[{\"colorbar\":{\"outlinewidth\":0,\"ticks\":\"\"},\"colorscale\":[[0.0,\"#0d0887\"],[0.1111111111111111,\"#46039f\"],[0.2222222222222222,\"#7201a8\"],[0.3333333333333333,\"#9c179e\"],[0.4444444444444444,\"#bd3786\"],[0.5555555555555556,\"#d8576b\"],[0.6666666666666666,\"#ed7953\"],[0.7777777777777778,\"#fb9f3a\"],[0.8888888888888888,\"#fdca26\"],[1.0,\"#f0f921\"]],\"type\":\"histogram2d\"}],\"histogram2dcontour\":[{\"colorbar\":{\"outlinewidth\":0,\"ticks\":\"\"},\"colorscale\":[[0.0,\"#0d0887\"],[0.1111111111111111,\"#46039f\"],[0.2222222222222222,\"#7201a8\"],[0.3333333333333333,\"#9c179e\"],[0.4444444444444444,\"#bd3786\"],[0.5555555555555556,\"#d8576b\"],[0.6666666666666666,\"#ed7953\"],[0.7777777777777778,\"#fb9f3a\"],[0.8888888888888888,\"#fdca26\"],[1.0,\"#f0f921\"]],\"type\":\"histogram2dcontour\"}],\"mesh3d\":[{\"colorbar\":{\"outlinewidth\":0,\"ticks\":\"\"},\"type\":\"mesh3d\"}],\"parcoords\":[{\"line\":{\"colorbar\":{\"outlinewidth\":0,\"ticks\":\"\"}},\"type\":\"parcoords\"}],\"pie\":[{\"automargin\":true,\"type\":\"pie\"}],\"scatter\":[{\"marker\":{\"colorbar\":{\"outlinewidth\":0,\"ticks\":\"\"}},\"type\":\"scatter\"}],\"scatter3d\":[{\"line\":{\"colorbar\":{\"outlinewidth\":0,\"ticks\":\"\"}},\"marker\":{\"colorbar\":{\"outlinewidth\":0,\"ticks\":\"\"}},\"type\":\"scatter3d\"}],\"scattercarpet\":[{\"marker\":{\"colorbar\":{\"outlinewidth\":0,\"ticks\":\"\"}},\"type\":\"scattercarpet\"}],\"scattergeo\":[{\"marker\":{\"colorbar\":{\"outlinewidth\":0,\"ticks\":\"\"}},\"type\":\"scattergeo\"}],\"scattergl\":[{\"marker\":{\"colorbar\":{\"outlinewidth\":0,\"ticks\":\"\"}},\"type\":\"scattergl\"}],\"scattermapbox\":[{\"marker\":{\"colorbar\":{\"outlinewidth\":0,\"ticks\":\"\"}},\"type\":\"scattermapbox\"}],\"scatterpolar\":[{\"marker\":{\"colorbar\":{\"outlinewidth\":0,\"ticks\":\"\"}},\"type\":\"scatterpolar\"}],\"scatterpolargl\":[{\"marker\":{\"colorbar\":{\"outlinewidth\":0,\"ticks\":\"\"}},\"type\":\"scatterpolargl\"}],\"scatterternary\":[{\"marker\":{\"colorbar\":{\"outlinewidth\":0,\"ticks\":\"\"}},\"type\":\"scatterternary\"}],\"surface\":[{\"colorbar\":{\"outlinewidth\":0,\"ticks\":\"\"},\"colorscale\":[[0.0,\"#0d0887\"],[0.1111111111111111,\"#46039f\"],[0.2222222222222222,\"#7201a8\"],[0.3333333333333333,\"#9c179e\"],[0.4444444444444444,\"#bd3786\"],[0.5555555555555556,\"#d8576b\"],[0.6666666666666666,\"#ed7953\"],[0.7777777777777778,\"#fb9f3a\"],[0.8888888888888888,\"#fdca26\"],[1.0,\"#f0f921\"]],\"type\":\"surface\"}],\"table\":[{\"cells\":{\"fill\":{\"color\":\"#EBF0F8\"},\"line\":{\"color\":\"white\"}},\"header\":{\"fill\":{\"color\":\"#C8D4E3\"},\"line\":{\"color\":\"white\"}},\"type\":\"table\"}]},\"layout\":{\"annotationdefaults\":{\"arrowcolor\":\"#2a3f5f\",\"arrowhead\":0,\"arrowwidth\":1},\"autotypenumbers\":\"strict\",\"coloraxis\":{\"colorbar\":{\"outlinewidth\":0,\"ticks\":\"\"}},\"colorscale\":{\"diverging\":[[0,\"#8e0152\"],[0.1,\"#c51b7d\"],[0.2,\"#de77ae\"],[0.3,\"#f1b6da\"],[0.4,\"#fde0ef\"],[0.5,\"#f7f7f7\"],[0.6,\"#e6f5d0\"],[0.7,\"#b8e186\"],[0.8,\"#7fbc41\"],[0.9,\"#4d9221\"],[1,\"#276419\"]],\"sequential\":[[0.0,\"#0d0887\"],[0.1111111111111111,\"#46039f\"],[0.2222222222222222,\"#7201a8\"],[0.3333333333333333,\"#9c179e\"],[0.4444444444444444,\"#bd3786\"],[0.5555555555555556,\"#d8576b\"],[0.6666666666666666,\"#ed7953\"],[0.7777777777777778,\"#fb9f3a\"],[0.8888888888888888,\"#fdca26\"],[1.0,\"#f0f921\"]],\"sequentialminus\":[[0.0,\"#0d0887\"],[0.1111111111111111,\"#46039f\"],[0.2222222222222222,\"#7201a8\"],[0.3333333333333333,\"#9c179e\"],[0.4444444444444444,\"#bd3786\"],[0.5555555555555556,\"#d8576b\"],[0.6666666666666666,\"#ed7953\"],[0.7777777777777778,\"#fb9f3a\"],[0.8888888888888888,\"#fdca26\"],[1.0,\"#f0f921\"]]},\"colorway\":[\"#636efa\",\"#EF553B\",\"#00cc96\",\"#ab63fa\",\"#FFA15A\",\"#19d3f3\",\"#FF6692\",\"#B6E880\",\"#FF97FF\",\"#FECB52\"],\"font\":{\"color\":\"#2a3f5f\"},\"geo\":{\"bgcolor\":\"white\",\"lakecolor\":\"white\",\"landcolor\":\"white\",\"showlakes\":true,\"showland\":true,\"subunitcolor\":\"#C8D4E3\"},\"hoverlabel\":{\"align\":\"left\"},\"hovermode\":\"closest\",\"mapbox\":{\"style\":\"light\"},\"paper_bgcolor\":\"white\",\"plot_bgcolor\":\"white\",\"polar\":{\"angularaxis\":{\"gridcolor\":\"#EBF0F8\",\"linecolor\":\"#EBF0F8\",\"ticks\":\"\"},\"bgcolor\":\"white\",\"radialaxis\":{\"gridcolor\":\"#EBF0F8\",\"linecolor\":\"#EBF0F8\",\"ticks\":\"\"}},\"scene\":{\"xaxis\":{\"backgroundcolor\":\"white\",\"gridcolor\":\"#DFE8F3\",\"gridwidth\":2,\"linecolor\":\"#EBF0F8\",\"showbackground\":true,\"ticks\":\"\",\"zerolinecolor\":\"#EBF0F8\"},\"yaxis\":{\"backgroundcolor\":\"white\",\"gridcolor\":\"#DFE8F3\",\"gridwidth\":2,\"linecolor\":\"#EBF0F8\",\"showbackground\":true,\"ticks\":\"\",\"zerolinecolor\":\"#EBF0F8\"},\"zaxis\":{\"backgroundcolor\":\"white\",\"gridcolor\":\"#DFE8F3\",\"gridwidth\":2,\"linecolor\":\"#EBF0F8\",\"showbackground\":true,\"ticks\":\"\",\"zerolinecolor\":\"#EBF0F8\"}},\"shapedefaults\":{\"line\":{\"color\":\"#2a3f5f\"}},\"ternary\":{\"aaxis\":{\"gridcolor\":\"#DFE8F3\",\"linecolor\":\"#A2B1C6\",\"ticks\":\"\"},\"baxis\":{\"gridcolor\":\"#DFE8F3\",\"linecolor\":\"#A2B1C6\",\"ticks\":\"\"},\"bgcolor\":\"white\",\"caxis\":{\"gridcolor\":\"#DFE8F3\",\"linecolor\":\"#A2B1C6\",\"ticks\":\"\"}},\"title\":{\"x\":0.05},\"xaxis\":{\"automargin\":true,\"gridcolor\":\"#EBF0F8\",\"linecolor\":\"#EBF0F8\",\"ticks\":\"\",\"title\":{\"standoff\":15},\"zerolinecolor\":\"#EBF0F8\",\"zerolinewidth\":2},\"yaxis\":{\"automargin\":true,\"gridcolor\":\"#EBF0F8\",\"linecolor\":\"#EBF0F8\",\"ticks\":\"\",\"title\":{\"standoff\":15},\"zerolinecolor\":\"#EBF0F8\",\"zerolinewidth\":2}}},\"width\":950,\"xaxis\":{\"dtick\":0.2,\"gridcolor\":\"grey\",\"gridwidth\":0.25,\"linecolor\":\"black\",\"mirror\":true,\"range\":[14,17.2],\"showgrid\":true,\"showline\":true,\"tick0\":1,\"ticks\":\"outside\",\"title\":{\"text\":\"R, m\"}},\"yaxis\":{\"gridcolor\":\"grey\",\"gridwidth\":0.25,\"linecolor\":\"black\",\"mirror\":true,\"range\":[2.73,2.855],\"showgrid\":true,\"showline\":true,\"ticks\":\"outside\",\"title\":{\"text\":\"$\\\\tilde{a}$\"},\"zeroline\":true,\"zerolinecolor\":\"black\",\"zerolinewidth\":0.25}},                        {\"responsive\": true}                    ).then(function(){\n",
       "                            \n",
       "var gd = document.getElementById('96bafa3e-eeeb-46af-b6e2-6e2563b8a7d7');\n",
       "var x = new MutationObserver(function (mutations, observer) {{\n",
       "        var display = window.getComputedStyle(gd).display;\n",
       "        if (!display || display === 'none') {{\n",
       "            console.log([gd, 'removed!']);\n",
       "            Plotly.purge(gd);\n",
       "            observer.disconnect();\n",
       "        }}\n",
       "}});\n",
       "\n",
       "// Listen for the removal of the full notebook cells\n",
       "var notebookContainer = gd.closest('#notebook-container');\n",
       "if (notebookContainer) {{\n",
       "    x.observe(notebookContainer, {childList: true});\n",
       "}}\n",
       "\n",
       "// Listen for the clearing of the current output cell\n",
       "var outputEl = gd.closest('.output');\n",
       "if (outputEl) {{\n",
       "    x.observe(outputEl, {childList: true});\n",
       "}}\n",
       "\n",
       "                        })                };                });            </script>        </div>"
      ]
     },
     "metadata": {},
     "output_type": "display_data"
    }
   ],
   "source": [
    "color = 'rgba(150, 0, 0, 0.3)'\n",
    "\n",
    "fig = go.Figure()\n",
    "\n",
    "fig.add_trace(\n",
    "    go.Scatter(\n",
    "        x=Rs,\n",
    "        y=coefs_df_real[r'$\\tilde{a}$']+coefs_df_real[r'$\\Delta \\tilde{a}$'],\n",
    "        line=dict(color='black', width=0.75),\n",
    "    )\n",
    ")\n",
    "\n",
    "fig.add_trace(\n",
    "    go.Scatter(\n",
    "        x=Rs,\n",
    "        y=coefs_df_real[r'$\\tilde{a}$']-coefs_df_real[r'$\\Delta \\tilde{a}$'],\n",
    "        fill='tonexty',\n",
    "        fillcolor=color,\n",
    "        line=dict(color='black', width=0.75)\n",
    "    )\n",
    ")\n",
    "\n",
    "fig.add_trace(\n",
    "    go.Scatter(\n",
    "        x=Rs,\n",
    "        y=coefs_df_real[r'$\\tilde{a}$'],\n",
    "        mode='lines+markers',\n",
    "        line=dict(\n",
    "            dash='dash',\n",
    "            color='black'\n",
    "        ),\n",
    "        marker=dict(\n",
    "            color='black',\n",
    "            size=8,\n",
    "            symbol='x'\n",
    "        ),\n",
    "    )\n",
    ")\n",
    "\n",
    "xaxis = lambda range: dict(\n",
    "    showline=True,\n",
    "    ticks='outside',\n",
    "    mirror=True,\n",
    "    tick0=1,\n",
    "    dtick=0.2,\n",
    "    range=range,\n",
    "    linecolor='black',\n",
    "    showgrid=True,\n",
    "    gridcolor='grey',\n",
    "    gridwidth=0.25,\n",
    ")\n",
    "\n",
    "yaxis = lambda range: dict(\n",
    "    showline=True,\n",
    "    ticks='outside',\n",
    "    mirror=True,\n",
    "    linecolor='black',\n",
    "    range=range,\n",
    "    showgrid=True,\n",
    "    gridcolor='grey',\n",
    "    gridwidth=0.25,\n",
    "    zeroline=True,\n",
    "    zerolinecolor='black',\n",
    "    zerolinewidth=0.25\n",
    ")\n",
    "\n",
    "fig.update_layout(\n",
    "    xaxis_title=\"R, m\",\n",
    "    yaxis_title=r'$\\tilde{a}$',\n",
    "    xaxis = xaxis([14, 17.2]),\n",
    "    yaxis = yaxis([2.73, 2.855]),\n",
    "\n",
    "    showlegend=False,\n",
    "    height=500,\n",
    "    width=950,\n",
    "    font=dict(\n",
    "            family=\"Times New Roman\",\n",
    "            size=16,\n",
    "    ),\n",
    ")\n",
    "\n",
    "fig.show()\n",
    "pio.write_image(fig, 'plots/atilde_vs_R_NN.pdf', height=500, width=950)"
   ]
  },
  {
   "cell_type": "code",
   "execution_count": null,
   "id": "a7c744ea",
   "metadata": {},
   "outputs": [],
   "source": []
  },
  {
   "cell_type": "code",
   "execution_count": null,
   "id": "1e921445",
   "metadata": {},
   "outputs": [],
   "source": []
  }
 ],
 "metadata": {
  "kernelspec": {
   "display_name": "Python 3",
   "language": "python",
   "name": "python3"
  },
  "language_info": {
   "codemirror_mode": {
    "name": "ipython",
    "version": 3
   },
   "file_extension": ".py",
   "mimetype": "text/x-python",
   "name": "python",
   "nbconvert_exporter": "python",
   "pygments_lexer": "ipython3",
   "version": "3.8.10"
  }
 },
 "nbformat": 4,
 "nbformat_minor": 5
}
