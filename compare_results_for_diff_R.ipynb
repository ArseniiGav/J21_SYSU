{
 "cells": [
  {
   "cell_type": "code",
   "execution_count": 162,
   "id": "e1437c7d",
   "metadata": {},
   "outputs": [],
   "source": [
    "import pandas as pd\n",
    "import numpy as np\n",
    "from tqdm.notebook import tqdm\n",
    "\n",
    "import plotly.graph_objs as go\n",
    "from plotly.subplots import make_subplots\n",
    "import plotly.io as pio\n",
    "pio.templates.default = 'plotly_white'\n",
    "\n",
    "import warnings\n",
    "warnings.filterwarnings(\"ignore\")"
   ]
  },
  {
   "cell_type": "code",
   "execution_count": 163,
   "id": "aeaa32fa",
   "metadata": {},
   "outputs": [],
   "source": [
    "bdt_J19 = pd.read_csv('df_bdt_eval.csv')\n",
    "bdt_J19_5M_23 = bdt_J19[(bdt_J19['opt']==23) & (bdt_J19['model']=='5M')]\n",
    "bdt_J19_5M_0 = bdt_J19[(bdt_J19['opt']==0) & (bdt_J19['model']=='5M')]"
   ]
  },
  {
   "cell_type": "code",
   "execution_count": 164,
   "id": "94430561",
   "metadata": {},
   "outputs": [
    {
     "name": "stdout",
     "output_type": "stream",
     "text": [
      "yes\n"
     ]
    }
   ],
   "source": [
    "vm = input()\n",
    "if vm.lower()=='yes':\n",
    "    path='/mnt/cephfs/ml_data/mc_2021/'\n",
    "else:\n",
    "    path=''"
   ]
  },
  {
   "cell_type": "code",
   "execution_count": 165,
   "id": "d73431c1",
   "metadata": {},
   "outputs": [
    {
     "name": "stdout",
     "output_type": "stream",
     "text": [
      "xgb or nn: nn\n"
     ]
    }
   ],
   "source": [
    "import pickle\n",
    "from tensorflow.keras.models import load_model\n",
    "\n",
    "model_type = input('xgb or nn: ', )\n",
    "models = []\n",
    "if model_type=='xgb':\n",
    "    models.append(pickle.load(open(\"models/16_features_max_depth_10/xgb_energy_ideal_opt_16.dat\", \"rb\")))\n",
    "    models.append(pickle.load(open(\"models/16_features_max_depth_10/xgb_energy_real_opt_16.dat\", \"rb\")))\n",
    "    color = 'rgba(150, 0, 0, 0.3)'\n",
    "    y_range = [2.82, 2.94]\n",
    "    opt_features = ['AccumCharge', 'R_cht', 'z_cc', 'pe_std',\n",
    "                    'nPMTs', 'ht_kurtosis', 'ht_25-20p', 'R_cc',\n",
    "                    'ht_5-2p', 'pe_mean', 'jacob_cht', 'phi_cc',\n",
    "                    'ht_35-30p', 'ht_20-15p', 'pe_35p', 'ht_30-25p']\n",
    "    \n",
    "elif model_type=='nn':\n",
    "    scalers = []\n",
    "    models.append(load_model(\"models/5M_ideal.h5\")) \n",
    "    models.append(load_model(\"models/5M_real.h5\"))\n",
    "    color = 'rgba(0, 0, 200, 0.3)'\n",
    "    y_range = [2.73, 2.855]\n",
    "    opt_features = ['AccumCharge', 'nPMTs', 'R_cc', 'R_cht', 'pe_mean',\n",
    "                    'pe_std', 'pe_skew', 'pe_kurtosis', 'pho_cc', 'pho_cht',\n",
    "                    'ht_2p', 'ht_5p', 'ht_10p', 'ht_15p', 'ht_20p',\n",
    "                    'ht_25p', 'ht_30p', 'ht_35p', 'ht_40p', 'ht_45p',\n",
    "                    'ht_50p', 'ht_55p', 'ht_60p', 'ht_65p', 'ht_70p',\n",
    "                    'ht_75p', 'ht_80p', 'ht_85p', 'ht_90p', 'ht_95p']\n",
    "    scalers.append(pickle.load(open('models/scaler_ideal.pkl','rb')))\n",
    "    scalers.append(pickle.load(open('models/scaler_real.pkl','rb')))"
   ]
  },
  {
   "cell_type": "code",
   "execution_count": 166,
   "id": "18a4da26",
   "metadata": {
    "scrolled": true
   },
   "outputs": [
    {
     "data": {
      "application/vnd.jupyter.widget-view+json": {
       "model_id": "",
       "version_major": 2,
       "version_minor": 0
      },
      "text/plain": [
       "Models...:   0%|          | 0/2 [00:00<?, ?it/s]"
      ]
     },
     "metadata": {},
     "output_type": "display_data"
    },
    {
     "data": {
      "application/vnd.jupyter.widget-view+json": {
       "model_id": "",
       "version_major": 2,
       "version_minor": 0
      },
      "text/plain": [
       "Energies...:   0%|          | 0/14 [00:00<?, ?it/s]"
      ]
     },
     "metadata": {},
     "output_type": "display_data"
    },
    {
     "data": {
      "application/vnd.jupyter.widget-view+json": {
       "model_id": "",
       "version_major": 2,
       "version_minor": 0
      },
      "text/plain": [
       "Rs...:   0%|          | 0/41 [00:00<?, ?it/s]"
      ]
     },
     "metadata": {},
     "output_type": "display_data"
    },
    {
     "data": {
      "application/vnd.jupyter.widget-view+json": {
       "model_id": "",
       "version_major": 2,
       "version_minor": 0
      },
      "text/plain": [
       "Rs...:   0%|          | 0/41 [00:00<?, ?it/s]"
      ]
     },
     "metadata": {},
     "output_type": "display_data"
    },
    {
     "data": {
      "application/vnd.jupyter.widget-view+json": {
       "model_id": "",
       "version_major": 2,
       "version_minor": 0
      },
      "text/plain": [
       "Rs...:   0%|          | 0/41 [00:00<?, ?it/s]"
      ]
     },
     "metadata": {},
     "output_type": "display_data"
    },
    {
     "data": {
      "application/vnd.jupyter.widget-view+json": {
       "model_id": "",
       "version_major": 2,
       "version_minor": 0
      },
      "text/plain": [
       "Rs...:   0%|          | 0/41 [00:00<?, ?it/s]"
      ]
     },
     "metadata": {},
     "output_type": "display_data"
    },
    {
     "data": {
      "application/vnd.jupyter.widget-view+json": {
       "model_id": "",
       "version_major": 2,
       "version_minor": 0
      },
      "text/plain": [
       "Rs...:   0%|          | 0/41 [00:00<?, ?it/s]"
      ]
     },
     "metadata": {},
     "output_type": "display_data"
    },
    {
     "data": {
      "application/vnd.jupyter.widget-view+json": {
       "model_id": "",
       "version_major": 2,
       "version_minor": 0
      },
      "text/plain": [
       "Rs...:   0%|          | 0/41 [00:00<?, ?it/s]"
      ]
     },
     "metadata": {},
     "output_type": "display_data"
    },
    {
     "data": {
      "application/vnd.jupyter.widget-view+json": {
       "model_id": "",
       "version_major": 2,
       "version_minor": 0
      },
      "text/plain": [
       "Rs...:   0%|          | 0/41 [00:00<?, ?it/s]"
      ]
     },
     "metadata": {},
     "output_type": "display_data"
    },
    {
     "data": {
      "application/vnd.jupyter.widget-view+json": {
       "model_id": "",
       "version_major": 2,
       "version_minor": 0
      },
      "text/plain": [
       "Rs...:   0%|          | 0/41 [00:00<?, ?it/s]"
      ]
     },
     "metadata": {},
     "output_type": "display_data"
    },
    {
     "data": {
      "application/vnd.jupyter.widget-view+json": {
       "model_id": "",
       "version_major": 2,
       "version_minor": 0
      },
      "text/plain": [
       "Rs...:   0%|          | 0/41 [00:00<?, ?it/s]"
      ]
     },
     "metadata": {},
     "output_type": "display_data"
    },
    {
     "data": {
      "application/vnd.jupyter.widget-view+json": {
       "model_id": "",
       "version_major": 2,
       "version_minor": 0
      },
      "text/plain": [
       "Rs...:   0%|          | 0/41 [00:00<?, ?it/s]"
      ]
     },
     "metadata": {},
     "output_type": "display_data"
    },
    {
     "data": {
      "application/vnd.jupyter.widget-view+json": {
       "model_id": "",
       "version_major": 2,
       "version_minor": 0
      },
      "text/plain": [
       "Rs...:   0%|          | 0/41 [00:00<?, ?it/s]"
      ]
     },
     "metadata": {},
     "output_type": "display_data"
    },
    {
     "data": {
      "application/vnd.jupyter.widget-view+json": {
       "model_id": "",
       "version_major": 2,
       "version_minor": 0
      },
      "text/plain": [
       "Rs...:   0%|          | 0/41 [00:00<?, ?it/s]"
      ]
     },
     "metadata": {},
     "output_type": "display_data"
    },
    {
     "data": {
      "application/vnd.jupyter.widget-view+json": {
       "model_id": "",
       "version_major": 2,
       "version_minor": 0
      },
      "text/plain": [
       "Rs...:   0%|          | 0/41 [00:00<?, ?it/s]"
      ]
     },
     "metadata": {},
     "output_type": "display_data"
    },
    {
     "data": {
      "application/vnd.jupyter.widget-view+json": {
       "model_id": "",
       "version_major": 2,
       "version_minor": 0
      },
      "text/plain": [
       "Rs...:   0%|          | 0/41 [00:00<?, ?it/s]"
      ]
     },
     "metadata": {},
     "output_type": "display_data"
    },
    {
     "data": {
      "application/vnd.jupyter.widget-view+json": {
       "model_id": "",
       "version_major": 2,
       "version_minor": 0
      },
      "text/plain": [
       "Energies...:   0%|          | 0/14 [00:00<?, ?it/s]"
      ]
     },
     "metadata": {},
     "output_type": "display_data"
    },
    {
     "data": {
      "application/vnd.jupyter.widget-view+json": {
       "model_id": "",
       "version_major": 2,
       "version_minor": 0
      },
      "text/plain": [
       "Rs...:   0%|          | 0/41 [00:00<?, ?it/s]"
      ]
     },
     "metadata": {},
     "output_type": "display_data"
    },
    {
     "data": {
      "application/vnd.jupyter.widget-view+json": {
       "model_id": "",
       "version_major": 2,
       "version_minor": 0
      },
      "text/plain": [
       "Rs...:   0%|          | 0/41 [00:00<?, ?it/s]"
      ]
     },
     "metadata": {},
     "output_type": "display_data"
    },
    {
     "data": {
      "application/vnd.jupyter.widget-view+json": {
       "model_id": "",
       "version_major": 2,
       "version_minor": 0
      },
      "text/plain": [
       "Rs...:   0%|          | 0/41 [00:00<?, ?it/s]"
      ]
     },
     "metadata": {},
     "output_type": "display_data"
    },
    {
     "data": {
      "application/vnd.jupyter.widget-view+json": {
       "model_id": "",
       "version_major": 2,
       "version_minor": 0
      },
      "text/plain": [
       "Rs...:   0%|          | 0/41 [00:00<?, ?it/s]"
      ]
     },
     "metadata": {},
     "output_type": "display_data"
    },
    {
     "data": {
      "application/vnd.jupyter.widget-view+json": {
       "model_id": "",
       "version_major": 2,
       "version_minor": 0
      },
      "text/plain": [
       "Rs...:   0%|          | 0/41 [00:00<?, ?it/s]"
      ]
     },
     "metadata": {},
     "output_type": "display_data"
    },
    {
     "data": {
      "application/vnd.jupyter.widget-view+json": {
       "model_id": "",
       "version_major": 2,
       "version_minor": 0
      },
      "text/plain": [
       "Rs...:   0%|          | 0/41 [00:00<?, ?it/s]"
      ]
     },
     "metadata": {},
     "output_type": "display_data"
    },
    {
     "data": {
      "application/vnd.jupyter.widget-view+json": {
       "model_id": "",
       "version_major": 2,
       "version_minor": 0
      },
      "text/plain": [
       "Rs...:   0%|          | 0/41 [00:00<?, ?it/s]"
      ]
     },
     "metadata": {},
     "output_type": "display_data"
    },
    {
     "data": {
      "application/vnd.jupyter.widget-view+json": {
       "model_id": "",
       "version_major": 2,
       "version_minor": 0
      },
      "text/plain": [
       "Rs...:   0%|          | 0/41 [00:00<?, ?it/s]"
      ]
     },
     "metadata": {},
     "output_type": "display_data"
    },
    {
     "data": {
      "application/vnd.jupyter.widget-view+json": {
       "model_id": "",
       "version_major": 2,
       "version_minor": 0
      },
      "text/plain": [
       "Rs...:   0%|          | 0/41 [00:00<?, ?it/s]"
      ]
     },
     "metadata": {},
     "output_type": "display_data"
    },
    {
     "data": {
      "application/vnd.jupyter.widget-view+json": {
       "model_id": "",
       "version_major": 2,
       "version_minor": 0
      },
      "text/plain": [
       "Rs...:   0%|          | 0/41 [00:00<?, ?it/s]"
      ]
     },
     "metadata": {},
     "output_type": "display_data"
    },
    {
     "data": {
      "application/vnd.jupyter.widget-view+json": {
       "model_id": "",
       "version_major": 2,
       "version_minor": 0
      },
      "text/plain": [
       "Rs...:   0%|          | 0/41 [00:00<?, ?it/s]"
      ]
     },
     "metadata": {},
     "output_type": "display_data"
    },
    {
     "data": {
      "application/vnd.jupyter.widget-view+json": {
       "model_id": "",
       "version_major": 2,
       "version_minor": 0
      },
      "text/plain": [
       "Rs...:   0%|          | 0/41 [00:00<?, ?it/s]"
      ]
     },
     "metadata": {},
     "output_type": "display_data"
    },
    {
     "data": {
      "application/vnd.jupyter.widget-view+json": {
       "model_id": "",
       "version_major": 2,
       "version_minor": 0
      },
      "text/plain": [
       "Rs...:   0%|          | 0/41 [00:00<?, ?it/s]"
      ]
     },
     "metadata": {},
     "output_type": "display_data"
    },
    {
     "data": {
      "application/vnd.jupyter.widget-view+json": {
       "model_id": "",
       "version_major": 2,
       "version_minor": 0
      },
      "text/plain": [
       "Rs...:   0%|          | 0/41 [00:00<?, ?it/s]"
      ]
     },
     "metadata": {},
     "output_type": "display_data"
    },
    {
     "name": "stdout",
     "output_type": "stream",
     "text": [
      "CPU times: user 12min 5s, sys: 1min 29s, total: 13min 34s\n",
      "Wall time: 8min 26s\n"
     ]
    }
   ],
   "source": [
    "%%time\n",
    "R_min = 12#16.4\n",
    "R_max = 17.2\n",
    "N_points = 41#161\n",
    "Rs = np.linspace(R_min, R_max, N_points)\n",
    "energies = [0, 0.1, 0.3, 0.6] + list(range(1, 11))\n",
    "\n",
    "y_true_all = []\n",
    "y_pred_all = []\n",
    "for j in tqdm(range(len(models)), \"Models...\", leave=False):\n",
    "    y_true_array = []\n",
    "    y_pred_array = []\n",
    "    if j == 0:\n",
    "        name = 'ProcessedTestIdeal'\n",
    "    elif j == 1:\n",
    "        name = 'ProcessedTestReal'\n",
    "    for energy in tqdm(energies, \"Energies...\", leave=False):\n",
    "        test = pd.read_csv('{}processed_data/{}/{}MeV.csv.gz'.format(path, name, energy))\n",
    "        edep = np.array(test['edep'])\n",
    "        X_test = test.iloc[:, :-5][opt_features]\n",
    "        if model_type=='xgb':\n",
    "            edep_preds = models[j].predict(X_test)\n",
    "        elif model_type=='nn':\n",
    "            X_test = scalers[j].transform(X_test)\n",
    "            edep_preds = models[j].predict(X_test).flatten()\n",
    "\n",
    "        y_true = []\n",
    "        y_pred = []\n",
    "        for k in tqdm(range(len(Rs)), \"Rs...\", leave=False): \n",
    "            y_true.append(edep[test['edepR'] < Rs[k]])\n",
    "            y_pred.append(edep_preds[test['edepR'] < Rs[k]])\n",
    "\n",
    "        y_true_array.append(y_true)\n",
    "        y_pred_array.append(y_pred)\n",
    "\n",
    "    y_true_all.append(y_true_array)\n",
    "    y_pred_all.append(y_pred_array)"
   ]
  },
  {
   "cell_type": "code",
   "execution_count": 167,
   "id": "d888d9bb",
   "metadata": {},
   "outputs": [],
   "source": [
    "diffs = np.array([\n",
    "    [[y_pred_all[k][j][i] - y_true_all[k][j][i] for i in range(len(y_pred_array[0]))]\n",
    "    for j in range(len(y_true_all[0]))]\n",
    "    for k in range(len(y_true_all))\n",
    "])"
   ]
  },
  {
   "cell_type": "code",
   "execution_count": 168,
   "id": "007cd0fe",
   "metadata": {},
   "outputs": [
    {
     "data": {
      "text/plain": [
       "array([ 1.022,  1.122,  1.322,  1.622,  2.022,  3.022,  4.022,  5.022,\n",
       "        6.022,  7.022,  8.022,  9.022, 10.022, 11.022])"
      ]
     },
     "execution_count": 168,
     "metadata": {},
     "output_type": "execute_result"
    }
   ],
   "source": [
    "energies = [0, 0.1, 0.3, 0.6] + list(range(1, 11))\n",
    "energies = np.array([1.022+i for i in energies]).round(5)\n",
    "energies"
   ]
  },
  {
   "cell_type": "code",
   "execution_count": 169,
   "id": "e045b925",
   "metadata": {},
   "outputs": [],
   "source": [
    "# [diffs[0][0][i].shape for i in range(len(Rs))]"
   ]
  },
  {
   "cell_type": "code",
   "execution_count": 170,
   "id": "8933a26a",
   "metadata": {},
   "outputs": [
    {
     "data": {
      "application/vnd.jupyter.widget-view+json": {
       "model_id": "d9ceaf7a4a4f400cb46fea6fee5a14f1",
       "version_major": 2,
       "version_minor": 0
      },
      "text/plain": [
       "  0%|          | 0/2 [00:00<?, ?it/s]"
      ]
     },
     "metadata": {},
     "output_type": "display_data"
    }
   ],
   "source": [
    "import matplotlib.pyplot as plt\n",
    "from scipy.optimize import curve_fit\n",
    "from scipy.stats import norm\n",
    "\n",
    "a_all = []\n",
    "errors_all = []\n",
    "for i in tqdm(range(diffs.shape[0])):\n",
    "    a_array = []\n",
    "    errors_array = []\n",
    "    for j in range(diffs.shape[1]):\n",
    "        a = []\n",
    "        e = []\n",
    "        for k in range(diffs.shape[2]):\n",
    "            fig, ax = plt.subplots()\n",
    "            nbins = 150\n",
    "            n, bins, patches = ax.hist(diffs[i][j][k], nbins, density=True, facecolor = 'grey', alpha = 0.5, label='before');\n",
    "            plt.close(fig)\n",
    "            centers = (0.5*(bins[1:]+bins[:-1]))\n",
    "            pars, cov = curve_fit(lambda x, mu, sig : norm.pdf(x, loc=mu, scale=sig), centers, n, p0=[0,1])  \n",
    "            a.append(pars)\n",
    "            e.append(cov)\n",
    "        a_array.append(a)\n",
    "        errors_array.append(e)\n",
    "    a_all.append(a_array)\n",
    "    errors_all.append(errors_array)"
   ]
  },
  {
   "cell_type": "code",
   "execution_count": 171,
   "id": "c88901fe",
   "metadata": {},
   "outputs": [],
   "source": [
    "# from scipy import stats\n",
    "# fig = go.Figure()\n",
    "\n",
    "# N = -1\n",
    "\n",
    "# for i in range(len(diffs[1])): \n",
    "#     x = np.linspace(diffs[1][i][N].min(), diffs[1][i][N].max(), 100)\n",
    "#     p = stats.norm.pdf(x, a_all[1][i][N][0], a_all[1][i][N][1])\n",
    "\n",
    "#     fig.add_trace(go.Scatter(x=x,\n",
    "#                  y=p, mode='lines', name='mu={:.3f} +- {:.3f}, sigma={:.3f} +- {:.3f}'.format(\n",
    "#                      a_all[1][i][N][0], np.sqrt(errors_all[1][i][N][0][0]),\n",
    "#                      a_all[1][i][N][1], np.sqrt(errors_all[1][i][N][1][1])),\n",
    "#                     visible = (i==0)\n",
    "#                 ))\n",
    "\n",
    "# for i in range(len(diffs[1])): \n",
    "#     fig.add_trace(go.Histogram(x=diffs[1][i][N], xbins=dict(size=0.005),\n",
    "#                   showlegend=False, histnorm='probability density',\n",
    "#                  visible = (i==0)\n",
    "#                 ))\n",
    "\n",
    "# buttons = []\n",
    "# for N in range(len(diffs[1])): \n",
    "#     buttons.append(\n",
    "#         dict(\n",
    "#              args=['visible', [False]*N + [True] + [False]*(len(diffs[1])-1-N)],\n",
    "#                  label='Energy =  {} MeV'.format(energies[N]),\n",
    "#              method='restyle'\n",
    "#         )\n",
    "#     )\n",
    "\n",
    "# fig.update_layout(\n",
    "\n",
    "#     xaxis = dict(\n",
    "#         showline=True,\n",
    "#         ticks='outside',\n",
    "#         mirror=True,\n",
    "#         linecolor='black',\n",
    "#         showgrid=True,\n",
    "#         gridcolor='grey',\n",
    "#         gridwidth=0.25,\n",
    "#     ),\n",
    "\n",
    "#     yaxis = dict(\n",
    "#         showline=True,\n",
    "#         ticks='outside',\n",
    "#         mirror=True,\n",
    "#         linecolor='black',\n",
    "#         tick0=0,\n",
    "# #             dtick=1,\n",
    "#         showgrid=True,\n",
    "#         gridcolor='grey',\n",
    "#         gridwidth=0.25,\n",
    "#         zeroline=True,\n",
    "#         zerolinecolor='black',\n",
    "#         zerolinewidth=0.25\n",
    "#         ),\n",
    "# )\n",
    "\n",
    "\n",
    "# fig.update_layout(\n",
    "#     xaxis_title=r\"$$E_{rec} - E_{true}$$\",\n",
    "# #         yaxis_title=\"y\",\n",
    "#     showlegend=True,\n",
    "#     updatemenus=list([\n",
    "#         dict(\n",
    "#             x=0.5,\n",
    "#             y=1.2,\n",
    "#             yanchor='top',\n",
    "#             buttons=buttons\n",
    "#         ),\n",
    "#     ]),\n",
    "#     legend=dict(\n",
    "#         orientation=\"h\",\n",
    "#         yanchor=\"bottom\",\n",
    "#         y=1.05,\n",
    "#         xanchor=\"right\",\n",
    "#         x=1\n",
    "#     )\n",
    "# )\n",
    "\n",
    "# fig.show()"
   ]
  },
  {
   "cell_type": "code",
   "execution_count": 172,
   "id": "ba338781",
   "metadata": {},
   "outputs": [],
   "source": [
    "error_sigma_all = []\n",
    "for ind in range(diffs.shape[0]):\n",
    "    error_sigma = []\n",
    "    for k in range(diffs.shape[2]):\n",
    "        error = [100 * np.sqrt(errors_all[ind][i][k][1][1]) / energies[i] for i in range(1, len(energies)-1)]\n",
    "        error_sigma.append(error)\n",
    "    error_sigma_all.append(error_sigma)\n",
    "\n",
    "error_mu_all = []\n",
    "for ind in range(diffs.shape[0]):\n",
    "    error_mu = []\n",
    "    for k in range(diffs.shape[2]):\n",
    "        error = [100 * np.sqrt(errors_all[ind][i][k][0][0]) / energies[i] for i in range(1, len(energies)-1)]\n",
    "        error_mu.append(error)\n",
    "    error_mu_all.append(error_mu)"
   ]
  },
  {
   "cell_type": "code",
   "execution_count": 173,
   "id": "cbd4fb13",
   "metadata": {},
   "outputs": [],
   "source": [
    "res_all = []\n",
    "bias_all = []\n",
    "for ind in range(diffs.shape[0]):\n",
    "    res = []\n",
    "    bias = []\n",
    "    for k in range(diffs.shape[2]):\n",
    "        sigma = [100 * a_all[ind][i][k][1] / energies[i] for i in range(1, len(energies)-1)]\n",
    "        mu = [100 * a_all[ind][i][k][0] / energies[i] for i in range(1, len(energies)-1)]\n",
    "        res.append(sigma)\n",
    "        bias.append(mu)\n",
    "        \n",
    "    res_all.append(res)\n",
    "    bias_all.append(bias)"
   ]
  },
  {
   "cell_type": "code",
   "execution_count": 174,
   "id": "35ca0006",
   "metadata": {},
   "outputs": [],
   "source": [
    "def a(x, a):\n",
    "    return np.sqrt((a/x**0.5)**2)\n",
    "\n",
    "\n",
    "def b(x, b):\n",
    "    b_list = []\n",
    "    b_list.append(np.sqrt(b**2))\n",
    "    return b_list*len(x)\n",
    "\n",
    "\n",
    "def c(x, c):\n",
    "    return np.sqrt((c/x)**2)\n",
    "\n",
    "\n",
    "def func(x, a, b, c):\n",
    "    return np.sqrt((a/x**0.5)**2 + b**2 + (c/x)**2) \n",
    "\n",
    "\n",
    "def approximated(x, y, yerr):\n",
    "    popt, pcov = curve_fit(func, x, y, sigma=yerr, maxfev=10**8, bounds=([0, 0, 0.25], [5, 5, 5]))\n",
    "    a, b, c = popt\n",
    "    return func(x, a, b, c), popt, pcov"
   ]
  },
  {
   "cell_type": "code",
   "execution_count": 175,
   "id": "065aef29",
   "metadata": {
    "scrolled": false
   },
   "outputs": [
    {
     "data": {
      "application/vnd.plotly.v1+json": {
       "config": {
        "plotlyServerURL": "https://plot.ly"
       },
       "data": [
        {
         "colorbar": {
          "len": 0.75,
          "lenmode": "fraction",
          "thickness": 20
         },
         "colorscale": [
          [
           0,
           "#000004"
          ],
          [
           0.1111111111111111,
           "#180f3d"
          ],
          [
           0.2222222222222222,
           "#440f76"
          ],
          [
           0.3333333333333333,
           "#721f81"
          ],
          [
           0.4444444444444444,
           "#9e2f7f"
          ],
          [
           0.5555555555555556,
           "#cd4071"
          ],
          [
           0.6666666666666666,
           "#f1605d"
          ],
          [
           0.7777777777777778,
           "#fd9668"
          ],
          [
           0.8888888888888888,
           "#feca8d"
          ],
          [
           1,
           "#fcfdbf"
          ]
         ],
         "contours": {
          "x": {
           "color": "black",
           "show": true,
           "width": 3
          },
          "y": {
           "color": "black",
           "show": true,
           "width": 3
          },
          "z": {
           "color": "black",
           "show": true,
           "width": 3
          }
         },
         "opacity": 0.8,
         "type": "surface",
         "x": [
          1.122,
          1.322,
          1.622,
          2.022,
          3.022,
          4.022,
          5.022,
          6.022,
          7.022,
          8.022,
          9.022,
          10.022
         ],
         "y": [
          12,
          12.13,
          12.26,
          12.39,
          12.52,
          12.65,
          12.78,
          12.91,
          13.04,
          13.17,
          13.3,
          13.43,
          13.559999999999999,
          13.69,
          13.82,
          13.95,
          14.08,
          14.209999999999999,
          14.34,
          14.469999999999999,
          14.6,
          14.73,
          14.86,
          14.989999999999998,
          15.12,
          15.25,
          15.379999999999999,
          15.51,
          15.639999999999999,
          15.77,
          15.899999999999999,
          16.03,
          16.16,
          16.29,
          16.419999999999998,
          16.549999999999997,
          16.68,
          16.81,
          16.939999999999998,
          17.07,
          17.2
         ],
         "z": [
          [
           2.745030972263219,
           2.3802868787732505,
           2.1388704317164153,
           1.8963994272468752,
           1.6055799859158897,
           1.4689642398087361,
           1.3340995594679488,
           1.2750883617121929,
           1.2171990326771613,
           1.159497361754434,
           1.0981928575552349,
           1.0750736246908965
          ],
          [
           2.7461625809015424,
           2.3864839009331145,
           2.1441353216206114,
           1.896285943264925,
           1.608522655573927,
           1.4681909873366459,
           1.334163750494281,
           1.2744193472535452,
           1.2160687655299114,
           1.1592221321725587,
           1.09876791775269,
           1.0744460864580483
          ],
          [
           2.7426299650416417,
           2.383168090066795,
           2.1420924908368577,
           1.8968832092212615,
           1.6081911839494298,
           1.4658345918607796,
           1.3347013311825993,
           1.2757594542382913,
           1.2182928777497162,
           1.159586412159127,
           1.098640347741919,
           1.0759372643004155
          ],
          [
           2.7400110321374678,
           2.381299048844017,
           2.1407800841878117,
           1.8967948832011725,
           1.6107020226888107,
           1.4676770305243665,
           1.3361816870702374,
           1.2778887793543963,
           1.2180638968407194,
           1.1572411205659465,
           1.0974709461298302,
           1.0758894498893976
          ],
          [
           2.7416838001569586,
           2.3806517270009913,
           2.140706241500134,
           1.894294753228497,
           1.6133217954688999,
           1.4649459525286184,
           1.3383575069514806,
           1.276680828862239,
           1.2167179044855314,
           1.1553575257330868,
           1.0985113222452252,
           1.0732680628694002
          ],
          [
           2.744732769297412,
           2.382576533302504,
           2.1399451490326578,
           1.89081429809018,
           1.6136874518493645,
           1.4635533973319115,
           1.3383845419467337,
           1.2783449001470155,
           1.2166073129208208,
           1.1573883498528499,
           1.0968259147632573,
           1.071634806290057
          ],
          [
           2.7426166911400203,
           2.383436065546649,
           2.1394755282540765,
           1.8914721844016897,
           1.6125200267583442,
           1.4634200602990621,
           1.341220920486231,
           1.27799184904053,
           1.2154020550381874,
           1.1568781563971395,
           1.0969764513788718,
           1.0736935052230414
          ],
          [
           2.741213818426847,
           2.385801091900523,
           2.138417023698922,
           1.89213019024712,
           1.614299932640078,
           1.4622182991963277,
           1.3435958836038464,
           1.2765724154564484,
           1.214345599385593,
           1.1571805757426734,
           1.095371950122449,
           1.0732242221260617
          ],
          [
           2.7390410863190056,
           2.3879254797934717,
           2.137237837291491,
           1.8923111562267338,
           1.615989570664691,
           1.462496034835372,
           1.3452851550901566,
           1.275449648171702,
           1.2147701787161524,
           1.1563944328901994,
           1.0962749326748802,
           1.0737827245078007
          ],
          [
           2.7358850832796406,
           2.3882456242336723,
           2.1335977862608018,
           1.8901597755639796,
           1.615197045119942,
           1.4639236032022978,
           1.3450036229540674,
           1.2737749261460212,
           1.2158613047320195,
           1.1574159504684125,
           1.0961423336834857,
           1.07406543245754
          ],
          [
           2.7311924304979547,
           2.3862377196427307,
           2.1314737952149385,
           1.8904011104517509,
           1.6164584803592514,
           1.463244821205397,
           1.3465362223741353,
           1.2723062442992255,
           1.2151340429053092,
           1.1578791611779915,
           1.096811426917892,
           1.0733867260608443
          ],
          [
           2.7275015457513807,
           2.3868211587762773,
           2.1298906544257052,
           1.888881716517118,
           1.6161614884861413,
           1.4628232661430525,
           1.3465226088726006,
           1.2716514559361036,
           1.2151849030152193,
           1.1599842717023456,
           1.0976665344712517,
           1.073493368716217
          ],
          [
           2.726912334714764,
           2.383514129579511,
           2.1272473579207243,
           1.88751184922277,
           1.6176362905029134,
           1.4659868409897263,
           1.348808146010817,
           1.2713214372661372,
           1.2148941323373166,
           1.1603367050576752,
           1.098603285365362,
           1.0756206896663572
          ],
          [
           2.7264122258939323,
           2.3818809604723366,
           2.128675966037619,
           1.8875988475210224,
           1.6186658415253503,
           1.4659177826321226,
           1.3493589135655042,
           1.2716711324189678,
           1.2152841619831627,
           1.1606905208391265,
           1.0989210404568122,
           1.0752799465048686
          ],
          [
           2.723491980703857,
           2.381093674189379,
           2.1282489606993398,
           1.8850897316564348,
           1.6192049133939759,
           1.4663885186940293,
           1.3500249469431456,
           1.2729342064329532,
           1.2138913171543888,
           1.1601639805590251,
           1.0990633399801195,
           1.0753180532931887
          ],
          [
           2.7228260069929835,
           2.3798331541136473,
           2.1277326275107855,
           1.8859074969255307,
           1.6184258156910603,
           1.4678862732603821,
           1.3512305056970624,
           1.2752100650387943,
           1.214065314993089,
           1.1594135322320789,
           1.0995385434186085,
           1.0754807114769622
          ],
          [
           2.723668791984563,
           2.3776891844326045,
           2.1273432951936213,
           1.8842954578044584,
           1.6185469788679117,
           1.469846641180599,
           1.3523540708799209,
           1.2759527473240833,
           1.213237127157785,
           1.1598411037092686,
           1.0994202151329333,
           1.0760746131805574
          ],
          [
           2.7230513827841345,
           2.3785335116618262,
           2.1268913524691566,
           1.8842298774213562,
           1.620092393816678,
           1.47135912490806,
           1.3523342796750935,
           1.2759279486825033,
           1.213071538356163,
           1.159783481061773,
           1.0990691519061482,
           1.074751591838899
          ],
          [
           2.720864506602384,
           2.3785655769217224,
           2.124082650680687,
           1.8810658001008196,
           1.6201577592024143,
           1.471089132902497,
           1.350785822638806,
           1.2767776202860104,
           1.2123750388972485,
           1.1604695682130222,
           1.1007953632597234,
           1.0753619015813733
          ],
          [
           2.7232789561272903,
           2.3776799980522907,
           2.1251107986108035,
           1.8781153137846232,
           1.619104824779012,
           1.4725320319082311,
           1.3503605326194048,
           1.2766709646259429,
           1.212892064947716,
           1.1618381174979815,
           1.1009259849530346,
           1.0758394548130745
          ],
          [
           2.724990884269206,
           2.3792676006649773,
           2.125360425975823,
           1.8758539381663646,
           1.6179314427759348,
           1.4737230586578944,
           1.3510969005623361,
           1.2769475219283806,
           1.2132955532235945,
           1.1623212982893336,
           1.1018866705154398,
           1.0759102761922774
          ],
          [
           2.726087841053109,
           2.3813839716598855,
           2.1234900832420562,
           1.87727249745671,
           1.6174287594462333,
           1.4750584701954725,
           1.3506828743465042,
           1.2783309793994297,
           1.2140651005080338,
           1.1616062095133857,
           1.1012541376611995,
           1.0752432588817844
          ],
          [
           2.7263689014185,
           2.382198013482214,
           2.1213748507043477,
           1.877484166329925,
           1.6164458422511407,
           1.4770981154141016,
           1.3513778768547757,
           1.2803847125854626,
           1.2138628658083586,
           1.1609203976490656,
           1.1016757006310727,
           1.075572219780383
          ],
          [
           2.72575781355119,
           2.3817759946003214,
           2.1213742685353423,
           1.8772975091465984,
           1.6159209039811053,
           1.4776068048849929,
           1.3522101173981773,
           1.2807526416277073,
           1.2137371551625227,
           1.16264051638492,
           1.100462247221779,
           1.0750528916872681
          ],
          [
           2.7270624518718884,
           2.3807974433585692,
           2.1219748347440293,
           1.8763188532965838,
           1.6173134105062945,
           1.478337221279357,
           1.3515223562577294,
           1.2810822670650819,
           1.214013408598396,
           1.1631165038719138,
           1.1006194992056084,
           1.0753555200814862
          ],
          [
           2.729297391001893,
           2.379890882903706,
           2.119737877695976,
           1.8748034561241336,
           1.6159878787185618,
           1.478977308591213,
           1.351206500063638,
           1.281396639289922,
           1.2147469860663336,
           1.1622724010750782,
           1.1012468921069984,
           1.0755467906089853
          ],
          [
           2.7311706922120775,
           2.3793334290489967,
           2.120137619344905,
           1.8777387771216119,
           1.6176952439157062,
           1.4793249077981112,
           1.3536946926170792,
           1.2815796126413534,
           1.215434828030976,
           1.1628205682735784,
           1.1020425195407726,
           1.075046911467714
          ],
          [
           2.729117035220894,
           2.3785941861919695,
           2.119139033601579,
           1.8769302328009942,
           1.6183208151036432,
           1.479906373603599,
           1.3585753603775657,
           1.283312097548384,
           1.2152941425014563,
           1.1623430418193954,
           1.1028325118104298,
           1.074747915702789
          ],
          [
           2.732566549952917,
           2.3777818570991704,
           2.1190683736411895,
           1.8774317003026983,
           1.6192459697899422,
           1.479986696684487,
           1.361164796277079,
           1.2829075116546835,
           1.2156848767804287,
           1.161773792478538,
           1.1038156126941392,
           1.0754676813446582
          ],
          [
           2.735446705417344,
           2.3762758335303356,
           2.1185674205606833,
           1.878697366965545,
           1.6196727581737735,
           1.4803914936833578,
           1.3630999726721635,
           1.2840565678902727,
           1.2143767541005477,
           1.1634952540409103,
           1.1042713083727052,
           1.0751713157733274
          ],
          [
           2.7391168206791567,
           2.380043253122313,
           2.119408249858743,
           1.8784243572426238,
           1.6207628462329724,
           1.4807813624394304,
           1.3662368857468608,
           1.2838336381358022,
           1.2138605219272232,
           1.1642234486388585,
           1.1055900998714563,
           1.0753733651263526
          ],
          [
           2.7452666042701908,
           2.3837247434422246,
           2.123097129332599,
           1.8829285232735677,
           1.6208278236761204,
           1.482594516611494,
           1.368920387607079,
           1.2850601442121896,
           1.2143973617672825,
           1.1638175274152738,
           1.1072209534288915,
           1.0764596067517218
          ],
          [
           2.7516762899386102,
           2.3879705765301273,
           2.12497711970625,
           1.8851973044435382,
           1.6231968959055518,
           1.4834887273147888,
           1.3713587010038644,
           1.2865735823137223,
           1.2154392800799412,
           1.1643835972338692,
           1.1085865457706952,
           1.077657876930195
          ],
          [
           2.756152208441398,
           2.392793480506181,
           2.130293869582582,
           1.890209926587761,
           1.6243976780760263,
           1.4855354296412366,
           1.3730344213812309,
           1.2886151279353846,
           1.215598986175002,
           1.16553977912533,
           1.1098017123539443,
           1.0794326202992999
          ],
          [
           2.7631521705691684,
           2.3987808943293665,
           2.134368029623374,
           1.8936679442822009,
           1.6265385620623434,
           1.4883914891157881,
           1.3745710745352298,
           1.2902567565538299,
           1.216131410926775,
           1.1673684998722436,
           1.1123025169402596,
           1.0797766426344455
          ],
          [
           2.7704798849592716,
           2.4036006366343234,
           2.1401789113890133,
           1.8977884661897664,
           1.6290364459273696,
           1.4905556383109997,
           1.3754685170017067,
           1.2918300098859021,
           1.2181249736138704,
           1.1694966798476008,
           1.113851972835205,
           1.0806805824348047
          ],
          [
           2.7756589744897253,
           2.409667171630216,
           2.144309969934414,
           1.9024448971845613,
           1.6316321274425658,
           1.493496990945902,
           1.3778723779328417,
           1.2922105715901624,
           1.218838528890783,
           1.170970555666794,
           1.1154885774041041,
           1.0831389533079772
          ],
          [
           2.7816652037557152,
           2.414117980815089,
           2.149420077346317,
           1.907157710405132,
           1.6346703756703236,
           1.4956893479865532,
           1.3815144255626797,
           1.2941104543425717,
           1.2204597288170833,
           1.1724316198498799,
           1.1170211856282681,
           1.084451299942406
          ],
          [
           2.785861399900961,
           2.4204322637503246,
           2.1555637206271925,
           1.9106678973176776,
           1.6378487159225674,
           1.4987332117694896,
           1.3852533755480496,
           1.2961790269686952,
           1.2230134742728962,
           1.1746308246793105,
           1.1194581670384134,
           1.0868430143982653
          ],
          [
           2.7924352951825875,
           2.4266118531044327,
           2.161064891388356,
           1.9158930350492576,
           1.642151381537002,
           1.5020451877435659,
           1.3878629508976523,
           1.2986397941179286,
           1.2254427711767317,
           1.1771432095348,
           1.1217418071080845,
           1.0890929894747043
          ],
          [
           2.7995945826400694,
           2.4340347604789927,
           2.1669214578218647,
           1.922066018020856,
           1.6480743783857905,
           1.5066837947930831,
           1.3921811732687184,
           1.3020194419830287,
           1.2298888093601552,
           1.180974150396172,
           1.1251146643755372,
           1.093165889365209
          ]
         ]
        },
        {
         "marker": {
          "color": "black",
          "size": 2,
          "symbol": "square"
         },
         "mode": "markers",
         "opacity": 0.75,
         "showlegend": false,
         "type": "scatter3d",
         "x": [
          1.122,
          1.322,
          1.622,
          2.022,
          3.022,
          4.022,
          5.022,
          6.022,
          7.022,
          8.022,
          9.022,
          10.022
         ],
         "y": [
          12,
          12,
          12,
          12,
          12,
          12,
          12,
          12,
          12,
          12,
          12,
          12
         ],
         "z": [
          2.745030972263219,
          2.3802868787732505,
          2.1388704317164153,
          1.8963994272468752,
          1.6055799859158897,
          1.4689642398087361,
          1.3340995594679488,
          1.2750883617121929,
          1.2171990326771613,
          1.159497361754434,
          1.0981928575552349,
          1.0750736246908965
         ]
        },
        {
         "marker": {
          "color": "black",
          "size": 2,
          "symbol": "square"
         },
         "mode": "markers",
         "opacity": 0.75,
         "showlegend": false,
         "type": "scatter3d",
         "x": [
          1.122,
          1.322,
          1.622,
          2.022,
          3.022,
          4.022,
          5.022,
          6.022,
          7.022,
          8.022,
          9.022,
          10.022
         ],
         "y": [
          12.13,
          12.13,
          12.13,
          12.13,
          12.13,
          12.13,
          12.13,
          12.13,
          12.13,
          12.13,
          12.13,
          12.13
         ],
         "z": [
          2.7461625809015424,
          2.3864839009331145,
          2.1441353216206114,
          1.896285943264925,
          1.608522655573927,
          1.4681909873366459,
          1.334163750494281,
          1.2744193472535452,
          1.2160687655299114,
          1.1592221321725587,
          1.09876791775269,
          1.0744460864580483
         ]
        },
        {
         "marker": {
          "color": "black",
          "size": 2,
          "symbol": "square"
         },
         "mode": "markers",
         "opacity": 0.75,
         "showlegend": false,
         "type": "scatter3d",
         "x": [
          1.122,
          1.322,
          1.622,
          2.022,
          3.022,
          4.022,
          5.022,
          6.022,
          7.022,
          8.022,
          9.022,
          10.022
         ],
         "y": [
          12.26,
          12.26,
          12.26,
          12.26,
          12.26,
          12.26,
          12.26,
          12.26,
          12.26,
          12.26,
          12.26,
          12.26
         ],
         "z": [
          2.7426299650416417,
          2.383168090066795,
          2.1420924908368577,
          1.8968832092212615,
          1.6081911839494298,
          1.4658345918607796,
          1.3347013311825993,
          1.2757594542382913,
          1.2182928777497162,
          1.159586412159127,
          1.098640347741919,
          1.0759372643004155
         ]
        },
        {
         "marker": {
          "color": "black",
          "size": 2,
          "symbol": "square"
         },
         "mode": "markers",
         "opacity": 0.75,
         "showlegend": false,
         "type": "scatter3d",
         "x": [
          1.122,
          1.322,
          1.622,
          2.022,
          3.022,
          4.022,
          5.022,
          6.022,
          7.022,
          8.022,
          9.022,
          10.022
         ],
         "y": [
          12.39,
          12.39,
          12.39,
          12.39,
          12.39,
          12.39,
          12.39,
          12.39,
          12.39,
          12.39,
          12.39,
          12.39
         ],
         "z": [
          2.7400110321374678,
          2.381299048844017,
          2.1407800841878117,
          1.8967948832011725,
          1.6107020226888107,
          1.4676770305243665,
          1.3361816870702374,
          1.2778887793543963,
          1.2180638968407194,
          1.1572411205659465,
          1.0974709461298302,
          1.0758894498893976
         ]
        },
        {
         "marker": {
          "color": "black",
          "size": 2,
          "symbol": "square"
         },
         "mode": "markers",
         "opacity": 0.75,
         "showlegend": false,
         "type": "scatter3d",
         "x": [
          1.122,
          1.322,
          1.622,
          2.022,
          3.022,
          4.022,
          5.022,
          6.022,
          7.022,
          8.022,
          9.022,
          10.022
         ],
         "y": [
          12.52,
          12.52,
          12.52,
          12.52,
          12.52,
          12.52,
          12.52,
          12.52,
          12.52,
          12.52,
          12.52,
          12.52
         ],
         "z": [
          2.7416838001569586,
          2.3806517270009913,
          2.140706241500134,
          1.894294753228497,
          1.6133217954688999,
          1.4649459525286184,
          1.3383575069514806,
          1.276680828862239,
          1.2167179044855314,
          1.1553575257330868,
          1.0985113222452252,
          1.0732680628694002
         ]
        },
        {
         "marker": {
          "color": "black",
          "size": 2,
          "symbol": "square"
         },
         "mode": "markers",
         "opacity": 0.75,
         "showlegend": false,
         "type": "scatter3d",
         "x": [
          1.122,
          1.322,
          1.622,
          2.022,
          3.022,
          4.022,
          5.022,
          6.022,
          7.022,
          8.022,
          9.022,
          10.022
         ],
         "y": [
          12.65,
          12.65,
          12.65,
          12.65,
          12.65,
          12.65,
          12.65,
          12.65,
          12.65,
          12.65,
          12.65,
          12.65
         ],
         "z": [
          2.744732769297412,
          2.382576533302504,
          2.1399451490326578,
          1.89081429809018,
          1.6136874518493645,
          1.4635533973319115,
          1.3383845419467337,
          1.2783449001470155,
          1.2166073129208208,
          1.1573883498528499,
          1.0968259147632573,
          1.071634806290057
         ]
        },
        {
         "marker": {
          "color": "black",
          "size": 2,
          "symbol": "square"
         },
         "mode": "markers",
         "opacity": 0.75,
         "showlegend": false,
         "type": "scatter3d",
         "x": [
          1.122,
          1.322,
          1.622,
          2.022,
          3.022,
          4.022,
          5.022,
          6.022,
          7.022,
          8.022,
          9.022,
          10.022
         ],
         "y": [
          12.78,
          12.78,
          12.78,
          12.78,
          12.78,
          12.78,
          12.78,
          12.78,
          12.78,
          12.78,
          12.78,
          12.78
         ],
         "z": [
          2.7426166911400203,
          2.383436065546649,
          2.1394755282540765,
          1.8914721844016897,
          1.6125200267583442,
          1.4634200602990621,
          1.341220920486231,
          1.27799184904053,
          1.2154020550381874,
          1.1568781563971395,
          1.0969764513788718,
          1.0736935052230414
         ]
        },
        {
         "marker": {
          "color": "black",
          "size": 2,
          "symbol": "square"
         },
         "mode": "markers",
         "opacity": 0.75,
         "showlegend": false,
         "type": "scatter3d",
         "x": [
          1.122,
          1.322,
          1.622,
          2.022,
          3.022,
          4.022,
          5.022,
          6.022,
          7.022,
          8.022,
          9.022,
          10.022
         ],
         "y": [
          12.91,
          12.91,
          12.91,
          12.91,
          12.91,
          12.91,
          12.91,
          12.91,
          12.91,
          12.91,
          12.91,
          12.91
         ],
         "z": [
          2.741213818426847,
          2.385801091900523,
          2.138417023698922,
          1.89213019024712,
          1.614299932640078,
          1.4622182991963277,
          1.3435958836038464,
          1.2765724154564484,
          1.214345599385593,
          1.1571805757426734,
          1.095371950122449,
          1.0732242221260617
         ]
        },
        {
         "marker": {
          "color": "black",
          "size": 2,
          "symbol": "square"
         },
         "mode": "markers",
         "opacity": 0.75,
         "showlegend": false,
         "type": "scatter3d",
         "x": [
          1.122,
          1.322,
          1.622,
          2.022,
          3.022,
          4.022,
          5.022,
          6.022,
          7.022,
          8.022,
          9.022,
          10.022
         ],
         "y": [
          13.04,
          13.04,
          13.04,
          13.04,
          13.04,
          13.04,
          13.04,
          13.04,
          13.04,
          13.04,
          13.04,
          13.04
         ],
         "z": [
          2.7390410863190056,
          2.3879254797934717,
          2.137237837291491,
          1.8923111562267338,
          1.615989570664691,
          1.462496034835372,
          1.3452851550901566,
          1.275449648171702,
          1.2147701787161524,
          1.1563944328901994,
          1.0962749326748802,
          1.0737827245078007
         ]
        },
        {
         "marker": {
          "color": "black",
          "size": 2,
          "symbol": "square"
         },
         "mode": "markers",
         "opacity": 0.75,
         "showlegend": false,
         "type": "scatter3d",
         "x": [
          1.122,
          1.322,
          1.622,
          2.022,
          3.022,
          4.022,
          5.022,
          6.022,
          7.022,
          8.022,
          9.022,
          10.022
         ],
         "y": [
          13.17,
          13.17,
          13.17,
          13.17,
          13.17,
          13.17,
          13.17,
          13.17,
          13.17,
          13.17,
          13.17,
          13.17
         ],
         "z": [
          2.7358850832796406,
          2.3882456242336723,
          2.1335977862608018,
          1.8901597755639796,
          1.615197045119942,
          1.4639236032022978,
          1.3450036229540674,
          1.2737749261460212,
          1.2158613047320195,
          1.1574159504684125,
          1.0961423336834857,
          1.07406543245754
         ]
        },
        {
         "marker": {
          "color": "black",
          "size": 2,
          "symbol": "square"
         },
         "mode": "markers",
         "opacity": 0.75,
         "showlegend": false,
         "type": "scatter3d",
         "x": [
          1.122,
          1.322,
          1.622,
          2.022,
          3.022,
          4.022,
          5.022,
          6.022,
          7.022,
          8.022,
          9.022,
          10.022
         ],
         "y": [
          13.3,
          13.3,
          13.3,
          13.3,
          13.3,
          13.3,
          13.3,
          13.3,
          13.3,
          13.3,
          13.3,
          13.3
         ],
         "z": [
          2.7311924304979547,
          2.3862377196427307,
          2.1314737952149385,
          1.8904011104517509,
          1.6164584803592514,
          1.463244821205397,
          1.3465362223741353,
          1.2723062442992255,
          1.2151340429053092,
          1.1578791611779915,
          1.096811426917892,
          1.0733867260608443
         ]
        },
        {
         "marker": {
          "color": "black",
          "size": 2,
          "symbol": "square"
         },
         "mode": "markers",
         "opacity": 0.75,
         "showlegend": false,
         "type": "scatter3d",
         "x": [
          1.122,
          1.322,
          1.622,
          2.022,
          3.022,
          4.022,
          5.022,
          6.022,
          7.022,
          8.022,
          9.022,
          10.022
         ],
         "y": [
          13.43,
          13.43,
          13.43,
          13.43,
          13.43,
          13.43,
          13.43,
          13.43,
          13.43,
          13.43,
          13.43,
          13.43
         ],
         "z": [
          2.7275015457513807,
          2.3868211587762773,
          2.1298906544257052,
          1.888881716517118,
          1.6161614884861413,
          1.4628232661430525,
          1.3465226088726006,
          1.2716514559361036,
          1.2151849030152193,
          1.1599842717023456,
          1.0976665344712517,
          1.073493368716217
         ]
        },
        {
         "marker": {
          "color": "black",
          "size": 2,
          "symbol": "square"
         },
         "mode": "markers",
         "opacity": 0.75,
         "showlegend": false,
         "type": "scatter3d",
         "x": [
          1.122,
          1.322,
          1.622,
          2.022,
          3.022,
          4.022,
          5.022,
          6.022,
          7.022,
          8.022,
          9.022,
          10.022
         ],
         "y": [
          13.559999999999999,
          13.559999999999999,
          13.559999999999999,
          13.559999999999999,
          13.559999999999999,
          13.559999999999999,
          13.559999999999999,
          13.559999999999999,
          13.559999999999999,
          13.559999999999999,
          13.559999999999999,
          13.559999999999999
         ],
         "z": [
          2.726912334714764,
          2.383514129579511,
          2.1272473579207243,
          1.88751184922277,
          1.6176362905029134,
          1.4659868409897263,
          1.348808146010817,
          1.2713214372661372,
          1.2148941323373166,
          1.1603367050576752,
          1.098603285365362,
          1.0756206896663572
         ]
        },
        {
         "marker": {
          "color": "black",
          "size": 2,
          "symbol": "square"
         },
         "mode": "markers",
         "opacity": 0.75,
         "showlegend": false,
         "type": "scatter3d",
         "x": [
          1.122,
          1.322,
          1.622,
          2.022,
          3.022,
          4.022,
          5.022,
          6.022,
          7.022,
          8.022,
          9.022,
          10.022
         ],
         "y": [
          13.69,
          13.69,
          13.69,
          13.69,
          13.69,
          13.69,
          13.69,
          13.69,
          13.69,
          13.69,
          13.69,
          13.69
         ],
         "z": [
          2.7264122258939323,
          2.3818809604723366,
          2.128675966037619,
          1.8875988475210224,
          1.6186658415253503,
          1.4659177826321226,
          1.3493589135655042,
          1.2716711324189678,
          1.2152841619831627,
          1.1606905208391265,
          1.0989210404568122,
          1.0752799465048686
         ]
        },
        {
         "marker": {
          "color": "black",
          "size": 2,
          "symbol": "square"
         },
         "mode": "markers",
         "opacity": 0.75,
         "showlegend": false,
         "type": "scatter3d",
         "x": [
          1.122,
          1.322,
          1.622,
          2.022,
          3.022,
          4.022,
          5.022,
          6.022,
          7.022,
          8.022,
          9.022,
          10.022
         ],
         "y": [
          13.82,
          13.82,
          13.82,
          13.82,
          13.82,
          13.82,
          13.82,
          13.82,
          13.82,
          13.82,
          13.82,
          13.82
         ],
         "z": [
          2.723491980703857,
          2.381093674189379,
          2.1282489606993398,
          1.8850897316564348,
          1.6192049133939759,
          1.4663885186940293,
          1.3500249469431456,
          1.2729342064329532,
          1.2138913171543888,
          1.1601639805590251,
          1.0990633399801195,
          1.0753180532931887
         ]
        },
        {
         "marker": {
          "color": "black",
          "size": 2,
          "symbol": "square"
         },
         "mode": "markers",
         "opacity": 0.75,
         "showlegend": false,
         "type": "scatter3d",
         "x": [
          1.122,
          1.322,
          1.622,
          2.022,
          3.022,
          4.022,
          5.022,
          6.022,
          7.022,
          8.022,
          9.022,
          10.022
         ],
         "y": [
          13.95,
          13.95,
          13.95,
          13.95,
          13.95,
          13.95,
          13.95,
          13.95,
          13.95,
          13.95,
          13.95,
          13.95
         ],
         "z": [
          2.7228260069929835,
          2.3798331541136473,
          2.1277326275107855,
          1.8859074969255307,
          1.6184258156910603,
          1.4678862732603821,
          1.3512305056970624,
          1.2752100650387943,
          1.214065314993089,
          1.1594135322320789,
          1.0995385434186085,
          1.0754807114769622
         ]
        },
        {
         "marker": {
          "color": "black",
          "size": 2,
          "symbol": "square"
         },
         "mode": "markers",
         "opacity": 0.75,
         "showlegend": false,
         "type": "scatter3d",
         "x": [
          1.122,
          1.322,
          1.622,
          2.022,
          3.022,
          4.022,
          5.022,
          6.022,
          7.022,
          8.022,
          9.022,
          10.022
         ],
         "y": [
          14.08,
          14.08,
          14.08,
          14.08,
          14.08,
          14.08,
          14.08,
          14.08,
          14.08,
          14.08,
          14.08,
          14.08
         ],
         "z": [
          2.723668791984563,
          2.3776891844326045,
          2.1273432951936213,
          1.8842954578044584,
          1.6185469788679117,
          1.469846641180599,
          1.3523540708799209,
          1.2759527473240833,
          1.213237127157785,
          1.1598411037092686,
          1.0994202151329333,
          1.0760746131805574
         ]
        },
        {
         "marker": {
          "color": "black",
          "size": 2,
          "symbol": "square"
         },
         "mode": "markers",
         "opacity": 0.75,
         "showlegend": false,
         "type": "scatter3d",
         "x": [
          1.122,
          1.322,
          1.622,
          2.022,
          3.022,
          4.022,
          5.022,
          6.022,
          7.022,
          8.022,
          9.022,
          10.022
         ],
         "y": [
          14.209999999999999,
          14.209999999999999,
          14.209999999999999,
          14.209999999999999,
          14.209999999999999,
          14.209999999999999,
          14.209999999999999,
          14.209999999999999,
          14.209999999999999,
          14.209999999999999,
          14.209999999999999,
          14.209999999999999
         ],
         "z": [
          2.7230513827841345,
          2.3785335116618262,
          2.1268913524691566,
          1.8842298774213562,
          1.620092393816678,
          1.47135912490806,
          1.3523342796750935,
          1.2759279486825033,
          1.213071538356163,
          1.159783481061773,
          1.0990691519061482,
          1.074751591838899
         ]
        },
        {
         "marker": {
          "color": "black",
          "size": 2,
          "symbol": "square"
         },
         "mode": "markers",
         "opacity": 0.75,
         "showlegend": false,
         "type": "scatter3d",
         "x": [
          1.122,
          1.322,
          1.622,
          2.022,
          3.022,
          4.022,
          5.022,
          6.022,
          7.022,
          8.022,
          9.022,
          10.022
         ],
         "y": [
          14.34,
          14.34,
          14.34,
          14.34,
          14.34,
          14.34,
          14.34,
          14.34,
          14.34,
          14.34,
          14.34,
          14.34
         ],
         "z": [
          2.720864506602384,
          2.3785655769217224,
          2.124082650680687,
          1.8810658001008196,
          1.6201577592024143,
          1.471089132902497,
          1.350785822638806,
          1.2767776202860104,
          1.2123750388972485,
          1.1604695682130222,
          1.1007953632597234,
          1.0753619015813733
         ]
        },
        {
         "marker": {
          "color": "black",
          "size": 2,
          "symbol": "square"
         },
         "mode": "markers",
         "opacity": 0.75,
         "showlegend": false,
         "type": "scatter3d",
         "x": [
          1.122,
          1.322,
          1.622,
          2.022,
          3.022,
          4.022,
          5.022,
          6.022,
          7.022,
          8.022,
          9.022,
          10.022
         ],
         "y": [
          14.469999999999999,
          14.469999999999999,
          14.469999999999999,
          14.469999999999999,
          14.469999999999999,
          14.469999999999999,
          14.469999999999999,
          14.469999999999999,
          14.469999999999999,
          14.469999999999999,
          14.469999999999999,
          14.469999999999999
         ],
         "z": [
          2.7232789561272903,
          2.3776799980522907,
          2.1251107986108035,
          1.8781153137846232,
          1.619104824779012,
          1.4725320319082311,
          1.3503605326194048,
          1.2766709646259429,
          1.212892064947716,
          1.1618381174979815,
          1.1009259849530346,
          1.0758394548130745
         ]
        },
        {
         "marker": {
          "color": "black",
          "size": 2,
          "symbol": "square"
         },
         "mode": "markers",
         "opacity": 0.75,
         "showlegend": false,
         "type": "scatter3d",
         "x": [
          1.122,
          1.322,
          1.622,
          2.022,
          3.022,
          4.022,
          5.022,
          6.022,
          7.022,
          8.022,
          9.022,
          10.022
         ],
         "y": [
          14.6,
          14.6,
          14.6,
          14.6,
          14.6,
          14.6,
          14.6,
          14.6,
          14.6,
          14.6,
          14.6,
          14.6
         ],
         "z": [
          2.724990884269206,
          2.3792676006649773,
          2.125360425975823,
          1.8758539381663646,
          1.6179314427759348,
          1.4737230586578944,
          1.3510969005623361,
          1.2769475219283806,
          1.2132955532235945,
          1.1623212982893336,
          1.1018866705154398,
          1.0759102761922774
         ]
        },
        {
         "marker": {
          "color": "black",
          "size": 2,
          "symbol": "square"
         },
         "mode": "markers",
         "opacity": 0.75,
         "showlegend": false,
         "type": "scatter3d",
         "x": [
          1.122,
          1.322,
          1.622,
          2.022,
          3.022,
          4.022,
          5.022,
          6.022,
          7.022,
          8.022,
          9.022,
          10.022
         ],
         "y": [
          14.73,
          14.73,
          14.73,
          14.73,
          14.73,
          14.73,
          14.73,
          14.73,
          14.73,
          14.73,
          14.73,
          14.73
         ],
         "z": [
          2.726087841053109,
          2.3813839716598855,
          2.1234900832420562,
          1.87727249745671,
          1.6174287594462333,
          1.4750584701954725,
          1.3506828743465042,
          1.2783309793994297,
          1.2140651005080338,
          1.1616062095133857,
          1.1012541376611995,
          1.0752432588817844
         ]
        },
        {
         "marker": {
          "color": "black",
          "size": 2,
          "symbol": "square"
         },
         "mode": "markers",
         "opacity": 0.75,
         "showlegend": false,
         "type": "scatter3d",
         "x": [
          1.122,
          1.322,
          1.622,
          2.022,
          3.022,
          4.022,
          5.022,
          6.022,
          7.022,
          8.022,
          9.022,
          10.022
         ],
         "y": [
          14.86,
          14.86,
          14.86,
          14.86,
          14.86,
          14.86,
          14.86,
          14.86,
          14.86,
          14.86,
          14.86,
          14.86
         ],
         "z": [
          2.7263689014185,
          2.382198013482214,
          2.1213748507043477,
          1.877484166329925,
          1.6164458422511407,
          1.4770981154141016,
          1.3513778768547757,
          1.2803847125854626,
          1.2138628658083586,
          1.1609203976490656,
          1.1016757006310727,
          1.075572219780383
         ]
        },
        {
         "marker": {
          "color": "black",
          "size": 2,
          "symbol": "square"
         },
         "mode": "markers",
         "opacity": 0.75,
         "showlegend": false,
         "type": "scatter3d",
         "x": [
          1.122,
          1.322,
          1.622,
          2.022,
          3.022,
          4.022,
          5.022,
          6.022,
          7.022,
          8.022,
          9.022,
          10.022
         ],
         "y": [
          14.989999999999998,
          14.989999999999998,
          14.989999999999998,
          14.989999999999998,
          14.989999999999998,
          14.989999999999998,
          14.989999999999998,
          14.989999999999998,
          14.989999999999998,
          14.989999999999998,
          14.989999999999998,
          14.989999999999998
         ],
         "z": [
          2.72575781355119,
          2.3817759946003214,
          2.1213742685353423,
          1.8772975091465984,
          1.6159209039811053,
          1.4776068048849929,
          1.3522101173981773,
          1.2807526416277073,
          1.2137371551625227,
          1.16264051638492,
          1.100462247221779,
          1.0750528916872681
         ]
        },
        {
         "marker": {
          "color": "black",
          "size": 2,
          "symbol": "square"
         },
         "mode": "markers",
         "opacity": 0.75,
         "showlegend": false,
         "type": "scatter3d",
         "x": [
          1.122,
          1.322,
          1.622,
          2.022,
          3.022,
          4.022,
          5.022,
          6.022,
          7.022,
          8.022,
          9.022,
          10.022
         ],
         "y": [
          15.12,
          15.12,
          15.12,
          15.12,
          15.12,
          15.12,
          15.12,
          15.12,
          15.12,
          15.12,
          15.12,
          15.12
         ],
         "z": [
          2.7270624518718884,
          2.3807974433585692,
          2.1219748347440293,
          1.8763188532965838,
          1.6173134105062945,
          1.478337221279357,
          1.3515223562577294,
          1.2810822670650819,
          1.214013408598396,
          1.1631165038719138,
          1.1006194992056084,
          1.0753555200814862
         ]
        },
        {
         "marker": {
          "color": "black",
          "size": 2,
          "symbol": "square"
         },
         "mode": "markers",
         "opacity": 0.75,
         "showlegend": false,
         "type": "scatter3d",
         "x": [
          1.122,
          1.322,
          1.622,
          2.022,
          3.022,
          4.022,
          5.022,
          6.022,
          7.022,
          8.022,
          9.022,
          10.022
         ],
         "y": [
          15.25,
          15.25,
          15.25,
          15.25,
          15.25,
          15.25,
          15.25,
          15.25,
          15.25,
          15.25,
          15.25,
          15.25
         ],
         "z": [
          2.729297391001893,
          2.379890882903706,
          2.119737877695976,
          1.8748034561241336,
          1.6159878787185618,
          1.478977308591213,
          1.351206500063638,
          1.281396639289922,
          1.2147469860663336,
          1.1622724010750782,
          1.1012468921069984,
          1.0755467906089853
         ]
        },
        {
         "marker": {
          "color": "black",
          "size": 2,
          "symbol": "square"
         },
         "mode": "markers",
         "opacity": 0.75,
         "showlegend": false,
         "type": "scatter3d",
         "x": [
          1.122,
          1.322,
          1.622,
          2.022,
          3.022,
          4.022,
          5.022,
          6.022,
          7.022,
          8.022,
          9.022,
          10.022
         ],
         "y": [
          15.379999999999999,
          15.379999999999999,
          15.379999999999999,
          15.379999999999999,
          15.379999999999999,
          15.379999999999999,
          15.379999999999999,
          15.379999999999999,
          15.379999999999999,
          15.379999999999999,
          15.379999999999999,
          15.379999999999999
         ],
         "z": [
          2.7311706922120775,
          2.3793334290489967,
          2.120137619344905,
          1.8777387771216119,
          1.6176952439157062,
          1.4793249077981112,
          1.3536946926170792,
          1.2815796126413534,
          1.215434828030976,
          1.1628205682735784,
          1.1020425195407726,
          1.075046911467714
         ]
        },
        {
         "marker": {
          "color": "black",
          "size": 2,
          "symbol": "square"
         },
         "mode": "markers",
         "opacity": 0.75,
         "showlegend": false,
         "type": "scatter3d",
         "x": [
          1.122,
          1.322,
          1.622,
          2.022,
          3.022,
          4.022,
          5.022,
          6.022,
          7.022,
          8.022,
          9.022,
          10.022
         ],
         "y": [
          15.51,
          15.51,
          15.51,
          15.51,
          15.51,
          15.51,
          15.51,
          15.51,
          15.51,
          15.51,
          15.51,
          15.51
         ],
         "z": [
          2.729117035220894,
          2.3785941861919695,
          2.119139033601579,
          1.8769302328009942,
          1.6183208151036432,
          1.479906373603599,
          1.3585753603775657,
          1.283312097548384,
          1.2152941425014563,
          1.1623430418193954,
          1.1028325118104298,
          1.074747915702789
         ]
        },
        {
         "marker": {
          "color": "black",
          "size": 2,
          "symbol": "square"
         },
         "mode": "markers",
         "opacity": 0.75,
         "showlegend": false,
         "type": "scatter3d",
         "x": [
          1.122,
          1.322,
          1.622,
          2.022,
          3.022,
          4.022,
          5.022,
          6.022,
          7.022,
          8.022,
          9.022,
          10.022
         ],
         "y": [
          15.639999999999999,
          15.639999999999999,
          15.639999999999999,
          15.639999999999999,
          15.639999999999999,
          15.639999999999999,
          15.639999999999999,
          15.639999999999999,
          15.639999999999999,
          15.639999999999999,
          15.639999999999999,
          15.639999999999999
         ],
         "z": [
          2.732566549952917,
          2.3777818570991704,
          2.1190683736411895,
          1.8774317003026983,
          1.6192459697899422,
          1.479986696684487,
          1.361164796277079,
          1.2829075116546835,
          1.2156848767804287,
          1.161773792478538,
          1.1038156126941392,
          1.0754676813446582
         ]
        },
        {
         "marker": {
          "color": "black",
          "size": 2,
          "symbol": "square"
         },
         "mode": "markers",
         "opacity": 0.75,
         "showlegend": false,
         "type": "scatter3d",
         "x": [
          1.122,
          1.322,
          1.622,
          2.022,
          3.022,
          4.022,
          5.022,
          6.022,
          7.022,
          8.022,
          9.022,
          10.022
         ],
         "y": [
          15.77,
          15.77,
          15.77,
          15.77,
          15.77,
          15.77,
          15.77,
          15.77,
          15.77,
          15.77,
          15.77,
          15.77
         ],
         "z": [
          2.735446705417344,
          2.3762758335303356,
          2.1185674205606833,
          1.878697366965545,
          1.6196727581737735,
          1.4803914936833578,
          1.3630999726721635,
          1.2840565678902727,
          1.2143767541005477,
          1.1634952540409103,
          1.1042713083727052,
          1.0751713157733274
         ]
        },
        {
         "marker": {
          "color": "black",
          "size": 2,
          "symbol": "square"
         },
         "mode": "markers",
         "opacity": 0.75,
         "showlegend": false,
         "type": "scatter3d",
         "x": [
          1.122,
          1.322,
          1.622,
          2.022,
          3.022,
          4.022,
          5.022,
          6.022,
          7.022,
          8.022,
          9.022,
          10.022
         ],
         "y": [
          15.899999999999999,
          15.899999999999999,
          15.899999999999999,
          15.899999999999999,
          15.899999999999999,
          15.899999999999999,
          15.899999999999999,
          15.899999999999999,
          15.899999999999999,
          15.899999999999999,
          15.899999999999999,
          15.899999999999999
         ],
         "z": [
          2.7391168206791567,
          2.380043253122313,
          2.119408249858743,
          1.8784243572426238,
          1.6207628462329724,
          1.4807813624394304,
          1.3662368857468608,
          1.2838336381358022,
          1.2138605219272232,
          1.1642234486388585,
          1.1055900998714563,
          1.0753733651263526
         ]
        },
        {
         "marker": {
          "color": "black",
          "size": 2,
          "symbol": "square"
         },
         "mode": "markers",
         "opacity": 0.75,
         "showlegend": false,
         "type": "scatter3d",
         "x": [
          1.122,
          1.322,
          1.622,
          2.022,
          3.022,
          4.022,
          5.022,
          6.022,
          7.022,
          8.022,
          9.022,
          10.022
         ],
         "y": [
          16.03,
          16.03,
          16.03,
          16.03,
          16.03,
          16.03,
          16.03,
          16.03,
          16.03,
          16.03,
          16.03,
          16.03
         ],
         "z": [
          2.7452666042701908,
          2.3837247434422246,
          2.123097129332599,
          1.8829285232735677,
          1.6208278236761204,
          1.482594516611494,
          1.368920387607079,
          1.2850601442121896,
          1.2143973617672825,
          1.1638175274152738,
          1.1072209534288915,
          1.0764596067517218
         ]
        },
        {
         "marker": {
          "color": "black",
          "size": 2,
          "symbol": "square"
         },
         "mode": "markers",
         "opacity": 0.75,
         "showlegend": false,
         "type": "scatter3d",
         "x": [
          1.122,
          1.322,
          1.622,
          2.022,
          3.022,
          4.022,
          5.022,
          6.022,
          7.022,
          8.022,
          9.022,
          10.022
         ],
         "y": [
          16.16,
          16.16,
          16.16,
          16.16,
          16.16,
          16.16,
          16.16,
          16.16,
          16.16,
          16.16,
          16.16,
          16.16
         ],
         "z": [
          2.7516762899386102,
          2.3879705765301273,
          2.12497711970625,
          1.8851973044435382,
          1.6231968959055518,
          1.4834887273147888,
          1.3713587010038644,
          1.2865735823137223,
          1.2154392800799412,
          1.1643835972338692,
          1.1085865457706952,
          1.077657876930195
         ]
        },
        {
         "marker": {
          "color": "black",
          "size": 2,
          "symbol": "square"
         },
         "mode": "markers",
         "opacity": 0.75,
         "showlegend": false,
         "type": "scatter3d",
         "x": [
          1.122,
          1.322,
          1.622,
          2.022,
          3.022,
          4.022,
          5.022,
          6.022,
          7.022,
          8.022,
          9.022,
          10.022
         ],
         "y": [
          16.29,
          16.29,
          16.29,
          16.29,
          16.29,
          16.29,
          16.29,
          16.29,
          16.29,
          16.29,
          16.29,
          16.29
         ],
         "z": [
          2.756152208441398,
          2.392793480506181,
          2.130293869582582,
          1.890209926587761,
          1.6243976780760263,
          1.4855354296412366,
          1.3730344213812309,
          1.2886151279353846,
          1.215598986175002,
          1.16553977912533,
          1.1098017123539443,
          1.0794326202992999
         ]
        },
        {
         "marker": {
          "color": "black",
          "size": 2,
          "symbol": "square"
         },
         "mode": "markers",
         "opacity": 0.75,
         "showlegend": false,
         "type": "scatter3d",
         "x": [
          1.122,
          1.322,
          1.622,
          2.022,
          3.022,
          4.022,
          5.022,
          6.022,
          7.022,
          8.022,
          9.022,
          10.022
         ],
         "y": [
          16.419999999999998,
          16.419999999999998,
          16.419999999999998,
          16.419999999999998,
          16.419999999999998,
          16.419999999999998,
          16.419999999999998,
          16.419999999999998,
          16.419999999999998,
          16.419999999999998,
          16.419999999999998,
          16.419999999999998
         ],
         "z": [
          2.7631521705691684,
          2.3987808943293665,
          2.134368029623374,
          1.8936679442822009,
          1.6265385620623434,
          1.4883914891157881,
          1.3745710745352298,
          1.2902567565538299,
          1.216131410926775,
          1.1673684998722436,
          1.1123025169402596,
          1.0797766426344455
         ]
        },
        {
         "marker": {
          "color": "black",
          "size": 2,
          "symbol": "square"
         },
         "mode": "markers",
         "opacity": 0.75,
         "showlegend": false,
         "type": "scatter3d",
         "x": [
          1.122,
          1.322,
          1.622,
          2.022,
          3.022,
          4.022,
          5.022,
          6.022,
          7.022,
          8.022,
          9.022,
          10.022
         ],
         "y": [
          16.549999999999997,
          16.549999999999997,
          16.549999999999997,
          16.549999999999997,
          16.549999999999997,
          16.549999999999997,
          16.549999999999997,
          16.549999999999997,
          16.549999999999997,
          16.549999999999997,
          16.549999999999997,
          16.549999999999997
         ],
         "z": [
          2.7704798849592716,
          2.4036006366343234,
          2.1401789113890133,
          1.8977884661897664,
          1.6290364459273696,
          1.4905556383109997,
          1.3754685170017067,
          1.2918300098859021,
          1.2181249736138704,
          1.1694966798476008,
          1.113851972835205,
          1.0806805824348047
         ]
        },
        {
         "marker": {
          "color": "black",
          "size": 2,
          "symbol": "square"
         },
         "mode": "markers",
         "opacity": 0.75,
         "showlegend": false,
         "type": "scatter3d",
         "x": [
          1.122,
          1.322,
          1.622,
          2.022,
          3.022,
          4.022,
          5.022,
          6.022,
          7.022,
          8.022,
          9.022,
          10.022
         ],
         "y": [
          16.68,
          16.68,
          16.68,
          16.68,
          16.68,
          16.68,
          16.68,
          16.68,
          16.68,
          16.68,
          16.68,
          16.68
         ],
         "z": [
          2.7756589744897253,
          2.409667171630216,
          2.144309969934414,
          1.9024448971845613,
          1.6316321274425658,
          1.493496990945902,
          1.3778723779328417,
          1.2922105715901624,
          1.218838528890783,
          1.170970555666794,
          1.1154885774041041,
          1.0831389533079772
         ]
        },
        {
         "marker": {
          "color": "black",
          "size": 2,
          "symbol": "square"
         },
         "mode": "markers",
         "opacity": 0.75,
         "showlegend": false,
         "type": "scatter3d",
         "x": [
          1.122,
          1.322,
          1.622,
          2.022,
          3.022,
          4.022,
          5.022,
          6.022,
          7.022,
          8.022,
          9.022,
          10.022
         ],
         "y": [
          16.81,
          16.81,
          16.81,
          16.81,
          16.81,
          16.81,
          16.81,
          16.81,
          16.81,
          16.81,
          16.81,
          16.81
         ],
         "z": [
          2.7816652037557152,
          2.414117980815089,
          2.149420077346317,
          1.907157710405132,
          1.6346703756703236,
          1.4956893479865532,
          1.3815144255626797,
          1.2941104543425717,
          1.2204597288170833,
          1.1724316198498799,
          1.1170211856282681,
          1.084451299942406
         ]
        },
        {
         "marker": {
          "color": "black",
          "size": 2,
          "symbol": "square"
         },
         "mode": "markers",
         "opacity": 0.75,
         "showlegend": false,
         "type": "scatter3d",
         "x": [
          1.122,
          1.322,
          1.622,
          2.022,
          3.022,
          4.022,
          5.022,
          6.022,
          7.022,
          8.022,
          9.022,
          10.022
         ],
         "y": [
          16.939999999999998,
          16.939999999999998,
          16.939999999999998,
          16.939999999999998,
          16.939999999999998,
          16.939999999999998,
          16.939999999999998,
          16.939999999999998,
          16.939999999999998,
          16.939999999999998,
          16.939999999999998,
          16.939999999999998
         ],
         "z": [
          2.785861399900961,
          2.4204322637503246,
          2.1555637206271925,
          1.9106678973176776,
          1.6378487159225674,
          1.4987332117694896,
          1.3852533755480496,
          1.2961790269686952,
          1.2230134742728962,
          1.1746308246793105,
          1.1194581670384134,
          1.0868430143982653
         ]
        },
        {
         "marker": {
          "color": "black",
          "size": 2,
          "symbol": "square"
         },
         "mode": "markers",
         "opacity": 0.75,
         "showlegend": false,
         "type": "scatter3d",
         "x": [
          1.122,
          1.322,
          1.622,
          2.022,
          3.022,
          4.022,
          5.022,
          6.022,
          7.022,
          8.022,
          9.022,
          10.022
         ],
         "y": [
          17.07,
          17.07,
          17.07,
          17.07,
          17.07,
          17.07,
          17.07,
          17.07,
          17.07,
          17.07,
          17.07,
          17.07
         ],
         "z": [
          2.7924352951825875,
          2.4266118531044327,
          2.161064891388356,
          1.9158930350492576,
          1.642151381537002,
          1.5020451877435659,
          1.3878629508976523,
          1.2986397941179286,
          1.2254427711767317,
          1.1771432095348,
          1.1217418071080845,
          1.0890929894747043
         ]
        },
        {
         "marker": {
          "color": "black",
          "size": 2,
          "symbol": "square"
         },
         "mode": "markers",
         "opacity": 0.75,
         "showlegend": false,
         "type": "scatter3d",
         "x": [
          1.122,
          1.322,
          1.622,
          2.022,
          3.022,
          4.022,
          5.022,
          6.022,
          7.022,
          8.022,
          9.022,
          10.022
         ],
         "y": [
          17.2,
          17.2,
          17.2,
          17.2,
          17.2,
          17.2,
          17.2,
          17.2,
          17.2,
          17.2,
          17.2,
          17.2
         ],
         "z": [
          2.7995945826400694,
          2.4340347604789927,
          2.1669214578218647,
          1.922066018020856,
          1.6480743783857905,
          1.5066837947930831,
          1.3921811732687184,
          1.3020194419830287,
          1.2298888093601552,
          1.180974150396172,
          1.1251146643755372,
          1.093165889365209
         ]
        }
       ],
       "layout": {
        "autosize": true,
        "font": {
         "family": "Times New Roman",
         "size": 16
        },
        "height": 800,
        "scene": {
         "camera": {
          "eye": {
           "x": 2,
           "y": -1.5,
           "z": 0.5
          }
         },
         "xaxis": {
          "dtick": 1,
          "gridcolor": "black",
          "gridwidth": 0.5,
          "linecolor": "black",
          "mirror": true,
          "showgrid": true,
          "showline": true,
          "tick0": 1,
          "ticks": "outside",
          "title": {
           "text": "Deposited energy, MeV"
          },
          "zeroline": true,
          "zerolinecolor": "black",
          "zerolinewidth": 0.5
         },
         "yaxis": {
          "dtick": 0.5,
          "gridcolor": "black",
          "gridwidth": 0.5,
          "linecolor": "black",
          "mirror": true,
          "showgrid": true,
          "showline": true,
          "tick0": 14,
          "ticks": "outside",
          "title": {
           "text": "R, m"
          },
          "zeroline": true,
          "zerolinecolor": "black",
          "zerolinewidth": 0.5
         },
         "zaxis": {
          "dtick": 0.25,
          "gridcolor": "black",
          "gridwidth": 0.5,
          "linecolor": "black",
          "mirror": true,
          "showgrid": true,
          "showline": true,
          "tick0": 1,
          "ticks": "outside",
          "title": {
           "text": "Resolution, %"
          },
          "zeroline": true,
          "zerolinecolor": "black",
          "zerolinewidth": 0.5
         }
        },
        "template": {
         "data": {
          "bar": [
           {
            "error_x": {
             "color": "#2a3f5f"
            },
            "error_y": {
             "color": "#2a3f5f"
            },
            "marker": {
             "line": {
              "color": "white",
              "width": 0.5
             },
             "pattern": {
              "fillmode": "overlay",
              "size": 10,
              "solidity": 0.2
             }
            },
            "type": "bar"
           }
          ],
          "barpolar": [
           {
            "marker": {
             "line": {
              "color": "white",
              "width": 0.5
             },
             "pattern": {
              "fillmode": "overlay",
              "size": 10,
              "solidity": 0.2
             }
            },
            "type": "barpolar"
           }
          ],
          "carpet": [
           {
            "aaxis": {
             "endlinecolor": "#2a3f5f",
             "gridcolor": "#C8D4E3",
             "linecolor": "#C8D4E3",
             "minorgridcolor": "#C8D4E3",
             "startlinecolor": "#2a3f5f"
            },
            "baxis": {
             "endlinecolor": "#2a3f5f",
             "gridcolor": "#C8D4E3",
             "linecolor": "#C8D4E3",
             "minorgridcolor": "#C8D4E3",
             "startlinecolor": "#2a3f5f"
            },
            "type": "carpet"
           }
          ],
          "choropleth": [
           {
            "colorbar": {
             "outlinewidth": 0,
             "ticks": ""
            },
            "type": "choropleth"
           }
          ],
          "contour": [
           {
            "colorbar": {
             "outlinewidth": 0,
             "ticks": ""
            },
            "colorscale": [
             [
              0,
              "#0d0887"
             ],
             [
              0.1111111111111111,
              "#46039f"
             ],
             [
              0.2222222222222222,
              "#7201a8"
             ],
             [
              0.3333333333333333,
              "#9c179e"
             ],
             [
              0.4444444444444444,
              "#bd3786"
             ],
             [
              0.5555555555555556,
              "#d8576b"
             ],
             [
              0.6666666666666666,
              "#ed7953"
             ],
             [
              0.7777777777777778,
              "#fb9f3a"
             ],
             [
              0.8888888888888888,
              "#fdca26"
             ],
             [
              1,
              "#f0f921"
             ]
            ],
            "type": "contour"
           }
          ],
          "contourcarpet": [
           {
            "colorbar": {
             "outlinewidth": 0,
             "ticks": ""
            },
            "type": "contourcarpet"
           }
          ],
          "heatmap": [
           {
            "colorbar": {
             "outlinewidth": 0,
             "ticks": ""
            },
            "colorscale": [
             [
              0,
              "#0d0887"
             ],
             [
              0.1111111111111111,
              "#46039f"
             ],
             [
              0.2222222222222222,
              "#7201a8"
             ],
             [
              0.3333333333333333,
              "#9c179e"
             ],
             [
              0.4444444444444444,
              "#bd3786"
             ],
             [
              0.5555555555555556,
              "#d8576b"
             ],
             [
              0.6666666666666666,
              "#ed7953"
             ],
             [
              0.7777777777777778,
              "#fb9f3a"
             ],
             [
              0.8888888888888888,
              "#fdca26"
             ],
             [
              1,
              "#f0f921"
             ]
            ],
            "type": "heatmap"
           }
          ],
          "heatmapgl": [
           {
            "colorbar": {
             "outlinewidth": 0,
             "ticks": ""
            },
            "colorscale": [
             [
              0,
              "#0d0887"
             ],
             [
              0.1111111111111111,
              "#46039f"
             ],
             [
              0.2222222222222222,
              "#7201a8"
             ],
             [
              0.3333333333333333,
              "#9c179e"
             ],
             [
              0.4444444444444444,
              "#bd3786"
             ],
             [
              0.5555555555555556,
              "#d8576b"
             ],
             [
              0.6666666666666666,
              "#ed7953"
             ],
             [
              0.7777777777777778,
              "#fb9f3a"
             ],
             [
              0.8888888888888888,
              "#fdca26"
             ],
             [
              1,
              "#f0f921"
             ]
            ],
            "type": "heatmapgl"
           }
          ],
          "histogram": [
           {
            "marker": {
             "pattern": {
              "fillmode": "overlay",
              "size": 10,
              "solidity": 0.2
             }
            },
            "type": "histogram"
           }
          ],
          "histogram2d": [
           {
            "colorbar": {
             "outlinewidth": 0,
             "ticks": ""
            },
            "colorscale": [
             [
              0,
              "#0d0887"
             ],
             [
              0.1111111111111111,
              "#46039f"
             ],
             [
              0.2222222222222222,
              "#7201a8"
             ],
             [
              0.3333333333333333,
              "#9c179e"
             ],
             [
              0.4444444444444444,
              "#bd3786"
             ],
             [
              0.5555555555555556,
              "#d8576b"
             ],
             [
              0.6666666666666666,
              "#ed7953"
             ],
             [
              0.7777777777777778,
              "#fb9f3a"
             ],
             [
              0.8888888888888888,
              "#fdca26"
             ],
             [
              1,
              "#f0f921"
             ]
            ],
            "type": "histogram2d"
           }
          ],
          "histogram2dcontour": [
           {
            "colorbar": {
             "outlinewidth": 0,
             "ticks": ""
            },
            "colorscale": [
             [
              0,
              "#0d0887"
             ],
             [
              0.1111111111111111,
              "#46039f"
             ],
             [
              0.2222222222222222,
              "#7201a8"
             ],
             [
              0.3333333333333333,
              "#9c179e"
             ],
             [
              0.4444444444444444,
              "#bd3786"
             ],
             [
              0.5555555555555556,
              "#d8576b"
             ],
             [
              0.6666666666666666,
              "#ed7953"
             ],
             [
              0.7777777777777778,
              "#fb9f3a"
             ],
             [
              0.8888888888888888,
              "#fdca26"
             ],
             [
              1,
              "#f0f921"
             ]
            ],
            "type": "histogram2dcontour"
           }
          ],
          "mesh3d": [
           {
            "colorbar": {
             "outlinewidth": 0,
             "ticks": ""
            },
            "type": "mesh3d"
           }
          ],
          "parcoords": [
           {
            "line": {
             "colorbar": {
              "outlinewidth": 0,
              "ticks": ""
             }
            },
            "type": "parcoords"
           }
          ],
          "pie": [
           {
            "automargin": true,
            "type": "pie"
           }
          ],
          "scatter": [
           {
            "marker": {
             "colorbar": {
              "outlinewidth": 0,
              "ticks": ""
             }
            },
            "type": "scatter"
           }
          ],
          "scatter3d": [
           {
            "line": {
             "colorbar": {
              "outlinewidth": 0,
              "ticks": ""
             }
            },
            "marker": {
             "colorbar": {
              "outlinewidth": 0,
              "ticks": ""
             }
            },
            "type": "scatter3d"
           }
          ],
          "scattercarpet": [
           {
            "marker": {
             "colorbar": {
              "outlinewidth": 0,
              "ticks": ""
             }
            },
            "type": "scattercarpet"
           }
          ],
          "scattergeo": [
           {
            "marker": {
             "colorbar": {
              "outlinewidth": 0,
              "ticks": ""
             }
            },
            "type": "scattergeo"
           }
          ],
          "scattergl": [
           {
            "marker": {
             "colorbar": {
              "outlinewidth": 0,
              "ticks": ""
             }
            },
            "type": "scattergl"
           }
          ],
          "scattermapbox": [
           {
            "marker": {
             "colorbar": {
              "outlinewidth": 0,
              "ticks": ""
             }
            },
            "type": "scattermapbox"
           }
          ],
          "scatterpolar": [
           {
            "marker": {
             "colorbar": {
              "outlinewidth": 0,
              "ticks": ""
             }
            },
            "type": "scatterpolar"
           }
          ],
          "scatterpolargl": [
           {
            "marker": {
             "colorbar": {
              "outlinewidth": 0,
              "ticks": ""
             }
            },
            "type": "scatterpolargl"
           }
          ],
          "scatterternary": [
           {
            "marker": {
             "colorbar": {
              "outlinewidth": 0,
              "ticks": ""
             }
            },
            "type": "scatterternary"
           }
          ],
          "surface": [
           {
            "colorbar": {
             "outlinewidth": 0,
             "ticks": ""
            },
            "colorscale": [
             [
              0,
              "#0d0887"
             ],
             [
              0.1111111111111111,
              "#46039f"
             ],
             [
              0.2222222222222222,
              "#7201a8"
             ],
             [
              0.3333333333333333,
              "#9c179e"
             ],
             [
              0.4444444444444444,
              "#bd3786"
             ],
             [
              0.5555555555555556,
              "#d8576b"
             ],
             [
              0.6666666666666666,
              "#ed7953"
             ],
             [
              0.7777777777777778,
              "#fb9f3a"
             ],
             [
              0.8888888888888888,
              "#fdca26"
             ],
             [
              1,
              "#f0f921"
             ]
            ],
            "type": "surface"
           }
          ],
          "table": [
           {
            "cells": {
             "fill": {
              "color": "#EBF0F8"
             },
             "line": {
              "color": "white"
             }
            },
            "header": {
             "fill": {
              "color": "#C8D4E3"
             },
             "line": {
              "color": "white"
             }
            },
            "type": "table"
           }
          ]
         },
         "layout": {
          "annotationdefaults": {
           "arrowcolor": "#2a3f5f",
           "arrowhead": 0,
           "arrowwidth": 1
          },
          "autotypenumbers": "strict",
          "coloraxis": {
           "colorbar": {
            "outlinewidth": 0,
            "ticks": ""
           }
          },
          "colorscale": {
           "diverging": [
            [
             0,
             "#8e0152"
            ],
            [
             0.1,
             "#c51b7d"
            ],
            [
             0.2,
             "#de77ae"
            ],
            [
             0.3,
             "#f1b6da"
            ],
            [
             0.4,
             "#fde0ef"
            ],
            [
             0.5,
             "#f7f7f7"
            ],
            [
             0.6,
             "#e6f5d0"
            ],
            [
             0.7,
             "#b8e186"
            ],
            [
             0.8,
             "#7fbc41"
            ],
            [
             0.9,
             "#4d9221"
            ],
            [
             1,
             "#276419"
            ]
           ],
           "sequential": [
            [
             0,
             "#0d0887"
            ],
            [
             0.1111111111111111,
             "#46039f"
            ],
            [
             0.2222222222222222,
             "#7201a8"
            ],
            [
             0.3333333333333333,
             "#9c179e"
            ],
            [
             0.4444444444444444,
             "#bd3786"
            ],
            [
             0.5555555555555556,
             "#d8576b"
            ],
            [
             0.6666666666666666,
             "#ed7953"
            ],
            [
             0.7777777777777778,
             "#fb9f3a"
            ],
            [
             0.8888888888888888,
             "#fdca26"
            ],
            [
             1,
             "#f0f921"
            ]
           ],
           "sequentialminus": [
            [
             0,
             "#0d0887"
            ],
            [
             0.1111111111111111,
             "#46039f"
            ],
            [
             0.2222222222222222,
             "#7201a8"
            ],
            [
             0.3333333333333333,
             "#9c179e"
            ],
            [
             0.4444444444444444,
             "#bd3786"
            ],
            [
             0.5555555555555556,
             "#d8576b"
            ],
            [
             0.6666666666666666,
             "#ed7953"
            ],
            [
             0.7777777777777778,
             "#fb9f3a"
            ],
            [
             0.8888888888888888,
             "#fdca26"
            ],
            [
             1,
             "#f0f921"
            ]
           ]
          },
          "colorway": [
           "#636efa",
           "#EF553B",
           "#00cc96",
           "#ab63fa",
           "#FFA15A",
           "#19d3f3",
           "#FF6692",
           "#B6E880",
           "#FF97FF",
           "#FECB52"
          ],
          "font": {
           "color": "#2a3f5f"
          },
          "geo": {
           "bgcolor": "white",
           "lakecolor": "white",
           "landcolor": "white",
           "showlakes": true,
           "showland": true,
           "subunitcolor": "#C8D4E3"
          },
          "hoverlabel": {
           "align": "left"
          },
          "hovermode": "closest",
          "mapbox": {
           "style": "light"
          },
          "paper_bgcolor": "white",
          "plot_bgcolor": "white",
          "polar": {
           "angularaxis": {
            "gridcolor": "#EBF0F8",
            "linecolor": "#EBF0F8",
            "ticks": ""
           },
           "bgcolor": "white",
           "radialaxis": {
            "gridcolor": "#EBF0F8",
            "linecolor": "#EBF0F8",
            "ticks": ""
           }
          },
          "scene": {
           "xaxis": {
            "backgroundcolor": "white",
            "gridcolor": "#DFE8F3",
            "gridwidth": 2,
            "linecolor": "#EBF0F8",
            "showbackground": true,
            "ticks": "",
            "zerolinecolor": "#EBF0F8"
           },
           "yaxis": {
            "backgroundcolor": "white",
            "gridcolor": "#DFE8F3",
            "gridwidth": 2,
            "linecolor": "#EBF0F8",
            "showbackground": true,
            "ticks": "",
            "zerolinecolor": "#EBF0F8"
           },
           "zaxis": {
            "backgroundcolor": "white",
            "gridcolor": "#DFE8F3",
            "gridwidth": 2,
            "linecolor": "#EBF0F8",
            "showbackground": true,
            "ticks": "",
            "zerolinecolor": "#EBF0F8"
           }
          },
          "shapedefaults": {
           "line": {
            "color": "#2a3f5f"
           }
          },
          "ternary": {
           "aaxis": {
            "gridcolor": "#DFE8F3",
            "linecolor": "#A2B1C6",
            "ticks": ""
           },
           "baxis": {
            "gridcolor": "#DFE8F3",
            "linecolor": "#A2B1C6",
            "ticks": ""
           },
           "bgcolor": "white",
           "caxis": {
            "gridcolor": "#DFE8F3",
            "linecolor": "#A2B1C6",
            "ticks": ""
           }
          },
          "title": {
           "x": 0.05
          },
          "xaxis": {
           "automargin": true,
           "gridcolor": "#EBF0F8",
           "linecolor": "#EBF0F8",
           "ticks": "",
           "title": {
            "standoff": 15
           },
           "zerolinecolor": "#EBF0F8",
           "zerolinewidth": 2
          },
          "yaxis": {
           "automargin": true,
           "gridcolor": "#EBF0F8",
           "linecolor": "#EBF0F8",
           "ticks": "",
           "title": {
            "standoff": 15
           },
           "zerolinecolor": "#EBF0F8",
           "zerolinewidth": 2
          }
         }
        },
        "width": 800
       }
      },
      "text/html": [
       "<div>                            <div id=\"410393b4-7f22-42b5-a62f-41b6989d22b0\" class=\"plotly-graph-div\" style=\"height:800px; width:800px;\"></div>            <script type=\"text/javascript\">                require([\"plotly\"], function(Plotly) {                    window.PLOTLYENV=window.PLOTLYENV || {};                                    if (document.getElementById(\"410393b4-7f22-42b5-a62f-41b6989d22b0\")) {                    Plotly.newPlot(                        \"410393b4-7f22-42b5-a62f-41b6989d22b0\",                        [{\"colorbar\":{\"len\":0.75,\"lenmode\":\"fraction\",\"thickness\":20},\"colorscale\":[[0.0,\"#000004\"],[0.1111111111111111,\"#180f3d\"],[0.2222222222222222,\"#440f76\"],[0.3333333333333333,\"#721f81\"],[0.4444444444444444,\"#9e2f7f\"],[0.5555555555555556,\"#cd4071\"],[0.6666666666666666,\"#f1605d\"],[0.7777777777777778,\"#fd9668\"],[0.8888888888888888,\"#feca8d\"],[1.0,\"#fcfdbf\"]],\"contours\":{\"x\":{\"color\":\"black\",\"show\":true,\"width\":3},\"y\":{\"color\":\"black\",\"show\":true,\"width\":3},\"z\":{\"color\":\"black\",\"show\":true,\"width\":3}},\"opacity\":0.8,\"type\":\"surface\",\"x\":[1.122,1.322,1.622,2.022,3.022,4.022,5.022,6.022,7.022,8.022,9.022,10.022],\"y\":[12.0,12.13,12.26,12.39,12.52,12.65,12.78,12.91,13.04,13.17,13.3,13.43,13.559999999999999,13.69,13.82,13.95,14.08,14.209999999999999,14.34,14.469999999999999,14.6,14.73,14.86,14.989999999999998,15.12,15.25,15.379999999999999,15.51,15.639999999999999,15.77,15.899999999999999,16.03,16.16,16.29,16.419999999999998,16.549999999999997,16.68,16.81,16.939999999999998,17.07,17.2],\"z\":[[2.745030972263219,2.3802868787732505,2.1388704317164153,1.8963994272468752,1.6055799859158897,1.4689642398087361,1.3340995594679488,1.2750883617121929,1.2171990326771613,1.159497361754434,1.0981928575552349,1.0750736246908965],[2.7461625809015424,2.3864839009331145,2.1441353216206114,1.896285943264925,1.608522655573927,1.4681909873366459,1.334163750494281,1.2744193472535452,1.2160687655299114,1.1592221321725587,1.09876791775269,1.0744460864580483],[2.7426299650416417,2.383168090066795,2.1420924908368577,1.8968832092212615,1.6081911839494298,1.4658345918607796,1.3347013311825993,1.2757594542382913,1.2182928777497162,1.159586412159127,1.098640347741919,1.0759372643004155],[2.7400110321374678,2.381299048844017,2.1407800841878117,1.8967948832011725,1.6107020226888107,1.4676770305243665,1.3361816870702374,1.2778887793543963,1.2180638968407194,1.1572411205659465,1.0974709461298302,1.0758894498893976],[2.7416838001569586,2.3806517270009913,2.140706241500134,1.894294753228497,1.6133217954688999,1.4649459525286184,1.3383575069514806,1.276680828862239,1.2167179044855314,1.1553575257330868,1.0985113222452252,1.0732680628694002],[2.744732769297412,2.382576533302504,2.1399451490326578,1.89081429809018,1.6136874518493645,1.4635533973319115,1.3383845419467337,1.2783449001470155,1.2166073129208208,1.1573883498528499,1.0968259147632573,1.071634806290057],[2.7426166911400203,2.383436065546649,2.1394755282540765,1.8914721844016897,1.6125200267583442,1.4634200602990621,1.341220920486231,1.27799184904053,1.2154020550381874,1.1568781563971395,1.0969764513788718,1.0736935052230414],[2.741213818426847,2.385801091900523,2.138417023698922,1.89213019024712,1.614299932640078,1.4622182991963277,1.3435958836038464,1.2765724154564484,1.214345599385593,1.1571805757426734,1.095371950122449,1.0732242221260617],[2.7390410863190056,2.3879254797934717,2.137237837291491,1.8923111562267338,1.615989570664691,1.462496034835372,1.3452851550901566,1.275449648171702,1.2147701787161524,1.1563944328901994,1.0962749326748802,1.0737827245078007],[2.7358850832796406,2.3882456242336723,2.1335977862608018,1.8901597755639796,1.615197045119942,1.4639236032022978,1.3450036229540674,1.2737749261460212,1.2158613047320195,1.1574159504684125,1.0961423336834857,1.07406543245754],[2.7311924304979547,2.3862377196427307,2.1314737952149385,1.8904011104517509,1.6164584803592514,1.463244821205397,1.3465362223741353,1.2723062442992255,1.2151340429053092,1.1578791611779915,1.096811426917892,1.0733867260608443],[2.7275015457513807,2.3868211587762773,2.1298906544257052,1.888881716517118,1.6161614884861413,1.4628232661430525,1.3465226088726006,1.2716514559361036,1.2151849030152193,1.1599842717023456,1.0976665344712517,1.073493368716217],[2.726912334714764,2.383514129579511,2.1272473579207243,1.88751184922277,1.6176362905029134,1.4659868409897263,1.348808146010817,1.2713214372661372,1.2148941323373166,1.1603367050576752,1.098603285365362,1.0756206896663572],[2.7264122258939323,2.3818809604723366,2.128675966037619,1.8875988475210224,1.6186658415253503,1.4659177826321226,1.3493589135655042,1.2716711324189678,1.2152841619831627,1.1606905208391265,1.0989210404568122,1.0752799465048686],[2.723491980703857,2.381093674189379,2.1282489606993398,1.8850897316564348,1.6192049133939759,1.4663885186940293,1.3500249469431456,1.2729342064329532,1.2138913171543888,1.1601639805590251,1.0990633399801195,1.0753180532931887],[2.7228260069929835,2.3798331541136473,2.1277326275107855,1.8859074969255307,1.6184258156910603,1.4678862732603821,1.3512305056970624,1.2752100650387943,1.214065314993089,1.1594135322320789,1.0995385434186085,1.0754807114769622],[2.723668791984563,2.3776891844326045,2.1273432951936213,1.8842954578044584,1.6185469788679117,1.469846641180599,1.3523540708799209,1.2759527473240833,1.213237127157785,1.1598411037092686,1.0994202151329333,1.0760746131805574],[2.7230513827841345,2.3785335116618262,2.1268913524691566,1.8842298774213562,1.620092393816678,1.47135912490806,1.3523342796750935,1.2759279486825033,1.213071538356163,1.159783481061773,1.0990691519061482,1.074751591838899],[2.720864506602384,2.3785655769217224,2.124082650680687,1.8810658001008196,1.6201577592024143,1.471089132902497,1.350785822638806,1.2767776202860104,1.2123750388972485,1.1604695682130222,1.1007953632597234,1.0753619015813733],[2.7232789561272903,2.3776799980522907,2.1251107986108035,1.8781153137846232,1.619104824779012,1.4725320319082311,1.3503605326194048,1.2766709646259429,1.212892064947716,1.1618381174979815,1.1009259849530346,1.0758394548130745],[2.724990884269206,2.3792676006649773,2.125360425975823,1.8758539381663646,1.6179314427759348,1.4737230586578944,1.3510969005623361,1.2769475219283806,1.2132955532235945,1.1623212982893336,1.1018866705154398,1.0759102761922774],[2.726087841053109,2.3813839716598855,2.1234900832420562,1.87727249745671,1.6174287594462333,1.4750584701954725,1.3506828743465042,1.2783309793994297,1.2140651005080338,1.1616062095133857,1.1012541376611995,1.0752432588817844],[2.7263689014185,2.382198013482214,2.1213748507043477,1.877484166329925,1.6164458422511407,1.4770981154141016,1.3513778768547757,1.2803847125854626,1.2138628658083586,1.1609203976490656,1.1016757006310727,1.075572219780383],[2.72575781355119,2.3817759946003214,2.1213742685353423,1.8772975091465984,1.6159209039811053,1.4776068048849929,1.3522101173981773,1.2807526416277073,1.2137371551625227,1.16264051638492,1.100462247221779,1.0750528916872681],[2.7270624518718884,2.3807974433585692,2.1219748347440293,1.8763188532965838,1.6173134105062945,1.478337221279357,1.3515223562577294,1.2810822670650819,1.214013408598396,1.1631165038719138,1.1006194992056084,1.0753555200814862],[2.729297391001893,2.379890882903706,2.119737877695976,1.8748034561241336,1.6159878787185618,1.478977308591213,1.351206500063638,1.281396639289922,1.2147469860663336,1.1622724010750782,1.1012468921069984,1.0755467906089853],[2.7311706922120775,2.3793334290489967,2.120137619344905,1.8777387771216119,1.6176952439157062,1.4793249077981112,1.3536946926170792,1.2815796126413534,1.215434828030976,1.1628205682735784,1.1020425195407726,1.075046911467714],[2.729117035220894,2.3785941861919695,2.119139033601579,1.8769302328009942,1.6183208151036432,1.479906373603599,1.3585753603775657,1.283312097548384,1.2152941425014563,1.1623430418193954,1.1028325118104298,1.074747915702789],[2.732566549952917,2.3777818570991704,2.1190683736411895,1.8774317003026983,1.6192459697899422,1.479986696684487,1.361164796277079,1.2829075116546835,1.2156848767804287,1.161773792478538,1.1038156126941392,1.0754676813446582],[2.735446705417344,2.3762758335303356,2.1185674205606833,1.878697366965545,1.6196727581737735,1.4803914936833578,1.3630999726721635,1.2840565678902727,1.2143767541005477,1.1634952540409103,1.1042713083727052,1.0751713157733274],[2.7391168206791567,2.380043253122313,2.119408249858743,1.8784243572426238,1.6207628462329724,1.4807813624394304,1.3662368857468608,1.2838336381358022,1.2138605219272232,1.1642234486388585,1.1055900998714563,1.0753733651263526],[2.7452666042701908,2.3837247434422246,2.123097129332599,1.8829285232735677,1.6208278236761204,1.482594516611494,1.368920387607079,1.2850601442121896,1.2143973617672825,1.1638175274152738,1.1072209534288915,1.0764596067517218],[2.7516762899386102,2.3879705765301273,2.12497711970625,1.8851973044435382,1.6231968959055518,1.4834887273147888,1.3713587010038644,1.2865735823137223,1.2154392800799412,1.1643835972338692,1.1085865457706952,1.077657876930195],[2.756152208441398,2.392793480506181,2.130293869582582,1.890209926587761,1.6243976780760263,1.4855354296412366,1.3730344213812309,1.2886151279353846,1.215598986175002,1.16553977912533,1.1098017123539443,1.0794326202992999],[2.7631521705691684,2.3987808943293665,2.134368029623374,1.8936679442822009,1.6265385620623434,1.4883914891157881,1.3745710745352298,1.2902567565538299,1.216131410926775,1.1673684998722436,1.1123025169402596,1.0797766426344455],[2.7704798849592716,2.4036006366343234,2.1401789113890133,1.8977884661897664,1.6290364459273696,1.4905556383109997,1.3754685170017067,1.2918300098859021,1.2181249736138704,1.1694966798476008,1.113851972835205,1.0806805824348047],[2.7756589744897253,2.409667171630216,2.144309969934414,1.9024448971845613,1.6316321274425658,1.493496990945902,1.3778723779328417,1.2922105715901624,1.218838528890783,1.170970555666794,1.1154885774041041,1.0831389533079772],[2.7816652037557152,2.414117980815089,2.149420077346317,1.907157710405132,1.6346703756703236,1.4956893479865532,1.3815144255626797,1.2941104543425717,1.2204597288170833,1.1724316198498799,1.1170211856282681,1.084451299942406],[2.785861399900961,2.4204322637503246,2.1555637206271925,1.9106678973176776,1.6378487159225674,1.4987332117694896,1.3852533755480496,1.2961790269686952,1.2230134742728962,1.1746308246793105,1.1194581670384134,1.0868430143982653],[2.7924352951825875,2.4266118531044327,2.161064891388356,1.9158930350492576,1.642151381537002,1.5020451877435659,1.3878629508976523,1.2986397941179286,1.2254427711767317,1.1771432095348,1.1217418071080845,1.0890929894747043],[2.7995945826400694,2.4340347604789927,2.1669214578218647,1.922066018020856,1.6480743783857905,1.5066837947930831,1.3921811732687184,1.3020194419830287,1.2298888093601552,1.180974150396172,1.1251146643755372,1.093165889365209]]},{\"marker\":{\"color\":\"black\",\"size\":2,\"symbol\":\"square\"},\"mode\":\"markers\",\"opacity\":0.75,\"showlegend\":false,\"type\":\"scatter3d\",\"x\":[1.122,1.322,1.622,2.022,3.022,4.022,5.022,6.022,7.022,8.022,9.022,10.022],\"y\":[12.0,12.0,12.0,12.0,12.0,12.0,12.0,12.0,12.0,12.0,12.0,12.0],\"z\":[2.745030972263219,2.3802868787732505,2.1388704317164153,1.8963994272468752,1.6055799859158897,1.4689642398087361,1.3340995594679488,1.2750883617121929,1.2171990326771613,1.159497361754434,1.0981928575552349,1.0750736246908965]},{\"marker\":{\"color\":\"black\",\"size\":2,\"symbol\":\"square\"},\"mode\":\"markers\",\"opacity\":0.75,\"showlegend\":false,\"type\":\"scatter3d\",\"x\":[1.122,1.322,1.622,2.022,3.022,4.022,5.022,6.022,7.022,8.022,9.022,10.022],\"y\":[12.13,12.13,12.13,12.13,12.13,12.13,12.13,12.13,12.13,12.13,12.13,12.13],\"z\":[2.7461625809015424,2.3864839009331145,2.1441353216206114,1.896285943264925,1.608522655573927,1.4681909873366459,1.334163750494281,1.2744193472535452,1.2160687655299114,1.1592221321725587,1.09876791775269,1.0744460864580483]},{\"marker\":{\"color\":\"black\",\"size\":2,\"symbol\":\"square\"},\"mode\":\"markers\",\"opacity\":0.75,\"showlegend\":false,\"type\":\"scatter3d\",\"x\":[1.122,1.322,1.622,2.022,3.022,4.022,5.022,6.022,7.022,8.022,9.022,10.022],\"y\":[12.26,12.26,12.26,12.26,12.26,12.26,12.26,12.26,12.26,12.26,12.26,12.26],\"z\":[2.7426299650416417,2.383168090066795,2.1420924908368577,1.8968832092212615,1.6081911839494298,1.4658345918607796,1.3347013311825993,1.2757594542382913,1.2182928777497162,1.159586412159127,1.098640347741919,1.0759372643004155]},{\"marker\":{\"color\":\"black\",\"size\":2,\"symbol\":\"square\"},\"mode\":\"markers\",\"opacity\":0.75,\"showlegend\":false,\"type\":\"scatter3d\",\"x\":[1.122,1.322,1.622,2.022,3.022,4.022,5.022,6.022,7.022,8.022,9.022,10.022],\"y\":[12.39,12.39,12.39,12.39,12.39,12.39,12.39,12.39,12.39,12.39,12.39,12.39],\"z\":[2.7400110321374678,2.381299048844017,2.1407800841878117,1.8967948832011725,1.6107020226888107,1.4676770305243665,1.3361816870702374,1.2778887793543963,1.2180638968407194,1.1572411205659465,1.0974709461298302,1.0758894498893976]},{\"marker\":{\"color\":\"black\",\"size\":2,\"symbol\":\"square\"},\"mode\":\"markers\",\"opacity\":0.75,\"showlegend\":false,\"type\":\"scatter3d\",\"x\":[1.122,1.322,1.622,2.022,3.022,4.022,5.022,6.022,7.022,8.022,9.022,10.022],\"y\":[12.52,12.52,12.52,12.52,12.52,12.52,12.52,12.52,12.52,12.52,12.52,12.52],\"z\":[2.7416838001569586,2.3806517270009913,2.140706241500134,1.894294753228497,1.6133217954688999,1.4649459525286184,1.3383575069514806,1.276680828862239,1.2167179044855314,1.1553575257330868,1.0985113222452252,1.0732680628694002]},{\"marker\":{\"color\":\"black\",\"size\":2,\"symbol\":\"square\"},\"mode\":\"markers\",\"opacity\":0.75,\"showlegend\":false,\"type\":\"scatter3d\",\"x\":[1.122,1.322,1.622,2.022,3.022,4.022,5.022,6.022,7.022,8.022,9.022,10.022],\"y\":[12.65,12.65,12.65,12.65,12.65,12.65,12.65,12.65,12.65,12.65,12.65,12.65],\"z\":[2.744732769297412,2.382576533302504,2.1399451490326578,1.89081429809018,1.6136874518493645,1.4635533973319115,1.3383845419467337,1.2783449001470155,1.2166073129208208,1.1573883498528499,1.0968259147632573,1.071634806290057]},{\"marker\":{\"color\":\"black\",\"size\":2,\"symbol\":\"square\"},\"mode\":\"markers\",\"opacity\":0.75,\"showlegend\":false,\"type\":\"scatter3d\",\"x\":[1.122,1.322,1.622,2.022,3.022,4.022,5.022,6.022,7.022,8.022,9.022,10.022],\"y\":[12.78,12.78,12.78,12.78,12.78,12.78,12.78,12.78,12.78,12.78,12.78,12.78],\"z\":[2.7426166911400203,2.383436065546649,2.1394755282540765,1.8914721844016897,1.6125200267583442,1.4634200602990621,1.341220920486231,1.27799184904053,1.2154020550381874,1.1568781563971395,1.0969764513788718,1.0736935052230414]},{\"marker\":{\"color\":\"black\",\"size\":2,\"symbol\":\"square\"},\"mode\":\"markers\",\"opacity\":0.75,\"showlegend\":false,\"type\":\"scatter3d\",\"x\":[1.122,1.322,1.622,2.022,3.022,4.022,5.022,6.022,7.022,8.022,9.022,10.022],\"y\":[12.91,12.91,12.91,12.91,12.91,12.91,12.91,12.91,12.91,12.91,12.91,12.91],\"z\":[2.741213818426847,2.385801091900523,2.138417023698922,1.89213019024712,1.614299932640078,1.4622182991963277,1.3435958836038464,1.2765724154564484,1.214345599385593,1.1571805757426734,1.095371950122449,1.0732242221260617]},{\"marker\":{\"color\":\"black\",\"size\":2,\"symbol\":\"square\"},\"mode\":\"markers\",\"opacity\":0.75,\"showlegend\":false,\"type\":\"scatter3d\",\"x\":[1.122,1.322,1.622,2.022,3.022,4.022,5.022,6.022,7.022,8.022,9.022,10.022],\"y\":[13.04,13.04,13.04,13.04,13.04,13.04,13.04,13.04,13.04,13.04,13.04,13.04],\"z\":[2.7390410863190056,2.3879254797934717,2.137237837291491,1.8923111562267338,1.615989570664691,1.462496034835372,1.3452851550901566,1.275449648171702,1.2147701787161524,1.1563944328901994,1.0962749326748802,1.0737827245078007]},{\"marker\":{\"color\":\"black\",\"size\":2,\"symbol\":\"square\"},\"mode\":\"markers\",\"opacity\":0.75,\"showlegend\":false,\"type\":\"scatter3d\",\"x\":[1.122,1.322,1.622,2.022,3.022,4.022,5.022,6.022,7.022,8.022,9.022,10.022],\"y\":[13.17,13.17,13.17,13.17,13.17,13.17,13.17,13.17,13.17,13.17,13.17,13.17],\"z\":[2.7358850832796406,2.3882456242336723,2.1335977862608018,1.8901597755639796,1.615197045119942,1.4639236032022978,1.3450036229540674,1.2737749261460212,1.2158613047320195,1.1574159504684125,1.0961423336834857,1.07406543245754]},{\"marker\":{\"color\":\"black\",\"size\":2,\"symbol\":\"square\"},\"mode\":\"markers\",\"opacity\":0.75,\"showlegend\":false,\"type\":\"scatter3d\",\"x\":[1.122,1.322,1.622,2.022,3.022,4.022,5.022,6.022,7.022,8.022,9.022,10.022],\"y\":[13.3,13.3,13.3,13.3,13.3,13.3,13.3,13.3,13.3,13.3,13.3,13.3],\"z\":[2.7311924304979547,2.3862377196427307,2.1314737952149385,1.8904011104517509,1.6164584803592514,1.463244821205397,1.3465362223741353,1.2723062442992255,1.2151340429053092,1.1578791611779915,1.096811426917892,1.0733867260608443]},{\"marker\":{\"color\":\"black\",\"size\":2,\"symbol\":\"square\"},\"mode\":\"markers\",\"opacity\":0.75,\"showlegend\":false,\"type\":\"scatter3d\",\"x\":[1.122,1.322,1.622,2.022,3.022,4.022,5.022,6.022,7.022,8.022,9.022,10.022],\"y\":[13.43,13.43,13.43,13.43,13.43,13.43,13.43,13.43,13.43,13.43,13.43,13.43],\"z\":[2.7275015457513807,2.3868211587762773,2.1298906544257052,1.888881716517118,1.6161614884861413,1.4628232661430525,1.3465226088726006,1.2716514559361036,1.2151849030152193,1.1599842717023456,1.0976665344712517,1.073493368716217]},{\"marker\":{\"color\":\"black\",\"size\":2,\"symbol\":\"square\"},\"mode\":\"markers\",\"opacity\":0.75,\"showlegend\":false,\"type\":\"scatter3d\",\"x\":[1.122,1.322,1.622,2.022,3.022,4.022,5.022,6.022,7.022,8.022,9.022,10.022],\"y\":[13.559999999999999,13.559999999999999,13.559999999999999,13.559999999999999,13.559999999999999,13.559999999999999,13.559999999999999,13.559999999999999,13.559999999999999,13.559999999999999,13.559999999999999,13.559999999999999],\"z\":[2.726912334714764,2.383514129579511,2.1272473579207243,1.88751184922277,1.6176362905029134,1.4659868409897263,1.348808146010817,1.2713214372661372,1.2148941323373166,1.1603367050576752,1.098603285365362,1.0756206896663572]},{\"marker\":{\"color\":\"black\",\"size\":2,\"symbol\":\"square\"},\"mode\":\"markers\",\"opacity\":0.75,\"showlegend\":false,\"type\":\"scatter3d\",\"x\":[1.122,1.322,1.622,2.022,3.022,4.022,5.022,6.022,7.022,8.022,9.022,10.022],\"y\":[13.69,13.69,13.69,13.69,13.69,13.69,13.69,13.69,13.69,13.69,13.69,13.69],\"z\":[2.7264122258939323,2.3818809604723366,2.128675966037619,1.8875988475210224,1.6186658415253503,1.4659177826321226,1.3493589135655042,1.2716711324189678,1.2152841619831627,1.1606905208391265,1.0989210404568122,1.0752799465048686]},{\"marker\":{\"color\":\"black\",\"size\":2,\"symbol\":\"square\"},\"mode\":\"markers\",\"opacity\":0.75,\"showlegend\":false,\"type\":\"scatter3d\",\"x\":[1.122,1.322,1.622,2.022,3.022,4.022,5.022,6.022,7.022,8.022,9.022,10.022],\"y\":[13.82,13.82,13.82,13.82,13.82,13.82,13.82,13.82,13.82,13.82,13.82,13.82],\"z\":[2.723491980703857,2.381093674189379,2.1282489606993398,1.8850897316564348,1.6192049133939759,1.4663885186940293,1.3500249469431456,1.2729342064329532,1.2138913171543888,1.1601639805590251,1.0990633399801195,1.0753180532931887]},{\"marker\":{\"color\":\"black\",\"size\":2,\"symbol\":\"square\"},\"mode\":\"markers\",\"opacity\":0.75,\"showlegend\":false,\"type\":\"scatter3d\",\"x\":[1.122,1.322,1.622,2.022,3.022,4.022,5.022,6.022,7.022,8.022,9.022,10.022],\"y\":[13.95,13.95,13.95,13.95,13.95,13.95,13.95,13.95,13.95,13.95,13.95,13.95],\"z\":[2.7228260069929835,2.3798331541136473,2.1277326275107855,1.8859074969255307,1.6184258156910603,1.4678862732603821,1.3512305056970624,1.2752100650387943,1.214065314993089,1.1594135322320789,1.0995385434186085,1.0754807114769622]},{\"marker\":{\"color\":\"black\",\"size\":2,\"symbol\":\"square\"},\"mode\":\"markers\",\"opacity\":0.75,\"showlegend\":false,\"type\":\"scatter3d\",\"x\":[1.122,1.322,1.622,2.022,3.022,4.022,5.022,6.022,7.022,8.022,9.022,10.022],\"y\":[14.08,14.08,14.08,14.08,14.08,14.08,14.08,14.08,14.08,14.08,14.08,14.08],\"z\":[2.723668791984563,2.3776891844326045,2.1273432951936213,1.8842954578044584,1.6185469788679117,1.469846641180599,1.3523540708799209,1.2759527473240833,1.213237127157785,1.1598411037092686,1.0994202151329333,1.0760746131805574]},{\"marker\":{\"color\":\"black\",\"size\":2,\"symbol\":\"square\"},\"mode\":\"markers\",\"opacity\":0.75,\"showlegend\":false,\"type\":\"scatter3d\",\"x\":[1.122,1.322,1.622,2.022,3.022,4.022,5.022,6.022,7.022,8.022,9.022,10.022],\"y\":[14.209999999999999,14.209999999999999,14.209999999999999,14.209999999999999,14.209999999999999,14.209999999999999,14.209999999999999,14.209999999999999,14.209999999999999,14.209999999999999,14.209999999999999,14.209999999999999],\"z\":[2.7230513827841345,2.3785335116618262,2.1268913524691566,1.8842298774213562,1.620092393816678,1.47135912490806,1.3523342796750935,1.2759279486825033,1.213071538356163,1.159783481061773,1.0990691519061482,1.074751591838899]},{\"marker\":{\"color\":\"black\",\"size\":2,\"symbol\":\"square\"},\"mode\":\"markers\",\"opacity\":0.75,\"showlegend\":false,\"type\":\"scatter3d\",\"x\":[1.122,1.322,1.622,2.022,3.022,4.022,5.022,6.022,7.022,8.022,9.022,10.022],\"y\":[14.34,14.34,14.34,14.34,14.34,14.34,14.34,14.34,14.34,14.34,14.34,14.34],\"z\":[2.720864506602384,2.3785655769217224,2.124082650680687,1.8810658001008196,1.6201577592024143,1.471089132902497,1.350785822638806,1.2767776202860104,1.2123750388972485,1.1604695682130222,1.1007953632597234,1.0753619015813733]},{\"marker\":{\"color\":\"black\",\"size\":2,\"symbol\":\"square\"},\"mode\":\"markers\",\"opacity\":0.75,\"showlegend\":false,\"type\":\"scatter3d\",\"x\":[1.122,1.322,1.622,2.022,3.022,4.022,5.022,6.022,7.022,8.022,9.022,10.022],\"y\":[14.469999999999999,14.469999999999999,14.469999999999999,14.469999999999999,14.469999999999999,14.469999999999999,14.469999999999999,14.469999999999999,14.469999999999999,14.469999999999999,14.469999999999999,14.469999999999999],\"z\":[2.7232789561272903,2.3776799980522907,2.1251107986108035,1.8781153137846232,1.619104824779012,1.4725320319082311,1.3503605326194048,1.2766709646259429,1.212892064947716,1.1618381174979815,1.1009259849530346,1.0758394548130745]},{\"marker\":{\"color\":\"black\",\"size\":2,\"symbol\":\"square\"},\"mode\":\"markers\",\"opacity\":0.75,\"showlegend\":false,\"type\":\"scatter3d\",\"x\":[1.122,1.322,1.622,2.022,3.022,4.022,5.022,6.022,7.022,8.022,9.022,10.022],\"y\":[14.6,14.6,14.6,14.6,14.6,14.6,14.6,14.6,14.6,14.6,14.6,14.6],\"z\":[2.724990884269206,2.3792676006649773,2.125360425975823,1.8758539381663646,1.6179314427759348,1.4737230586578944,1.3510969005623361,1.2769475219283806,1.2132955532235945,1.1623212982893336,1.1018866705154398,1.0759102761922774]},{\"marker\":{\"color\":\"black\",\"size\":2,\"symbol\":\"square\"},\"mode\":\"markers\",\"opacity\":0.75,\"showlegend\":false,\"type\":\"scatter3d\",\"x\":[1.122,1.322,1.622,2.022,3.022,4.022,5.022,6.022,7.022,8.022,9.022,10.022],\"y\":[14.73,14.73,14.73,14.73,14.73,14.73,14.73,14.73,14.73,14.73,14.73,14.73],\"z\":[2.726087841053109,2.3813839716598855,2.1234900832420562,1.87727249745671,1.6174287594462333,1.4750584701954725,1.3506828743465042,1.2783309793994297,1.2140651005080338,1.1616062095133857,1.1012541376611995,1.0752432588817844]},{\"marker\":{\"color\":\"black\",\"size\":2,\"symbol\":\"square\"},\"mode\":\"markers\",\"opacity\":0.75,\"showlegend\":false,\"type\":\"scatter3d\",\"x\":[1.122,1.322,1.622,2.022,3.022,4.022,5.022,6.022,7.022,8.022,9.022,10.022],\"y\":[14.86,14.86,14.86,14.86,14.86,14.86,14.86,14.86,14.86,14.86,14.86,14.86],\"z\":[2.7263689014185,2.382198013482214,2.1213748507043477,1.877484166329925,1.6164458422511407,1.4770981154141016,1.3513778768547757,1.2803847125854626,1.2138628658083586,1.1609203976490656,1.1016757006310727,1.075572219780383]},{\"marker\":{\"color\":\"black\",\"size\":2,\"symbol\":\"square\"},\"mode\":\"markers\",\"opacity\":0.75,\"showlegend\":false,\"type\":\"scatter3d\",\"x\":[1.122,1.322,1.622,2.022,3.022,4.022,5.022,6.022,7.022,8.022,9.022,10.022],\"y\":[14.989999999999998,14.989999999999998,14.989999999999998,14.989999999999998,14.989999999999998,14.989999999999998,14.989999999999998,14.989999999999998,14.989999999999998,14.989999999999998,14.989999999999998,14.989999999999998],\"z\":[2.72575781355119,2.3817759946003214,2.1213742685353423,1.8772975091465984,1.6159209039811053,1.4776068048849929,1.3522101173981773,1.2807526416277073,1.2137371551625227,1.16264051638492,1.100462247221779,1.0750528916872681]},{\"marker\":{\"color\":\"black\",\"size\":2,\"symbol\":\"square\"},\"mode\":\"markers\",\"opacity\":0.75,\"showlegend\":false,\"type\":\"scatter3d\",\"x\":[1.122,1.322,1.622,2.022,3.022,4.022,5.022,6.022,7.022,8.022,9.022,10.022],\"y\":[15.12,15.12,15.12,15.12,15.12,15.12,15.12,15.12,15.12,15.12,15.12,15.12],\"z\":[2.7270624518718884,2.3807974433585692,2.1219748347440293,1.8763188532965838,1.6173134105062945,1.478337221279357,1.3515223562577294,1.2810822670650819,1.214013408598396,1.1631165038719138,1.1006194992056084,1.0753555200814862]},{\"marker\":{\"color\":\"black\",\"size\":2,\"symbol\":\"square\"},\"mode\":\"markers\",\"opacity\":0.75,\"showlegend\":false,\"type\":\"scatter3d\",\"x\":[1.122,1.322,1.622,2.022,3.022,4.022,5.022,6.022,7.022,8.022,9.022,10.022],\"y\":[15.25,15.25,15.25,15.25,15.25,15.25,15.25,15.25,15.25,15.25,15.25,15.25],\"z\":[2.729297391001893,2.379890882903706,2.119737877695976,1.8748034561241336,1.6159878787185618,1.478977308591213,1.351206500063638,1.281396639289922,1.2147469860663336,1.1622724010750782,1.1012468921069984,1.0755467906089853]},{\"marker\":{\"color\":\"black\",\"size\":2,\"symbol\":\"square\"},\"mode\":\"markers\",\"opacity\":0.75,\"showlegend\":false,\"type\":\"scatter3d\",\"x\":[1.122,1.322,1.622,2.022,3.022,4.022,5.022,6.022,7.022,8.022,9.022,10.022],\"y\":[15.379999999999999,15.379999999999999,15.379999999999999,15.379999999999999,15.379999999999999,15.379999999999999,15.379999999999999,15.379999999999999,15.379999999999999,15.379999999999999,15.379999999999999,15.379999999999999],\"z\":[2.7311706922120775,2.3793334290489967,2.120137619344905,1.8777387771216119,1.6176952439157062,1.4793249077981112,1.3536946926170792,1.2815796126413534,1.215434828030976,1.1628205682735784,1.1020425195407726,1.075046911467714]},{\"marker\":{\"color\":\"black\",\"size\":2,\"symbol\":\"square\"},\"mode\":\"markers\",\"opacity\":0.75,\"showlegend\":false,\"type\":\"scatter3d\",\"x\":[1.122,1.322,1.622,2.022,3.022,4.022,5.022,6.022,7.022,8.022,9.022,10.022],\"y\":[15.51,15.51,15.51,15.51,15.51,15.51,15.51,15.51,15.51,15.51,15.51,15.51],\"z\":[2.729117035220894,2.3785941861919695,2.119139033601579,1.8769302328009942,1.6183208151036432,1.479906373603599,1.3585753603775657,1.283312097548384,1.2152941425014563,1.1623430418193954,1.1028325118104298,1.074747915702789]},{\"marker\":{\"color\":\"black\",\"size\":2,\"symbol\":\"square\"},\"mode\":\"markers\",\"opacity\":0.75,\"showlegend\":false,\"type\":\"scatter3d\",\"x\":[1.122,1.322,1.622,2.022,3.022,4.022,5.022,6.022,7.022,8.022,9.022,10.022],\"y\":[15.639999999999999,15.639999999999999,15.639999999999999,15.639999999999999,15.639999999999999,15.639999999999999,15.639999999999999,15.639999999999999,15.639999999999999,15.639999999999999,15.639999999999999,15.639999999999999],\"z\":[2.732566549952917,2.3777818570991704,2.1190683736411895,1.8774317003026983,1.6192459697899422,1.479986696684487,1.361164796277079,1.2829075116546835,1.2156848767804287,1.161773792478538,1.1038156126941392,1.0754676813446582]},{\"marker\":{\"color\":\"black\",\"size\":2,\"symbol\":\"square\"},\"mode\":\"markers\",\"opacity\":0.75,\"showlegend\":false,\"type\":\"scatter3d\",\"x\":[1.122,1.322,1.622,2.022,3.022,4.022,5.022,6.022,7.022,8.022,9.022,10.022],\"y\":[15.77,15.77,15.77,15.77,15.77,15.77,15.77,15.77,15.77,15.77,15.77,15.77],\"z\":[2.735446705417344,2.3762758335303356,2.1185674205606833,1.878697366965545,1.6196727581737735,1.4803914936833578,1.3630999726721635,1.2840565678902727,1.2143767541005477,1.1634952540409103,1.1042713083727052,1.0751713157733274]},{\"marker\":{\"color\":\"black\",\"size\":2,\"symbol\":\"square\"},\"mode\":\"markers\",\"opacity\":0.75,\"showlegend\":false,\"type\":\"scatter3d\",\"x\":[1.122,1.322,1.622,2.022,3.022,4.022,5.022,6.022,7.022,8.022,9.022,10.022],\"y\":[15.899999999999999,15.899999999999999,15.899999999999999,15.899999999999999,15.899999999999999,15.899999999999999,15.899999999999999,15.899999999999999,15.899999999999999,15.899999999999999,15.899999999999999,15.899999999999999],\"z\":[2.7391168206791567,2.380043253122313,2.119408249858743,1.8784243572426238,1.6207628462329724,1.4807813624394304,1.3662368857468608,1.2838336381358022,1.2138605219272232,1.1642234486388585,1.1055900998714563,1.0753733651263526]},{\"marker\":{\"color\":\"black\",\"size\":2,\"symbol\":\"square\"},\"mode\":\"markers\",\"opacity\":0.75,\"showlegend\":false,\"type\":\"scatter3d\",\"x\":[1.122,1.322,1.622,2.022,3.022,4.022,5.022,6.022,7.022,8.022,9.022,10.022],\"y\":[16.03,16.03,16.03,16.03,16.03,16.03,16.03,16.03,16.03,16.03,16.03,16.03],\"z\":[2.7452666042701908,2.3837247434422246,2.123097129332599,1.8829285232735677,1.6208278236761204,1.482594516611494,1.368920387607079,1.2850601442121896,1.2143973617672825,1.1638175274152738,1.1072209534288915,1.0764596067517218]},{\"marker\":{\"color\":\"black\",\"size\":2,\"symbol\":\"square\"},\"mode\":\"markers\",\"opacity\":0.75,\"showlegend\":false,\"type\":\"scatter3d\",\"x\":[1.122,1.322,1.622,2.022,3.022,4.022,5.022,6.022,7.022,8.022,9.022,10.022],\"y\":[16.16,16.16,16.16,16.16,16.16,16.16,16.16,16.16,16.16,16.16,16.16,16.16],\"z\":[2.7516762899386102,2.3879705765301273,2.12497711970625,1.8851973044435382,1.6231968959055518,1.4834887273147888,1.3713587010038644,1.2865735823137223,1.2154392800799412,1.1643835972338692,1.1085865457706952,1.077657876930195]},{\"marker\":{\"color\":\"black\",\"size\":2,\"symbol\":\"square\"},\"mode\":\"markers\",\"opacity\":0.75,\"showlegend\":false,\"type\":\"scatter3d\",\"x\":[1.122,1.322,1.622,2.022,3.022,4.022,5.022,6.022,7.022,8.022,9.022,10.022],\"y\":[16.29,16.29,16.29,16.29,16.29,16.29,16.29,16.29,16.29,16.29,16.29,16.29],\"z\":[2.756152208441398,2.392793480506181,2.130293869582582,1.890209926587761,1.6243976780760263,1.4855354296412366,1.3730344213812309,1.2886151279353846,1.215598986175002,1.16553977912533,1.1098017123539443,1.0794326202992999]},{\"marker\":{\"color\":\"black\",\"size\":2,\"symbol\":\"square\"},\"mode\":\"markers\",\"opacity\":0.75,\"showlegend\":false,\"type\":\"scatter3d\",\"x\":[1.122,1.322,1.622,2.022,3.022,4.022,5.022,6.022,7.022,8.022,9.022,10.022],\"y\":[16.419999999999998,16.419999999999998,16.419999999999998,16.419999999999998,16.419999999999998,16.419999999999998,16.419999999999998,16.419999999999998,16.419999999999998,16.419999999999998,16.419999999999998,16.419999999999998],\"z\":[2.7631521705691684,2.3987808943293665,2.134368029623374,1.8936679442822009,1.6265385620623434,1.4883914891157881,1.3745710745352298,1.2902567565538299,1.216131410926775,1.1673684998722436,1.1123025169402596,1.0797766426344455]},{\"marker\":{\"color\":\"black\",\"size\":2,\"symbol\":\"square\"},\"mode\":\"markers\",\"opacity\":0.75,\"showlegend\":false,\"type\":\"scatter3d\",\"x\":[1.122,1.322,1.622,2.022,3.022,4.022,5.022,6.022,7.022,8.022,9.022,10.022],\"y\":[16.549999999999997,16.549999999999997,16.549999999999997,16.549999999999997,16.549999999999997,16.549999999999997,16.549999999999997,16.549999999999997,16.549999999999997,16.549999999999997,16.549999999999997,16.549999999999997],\"z\":[2.7704798849592716,2.4036006366343234,2.1401789113890133,1.8977884661897664,1.6290364459273696,1.4905556383109997,1.3754685170017067,1.2918300098859021,1.2181249736138704,1.1694966798476008,1.113851972835205,1.0806805824348047]},{\"marker\":{\"color\":\"black\",\"size\":2,\"symbol\":\"square\"},\"mode\":\"markers\",\"opacity\":0.75,\"showlegend\":false,\"type\":\"scatter3d\",\"x\":[1.122,1.322,1.622,2.022,3.022,4.022,5.022,6.022,7.022,8.022,9.022,10.022],\"y\":[16.68,16.68,16.68,16.68,16.68,16.68,16.68,16.68,16.68,16.68,16.68,16.68],\"z\":[2.7756589744897253,2.409667171630216,2.144309969934414,1.9024448971845613,1.6316321274425658,1.493496990945902,1.3778723779328417,1.2922105715901624,1.218838528890783,1.170970555666794,1.1154885774041041,1.0831389533079772]},{\"marker\":{\"color\":\"black\",\"size\":2,\"symbol\":\"square\"},\"mode\":\"markers\",\"opacity\":0.75,\"showlegend\":false,\"type\":\"scatter3d\",\"x\":[1.122,1.322,1.622,2.022,3.022,4.022,5.022,6.022,7.022,8.022,9.022,10.022],\"y\":[16.81,16.81,16.81,16.81,16.81,16.81,16.81,16.81,16.81,16.81,16.81,16.81],\"z\":[2.7816652037557152,2.414117980815089,2.149420077346317,1.907157710405132,1.6346703756703236,1.4956893479865532,1.3815144255626797,1.2941104543425717,1.2204597288170833,1.1724316198498799,1.1170211856282681,1.084451299942406]},{\"marker\":{\"color\":\"black\",\"size\":2,\"symbol\":\"square\"},\"mode\":\"markers\",\"opacity\":0.75,\"showlegend\":false,\"type\":\"scatter3d\",\"x\":[1.122,1.322,1.622,2.022,3.022,4.022,5.022,6.022,7.022,8.022,9.022,10.022],\"y\":[16.939999999999998,16.939999999999998,16.939999999999998,16.939999999999998,16.939999999999998,16.939999999999998,16.939999999999998,16.939999999999998,16.939999999999998,16.939999999999998,16.939999999999998,16.939999999999998],\"z\":[2.785861399900961,2.4204322637503246,2.1555637206271925,1.9106678973176776,1.6378487159225674,1.4987332117694896,1.3852533755480496,1.2961790269686952,1.2230134742728962,1.1746308246793105,1.1194581670384134,1.0868430143982653]},{\"marker\":{\"color\":\"black\",\"size\":2,\"symbol\":\"square\"},\"mode\":\"markers\",\"opacity\":0.75,\"showlegend\":false,\"type\":\"scatter3d\",\"x\":[1.122,1.322,1.622,2.022,3.022,4.022,5.022,6.022,7.022,8.022,9.022,10.022],\"y\":[17.07,17.07,17.07,17.07,17.07,17.07,17.07,17.07,17.07,17.07,17.07,17.07],\"z\":[2.7924352951825875,2.4266118531044327,2.161064891388356,1.9158930350492576,1.642151381537002,1.5020451877435659,1.3878629508976523,1.2986397941179286,1.2254427711767317,1.1771432095348,1.1217418071080845,1.0890929894747043]},{\"marker\":{\"color\":\"black\",\"size\":2,\"symbol\":\"square\"},\"mode\":\"markers\",\"opacity\":0.75,\"showlegend\":false,\"type\":\"scatter3d\",\"x\":[1.122,1.322,1.622,2.022,3.022,4.022,5.022,6.022,7.022,8.022,9.022,10.022],\"y\":[17.2,17.2,17.2,17.2,17.2,17.2,17.2,17.2,17.2,17.2,17.2,17.2],\"z\":[2.7995945826400694,2.4340347604789927,2.1669214578218647,1.922066018020856,1.6480743783857905,1.5066837947930831,1.3921811732687184,1.3020194419830287,1.2298888093601552,1.180974150396172,1.1251146643755372,1.093165889365209]}],                        {\"autosize\":true,\"font\":{\"family\":\"Times New Roman\",\"size\":16},\"height\":800,\"scene\":{\"camera\":{\"eye\":{\"x\":2,\"y\":-1.5,\"z\":0.5}},\"xaxis\":{\"dtick\":1,\"gridcolor\":\"black\",\"gridwidth\":0.5,\"linecolor\":\"black\",\"mirror\":true,\"showgrid\":true,\"showline\":true,\"tick0\":1,\"ticks\":\"outside\",\"title\":{\"text\":\"Deposited energy, MeV\"},\"zeroline\":true,\"zerolinecolor\":\"black\",\"zerolinewidth\":0.5},\"yaxis\":{\"dtick\":0.5,\"gridcolor\":\"black\",\"gridwidth\":0.5,\"linecolor\":\"black\",\"mirror\":true,\"showgrid\":true,\"showline\":true,\"tick0\":14,\"ticks\":\"outside\",\"title\":{\"text\":\"R, m\"},\"zeroline\":true,\"zerolinecolor\":\"black\",\"zerolinewidth\":0.5},\"zaxis\":{\"dtick\":0.25,\"gridcolor\":\"black\",\"gridwidth\":0.5,\"linecolor\":\"black\",\"mirror\":true,\"showgrid\":true,\"showline\":true,\"tick0\":1,\"ticks\":\"outside\",\"title\":{\"text\":\"Resolution, %\"},\"zeroline\":true,\"zerolinecolor\":\"black\",\"zerolinewidth\":0.5}},\"template\":{\"data\":{\"bar\":[{\"error_x\":{\"color\":\"#2a3f5f\"},\"error_y\":{\"color\":\"#2a3f5f\"},\"marker\":{\"line\":{\"color\":\"white\",\"width\":0.5},\"pattern\":{\"fillmode\":\"overlay\",\"size\":10,\"solidity\":0.2}},\"type\":\"bar\"}],\"barpolar\":[{\"marker\":{\"line\":{\"color\":\"white\",\"width\":0.5},\"pattern\":{\"fillmode\":\"overlay\",\"size\":10,\"solidity\":0.2}},\"type\":\"barpolar\"}],\"carpet\":[{\"aaxis\":{\"endlinecolor\":\"#2a3f5f\",\"gridcolor\":\"#C8D4E3\",\"linecolor\":\"#C8D4E3\",\"minorgridcolor\":\"#C8D4E3\",\"startlinecolor\":\"#2a3f5f\"},\"baxis\":{\"endlinecolor\":\"#2a3f5f\",\"gridcolor\":\"#C8D4E3\",\"linecolor\":\"#C8D4E3\",\"minorgridcolor\":\"#C8D4E3\",\"startlinecolor\":\"#2a3f5f\"},\"type\":\"carpet\"}],\"choropleth\":[{\"colorbar\":{\"outlinewidth\":0,\"ticks\":\"\"},\"type\":\"choropleth\"}],\"contour\":[{\"colorbar\":{\"outlinewidth\":0,\"ticks\":\"\"},\"colorscale\":[[0.0,\"#0d0887\"],[0.1111111111111111,\"#46039f\"],[0.2222222222222222,\"#7201a8\"],[0.3333333333333333,\"#9c179e\"],[0.4444444444444444,\"#bd3786\"],[0.5555555555555556,\"#d8576b\"],[0.6666666666666666,\"#ed7953\"],[0.7777777777777778,\"#fb9f3a\"],[0.8888888888888888,\"#fdca26\"],[1.0,\"#f0f921\"]],\"type\":\"contour\"}],\"contourcarpet\":[{\"colorbar\":{\"outlinewidth\":0,\"ticks\":\"\"},\"type\":\"contourcarpet\"}],\"heatmap\":[{\"colorbar\":{\"outlinewidth\":0,\"ticks\":\"\"},\"colorscale\":[[0.0,\"#0d0887\"],[0.1111111111111111,\"#46039f\"],[0.2222222222222222,\"#7201a8\"],[0.3333333333333333,\"#9c179e\"],[0.4444444444444444,\"#bd3786\"],[0.5555555555555556,\"#d8576b\"],[0.6666666666666666,\"#ed7953\"],[0.7777777777777778,\"#fb9f3a\"],[0.8888888888888888,\"#fdca26\"],[1.0,\"#f0f921\"]],\"type\":\"heatmap\"}],\"heatmapgl\":[{\"colorbar\":{\"outlinewidth\":0,\"ticks\":\"\"},\"colorscale\":[[0.0,\"#0d0887\"],[0.1111111111111111,\"#46039f\"],[0.2222222222222222,\"#7201a8\"],[0.3333333333333333,\"#9c179e\"],[0.4444444444444444,\"#bd3786\"],[0.5555555555555556,\"#d8576b\"],[0.6666666666666666,\"#ed7953\"],[0.7777777777777778,\"#fb9f3a\"],[0.8888888888888888,\"#fdca26\"],[1.0,\"#f0f921\"]],\"type\":\"heatmapgl\"}],\"histogram\":[{\"marker\":{\"pattern\":{\"fillmode\":\"overlay\",\"size\":10,\"solidity\":0.2}},\"type\":\"histogram\"}],\"histogram2d\":[{\"colorbar\":{\"outlinewidth\":0,\"ticks\":\"\"},\"colorscale\":[[0.0,\"#0d0887\"],[0.1111111111111111,\"#46039f\"],[0.2222222222222222,\"#7201a8\"],[0.3333333333333333,\"#9c179e\"],[0.4444444444444444,\"#bd3786\"],[0.5555555555555556,\"#d8576b\"],[0.6666666666666666,\"#ed7953\"],[0.7777777777777778,\"#fb9f3a\"],[0.8888888888888888,\"#fdca26\"],[1.0,\"#f0f921\"]],\"type\":\"histogram2d\"}],\"histogram2dcontour\":[{\"colorbar\":{\"outlinewidth\":0,\"ticks\":\"\"},\"colorscale\":[[0.0,\"#0d0887\"],[0.1111111111111111,\"#46039f\"],[0.2222222222222222,\"#7201a8\"],[0.3333333333333333,\"#9c179e\"],[0.4444444444444444,\"#bd3786\"],[0.5555555555555556,\"#d8576b\"],[0.6666666666666666,\"#ed7953\"],[0.7777777777777778,\"#fb9f3a\"],[0.8888888888888888,\"#fdca26\"],[1.0,\"#f0f921\"]],\"type\":\"histogram2dcontour\"}],\"mesh3d\":[{\"colorbar\":{\"outlinewidth\":0,\"ticks\":\"\"},\"type\":\"mesh3d\"}],\"parcoords\":[{\"line\":{\"colorbar\":{\"outlinewidth\":0,\"ticks\":\"\"}},\"type\":\"parcoords\"}],\"pie\":[{\"automargin\":true,\"type\":\"pie\"}],\"scatter\":[{\"marker\":{\"colorbar\":{\"outlinewidth\":0,\"ticks\":\"\"}},\"type\":\"scatter\"}],\"scatter3d\":[{\"line\":{\"colorbar\":{\"outlinewidth\":0,\"ticks\":\"\"}},\"marker\":{\"colorbar\":{\"outlinewidth\":0,\"ticks\":\"\"}},\"type\":\"scatter3d\"}],\"scattercarpet\":[{\"marker\":{\"colorbar\":{\"outlinewidth\":0,\"ticks\":\"\"}},\"type\":\"scattercarpet\"}],\"scattergeo\":[{\"marker\":{\"colorbar\":{\"outlinewidth\":0,\"ticks\":\"\"}},\"type\":\"scattergeo\"}],\"scattergl\":[{\"marker\":{\"colorbar\":{\"outlinewidth\":0,\"ticks\":\"\"}},\"type\":\"scattergl\"}],\"scattermapbox\":[{\"marker\":{\"colorbar\":{\"outlinewidth\":0,\"ticks\":\"\"}},\"type\":\"scattermapbox\"}],\"scatterpolar\":[{\"marker\":{\"colorbar\":{\"outlinewidth\":0,\"ticks\":\"\"}},\"type\":\"scatterpolar\"}],\"scatterpolargl\":[{\"marker\":{\"colorbar\":{\"outlinewidth\":0,\"ticks\":\"\"}},\"type\":\"scatterpolargl\"}],\"scatterternary\":[{\"marker\":{\"colorbar\":{\"outlinewidth\":0,\"ticks\":\"\"}},\"type\":\"scatterternary\"}],\"surface\":[{\"colorbar\":{\"outlinewidth\":0,\"ticks\":\"\"},\"colorscale\":[[0.0,\"#0d0887\"],[0.1111111111111111,\"#46039f\"],[0.2222222222222222,\"#7201a8\"],[0.3333333333333333,\"#9c179e\"],[0.4444444444444444,\"#bd3786\"],[0.5555555555555556,\"#d8576b\"],[0.6666666666666666,\"#ed7953\"],[0.7777777777777778,\"#fb9f3a\"],[0.8888888888888888,\"#fdca26\"],[1.0,\"#f0f921\"]],\"type\":\"surface\"}],\"table\":[{\"cells\":{\"fill\":{\"color\":\"#EBF0F8\"},\"line\":{\"color\":\"white\"}},\"header\":{\"fill\":{\"color\":\"#C8D4E3\"},\"line\":{\"color\":\"white\"}},\"type\":\"table\"}]},\"layout\":{\"annotationdefaults\":{\"arrowcolor\":\"#2a3f5f\",\"arrowhead\":0,\"arrowwidth\":1},\"autotypenumbers\":\"strict\",\"coloraxis\":{\"colorbar\":{\"outlinewidth\":0,\"ticks\":\"\"}},\"colorscale\":{\"diverging\":[[0,\"#8e0152\"],[0.1,\"#c51b7d\"],[0.2,\"#de77ae\"],[0.3,\"#f1b6da\"],[0.4,\"#fde0ef\"],[0.5,\"#f7f7f7\"],[0.6,\"#e6f5d0\"],[0.7,\"#b8e186\"],[0.8,\"#7fbc41\"],[0.9,\"#4d9221\"],[1,\"#276419\"]],\"sequential\":[[0.0,\"#0d0887\"],[0.1111111111111111,\"#46039f\"],[0.2222222222222222,\"#7201a8\"],[0.3333333333333333,\"#9c179e\"],[0.4444444444444444,\"#bd3786\"],[0.5555555555555556,\"#d8576b\"],[0.6666666666666666,\"#ed7953\"],[0.7777777777777778,\"#fb9f3a\"],[0.8888888888888888,\"#fdca26\"],[1.0,\"#f0f921\"]],\"sequentialminus\":[[0.0,\"#0d0887\"],[0.1111111111111111,\"#46039f\"],[0.2222222222222222,\"#7201a8\"],[0.3333333333333333,\"#9c179e\"],[0.4444444444444444,\"#bd3786\"],[0.5555555555555556,\"#d8576b\"],[0.6666666666666666,\"#ed7953\"],[0.7777777777777778,\"#fb9f3a\"],[0.8888888888888888,\"#fdca26\"],[1.0,\"#f0f921\"]]},\"colorway\":[\"#636efa\",\"#EF553B\",\"#00cc96\",\"#ab63fa\",\"#FFA15A\",\"#19d3f3\",\"#FF6692\",\"#B6E880\",\"#FF97FF\",\"#FECB52\"],\"font\":{\"color\":\"#2a3f5f\"},\"geo\":{\"bgcolor\":\"white\",\"lakecolor\":\"white\",\"landcolor\":\"white\",\"showlakes\":true,\"showland\":true,\"subunitcolor\":\"#C8D4E3\"},\"hoverlabel\":{\"align\":\"left\"},\"hovermode\":\"closest\",\"mapbox\":{\"style\":\"light\"},\"paper_bgcolor\":\"white\",\"plot_bgcolor\":\"white\",\"polar\":{\"angularaxis\":{\"gridcolor\":\"#EBF0F8\",\"linecolor\":\"#EBF0F8\",\"ticks\":\"\"},\"bgcolor\":\"white\",\"radialaxis\":{\"gridcolor\":\"#EBF0F8\",\"linecolor\":\"#EBF0F8\",\"ticks\":\"\"}},\"scene\":{\"xaxis\":{\"backgroundcolor\":\"white\",\"gridcolor\":\"#DFE8F3\",\"gridwidth\":2,\"linecolor\":\"#EBF0F8\",\"showbackground\":true,\"ticks\":\"\",\"zerolinecolor\":\"#EBF0F8\"},\"yaxis\":{\"backgroundcolor\":\"white\",\"gridcolor\":\"#DFE8F3\",\"gridwidth\":2,\"linecolor\":\"#EBF0F8\",\"showbackground\":true,\"ticks\":\"\",\"zerolinecolor\":\"#EBF0F8\"},\"zaxis\":{\"backgroundcolor\":\"white\",\"gridcolor\":\"#DFE8F3\",\"gridwidth\":2,\"linecolor\":\"#EBF0F8\",\"showbackground\":true,\"ticks\":\"\",\"zerolinecolor\":\"#EBF0F8\"}},\"shapedefaults\":{\"line\":{\"color\":\"#2a3f5f\"}},\"ternary\":{\"aaxis\":{\"gridcolor\":\"#DFE8F3\",\"linecolor\":\"#A2B1C6\",\"ticks\":\"\"},\"baxis\":{\"gridcolor\":\"#DFE8F3\",\"linecolor\":\"#A2B1C6\",\"ticks\":\"\"},\"bgcolor\":\"white\",\"caxis\":{\"gridcolor\":\"#DFE8F3\",\"linecolor\":\"#A2B1C6\",\"ticks\":\"\"}},\"title\":{\"x\":0.05},\"xaxis\":{\"automargin\":true,\"gridcolor\":\"#EBF0F8\",\"linecolor\":\"#EBF0F8\",\"ticks\":\"\",\"title\":{\"standoff\":15},\"zerolinecolor\":\"#EBF0F8\",\"zerolinewidth\":2},\"yaxis\":{\"automargin\":true,\"gridcolor\":\"#EBF0F8\",\"linecolor\":\"#EBF0F8\",\"ticks\":\"\",\"title\":{\"standoff\":15},\"zerolinecolor\":\"#EBF0F8\",\"zerolinewidth\":2}}},\"width\":800},                        {\"responsive\": true}                    ).then(function(){\n",
       "                            \n",
       "var gd = document.getElementById('410393b4-7f22-42b5-a62f-41b6989d22b0');\n",
       "var x = new MutationObserver(function (mutations, observer) {{\n",
       "        var display = window.getComputedStyle(gd).display;\n",
       "        if (!display || display === 'none') {{\n",
       "            console.log([gd, 'removed!']);\n",
       "            Plotly.purge(gd);\n",
       "            observer.disconnect();\n",
       "        }}\n",
       "}});\n",
       "\n",
       "// Listen for the removal of the full notebook cells\n",
       "var notebookContainer = gd.closest('#notebook-container');\n",
       "if (notebookContainer) {{\n",
       "    x.observe(notebookContainer, {childList: true});\n",
       "}}\n",
       "\n",
       "// Listen for the clearing of the current output cell\n",
       "var outputEl = gd.closest('.output');\n",
       "if (outputEl) {{\n",
       "    x.observe(outputEl, {childList: true});\n",
       "}}\n",
       "\n",
       "                        })                };                });            </script>        </div>"
      ]
     },
     "metadata": {},
     "output_type": "display_data"
    }
   ],
   "source": [
    "fig = go.Figure()\n",
    "\n",
    "fig.add_trace(\n",
    "    go.Surface(\n",
    "        x=energies[1:-1],\n",
    "        y=Rs,\n",
    "        z=np.array(res_all)[1, :, :],\n",
    "        colorscale='magma',\n",
    "        opacity=0.8,\n",
    "        colorbar=dict(\n",
    "            lenmode='fraction',\n",
    "            len=0.75,\n",
    "            thickness=20\n",
    "        ),\n",
    "        contours=dict(\n",
    "            x=dict(show=True, color='black', width=3),\n",
    "            y=dict(show=True, color='black', width=3),\n",
    "            z=dict(show=True, color='black', width=3)\n",
    "        )\n",
    "    )\n",
    ")\n",
    "\n",
    "for i in range(Rs.shape[0]):\n",
    "    fig.add_trace(\n",
    "        go.Scatter3d(\n",
    "            x=energies[1:-1],\n",
    "            y=np.repeat(Rs[i], 12),\n",
    "            z=np.array(res_all)[1, :, :][i],\n",
    "            mode='markers',\n",
    "            opacity=0.75,\n",
    "            showlegend=False,\n",
    "            marker=dict(\n",
    "                color='black',\n",
    "                symbol='square',\n",
    "                size=2\n",
    "            )\n",
    "        )\n",
    "    )\n",
    "\n",
    "axis = lambda tick, dtick: dict(\n",
    "            showline=True,\n",
    "            ticks='outside',\n",
    "            mirror=True,\n",
    "            linecolor='black',\n",
    "            showgrid=True,\n",
    "            tick0=tick,\n",
    "            dtick=dtick,\n",
    "            gridcolor='black',\n",
    "            gridwidth=0.5,\n",
    "            zeroline=True,\n",
    "            zerolinecolor='black',\n",
    "            zerolinewidth=0.5\n",
    ")\n",
    "\n",
    "fig.update_layout(\n",
    "    autosize=True,\n",
    "    scene = dict(\n",
    "        xaxis_title='Deposited energy, MeV',\n",
    "        yaxis_title='R, m',\n",
    "        zaxis_title='Resolution, %',\n",
    "        xaxis=axis(1, 1),\n",
    "        yaxis=axis(14, 0.5),\n",
    "        zaxis=axis(1, 0.25),\n",
    "        camera=dict(\n",
    "              eye=dict(x=2, y=-1.5, z=0.5)\n",
    "        )\n",
    "\n",
    "    ),\n",
    "    width=800,\n",
    "    height=800,\n",
    "    font=dict(\n",
    "            family=\"Times New Roman\",\n",
    "            size=16,\n",
    "    ),\n",
    "\n",
    ")\n",
    "\n",
    "fig.show()\n",
    "pio.write_image(fig, f'plots/fv/surface_{model_type.upper()}_8_172.pdf', height=800, width=800)"
   ]
  },
  {
   "cell_type": "code",
   "execution_count": 176,
   "id": "d14f0604",
   "metadata": {},
   "outputs": [],
   "source": [
    "err_r = np.array(error_sigma_all)[1, :, :]\n",
    "err_nom = np.array(error_sigma_all)[1, -1, :]\n",
    "r = np.array(res_all)[1, :, :]\n",
    "nom = np.array(res_all)[1, -1, :]\n",
    "corr = np.corrcoef(err_nom, err_r)[0][1:].reshape(41, 1)\n",
    "errors = ( (err_r / nom)**2 + (-r * err_nom / nom**2)**2 + \\\n",
    "          2 * ( 1 / nom * (-r / nom**2) * corr * err_r * err_nom) )**0.5\n",
    "\n",
    "np.savez_compressed('subdetectors/surface_120_172_fcdnn', a=r / nom)\n",
    "np.savez_compressed('subdetectors/surface_120_172_fcdnn_errors', a=errors)"
   ]
  },
  {
   "cell_type": "code",
   "execution_count": 31,
   "id": "581d98b1",
   "metadata": {},
   "outputs": [],
   "source": [
    "from statsmodels.stats.moment_helpers import cov2corr\n",
    "\n",
    "y_approximated_all = []\n",
    "coefs_all = []\n",
    "errors_all = []\n",
    "corr_matrixes_all = []\n",
    "for i in range(len(models)):\n",
    "    y_approximated_array = []\n",
    "    coefs_array = []\n",
    "    errors_array = []\n",
    "    corr_matrixes = []\n",
    "    for k in range(diffs.shape[2]):\n",
    "        y_approximated, coefs, pcov = approximated(\n",
    "            energies[1:13], res_all[i][k], error_sigma_all[i][k])\n",
    "        y_approximated_array.append(y_approximated)\n",
    "        coefs_array.append(coefs)\n",
    "        errors_array.append(np.sqrt(abs(pcov.diagonal())))\n",
    "        corr_matrixes.append(cov2corr(pcov))\n",
    "        \n",
    "    y_approximated_all.append(y_approximated_array)\n",
    "    coefs_all.append(coefs_array)\n",
    "    errors_all.append(errors_array)\n",
    "    corr_matrixes_all.append(corr_matrixes)\n",
    "\n",
    "corr_matrixes_all = np.array(corr_matrixes_all)"
   ]
  },
  {
   "cell_type": "code",
   "execution_count": 32,
   "id": "3a2db6f2",
   "metadata": {},
   "outputs": [],
   "source": [
    "a = np.array(coefs_all).T[0]\n",
    "b = np.array(coefs_all).T[1]\n",
    "c = np.array(coefs_all).T[2]"
   ]
  },
  {
   "cell_type": "code",
   "execution_count": 33,
   "id": "ca49d067",
   "metadata": {},
   "outputs": [],
   "source": [
    "reindex = [0, 3, 1, 4, 2, 5]\n",
    "coefs_df_real = pd.DataFrame(\n",
    "    np.hstack((coefs_all[1], errors_all[1]))\n",
    ")[reindex]\n",
    "coefs_df_real.columns = ['a', r'$\\Delta a$', 'b', r'$\\Delta b$', 'c', r'$\\Delta c$']\n",
    "\n",
    "coefs_df_real = coefs_df_real.round(3)\n",
    "coefs_df_real.index = Rs\n",
    "coefs_df_real[r'$\\tilde{a}$'] = (coefs_df_real['a']**2 + (1.6 * coefs_df_real['b'])**2 + (coefs_df_real['c'] / 1.6)**2)**0.5 \n",
    "coefs_df_real[r'$\\Delta \\tilde{a}$'] = np.sqrt( (coefs_df_real['a']*coefs_df_real[r'$\\Delta a$'])**2 + \\\n",
    "                                           (2.56*coefs_df_real['b']*coefs_df_real[r'$\\Delta b$'])**2 + \\\n",
    "                                           (coefs_df_real['c']*coefs_df_real[r'$\\Delta c$'] / 2.56)**2) / coefs_df_real[r'$\\tilde{a}$']\n",
    "\n",
    "coefs_df_real[r'$\\Delta \\tilde{a}$'] = np.sqrt(\n",
    "    coefs_df_real[r'$\\Delta \\tilde{a}$']**2 + 2 * (\n",
    "        1.6**2 * coefs_df_real['a'] * coefs_df_real['b'] / coefs_df_real[r'$\\tilde{a}$']**2 *\\\n",
    "        corr_matrixes_all[1, :, 0, 1] * coefs_df_real[r'$\\Delta a$'] * coefs_df_real[r'$\\Delta b$'] +\\\n",
    "        \n",
    "        coefs_df_real['a'] * coefs_df_real['c'] / (coefs_df_real[r'$\\tilde{a}$']**2 * 1.6**2) *\\\n",
    "        corr_matrixes_all[1, :, 0, 2] * coefs_df_real[r'$\\Delta a$'] * coefs_df_real[r'$\\Delta c$'] +\\\n",
    "\n",
    "        coefs_df_real['b'] * coefs_df_real['c'] / coefs_df_real[r'$\\tilde{a}$']**2 *\\\n",
    "        corr_matrixes_all[1, :, 1, 2] * coefs_df_real[r'$\\Delta b$'] * coefs_df_real[r'$\\Delta c$']\n",
    "    )\n",
    ")"
   ]
  },
  {
   "cell_type": "code",
   "execution_count": 18,
   "id": "2f9a0b6d",
   "metadata": {},
   "outputs": [],
   "source": [
    "f_df = pd.read_csv('plots/fv/f_df.csv')\n",
    "accidentals_df = pd.read_csv('plots/fv/accidentals.csv')\n",
    "f_df.index = Rs\n",
    "accidentals_df.index = Rs\n",
    "coefs_df_real['f'] = f_df['f']\n",
    "coefs_df_real['df'] = f_df['df']\n",
    "coefs_df_real['r_ab'] = corr_matrixes_all[1, :, 0, 1]\n",
    "coefs_df_real['r_ac'] = corr_matrixes_all[1, :, 0, 2]\n",
    "coefs_df_real['r_bc'] = corr_matrixes_all[1, :, 1, 2]\n",
    "coefs_df_real['accidentals'] = accidentals_df['accidentals']\n",
    "coefs_df_real['accidentals_err'] = accidentals_df['accidentals_err']"
   ]
  },
  {
   "cell_type": "code",
   "execution_count": 19,
   "id": "09b66a7c",
   "metadata": {},
   "outputs": [],
   "source": [
    "coefs_df_real.to_csv(f'plots/fv/a_tilde_fv_{model_type.upper()}.csv', index=False)"
   ]
  },
  {
   "cell_type": "code",
   "execution_count": 20,
   "id": "f8803642",
   "metadata": {},
   "outputs": [],
   "source": [
    "df = coefs_df_real[['a', r'$\\Delta a$', 'b', r'$\\Delta b$', 'c', r'$\\Delta c$',\n",
    "                    'f', 'df', 'r_ab', 'r_ac', 'r_bc', 'accidentals', 'accidentals_err']]\n",
    "df.columns = ['a', 'da', 'b', 'db', 'c', 'dc', 'f', 'df',\n",
    "              'r_ab', 'r_ac', 'r_bc', 'accidentals', 'accidentals_err']\n",
    "df.to_csv(f'plots/fv/res_params_fv_{model_type.upper()}.csv', index=False)\n",
    "df.to_csv(f'plots/fv/res_params_fv_{model_type.upper()}.tsv', sep='\\t', index=False)"
   ]
  },
  {
   "cell_type": "code",
   "execution_count": 25,
   "id": "09a86e2b",
   "metadata": {},
   "outputs": [],
   "source": [
    "y_range = [2.85, 2.94]"
   ]
  },
  {
   "cell_type": "code",
   "execution_count": 35,
   "id": "b16ade85",
   "metadata": {},
   "outputs": [
    {
     "data": {
      "application/vnd.plotly.v1+json": {
       "config": {
        "plotlyServerURL": "https://plot.ly"
       },
       "data": [
        {
         "line": {
          "color": "black",
          "width": 0.75
         },
         "type": "scatter",
         "x": [
          12,
          12.13,
          12.26,
          12.39,
          12.52,
          12.65,
          12.78,
          12.91,
          13.04,
          13.17,
          13.3,
          13.43,
          13.559999999999999,
          13.69,
          13.82,
          13.95,
          14.08,
          14.209999999999999,
          14.34,
          14.469999999999999,
          14.6,
          14.73,
          14.86,
          14.989999999999998,
          15.12,
          15.25,
          15.379999999999999,
          15.51,
          15.639999999999999,
          15.77,
          15.899999999999999,
          16.03,
          16.16,
          16.29,
          16.419999999999998,
          16.549999999999997,
          16.68,
          16.81,
          16.939999999999998,
          17.07,
          17.2
         ],
         "y": [
          2.86294376569278,
          2.865826315491974,
          2.8626327724787406,
          2.8645716318539662,
          2.8644507485414623,
          2.8611843011533873,
          2.856835178795997,
          2.856996581978053,
          2.8568671688172396,
          2.8544783716636335,
          2.8551999863527966,
          2.8538679071757342,
          2.856591170380698,
          2.857522239799875,
          2.8608050042750466,
          2.8621090730691257,
          2.861975622411372,
          2.8634418833169586,
          2.8620096469749807,
          2.8615249050282214,
          2.8585315401386118,
          2.8581887121248215,
          2.8580318808709304,
          2.8614161066184907,
          2.8633100594360648,
          2.861550032480087,
          2.86610033353396,
          2.870061537915938,
          2.8725232760062913,
          2.8716140818482274,
          2.8742616304127115,
          2.87526092782686,
          2.882201122045864,
          2.890499856254611,
          2.8954051473478977,
          2.902500584134534,
          2.90652666714507,
          2.912586837656288,
          2.914809447619299,
          2.9223475326029815,
          2.9301044850869657
         ]
        },
        {
         "fill": "tonexty",
         "fillcolor": "rgba(150, 0, 0, 0.3)",
         "line": {
          "color": "black",
          "width": 0.75
         },
         "type": "scatter",
         "x": [
          12,
          12.13,
          12.26,
          12.39,
          12.52,
          12.65,
          12.78,
          12.91,
          13.04,
          13.17,
          13.3,
          13.43,
          13.559999999999999,
          13.69,
          13.82,
          13.95,
          14.08,
          14.209999999999999,
          14.34,
          14.469999999999999,
          14.6,
          14.73,
          14.86,
          14.989999999999998,
          15.12,
          15.25,
          15.379999999999999,
          15.51,
          15.639999999999999,
          15.77,
          15.899999999999999,
          16.03,
          16.16,
          16.29,
          16.419999999999998,
          16.549999999999997,
          16.68,
          16.81,
          16.939999999999998,
          17.07,
          17.2
         ],
         "y": [
          2.8246538651176136,
          2.8287408357496364,
          2.8257545211660937,
          2.827126928549598,
          2.8273820232904727,
          2.8238024851109396,
          2.820719101217537,
          2.8201162898961716,
          2.820428286767224,
          2.817385381989128,
          2.8192458755794503,
          2.8185327664808795,
          2.820447779635411,
          2.821799834400531,
          2.82501064609562,
          2.827001571179235,
          2.828180043517285,
          2.828546170078796,
          2.8280570048754177,
          2.828527489282396,
          2.825248506845965,
          2.8262656260240924,
          2.82551208746432,
          2.8219693829026977,
          2.824389876390367,
          2.8229598848302877,
          2.8294555910444306,
          2.8327579893004016,
          2.8362385917282533,
          2.8371191235135362,
          2.8402449633362186,
          2.840018460794487,
          2.847879481444806,
          2.8543462548261727,
          2.858357430522343,
          2.8652580932027907,
          2.8711203591105146,
          2.8785384867085715,
          2.8830875903160944,
          2.890603965775445,
          2.8986288944732963
         ]
        },
        {
         "line": {
          "color": "black",
          "dash": "dash"
         },
         "marker": {
          "color": "black",
          "size": 8,
          "symbol": "x"
         },
         "mode": "lines",
         "type": "scatter",
         "x": [
          12,
          12.13,
          12.26,
          12.39,
          12.52,
          12.65,
          12.78,
          12.91,
          13.04,
          13.17,
          13.3,
          13.43,
          13.559999999999999,
          13.69,
          13.82,
          13.95,
          14.08,
          14.209999999999999,
          14.34,
          14.469999999999999,
          14.6,
          14.73,
          14.86,
          14.989999999999998,
          15.12,
          15.25,
          15.379999999999999,
          15.51,
          15.639999999999999,
          15.77,
          15.899999999999999,
          16.03,
          16.16,
          16.29,
          16.419999999999998,
          16.549999999999997,
          16.68,
          16.81,
          16.939999999999998,
          17.07,
          17.2
         ],
         "y": [
          2.8437988154051967,
          2.8472835756208053,
          2.844193646822417,
          2.845849280201782,
          2.8459163859159675,
          2.8424933931321634,
          2.838777140006767,
          2.8385564359371123,
          2.8386477277922317,
          2.835931876826381,
          2.8372229309661234,
          2.836200336828307,
          2.8385194750080545,
          2.839661037100203,
          2.8429078251853332,
          2.8445553221241804,
          2.8450778329643285,
          2.8459940266978774,
          2.845033325925199,
          2.845026197155309,
          2.8418900234922884,
          2.842227169074457,
          2.841771984167625,
          2.841692744760594,
          2.843849967913216,
          2.8422549586551873,
          2.847777962289195,
          2.85140976360817,
          2.8543809338672723,
          2.854366602680882,
          2.857253296874465,
          2.8576396943106737,
          2.865040301745335,
          2.872423055540392,
          2.8768812889351203,
          2.8838793386686623,
          2.888823513127792,
          2.8955626621824297,
          2.8989485189676967,
          2.9064757491892133,
          2.914366689780131
         ]
        }
       ],
       "layout": {
        "font": {
         "family": "Times New Roman",
         "size": 16
        },
        "height": 500,
        "showlegend": false,
        "template": {
         "data": {
          "bar": [
           {
            "error_x": {
             "color": "#2a3f5f"
            },
            "error_y": {
             "color": "#2a3f5f"
            },
            "marker": {
             "line": {
              "color": "white",
              "width": 0.5
             },
             "pattern": {
              "fillmode": "overlay",
              "size": 10,
              "solidity": 0.2
             }
            },
            "type": "bar"
           }
          ],
          "barpolar": [
           {
            "marker": {
             "line": {
              "color": "white",
              "width": 0.5
             },
             "pattern": {
              "fillmode": "overlay",
              "size": 10,
              "solidity": 0.2
             }
            },
            "type": "barpolar"
           }
          ],
          "carpet": [
           {
            "aaxis": {
             "endlinecolor": "#2a3f5f",
             "gridcolor": "#C8D4E3",
             "linecolor": "#C8D4E3",
             "minorgridcolor": "#C8D4E3",
             "startlinecolor": "#2a3f5f"
            },
            "baxis": {
             "endlinecolor": "#2a3f5f",
             "gridcolor": "#C8D4E3",
             "linecolor": "#C8D4E3",
             "minorgridcolor": "#C8D4E3",
             "startlinecolor": "#2a3f5f"
            },
            "type": "carpet"
           }
          ],
          "choropleth": [
           {
            "colorbar": {
             "outlinewidth": 0,
             "ticks": ""
            },
            "type": "choropleth"
           }
          ],
          "contour": [
           {
            "colorbar": {
             "outlinewidth": 0,
             "ticks": ""
            },
            "colorscale": [
             [
              0,
              "#0d0887"
             ],
             [
              0.1111111111111111,
              "#46039f"
             ],
             [
              0.2222222222222222,
              "#7201a8"
             ],
             [
              0.3333333333333333,
              "#9c179e"
             ],
             [
              0.4444444444444444,
              "#bd3786"
             ],
             [
              0.5555555555555556,
              "#d8576b"
             ],
             [
              0.6666666666666666,
              "#ed7953"
             ],
             [
              0.7777777777777778,
              "#fb9f3a"
             ],
             [
              0.8888888888888888,
              "#fdca26"
             ],
             [
              1,
              "#f0f921"
             ]
            ],
            "type": "contour"
           }
          ],
          "contourcarpet": [
           {
            "colorbar": {
             "outlinewidth": 0,
             "ticks": ""
            },
            "type": "contourcarpet"
           }
          ],
          "heatmap": [
           {
            "colorbar": {
             "outlinewidth": 0,
             "ticks": ""
            },
            "colorscale": [
             [
              0,
              "#0d0887"
             ],
             [
              0.1111111111111111,
              "#46039f"
             ],
             [
              0.2222222222222222,
              "#7201a8"
             ],
             [
              0.3333333333333333,
              "#9c179e"
             ],
             [
              0.4444444444444444,
              "#bd3786"
             ],
             [
              0.5555555555555556,
              "#d8576b"
             ],
             [
              0.6666666666666666,
              "#ed7953"
             ],
             [
              0.7777777777777778,
              "#fb9f3a"
             ],
             [
              0.8888888888888888,
              "#fdca26"
             ],
             [
              1,
              "#f0f921"
             ]
            ],
            "type": "heatmap"
           }
          ],
          "heatmapgl": [
           {
            "colorbar": {
             "outlinewidth": 0,
             "ticks": ""
            },
            "colorscale": [
             [
              0,
              "#0d0887"
             ],
             [
              0.1111111111111111,
              "#46039f"
             ],
             [
              0.2222222222222222,
              "#7201a8"
             ],
             [
              0.3333333333333333,
              "#9c179e"
             ],
             [
              0.4444444444444444,
              "#bd3786"
             ],
             [
              0.5555555555555556,
              "#d8576b"
             ],
             [
              0.6666666666666666,
              "#ed7953"
             ],
             [
              0.7777777777777778,
              "#fb9f3a"
             ],
             [
              0.8888888888888888,
              "#fdca26"
             ],
             [
              1,
              "#f0f921"
             ]
            ],
            "type": "heatmapgl"
           }
          ],
          "histogram": [
           {
            "marker": {
             "pattern": {
              "fillmode": "overlay",
              "size": 10,
              "solidity": 0.2
             }
            },
            "type": "histogram"
           }
          ],
          "histogram2d": [
           {
            "colorbar": {
             "outlinewidth": 0,
             "ticks": ""
            },
            "colorscale": [
             [
              0,
              "#0d0887"
             ],
             [
              0.1111111111111111,
              "#46039f"
             ],
             [
              0.2222222222222222,
              "#7201a8"
             ],
             [
              0.3333333333333333,
              "#9c179e"
             ],
             [
              0.4444444444444444,
              "#bd3786"
             ],
             [
              0.5555555555555556,
              "#d8576b"
             ],
             [
              0.6666666666666666,
              "#ed7953"
             ],
             [
              0.7777777777777778,
              "#fb9f3a"
             ],
             [
              0.8888888888888888,
              "#fdca26"
             ],
             [
              1,
              "#f0f921"
             ]
            ],
            "type": "histogram2d"
           }
          ],
          "histogram2dcontour": [
           {
            "colorbar": {
             "outlinewidth": 0,
             "ticks": ""
            },
            "colorscale": [
             [
              0,
              "#0d0887"
             ],
             [
              0.1111111111111111,
              "#46039f"
             ],
             [
              0.2222222222222222,
              "#7201a8"
             ],
             [
              0.3333333333333333,
              "#9c179e"
             ],
             [
              0.4444444444444444,
              "#bd3786"
             ],
             [
              0.5555555555555556,
              "#d8576b"
             ],
             [
              0.6666666666666666,
              "#ed7953"
             ],
             [
              0.7777777777777778,
              "#fb9f3a"
             ],
             [
              0.8888888888888888,
              "#fdca26"
             ],
             [
              1,
              "#f0f921"
             ]
            ],
            "type": "histogram2dcontour"
           }
          ],
          "mesh3d": [
           {
            "colorbar": {
             "outlinewidth": 0,
             "ticks": ""
            },
            "type": "mesh3d"
           }
          ],
          "parcoords": [
           {
            "line": {
             "colorbar": {
              "outlinewidth": 0,
              "ticks": ""
             }
            },
            "type": "parcoords"
           }
          ],
          "pie": [
           {
            "automargin": true,
            "type": "pie"
           }
          ],
          "scatter": [
           {
            "marker": {
             "colorbar": {
              "outlinewidth": 0,
              "ticks": ""
             }
            },
            "type": "scatter"
           }
          ],
          "scatter3d": [
           {
            "line": {
             "colorbar": {
              "outlinewidth": 0,
              "ticks": ""
             }
            },
            "marker": {
             "colorbar": {
              "outlinewidth": 0,
              "ticks": ""
             }
            },
            "type": "scatter3d"
           }
          ],
          "scattercarpet": [
           {
            "marker": {
             "colorbar": {
              "outlinewidth": 0,
              "ticks": ""
             }
            },
            "type": "scattercarpet"
           }
          ],
          "scattergeo": [
           {
            "marker": {
             "colorbar": {
              "outlinewidth": 0,
              "ticks": ""
             }
            },
            "type": "scattergeo"
           }
          ],
          "scattergl": [
           {
            "marker": {
             "colorbar": {
              "outlinewidth": 0,
              "ticks": ""
             }
            },
            "type": "scattergl"
           }
          ],
          "scattermapbox": [
           {
            "marker": {
             "colorbar": {
              "outlinewidth": 0,
              "ticks": ""
             }
            },
            "type": "scattermapbox"
           }
          ],
          "scatterpolar": [
           {
            "marker": {
             "colorbar": {
              "outlinewidth": 0,
              "ticks": ""
             }
            },
            "type": "scatterpolar"
           }
          ],
          "scatterpolargl": [
           {
            "marker": {
             "colorbar": {
              "outlinewidth": 0,
              "ticks": ""
             }
            },
            "type": "scatterpolargl"
           }
          ],
          "scatterternary": [
           {
            "marker": {
             "colorbar": {
              "outlinewidth": 0,
              "ticks": ""
             }
            },
            "type": "scatterternary"
           }
          ],
          "surface": [
           {
            "colorbar": {
             "outlinewidth": 0,
             "ticks": ""
            },
            "colorscale": [
             [
              0,
              "#0d0887"
             ],
             [
              0.1111111111111111,
              "#46039f"
             ],
             [
              0.2222222222222222,
              "#7201a8"
             ],
             [
              0.3333333333333333,
              "#9c179e"
             ],
             [
              0.4444444444444444,
              "#bd3786"
             ],
             [
              0.5555555555555556,
              "#d8576b"
             ],
             [
              0.6666666666666666,
              "#ed7953"
             ],
             [
              0.7777777777777778,
              "#fb9f3a"
             ],
             [
              0.8888888888888888,
              "#fdca26"
             ],
             [
              1,
              "#f0f921"
             ]
            ],
            "type": "surface"
           }
          ],
          "table": [
           {
            "cells": {
             "fill": {
              "color": "#EBF0F8"
             },
             "line": {
              "color": "white"
             }
            },
            "header": {
             "fill": {
              "color": "#C8D4E3"
             },
             "line": {
              "color": "white"
             }
            },
            "type": "table"
           }
          ]
         },
         "layout": {
          "annotationdefaults": {
           "arrowcolor": "#2a3f5f",
           "arrowhead": 0,
           "arrowwidth": 1
          },
          "autotypenumbers": "strict",
          "coloraxis": {
           "colorbar": {
            "outlinewidth": 0,
            "ticks": ""
           }
          },
          "colorscale": {
           "diverging": [
            [
             0,
             "#8e0152"
            ],
            [
             0.1,
             "#c51b7d"
            ],
            [
             0.2,
             "#de77ae"
            ],
            [
             0.3,
             "#f1b6da"
            ],
            [
             0.4,
             "#fde0ef"
            ],
            [
             0.5,
             "#f7f7f7"
            ],
            [
             0.6,
             "#e6f5d0"
            ],
            [
             0.7,
             "#b8e186"
            ],
            [
             0.8,
             "#7fbc41"
            ],
            [
             0.9,
             "#4d9221"
            ],
            [
             1,
             "#276419"
            ]
           ],
           "sequential": [
            [
             0,
             "#0d0887"
            ],
            [
             0.1111111111111111,
             "#46039f"
            ],
            [
             0.2222222222222222,
             "#7201a8"
            ],
            [
             0.3333333333333333,
             "#9c179e"
            ],
            [
             0.4444444444444444,
             "#bd3786"
            ],
            [
             0.5555555555555556,
             "#d8576b"
            ],
            [
             0.6666666666666666,
             "#ed7953"
            ],
            [
             0.7777777777777778,
             "#fb9f3a"
            ],
            [
             0.8888888888888888,
             "#fdca26"
            ],
            [
             1,
             "#f0f921"
            ]
           ],
           "sequentialminus": [
            [
             0,
             "#0d0887"
            ],
            [
             0.1111111111111111,
             "#46039f"
            ],
            [
             0.2222222222222222,
             "#7201a8"
            ],
            [
             0.3333333333333333,
             "#9c179e"
            ],
            [
             0.4444444444444444,
             "#bd3786"
            ],
            [
             0.5555555555555556,
             "#d8576b"
            ],
            [
             0.6666666666666666,
             "#ed7953"
            ],
            [
             0.7777777777777778,
             "#fb9f3a"
            ],
            [
             0.8888888888888888,
             "#fdca26"
            ],
            [
             1,
             "#f0f921"
            ]
           ]
          },
          "colorway": [
           "#636efa",
           "#EF553B",
           "#00cc96",
           "#ab63fa",
           "#FFA15A",
           "#19d3f3",
           "#FF6692",
           "#B6E880",
           "#FF97FF",
           "#FECB52"
          ],
          "font": {
           "color": "#2a3f5f"
          },
          "geo": {
           "bgcolor": "white",
           "lakecolor": "white",
           "landcolor": "white",
           "showlakes": true,
           "showland": true,
           "subunitcolor": "#C8D4E3"
          },
          "hoverlabel": {
           "align": "left"
          },
          "hovermode": "closest",
          "mapbox": {
           "style": "light"
          },
          "paper_bgcolor": "white",
          "plot_bgcolor": "white",
          "polar": {
           "angularaxis": {
            "gridcolor": "#EBF0F8",
            "linecolor": "#EBF0F8",
            "ticks": ""
           },
           "bgcolor": "white",
           "radialaxis": {
            "gridcolor": "#EBF0F8",
            "linecolor": "#EBF0F8",
            "ticks": ""
           }
          },
          "scene": {
           "xaxis": {
            "backgroundcolor": "white",
            "gridcolor": "#DFE8F3",
            "gridwidth": 2,
            "linecolor": "#EBF0F8",
            "showbackground": true,
            "ticks": "",
            "zerolinecolor": "#EBF0F8"
           },
           "yaxis": {
            "backgroundcolor": "white",
            "gridcolor": "#DFE8F3",
            "gridwidth": 2,
            "linecolor": "#EBF0F8",
            "showbackground": true,
            "ticks": "",
            "zerolinecolor": "#EBF0F8"
           },
           "zaxis": {
            "backgroundcolor": "white",
            "gridcolor": "#DFE8F3",
            "gridwidth": 2,
            "linecolor": "#EBF0F8",
            "showbackground": true,
            "ticks": "",
            "zerolinecolor": "#EBF0F8"
           }
          },
          "shapedefaults": {
           "line": {
            "color": "#2a3f5f"
           }
          },
          "ternary": {
           "aaxis": {
            "gridcolor": "#DFE8F3",
            "linecolor": "#A2B1C6",
            "ticks": ""
           },
           "baxis": {
            "gridcolor": "#DFE8F3",
            "linecolor": "#A2B1C6",
            "ticks": ""
           },
           "bgcolor": "white",
           "caxis": {
            "gridcolor": "#DFE8F3",
            "linecolor": "#A2B1C6",
            "ticks": ""
           }
          },
          "title": {
           "x": 0.05
          },
          "xaxis": {
           "automargin": true,
           "gridcolor": "#EBF0F8",
           "linecolor": "#EBF0F8",
           "ticks": "",
           "title": {
            "standoff": 15
           },
           "zerolinecolor": "#EBF0F8",
           "zerolinewidth": 2
          },
          "yaxis": {
           "automargin": true,
           "gridcolor": "#EBF0F8",
           "linecolor": "#EBF0F8",
           "ticks": "",
           "title": {
            "standoff": 15
           },
           "zerolinecolor": "#EBF0F8",
           "zerolinewidth": 2
          }
         }
        },
        "width": 950,
        "xaxis": {
         "dtick": 0.2,
         "gridcolor": "grey",
         "gridwidth": 0.25,
         "linecolor": "black",
         "mirror": true,
         "range": [
          12,
          17.2
         ],
         "showgrid": true,
         "showline": true,
         "tick0": 1,
         "ticks": "outside",
         "title": {
          "text": "R, m"
         }
        },
        "yaxis": {
         "gridcolor": "grey",
         "gridwidth": 0.25,
         "linecolor": "black",
         "mirror": true,
         "range": [
          2.82,
          2.94
         ],
         "showgrid": true,
         "showline": true,
         "ticks": "outside",
         "title": {
          "text": "$\\tilde{a}$"
         },
         "zeroline": true,
         "zerolinecolor": "black",
         "zerolinewidth": 0.25
        }
       }
      },
      "text/html": [
       "<div>                            <div id=\"4c5c3d87-1b9f-4c0d-b7dd-ea80ff1ee397\" class=\"plotly-graph-div\" style=\"height:500px; width:950px;\"></div>            <script type=\"text/javascript\">                require([\"plotly\"], function(Plotly) {                    window.PLOTLYENV=window.PLOTLYENV || {};                                    if (document.getElementById(\"4c5c3d87-1b9f-4c0d-b7dd-ea80ff1ee397\")) {                    Plotly.newPlot(                        \"4c5c3d87-1b9f-4c0d-b7dd-ea80ff1ee397\",                        [{\"line\":{\"color\":\"black\",\"width\":0.75},\"type\":\"scatter\",\"x\":[12.0,12.13,12.26,12.39,12.52,12.65,12.78,12.91,13.04,13.17,13.3,13.43,13.559999999999999,13.69,13.82,13.95,14.08,14.209999999999999,14.34,14.469999999999999,14.6,14.73,14.86,14.989999999999998,15.12,15.25,15.379999999999999,15.51,15.639999999999999,15.77,15.899999999999999,16.03,16.16,16.29,16.419999999999998,16.549999999999997,16.68,16.81,16.939999999999998,17.07,17.2],\"y\":[2.86294376569278,2.865826315491974,2.8626327724787406,2.8645716318539662,2.8644507485414623,2.8611843011533873,2.856835178795997,2.856996581978053,2.8568671688172396,2.8544783716636335,2.8551999863527966,2.8538679071757342,2.856591170380698,2.857522239799875,2.8608050042750466,2.8621090730691257,2.861975622411372,2.8634418833169586,2.8620096469749807,2.8615249050282214,2.8585315401386118,2.8581887121248215,2.8580318808709304,2.8614161066184907,2.8633100594360648,2.861550032480087,2.86610033353396,2.870061537915938,2.8725232760062913,2.8716140818482274,2.8742616304127115,2.87526092782686,2.882201122045864,2.890499856254611,2.8954051473478977,2.902500584134534,2.90652666714507,2.912586837656288,2.914809447619299,2.9223475326029815,2.9301044850869657]},{\"fill\":\"tonexty\",\"fillcolor\":\"rgba(150, 0, 0, 0.3)\",\"line\":{\"color\":\"black\",\"width\":0.75},\"type\":\"scatter\",\"x\":[12.0,12.13,12.26,12.39,12.52,12.65,12.78,12.91,13.04,13.17,13.3,13.43,13.559999999999999,13.69,13.82,13.95,14.08,14.209999999999999,14.34,14.469999999999999,14.6,14.73,14.86,14.989999999999998,15.12,15.25,15.379999999999999,15.51,15.639999999999999,15.77,15.899999999999999,16.03,16.16,16.29,16.419999999999998,16.549999999999997,16.68,16.81,16.939999999999998,17.07,17.2],\"y\":[2.8246538651176136,2.8287408357496364,2.8257545211660937,2.827126928549598,2.8273820232904727,2.8238024851109396,2.820719101217537,2.8201162898961716,2.820428286767224,2.817385381989128,2.8192458755794503,2.8185327664808795,2.820447779635411,2.821799834400531,2.82501064609562,2.827001571179235,2.828180043517285,2.828546170078796,2.8280570048754177,2.828527489282396,2.825248506845965,2.8262656260240924,2.82551208746432,2.8219693829026977,2.824389876390367,2.8229598848302877,2.8294555910444306,2.8327579893004016,2.8362385917282533,2.8371191235135362,2.8402449633362186,2.840018460794487,2.847879481444806,2.8543462548261727,2.858357430522343,2.8652580932027907,2.8711203591105146,2.8785384867085715,2.8830875903160944,2.890603965775445,2.8986288944732963]},{\"line\":{\"color\":\"black\",\"dash\":\"dash\"},\"marker\":{\"color\":\"black\",\"size\":8,\"symbol\":\"x\"},\"mode\":\"lines\",\"type\":\"scatter\",\"x\":[12.0,12.13,12.26,12.39,12.52,12.65,12.78,12.91,13.04,13.17,13.3,13.43,13.559999999999999,13.69,13.82,13.95,14.08,14.209999999999999,14.34,14.469999999999999,14.6,14.73,14.86,14.989999999999998,15.12,15.25,15.379999999999999,15.51,15.639999999999999,15.77,15.899999999999999,16.03,16.16,16.29,16.419999999999998,16.549999999999997,16.68,16.81,16.939999999999998,17.07,17.2],\"y\":[2.8437988154051967,2.8472835756208053,2.844193646822417,2.845849280201782,2.8459163859159675,2.8424933931321634,2.838777140006767,2.8385564359371123,2.8386477277922317,2.835931876826381,2.8372229309661234,2.836200336828307,2.8385194750080545,2.839661037100203,2.8429078251853332,2.8445553221241804,2.8450778329643285,2.8459940266978774,2.845033325925199,2.845026197155309,2.8418900234922884,2.842227169074457,2.841771984167625,2.841692744760594,2.843849967913216,2.8422549586551873,2.847777962289195,2.85140976360817,2.8543809338672723,2.854366602680882,2.857253296874465,2.8576396943106737,2.865040301745335,2.872423055540392,2.8768812889351203,2.8838793386686623,2.888823513127792,2.8955626621824297,2.8989485189676967,2.9064757491892133,2.914366689780131]}],                        {\"font\":{\"family\":\"Times New Roman\",\"size\":16},\"height\":500,\"showlegend\":false,\"template\":{\"data\":{\"bar\":[{\"error_x\":{\"color\":\"#2a3f5f\"},\"error_y\":{\"color\":\"#2a3f5f\"},\"marker\":{\"line\":{\"color\":\"white\",\"width\":0.5},\"pattern\":{\"fillmode\":\"overlay\",\"size\":10,\"solidity\":0.2}},\"type\":\"bar\"}],\"barpolar\":[{\"marker\":{\"line\":{\"color\":\"white\",\"width\":0.5},\"pattern\":{\"fillmode\":\"overlay\",\"size\":10,\"solidity\":0.2}},\"type\":\"barpolar\"}],\"carpet\":[{\"aaxis\":{\"endlinecolor\":\"#2a3f5f\",\"gridcolor\":\"#C8D4E3\",\"linecolor\":\"#C8D4E3\",\"minorgridcolor\":\"#C8D4E3\",\"startlinecolor\":\"#2a3f5f\"},\"baxis\":{\"endlinecolor\":\"#2a3f5f\",\"gridcolor\":\"#C8D4E3\",\"linecolor\":\"#C8D4E3\",\"minorgridcolor\":\"#C8D4E3\",\"startlinecolor\":\"#2a3f5f\"},\"type\":\"carpet\"}],\"choropleth\":[{\"colorbar\":{\"outlinewidth\":0,\"ticks\":\"\"},\"type\":\"choropleth\"}],\"contour\":[{\"colorbar\":{\"outlinewidth\":0,\"ticks\":\"\"},\"colorscale\":[[0.0,\"#0d0887\"],[0.1111111111111111,\"#46039f\"],[0.2222222222222222,\"#7201a8\"],[0.3333333333333333,\"#9c179e\"],[0.4444444444444444,\"#bd3786\"],[0.5555555555555556,\"#d8576b\"],[0.6666666666666666,\"#ed7953\"],[0.7777777777777778,\"#fb9f3a\"],[0.8888888888888888,\"#fdca26\"],[1.0,\"#f0f921\"]],\"type\":\"contour\"}],\"contourcarpet\":[{\"colorbar\":{\"outlinewidth\":0,\"ticks\":\"\"},\"type\":\"contourcarpet\"}],\"heatmap\":[{\"colorbar\":{\"outlinewidth\":0,\"ticks\":\"\"},\"colorscale\":[[0.0,\"#0d0887\"],[0.1111111111111111,\"#46039f\"],[0.2222222222222222,\"#7201a8\"],[0.3333333333333333,\"#9c179e\"],[0.4444444444444444,\"#bd3786\"],[0.5555555555555556,\"#d8576b\"],[0.6666666666666666,\"#ed7953\"],[0.7777777777777778,\"#fb9f3a\"],[0.8888888888888888,\"#fdca26\"],[1.0,\"#f0f921\"]],\"type\":\"heatmap\"}],\"heatmapgl\":[{\"colorbar\":{\"outlinewidth\":0,\"ticks\":\"\"},\"colorscale\":[[0.0,\"#0d0887\"],[0.1111111111111111,\"#46039f\"],[0.2222222222222222,\"#7201a8\"],[0.3333333333333333,\"#9c179e\"],[0.4444444444444444,\"#bd3786\"],[0.5555555555555556,\"#d8576b\"],[0.6666666666666666,\"#ed7953\"],[0.7777777777777778,\"#fb9f3a\"],[0.8888888888888888,\"#fdca26\"],[1.0,\"#f0f921\"]],\"type\":\"heatmapgl\"}],\"histogram\":[{\"marker\":{\"pattern\":{\"fillmode\":\"overlay\",\"size\":10,\"solidity\":0.2}},\"type\":\"histogram\"}],\"histogram2d\":[{\"colorbar\":{\"outlinewidth\":0,\"ticks\":\"\"},\"colorscale\":[[0.0,\"#0d0887\"],[0.1111111111111111,\"#46039f\"],[0.2222222222222222,\"#7201a8\"],[0.3333333333333333,\"#9c179e\"],[0.4444444444444444,\"#bd3786\"],[0.5555555555555556,\"#d8576b\"],[0.6666666666666666,\"#ed7953\"],[0.7777777777777778,\"#fb9f3a\"],[0.8888888888888888,\"#fdca26\"],[1.0,\"#f0f921\"]],\"type\":\"histogram2d\"}],\"histogram2dcontour\":[{\"colorbar\":{\"outlinewidth\":0,\"ticks\":\"\"},\"colorscale\":[[0.0,\"#0d0887\"],[0.1111111111111111,\"#46039f\"],[0.2222222222222222,\"#7201a8\"],[0.3333333333333333,\"#9c179e\"],[0.4444444444444444,\"#bd3786\"],[0.5555555555555556,\"#d8576b\"],[0.6666666666666666,\"#ed7953\"],[0.7777777777777778,\"#fb9f3a\"],[0.8888888888888888,\"#fdca26\"],[1.0,\"#f0f921\"]],\"type\":\"histogram2dcontour\"}],\"mesh3d\":[{\"colorbar\":{\"outlinewidth\":0,\"ticks\":\"\"},\"type\":\"mesh3d\"}],\"parcoords\":[{\"line\":{\"colorbar\":{\"outlinewidth\":0,\"ticks\":\"\"}},\"type\":\"parcoords\"}],\"pie\":[{\"automargin\":true,\"type\":\"pie\"}],\"scatter\":[{\"marker\":{\"colorbar\":{\"outlinewidth\":0,\"ticks\":\"\"}},\"type\":\"scatter\"}],\"scatter3d\":[{\"line\":{\"colorbar\":{\"outlinewidth\":0,\"ticks\":\"\"}},\"marker\":{\"colorbar\":{\"outlinewidth\":0,\"ticks\":\"\"}},\"type\":\"scatter3d\"}],\"scattercarpet\":[{\"marker\":{\"colorbar\":{\"outlinewidth\":0,\"ticks\":\"\"}},\"type\":\"scattercarpet\"}],\"scattergeo\":[{\"marker\":{\"colorbar\":{\"outlinewidth\":0,\"ticks\":\"\"}},\"type\":\"scattergeo\"}],\"scattergl\":[{\"marker\":{\"colorbar\":{\"outlinewidth\":0,\"ticks\":\"\"}},\"type\":\"scattergl\"}],\"scattermapbox\":[{\"marker\":{\"colorbar\":{\"outlinewidth\":0,\"ticks\":\"\"}},\"type\":\"scattermapbox\"}],\"scatterpolar\":[{\"marker\":{\"colorbar\":{\"outlinewidth\":0,\"ticks\":\"\"}},\"type\":\"scatterpolar\"}],\"scatterpolargl\":[{\"marker\":{\"colorbar\":{\"outlinewidth\":0,\"ticks\":\"\"}},\"type\":\"scatterpolargl\"}],\"scatterternary\":[{\"marker\":{\"colorbar\":{\"outlinewidth\":0,\"ticks\":\"\"}},\"type\":\"scatterternary\"}],\"surface\":[{\"colorbar\":{\"outlinewidth\":0,\"ticks\":\"\"},\"colorscale\":[[0.0,\"#0d0887\"],[0.1111111111111111,\"#46039f\"],[0.2222222222222222,\"#7201a8\"],[0.3333333333333333,\"#9c179e\"],[0.4444444444444444,\"#bd3786\"],[0.5555555555555556,\"#d8576b\"],[0.6666666666666666,\"#ed7953\"],[0.7777777777777778,\"#fb9f3a\"],[0.8888888888888888,\"#fdca26\"],[1.0,\"#f0f921\"]],\"type\":\"surface\"}],\"table\":[{\"cells\":{\"fill\":{\"color\":\"#EBF0F8\"},\"line\":{\"color\":\"white\"}},\"header\":{\"fill\":{\"color\":\"#C8D4E3\"},\"line\":{\"color\":\"white\"}},\"type\":\"table\"}]},\"layout\":{\"annotationdefaults\":{\"arrowcolor\":\"#2a3f5f\",\"arrowhead\":0,\"arrowwidth\":1},\"autotypenumbers\":\"strict\",\"coloraxis\":{\"colorbar\":{\"outlinewidth\":0,\"ticks\":\"\"}},\"colorscale\":{\"diverging\":[[0,\"#8e0152\"],[0.1,\"#c51b7d\"],[0.2,\"#de77ae\"],[0.3,\"#f1b6da\"],[0.4,\"#fde0ef\"],[0.5,\"#f7f7f7\"],[0.6,\"#e6f5d0\"],[0.7,\"#b8e186\"],[0.8,\"#7fbc41\"],[0.9,\"#4d9221\"],[1,\"#276419\"]],\"sequential\":[[0.0,\"#0d0887\"],[0.1111111111111111,\"#46039f\"],[0.2222222222222222,\"#7201a8\"],[0.3333333333333333,\"#9c179e\"],[0.4444444444444444,\"#bd3786\"],[0.5555555555555556,\"#d8576b\"],[0.6666666666666666,\"#ed7953\"],[0.7777777777777778,\"#fb9f3a\"],[0.8888888888888888,\"#fdca26\"],[1.0,\"#f0f921\"]],\"sequentialminus\":[[0.0,\"#0d0887\"],[0.1111111111111111,\"#46039f\"],[0.2222222222222222,\"#7201a8\"],[0.3333333333333333,\"#9c179e\"],[0.4444444444444444,\"#bd3786\"],[0.5555555555555556,\"#d8576b\"],[0.6666666666666666,\"#ed7953\"],[0.7777777777777778,\"#fb9f3a\"],[0.8888888888888888,\"#fdca26\"],[1.0,\"#f0f921\"]]},\"colorway\":[\"#636efa\",\"#EF553B\",\"#00cc96\",\"#ab63fa\",\"#FFA15A\",\"#19d3f3\",\"#FF6692\",\"#B6E880\",\"#FF97FF\",\"#FECB52\"],\"font\":{\"color\":\"#2a3f5f\"},\"geo\":{\"bgcolor\":\"white\",\"lakecolor\":\"white\",\"landcolor\":\"white\",\"showlakes\":true,\"showland\":true,\"subunitcolor\":\"#C8D4E3\"},\"hoverlabel\":{\"align\":\"left\"},\"hovermode\":\"closest\",\"mapbox\":{\"style\":\"light\"},\"paper_bgcolor\":\"white\",\"plot_bgcolor\":\"white\",\"polar\":{\"angularaxis\":{\"gridcolor\":\"#EBF0F8\",\"linecolor\":\"#EBF0F8\",\"ticks\":\"\"},\"bgcolor\":\"white\",\"radialaxis\":{\"gridcolor\":\"#EBF0F8\",\"linecolor\":\"#EBF0F8\",\"ticks\":\"\"}},\"scene\":{\"xaxis\":{\"backgroundcolor\":\"white\",\"gridcolor\":\"#DFE8F3\",\"gridwidth\":2,\"linecolor\":\"#EBF0F8\",\"showbackground\":true,\"ticks\":\"\",\"zerolinecolor\":\"#EBF0F8\"},\"yaxis\":{\"backgroundcolor\":\"white\",\"gridcolor\":\"#DFE8F3\",\"gridwidth\":2,\"linecolor\":\"#EBF0F8\",\"showbackground\":true,\"ticks\":\"\",\"zerolinecolor\":\"#EBF0F8\"},\"zaxis\":{\"backgroundcolor\":\"white\",\"gridcolor\":\"#DFE8F3\",\"gridwidth\":2,\"linecolor\":\"#EBF0F8\",\"showbackground\":true,\"ticks\":\"\",\"zerolinecolor\":\"#EBF0F8\"}},\"shapedefaults\":{\"line\":{\"color\":\"#2a3f5f\"}},\"ternary\":{\"aaxis\":{\"gridcolor\":\"#DFE8F3\",\"linecolor\":\"#A2B1C6\",\"ticks\":\"\"},\"baxis\":{\"gridcolor\":\"#DFE8F3\",\"linecolor\":\"#A2B1C6\",\"ticks\":\"\"},\"bgcolor\":\"white\",\"caxis\":{\"gridcolor\":\"#DFE8F3\",\"linecolor\":\"#A2B1C6\",\"ticks\":\"\"}},\"title\":{\"x\":0.05},\"xaxis\":{\"automargin\":true,\"gridcolor\":\"#EBF0F8\",\"linecolor\":\"#EBF0F8\",\"ticks\":\"\",\"title\":{\"standoff\":15},\"zerolinecolor\":\"#EBF0F8\",\"zerolinewidth\":2},\"yaxis\":{\"automargin\":true,\"gridcolor\":\"#EBF0F8\",\"linecolor\":\"#EBF0F8\",\"ticks\":\"\",\"title\":{\"standoff\":15},\"zerolinecolor\":\"#EBF0F8\",\"zerolinewidth\":2}}},\"width\":950,\"xaxis\":{\"dtick\":0.2,\"gridcolor\":\"grey\",\"gridwidth\":0.25,\"linecolor\":\"black\",\"mirror\":true,\"range\":[12,17.2],\"showgrid\":true,\"showline\":true,\"tick0\":1,\"ticks\":\"outside\",\"title\":{\"text\":\"R, m\"}},\"yaxis\":{\"gridcolor\":\"grey\",\"gridwidth\":0.25,\"linecolor\":\"black\",\"mirror\":true,\"range\":[2.82,2.94],\"showgrid\":true,\"showline\":true,\"ticks\":\"outside\",\"title\":{\"text\":\"$\\\\tilde{a}$\"},\"zeroline\":true,\"zerolinecolor\":\"black\",\"zerolinewidth\":0.25}},                        {\"responsive\": true}                    ).then(function(){\n",
       "                            \n",
       "var gd = document.getElementById('4c5c3d87-1b9f-4c0d-b7dd-ea80ff1ee397');\n",
       "var x = new MutationObserver(function (mutations, observer) {{\n",
       "        var display = window.getComputedStyle(gd).display;\n",
       "        if (!display || display === 'none') {{\n",
       "            console.log([gd, 'removed!']);\n",
       "            Plotly.purge(gd);\n",
       "            observer.disconnect();\n",
       "        }}\n",
       "}});\n",
       "\n",
       "// Listen for the removal of the full notebook cells\n",
       "var notebookContainer = gd.closest('#notebook-container');\n",
       "if (notebookContainer) {{\n",
       "    x.observe(notebookContainer, {childList: true});\n",
       "}}\n",
       "\n",
       "// Listen for the clearing of the current output cell\n",
       "var outputEl = gd.closest('.output');\n",
       "if (outputEl) {{\n",
       "    x.observe(outputEl, {childList: true});\n",
       "}}\n",
       "\n",
       "                        })                };                });            </script>        </div>"
      ]
     },
     "metadata": {},
     "output_type": "display_data"
    }
   ],
   "source": [
    "fig = go.Figure()\n",
    "\n",
    "fig.add_trace(\n",
    "    go.Scatter(\n",
    "        x=Rs,\n",
    "        y=coefs_df_real[r'$\\tilde{a}$']+coefs_df_real[r'$\\Delta \\tilde{a}$'],\n",
    "        line=dict(color='black', width=0.75),\n",
    "    )\n",
    ")\n",
    "\n",
    "fig.add_trace(\n",
    "    go.Scatter(\n",
    "        x=Rs,\n",
    "        y=coefs_df_real[r'$\\tilde{a}$']-coefs_df_real[r'$\\Delta \\tilde{a}$'],\n",
    "        fill='tonexty',\n",
    "        fillcolor=color,\n",
    "        line=dict(color='black', width=0.75)\n",
    "    )\n",
    ")\n",
    "\n",
    "fig.add_trace(\n",
    "    go.Scatter(\n",
    "        x=Rs,\n",
    "        y=coefs_df_real[r'$\\tilde{a}$'],\n",
    "        mode='lines',#'lines+markers',\n",
    "        line=dict(\n",
    "            dash='dash',\n",
    "            color='black'\n",
    "        ),\n",
    "        marker=dict(\n",
    "            color='black',\n",
    "            size=8,\n",
    "            symbol='x'\n",
    "        ),\n",
    "    )\n",
    ")\n",
    "\n",
    "xaxis = lambda range: dict(\n",
    "    showline=True,\n",
    "    ticks='outside',\n",
    "    mirror=True,\n",
    "    tick0=1,\n",
    "    dtick=0.2,\n",
    "    range=range,\n",
    "    linecolor='black',\n",
    "    showgrid=True,\n",
    "    gridcolor='grey',\n",
    "    gridwidth=0.25,\n",
    ")\n",
    "\n",
    "yaxis = lambda range: dict(\n",
    "    showline=True,\n",
    "    ticks='outside',\n",
    "    mirror=True,\n",
    "    linecolor='black',\n",
    "    range=range,\n",
    "    showgrid=True,\n",
    "    gridcolor='grey',\n",
    "    gridwidth=0.25,\n",
    "    zeroline=True,\n",
    "    zerolinecolor='black',\n",
    "    zerolinewidth=0.25\n",
    ")\n",
    "\n",
    "fig.update_layout(\n",
    "    xaxis_title=\"R, m\",\n",
    "    yaxis_title=r'$\\tilde{a}$',\n",
    "    xaxis = xaxis([R_min, R_max]),\n",
    "    yaxis = yaxis(y_range),\n",
    "\n",
    "    showlegend=False,\n",
    "    height=500,\n",
    "    width=950,\n",
    "    font=dict(\n",
    "            family=\"Times New Roman\",\n",
    "            size=16,\n",
    "    ),\n",
    ")\n",
    "\n",
    "fig.show()\n",
    "pio.write_image(fig, f'plots/fv/atilde_vs_R_{model_type.upper()}_8_172.pdf', height=500, width=950)"
   ]
  },
  {
   "cell_type": "code",
   "execution_count": 23,
   "id": "4cdf9f92",
   "metadata": {},
   "outputs": [],
   "source": [
    "cols = []\n",
    "for i in range(len(energies[1:-1])):\n",
    "    cols.append('res '+str(energies[1:-1][i]))\n",
    "    cols.append('delta res '+str(energies[1:-1][i]))"
   ]
  },
  {
   "cell_type": "code",
   "execution_count": 24,
   "id": "0fedb4f0",
   "metadata": {},
   "outputs": [],
   "source": [
    "f_df = pd.read_csv('plots/fv/f_df.csv')\n",
    "accidentals_df = pd.read_csv('plots/fv/accidentals.csv')\n",
    "res_errors_df = pd.DataFrame(error_sigma_all[1],\n",
    "                             columns=['delta res '+str(energies[1:-1][i])\n",
    "                                      for i in range(energies[1:-1].shape[0])]\n",
    "                            )\n",
    "\n",
    "res_df = pd.DataFrame(res_all[1], columns=['res '+str(energies[1:-1][i]) for i in range(energies[1:-1].shape[0])])\n",
    "res_df = pd.concat([res_df, res_errors_df], axis=1)\n",
    "res_df = res_df[cols]\n",
    "res_df['accidentals'] = accidentals_df['accidentals']\n",
    "res_df['accidentals_err'] = accidentals_df['accidentals_err']\n",
    "res_df['f'] = f_df['f']\n",
    "res_df['df'] = f_df['df']\n",
    "res_df.to_csv(f'plots/fv/res_df_fv_{model_type.upper()}.csv', index=False)\n",
    "res_df.to_csv(f'plots/fv/res_df_fv_{model_type.upper()}.tsv', sep='\\t', index=False, header=None)\n",
    "res_df.to_pickle(f'plots/fv/res_df_fv_{model_type.upper()}.pkl')"
   ]
  },
  {
   "cell_type": "code",
   "execution_count": null,
   "id": "cd89ef94",
   "metadata": {},
   "outputs": [],
   "source": []
  }
 ],
 "metadata": {
  "kernelspec": {
   "display_name": "Python 3",
   "language": "python",
   "name": "python3"
  },
  "language_info": {
   "codemirror_mode": {
    "name": "ipython",
    "version": 3
   },
   "file_extension": ".py",
   "mimetype": "text/x-python",
   "name": "python",
   "nbconvert_exporter": "python",
   "pygments_lexer": "ipython3",
   "version": "3.8.10"
  }
 },
 "nbformat": 4,
 "nbformat_minor": 5
}
