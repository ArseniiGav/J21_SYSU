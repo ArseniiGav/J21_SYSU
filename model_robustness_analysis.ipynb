{
 "cells": [
  {
   "cell_type": "code",
   "execution_count": 1,
   "id": "6ffcef3a",
   "metadata": {},
   "outputs": [],
   "source": [
    "import pandas as pd\n",
    "import numpy as np\n",
    "from tqdm.notebook import tqdm\n",
    "\n",
    "import plotly.graph_objs as go\n",
    "from plotly.subplots import make_subplots\n",
    "import plotly.io as pio\n",
    "\n",
    "from xgboost import XGBRegressor\n",
    "import pickle\n",
    "from tensorflow.keras.models import load_model\n",
    "\n",
    "import warnings\n",
    "warnings.filterwarnings(\"ignore\")"
   ]
  },
  {
   "cell_type": "code",
   "execution_count": 2,
   "id": "199824aa",
   "metadata": {},
   "outputs": [],
   "source": [
    "def noised(X, σ):\n",
    "    noise = np.random.normal(0, σ, size=(X.shape[0], X.shape[1]))\n",
    "    return X + noise"
   ]
  },
  {
   "cell_type": "code",
   "execution_count": 3,
   "id": "56d2a34c",
   "metadata": {},
   "outputs": [],
   "source": [
    "# models = []\n",
    "# models.append(pickle.load(open(\"models/xgb_energy_ideal_opt_16.dat\", \"rb\")))\n",
    "# models.append(pickle.load(open(\"models/xgb_energy_real_opt_16.dat\", \"rb\")))\n",
    "# models.append(load_model(\"models/5M_ideal.h5\"))\n",
    "# models.append(load_model(\"models/5M_real.h5\"))\n",
    "\n",
    "# scalers = []\n",
    "# scalers.append(pickle.load(open('models/scaler_ideal.pkl','rb')))\n",
    "# scalers.append(pickle.load(open('models/scaler_real.pkl','rb')))"
   ]
  },
  {
   "cell_type": "code",
   "execution_count": 4,
   "id": "6edd19a0",
   "metadata": {},
   "outputs": [],
   "source": [
    "model = load_model(\"models/5M_real.h5\")\n",
    "scaler = pickle.load(open('models/scaler_real.pkl','rb'))"
   ]
  },
  {
   "cell_type": "code",
   "execution_count": 5,
   "id": "8d97f15a",
   "metadata": {},
   "outputs": [],
   "source": [
    "# opt_features = ['AccumCharge', 'R_cht', 'z_cc', 'pe_std',\n",
    "#                 'nPMTs', 'ht_kurtosis', 'ht_25-20p', 'R_cc',\n",
    "#                 'ht_5-2p', 'pe_mean', 'jacob_cht', 'phi_cc',\n",
    "#                 'ht_35-30p', 'ht_20-15p', 'pe_35p', 'ht_30-25p']\n",
    "\n",
    "# opt_features += ['edep']\n",
    "\n",
    "opt_features = ['AccumCharge', 'nPMTs', 'R_cc', 'R_cht', 'pe_mean',\n",
    "                'pe_std', 'pe_skew', 'pe_kurtosis', 'pho_cc', 'pho_cht',\n",
    "                'ht_2p', 'ht_5p', 'ht_10p', 'ht_15p', 'ht_20p',\n",
    "                'ht_25p', 'ht_30p', 'ht_35p', 'ht_40p', 'ht_45p',\n",
    "                'ht_50p', 'ht_55p', 'ht_60p', 'ht_65p', 'ht_70p',\n",
    "                'ht_75p', 'ht_80p', 'ht_85p', 'ht_90p', 'ht_95p',\n",
    "                'edep']"
   ]
  },
  {
   "cell_type": "code",
   "execution_count": 6,
   "id": "0b3a102f",
   "metadata": {},
   "outputs": [
    {
     "data": {
      "application/vnd.jupyter.widget-view+json": {
       "model_id": "2894626676b546dca7e94091b284efcf",
       "version_major": 2,
       "version_minor": 0
      },
      "text/plain": [
       "Sigmas...:   0%|          | 0/31 [00:00<?, ?it/s]"
      ]
     },
     "metadata": {},
     "output_type": "display_data"
    },
    {
     "data": {
      "application/vnd.jupyter.widget-view+json": {
       "model_id": "",
       "version_major": 2,
       "version_minor": 0
      },
      "text/plain": [
       "Energies...:   0%|          | 0/14 [00:00<?, ?it/s]"
      ]
     },
     "metadata": {},
     "output_type": "display_data"
    },
    {
     "data": {
      "application/vnd.jupyter.widget-view+json": {
       "model_id": "",
       "version_major": 2,
       "version_minor": 0
      },
      "text/plain": [
       "Energies...:   0%|          | 0/14 [00:00<?, ?it/s]"
      ]
     },
     "metadata": {},
     "output_type": "display_data"
    },
    {
     "data": {
      "application/vnd.jupyter.widget-view+json": {
       "model_id": "",
       "version_major": 2,
       "version_minor": 0
      },
      "text/plain": [
       "Energies...:   0%|          | 0/14 [00:00<?, ?it/s]"
      ]
     },
     "metadata": {},
     "output_type": "display_data"
    },
    {
     "data": {
      "application/vnd.jupyter.widget-view+json": {
       "model_id": "",
       "version_major": 2,
       "version_minor": 0
      },
      "text/plain": [
       "Energies...:   0%|          | 0/14 [00:00<?, ?it/s]"
      ]
     },
     "metadata": {},
     "output_type": "display_data"
    },
    {
     "data": {
      "application/vnd.jupyter.widget-view+json": {
       "model_id": "",
       "version_major": 2,
       "version_minor": 0
      },
      "text/plain": [
       "Energies...:   0%|          | 0/14 [00:00<?, ?it/s]"
      ]
     },
     "metadata": {},
     "output_type": "display_data"
    },
    {
     "data": {
      "application/vnd.jupyter.widget-view+json": {
       "model_id": "",
       "version_major": 2,
       "version_minor": 0
      },
      "text/plain": [
       "Energies...:   0%|          | 0/14 [00:00<?, ?it/s]"
      ]
     },
     "metadata": {},
     "output_type": "display_data"
    },
    {
     "data": {
      "application/vnd.jupyter.widget-view+json": {
       "model_id": "",
       "version_major": 2,
       "version_minor": 0
      },
      "text/plain": [
       "Energies...:   0%|          | 0/14 [00:00<?, ?it/s]"
      ]
     },
     "metadata": {},
     "output_type": "display_data"
    },
    {
     "data": {
      "application/vnd.jupyter.widget-view+json": {
       "model_id": "",
       "version_major": 2,
       "version_minor": 0
      },
      "text/plain": [
       "Energies...:   0%|          | 0/14 [00:00<?, ?it/s]"
      ]
     },
     "metadata": {},
     "output_type": "display_data"
    },
    {
     "data": {
      "application/vnd.jupyter.widget-view+json": {
       "model_id": "",
       "version_major": 2,
       "version_minor": 0
      },
      "text/plain": [
       "Energies...:   0%|          | 0/14 [00:00<?, ?it/s]"
      ]
     },
     "metadata": {},
     "output_type": "display_data"
    },
    {
     "data": {
      "application/vnd.jupyter.widget-view+json": {
       "model_id": "",
       "version_major": 2,
       "version_minor": 0
      },
      "text/plain": [
       "Energies...:   0%|          | 0/14 [00:00<?, ?it/s]"
      ]
     },
     "metadata": {},
     "output_type": "display_data"
    },
    {
     "data": {
      "application/vnd.jupyter.widget-view+json": {
       "model_id": "",
       "version_major": 2,
       "version_minor": 0
      },
      "text/plain": [
       "Energies...:   0%|          | 0/14 [00:00<?, ?it/s]"
      ]
     },
     "metadata": {},
     "output_type": "display_data"
    },
    {
     "data": {
      "application/vnd.jupyter.widget-view+json": {
       "model_id": "",
       "version_major": 2,
       "version_minor": 0
      },
      "text/plain": [
       "Energies...:   0%|          | 0/14 [00:00<?, ?it/s]"
      ]
     },
     "metadata": {},
     "output_type": "display_data"
    },
    {
     "data": {
      "application/vnd.jupyter.widget-view+json": {
       "model_id": "",
       "version_major": 2,
       "version_minor": 0
      },
      "text/plain": [
       "Energies...:   0%|          | 0/14 [00:00<?, ?it/s]"
      ]
     },
     "metadata": {},
     "output_type": "display_data"
    },
    {
     "data": {
      "application/vnd.jupyter.widget-view+json": {
       "model_id": "",
       "version_major": 2,
       "version_minor": 0
      },
      "text/plain": [
       "Energies...:   0%|          | 0/14 [00:00<?, ?it/s]"
      ]
     },
     "metadata": {},
     "output_type": "display_data"
    },
    {
     "data": {
      "application/vnd.jupyter.widget-view+json": {
       "model_id": "",
       "version_major": 2,
       "version_minor": 0
      },
      "text/plain": [
       "Energies...:   0%|          | 0/14 [00:00<?, ?it/s]"
      ]
     },
     "metadata": {},
     "output_type": "display_data"
    },
    {
     "data": {
      "application/vnd.jupyter.widget-view+json": {
       "model_id": "",
       "version_major": 2,
       "version_minor": 0
      },
      "text/plain": [
       "Energies...:   0%|          | 0/14 [00:00<?, ?it/s]"
      ]
     },
     "metadata": {},
     "output_type": "display_data"
    },
    {
     "data": {
      "application/vnd.jupyter.widget-view+json": {
       "model_id": "",
       "version_major": 2,
       "version_minor": 0
      },
      "text/plain": [
       "Energies...:   0%|          | 0/14 [00:00<?, ?it/s]"
      ]
     },
     "metadata": {},
     "output_type": "display_data"
    },
    {
     "data": {
      "application/vnd.jupyter.widget-view+json": {
       "model_id": "",
       "version_major": 2,
       "version_minor": 0
      },
      "text/plain": [
       "Energies...:   0%|          | 0/14 [00:00<?, ?it/s]"
      ]
     },
     "metadata": {},
     "output_type": "display_data"
    },
    {
     "data": {
      "application/vnd.jupyter.widget-view+json": {
       "model_id": "",
       "version_major": 2,
       "version_minor": 0
      },
      "text/plain": [
       "Energies...:   0%|          | 0/14 [00:00<?, ?it/s]"
      ]
     },
     "metadata": {},
     "output_type": "display_data"
    },
    {
     "data": {
      "application/vnd.jupyter.widget-view+json": {
       "model_id": "",
       "version_major": 2,
       "version_minor": 0
      },
      "text/plain": [
       "Energies...:   0%|          | 0/14 [00:00<?, ?it/s]"
      ]
     },
     "metadata": {},
     "output_type": "display_data"
    },
    {
     "data": {
      "application/vnd.jupyter.widget-view+json": {
       "model_id": "",
       "version_major": 2,
       "version_minor": 0
      },
      "text/plain": [
       "Energies...:   0%|          | 0/14 [00:00<?, ?it/s]"
      ]
     },
     "metadata": {},
     "output_type": "display_data"
    },
    {
     "data": {
      "application/vnd.jupyter.widget-view+json": {
       "model_id": "",
       "version_major": 2,
       "version_minor": 0
      },
      "text/plain": [
       "Energies...:   0%|          | 0/14 [00:00<?, ?it/s]"
      ]
     },
     "metadata": {},
     "output_type": "display_data"
    },
    {
     "data": {
      "application/vnd.jupyter.widget-view+json": {
       "model_id": "",
       "version_major": 2,
       "version_minor": 0
      },
      "text/plain": [
       "Energies...:   0%|          | 0/14 [00:00<?, ?it/s]"
      ]
     },
     "metadata": {},
     "output_type": "display_data"
    },
    {
     "data": {
      "application/vnd.jupyter.widget-view+json": {
       "model_id": "",
       "version_major": 2,
       "version_minor": 0
      },
      "text/plain": [
       "Energies...:   0%|          | 0/14 [00:00<?, ?it/s]"
      ]
     },
     "metadata": {},
     "output_type": "display_data"
    },
    {
     "data": {
      "application/vnd.jupyter.widget-view+json": {
       "model_id": "",
       "version_major": 2,
       "version_minor": 0
      },
      "text/plain": [
       "Energies...:   0%|          | 0/14 [00:00<?, ?it/s]"
      ]
     },
     "metadata": {},
     "output_type": "display_data"
    },
    {
     "data": {
      "application/vnd.jupyter.widget-view+json": {
       "model_id": "",
       "version_major": 2,
       "version_minor": 0
      },
      "text/plain": [
       "Energies...:   0%|          | 0/14 [00:00<?, ?it/s]"
      ]
     },
     "metadata": {},
     "output_type": "display_data"
    },
    {
     "data": {
      "application/vnd.jupyter.widget-view+json": {
       "model_id": "",
       "version_major": 2,
       "version_minor": 0
      },
      "text/plain": [
       "Energies...:   0%|          | 0/14 [00:00<?, ?it/s]"
      ]
     },
     "metadata": {},
     "output_type": "display_data"
    },
    {
     "data": {
      "application/vnd.jupyter.widget-view+json": {
       "model_id": "",
       "version_major": 2,
       "version_minor": 0
      },
      "text/plain": [
       "Energies...:   0%|          | 0/14 [00:00<?, ?it/s]"
      ]
     },
     "metadata": {},
     "output_type": "display_data"
    },
    {
     "data": {
      "application/vnd.jupyter.widget-view+json": {
       "model_id": "",
       "version_major": 2,
       "version_minor": 0
      },
      "text/plain": [
       "Energies...:   0%|          | 0/14 [00:00<?, ?it/s]"
      ]
     },
     "metadata": {},
     "output_type": "display_data"
    },
    {
     "data": {
      "application/vnd.jupyter.widget-view+json": {
       "model_id": "",
       "version_major": 2,
       "version_minor": 0
      },
      "text/plain": [
       "Energies...:   0%|          | 0/14 [00:00<?, ?it/s]"
      ]
     },
     "metadata": {},
     "output_type": "display_data"
    },
    {
     "data": {
      "application/vnd.jupyter.widget-view+json": {
       "model_id": "",
       "version_major": 2,
       "version_minor": 0
      },
      "text/plain": [
       "Energies...:   0%|          | 0/14 [00:00<?, ?it/s]"
      ]
     },
     "metadata": {},
     "output_type": "display_data"
    },
    {
     "name": "stdout",
     "output_type": "stream",
     "text": [
      "CPU times: user 2h 30min 19s, sys: 16min 49s, total: 2h 47min 8s\n",
      "Wall time: 1h 58min 16s\n"
     ]
    }
   ],
   "source": [
    "%%time\n",
    "path='/mnt/cephfs/ml_data/mc_2021/'\n",
    "sigmas = np.linspace(0, 0.03, 31)\n",
    "energies = [0, 0.1, 0.3, 0.6] + list(range(1, 11))\n",
    "y_true_array = []\n",
    "y_pred_array = []\n",
    "for j in tqdm(range(len(sigmas)), \"Sigmas...\"):\n",
    "    y_true = []\n",
    "    y_pred = []\n",
    "    for energy in tqdm(energies, \"Energies...\", leave=False):\n",
    "        test = pd.read_csv(f'{path}processed_data/ProcessedTestReal/{energy}MeV.csv.gz')\n",
    "        test = test[test['edepR'] < 17.2]\n",
    "        edep = np.array(test['edep'])\n",
    "        X_test = test[opt_features].iloc[:, :-1]\n",
    "        X_test = scaler.transform(X_test)\n",
    "        X_test = noised(X_test, sigmas[j])\n",
    "        edep_preds = model.predict(X_test).flatten()\n",
    "\n",
    "        y_true.append(edep)\n",
    "        y_pred.append(edep_preds)\n",
    "    y_true_array.append(y_true)\n",
    "    y_pred_array.append(y_pred)"
   ]
  },
  {
   "cell_type": "code",
   "execution_count": 7,
   "id": "4592ff50",
   "metadata": {},
   "outputs": [],
   "source": [
    "# for j in tqdm(range(2), \"Options...\"):\n",
    "#     if j == 0:\n",
    "#         name = 'ProcessedTestIdeal'\n",
    "#     elif j == 1:\n",
    "#         name = 'ProcessedTestReal'\n",
    "#     y_true = []\n",
    "#     y_pred = []\n",
    "#     for energy in tqdm(energies, \"Energies...\", leave=False):\n",
    "#         test = pd.read_csv('{}processed_data/{}/{}MeV.csv.gz'.format(path, name, energy))\n",
    "#         test = test[test['edepR'] < 17.2]\n",
    "#         edep = np.array(test['edep'])\n",
    "#         X_test = test[opt_features].iloc[:, :-1]\n",
    "# #         edep_preds = models[j].predict(noised(np.array(X_test)))\n",
    "#         X_test = scalers[j].transform(X_test)\n",
    "#         X_test = noised(X_test)\n",
    "#         edep_preds = models[j].predict(X_test).flatten()\n",
    "\n",
    "#         y_true.append(edep)\n",
    "#         y_pred.append(edep_preds)\n",
    "#     y_true_array.append(y_true)\n",
    "#     y_pred_array.append(y_pred)"
   ]
  },
  {
   "cell_type": "code",
   "execution_count": 8,
   "id": "165e67c4",
   "metadata": {},
   "outputs": [],
   "source": [
    "diffs = np.array([\n",
    "    [y_pred_array[j][i] - y_true_array[j][i] for i in range(len(y_pred_array[0]))]\n",
    "    for j in range(len(y_pred_array))\n",
    "])"
   ]
  },
  {
   "cell_type": "code",
   "execution_count": 9,
   "id": "904f5210",
   "metadata": {},
   "outputs": [
    {
     "data": {
      "text/plain": [
       "array([ 1.022,  1.122,  1.322,  1.622,  2.022,  3.022,  4.022,  5.022,\n",
       "        6.022,  7.022,  8.022,  9.022, 10.022, 11.022])"
      ]
     },
     "execution_count": 9,
     "metadata": {},
     "output_type": "execute_result"
    }
   ],
   "source": [
    "energies = [0, 0.1, 0.3, 0.6] + list(range(1, 11))\n",
    "energies = np.array([1.022+i for i in energies]).round(5)\n",
    "energies"
   ]
  },
  {
   "cell_type": "code",
   "execution_count": 10,
   "id": "7b9db479",
   "metadata": {},
   "outputs": [],
   "source": [
    "# names = ['Elecsim 5M Ideal', 'Elecsim 5M Real', 'Elecsim+Noise 5M Ideal', 'Elecsim+Noise 5M Real']\n",
    "names = [f'Sigma = {sigma.round(3)}' for sigma in sigmas]"
   ]
  },
  {
   "cell_type": "code",
   "execution_count": 11,
   "id": "b7812878",
   "metadata": {},
   "outputs": [],
   "source": [
    "import matplotlib.pyplot as plt\n",
    "from scipy.optimize import curve_fit\n",
    "from scipy.stats import norm\n",
    "\n",
    "a_array = []\n",
    "errors_array = []\n",
    "for k in range(diffs.shape[0]):\n",
    "    a = []\n",
    "    e = []\n",
    "    for i in range(diffs.shape[1]):\n",
    "        fig, ax = plt.subplots()\n",
    "        nbins = 150\n",
    "        n, bins, patches = ax.hist(diffs[k][i], nbins, density=True, facecolor = 'grey', alpha = 0.5, label='before');\n",
    "        plt.close(fig)\n",
    "        centers = (0.5*(bins[1:]+bins[:-1]))\n",
    "        pars, cov = curve_fit(lambda x, mu, sig : norm.pdf(x, loc=mu, scale=sig), centers, n, p0=[0,1])  \n",
    "        a.append(pars)\n",
    "        e.append(cov)\n",
    "    a_array.append(a)\n",
    "    errors_array.append(e)"
   ]
  },
  {
   "cell_type": "code",
   "execution_count": 12,
   "id": "d3ec1193",
   "metadata": {
    "scrolled": false
   },
   "outputs": [],
   "source": [
    "# pio.templates.default = 'plotly_white'\n",
    "\n",
    "# from scipy import stats\n",
    "# for k in range(len(diffs)):\n",
    "#     fig = go.Figure()\n",
    "\n",
    "#     for i in range(len(diffs[k])): \n",
    "#         x = np.linspace(diffs[k][i][:22500].min(), diffs[k][i][:22500].max(), 100)\n",
    "#         p = stats.norm.pdf(x, a_array[k][i][0], a_array[k][i][1])\n",
    "\n",
    "#         fig.add_trace(go.Scatter(x=x,\n",
    "#                      y=p, mode='lines', name='mu={:.3f} +- {:.3f}, sigma={:.3f} +- {:.3f}'.format(\n",
    "#                          a_array[k][i][0], np.sqrt(errors_array[k][i][0][0]),\n",
    "#                          a_array[k][i][1], np.sqrt(errors_array[k][i][1][1])),\n",
    "#                         visible = (i==0)\n",
    "#                     ))\n",
    "\n",
    "#     for i in range(len(diffs[k])): \n",
    "#         fig.add_trace(go.Histogram(x=diffs[k][i][:22500], xbins=dict(size=0.005),\n",
    "#                       showlegend=False, histnorm='probability density',\n",
    "#                      visible = (i==0)\n",
    "#                     ))\n",
    "\n",
    "#     buttons = []\n",
    "#     for N in range(0, len(diffs[k])): \n",
    "#         buttons.append(\n",
    "#             dict(\n",
    "#                  args=['visible', [False]*N + [True] + [False]*(len(diffs[k])-1-N)],\n",
    "#                      label='Energy =  {} MeV'.format(energies[N]),\n",
    "#                  method='restyle'\n",
    "#             )\n",
    "#         )\n",
    "        \n",
    "#     fig.update_layout(\n",
    "\n",
    "#         xaxis = dict(\n",
    "#             showline=True,\n",
    "#             ticks='outside',\n",
    "#             mirror=True,\n",
    "#             linecolor='black',\n",
    "#             showgrid=True,\n",
    "#             gridcolor='grey',\n",
    "#             gridwidth=0.25,\n",
    "#         ),\n",
    "\n",
    "#         yaxis = dict(\n",
    "#             showline=True,\n",
    "#             ticks='outside',\n",
    "#             mirror=True,\n",
    "#             linecolor='black',\n",
    "#             tick0=0,\n",
    "# #             dtick=1,\n",
    "#             showgrid=True,\n",
    "#             gridcolor='grey',\n",
    "#             gridwidth=0.25,\n",
    "#             zeroline=True,\n",
    "#             zerolinecolor='black',\n",
    "#             zerolinewidth=0.25\n",
    "#             ),\n",
    "#     )\n",
    "\n",
    "\n",
    "#     fig.update_layout(\n",
    "#         title = '{}'.format(names[k]),\n",
    "#         xaxis_title=r\"$$E_{rec} - E_{true}$$\",\n",
    "# #         yaxis_title=\"y\",\n",
    "#         showlegend=True,\n",
    "#         updatemenus=list([\n",
    "#             dict(\n",
    "#                 x=0.5,\n",
    "#                 y=1.2,\n",
    "#                 yanchor='top',\n",
    "#                 buttons=buttons\n",
    "#             ),\n",
    "#         ]),\n",
    "#         legend=dict(\n",
    "#             orientation=\"h\",\n",
    "#             yanchor=\"bottom\",\n",
    "#             y=1.05,\n",
    "#             xanchor=\"right\",\n",
    "#             x=1\n",
    "#         )\n",
    "#     )\n",
    "    \n",
    "#     fig.show()"
   ]
  },
  {
   "cell_type": "code",
   "execution_count": 23,
   "id": "3294394a",
   "metadata": {},
   "outputs": [],
   "source": [
    "# def plot_results(appr=False):\n",
    "\n",
    "#     fig = make_subplots(rows=2, cols=1,\n",
    "#                         shared_xaxes=True,\n",
    "#                         vertical_spacing=0.01,\n",
    "#                         row_width=[0.25, 0.75]\n",
    "#     )\n",
    "\n",
    "#     for k in range(diffs.shape[0]):\n",
    "#         fig.add_trace(\n",
    "#             go.Scatter(\n",
    "#                 x=energies,\n",
    "#                 y=res[k],\n",
    "#                 mode='markers',\n",
    "#                 marker=dict(\n",
    "# #                     color=colors[k],\n",
    "# #                     symbol=symbols[k]\n",
    "#                 ),\n",
    "#                 showlegend=True,\n",
    "#                 error_y=dict(\n",
    "#                     type='data',\n",
    "#                     width=10,\n",
    "#                     array=error_sigma[k],\n",
    "#                     visible=True\n",
    "#                 ),\n",
    "#                 name=names[k]\n",
    "#             ), row=1, col=1\n",
    "#         )\n",
    "\n",
    "#         fig.add_trace(\n",
    "#             go.Scatter(\n",
    "#                 x=energies,\n",
    "#                 y=bias[k],\n",
    "#                 mode='markers',\n",
    "#                 showlegend=False,\n",
    "#                 marker=dict(\n",
    "# #                     color=colors[k],\n",
    "# #                     symbol=symbols[k]\n",
    "#                 ),\n",
    "#                 error_y=dict(\n",
    "#                         type='data',\n",
    "#                         width=10,\n",
    "#                         array=error_mu[k],\n",
    "#                         visible=True\n",
    "#                 ),\n",
    "#                 name=names[k]\n",
    "#             ), row=2, col=1\n",
    "#         )\n",
    "\n",
    "#     if appr:\n",
    "#         for k in range(len(names)):\n",
    "#             fig.add_trace(\n",
    "#                 go.Scatter(\n",
    "#                     x=x_lin,\n",
    "#                     y=func(x_lin, a[k], b[k], c[k]),\n",
    "#                     mode='lines',\n",
    "#                     line=dict(\n",
    "#                     ),\n",
    "#                     opacity=0.5,\n",
    "#                     showlegend=False,\n",
    "#                     name=names[k],\n",
    "#                     marker=dict(\n",
    "# #                         color=colors[k]\n",
    "#                     )\n",
    "#                 ), row=1, col=1\n",
    "#             )\n",
    "\n",
    "#     xaxis = dict(\n",
    "#         showline=True,\n",
    "#         ticks='outside',\n",
    "#         mirror=True,\n",
    "#         tick0=1,\n",
    "#         dtick=1,\n",
    "#         linecolor='black',\n",
    "#         showgrid=True,\n",
    "#         gridcolor='grey',\n",
    "#         gridwidth=0.25,\n",
    "#     )\n",
    "\n",
    "#     yaxis = lambda range: dict(\n",
    "#         showline=True,\n",
    "#         ticks='outside',\n",
    "#         mirror=True,\n",
    "#         linecolor='black',\n",
    "#         range=range,\n",
    "#         showgrid=True,\n",
    "#         gridcolor='grey',\n",
    "#         gridwidth=0.25,\n",
    "#         zeroline=True,\n",
    "#         zerolinecolor='black',\n",
    "#         zerolinewidth=0.25\n",
    "#     )\n",
    "\n",
    "#     fig.update_layout(\n",
    "#         xaxis2_title=\"Visible energy, MeV\",\n",
    "#         yaxis1_title=\"Resolution, %\",\n",
    "#         yaxis2_title=\"Bias, %\",\n",
    "\n",
    "#         xaxis1 = xaxis,\n",
    "#         xaxis2 = xaxis,\n",
    "#         yaxis1 = yaxis([0, 4]),\n",
    "#         yaxis2 = yaxis([-0.25, 0.25]),\n",
    "\n",
    "#         showlegend=True,\n",
    "#         font=dict(\n",
    "#                 family=\"Times New Roman\",\n",
    "#                 size=18,\n",
    "#         ),\n",
    "#         legend=dict(\n",
    "#             x=0.75,\n",
    "#             y=0.99,\n",
    "#             title_font_family=\"Times New Roman\",\n",
    "#             font=dict(\n",
    "#                 family=\"Times New Roman\",\n",
    "#                 size=18,\n",
    "#                 color=\"black\"\n",
    "#             ),\n",
    "#             bordercolor=\"Black\",\n",
    "#             borderwidth=2\n",
    "#         )\n",
    "#     )\n",
    "\n",
    "#     fig.show()\n",
    "# #     if appr:\n",
    "# #         pio.write_image(fig, 'plots/appr_results_opt_{}.pdf'.format(len(opt_features)-1), width=900, height=600, scale=1)\n",
    "# #         run['output/appr_results.pdf'].upload(File.as_html(fig))\n",
    "# #     else:\n",
    "# #         pio.write_image(fig, 'plots/results_opt_{}.pdf'.format(len(opt_features)-1), width=900, height=600, scale=1)\n",
    "# #         run['output/results.pdf'].upload(File.as_html(fig))"
   ]
  },
  {
   "cell_type": "code",
   "execution_count": 14,
   "id": "d4757968",
   "metadata": {},
   "outputs": [],
   "source": [
    "colors = ['red', 'darkviolet', 'blue', 'green']\n",
    "symbols = ['hexagon-open', 'star-square', 1, 2]"
   ]
  },
  {
   "cell_type": "code",
   "execution_count": 15,
   "id": "977292b6",
   "metadata": {},
   "outputs": [],
   "source": [
    "error_sigma = []\n",
    "for k in range(diffs.shape[0]):\n",
    "    error = [100 * np.sqrt(errors_array[k][i][1][1]) / energies[i] for i in range(len(energies))]\n",
    "    error_sigma.append(error)\n",
    "    \n",
    "error_mu = []\n",
    "for k in range(diffs.shape[0]):\n",
    "    error = [100 * np.sqrt(errors_array[k][i][0][0]) / energies[i] for i in range(len(energies))]\n",
    "    error_mu.append(error)"
   ]
  },
  {
   "cell_type": "code",
   "execution_count": 16,
   "id": "5fac6fd9",
   "metadata": {},
   "outputs": [],
   "source": [
    "res = []\n",
    "bias = []\n",
    "for k in range(diffs.shape[0]):\n",
    "    sigma = [100 * a_array[k][i][1] / energies[i] for i in range(len(energies))]\n",
    "    mu = [100 * a_array[k][i][0] / energies[i] for i in range(len(energies))]\n",
    "    res.append(sigma)\n",
    "    bias.append(mu)\n",
    "    \n",
    "# plot_results()"
   ]
  },
  {
   "cell_type": "code",
   "execution_count": 17,
   "id": "a6455e51",
   "metadata": {},
   "outputs": [],
   "source": [
    "def a(x, a):\n",
    "    return np.sqrt((a/x**0.5)**2)\n",
    "\n",
    "\n",
    "def b(x, b):\n",
    "    b_list = []\n",
    "    b_list.append(np.sqrt(b**2))\n",
    "    return b_list*len(x)\n",
    "\n",
    "\n",
    "def c(x, c):\n",
    "    return np.sqrt((c/x)**2)\n",
    "\n",
    "\n",
    "def func(x, a, b, c):\n",
    "    return np.sqrt((a/x**0.5)**2 + b**2 + (c/x)**2) \n",
    "\n",
    "\n",
    "def approximated(x, y, yerr):\n",
    "    popt, pcov = curve_fit(func, x, y, sigma=yerr, maxfev=10**8, bounds=([0, 0, 0.25], [5, 5, 5]))\n",
    "    a, b, c = popt\n",
    "    #perr = np.sqrt(abs(pcov.diagonal()))\n",
    "\n",
    "    return func(x, a, b, c), popt, pcov"
   ]
  },
  {
   "cell_type": "code",
   "execution_count": 18,
   "id": "30c49ab4",
   "metadata": {},
   "outputs": [],
   "source": [
    "from statsmodels.stats.moment_helpers import cov2corr\n",
    "\n",
    "y_approximated_array = []\n",
    "coefs_array = []\n",
    "errors_array = []\n",
    "corr_matrixes = []\n",
    "for i in range(diffs.shape[0]):\n",
    "    y_approximated, coefs, pcov = approximated(\n",
    "        energies[1:13], res[i][1:13], error_sigma[i][1:13])\n",
    "    y_approximated_array.append(y_approximated)\n",
    "    coefs_array.append(coefs)\n",
    "    errors_array.append(np.sqrt(abs(pcov.diagonal())))\n",
    "    corr_matrixes.append(cov2corr(pcov))\n",
    "\n",
    "corr_matrixes = np.array(corr_matrixes)"
   ]
  },
  {
   "cell_type": "code",
   "execution_count": 19,
   "id": "95549d68",
   "metadata": {},
   "outputs": [],
   "source": [
    "reindex = [0, 3, 1, 4, 2, 5]\n",
    "coefs_df = pd.DataFrame(\n",
    "    np.hstack((coefs_array, errors_array))\n",
    ")[reindex]\n",
    "coefs_df.columns = ['a', r'$\\Delta a$', 'b', r'$\\Delta b$', 'c', r'$\\Delta c$']\n",
    "\n",
    "a = np.array(coefs_array).T[0]\n",
    "b = np.array(coefs_array).T[1]\n",
    "c = np.array(coefs_array).T[2]"
   ]
  },
  {
   "cell_type": "code",
   "execution_count": 20,
   "id": "49649b76",
   "metadata": {},
   "outputs": [],
   "source": [
    "x_lin = np.linspace(0.8, 11.5, 1000)\n",
    "# plot_results(appr=True)"
   ]
  },
  {
   "cell_type": "code",
   "execution_count": 21,
   "id": "c970e175",
   "metadata": {},
   "outputs": [
    {
     "data": {
      "text/html": [
       "<div>\n",
       "<style scoped>\n",
       "    .dataframe tbody tr th:only-of-type {\n",
       "        vertical-align: middle;\n",
       "    }\n",
       "\n",
       "    .dataframe tbody tr th {\n",
       "        vertical-align: top;\n",
       "    }\n",
       "\n",
       "    .dataframe thead th {\n",
       "        text-align: right;\n",
       "    }\n",
       "</style>\n",
       "<table border=\"1\" class=\"dataframe\">\n",
       "  <thead>\n",
       "    <tr style=\"text-align: right;\">\n",
       "      <th></th>\n",
       "      <th>a</th>\n",
       "      <th>$\\Delta a$</th>\n",
       "      <th>b</th>\n",
       "      <th>$\\Delta b$</th>\n",
       "      <th>c</th>\n",
       "      <th>$\\Delta c$</th>\n",
       "      <th>$\\tilde{a}$</th>\n",
       "      <th>$\\Delta \\tilde{a}$</th>\n",
       "    </tr>\n",
       "  </thead>\n",
       "  <tbody>\n",
       "    <tr>\n",
       "      <th>Sigma = 0.0</th>\n",
       "      <td>2.316</td>\n",
       "      <td>0.139</td>\n",
       "      <td>0.827</td>\n",
       "      <td>0.054</td>\n",
       "      <td>1.474</td>\n",
       "      <td>0.285</td>\n",
       "      <td>2.821952</td>\n",
       "      <td>0.026560</td>\n",
       "    </tr>\n",
       "    <tr>\n",
       "      <th>Sigma = 0.001</th>\n",
       "      <td>2.330</td>\n",
       "      <td>0.133</td>\n",
       "      <td>0.821</td>\n",
       "      <td>0.051</td>\n",
       "      <td>1.442</td>\n",
       "      <td>0.283</td>\n",
       "      <td>2.822534</td>\n",
       "      <td>0.026008</td>\n",
       "    </tr>\n",
       "    <tr>\n",
       "      <th>Sigma = 0.002</th>\n",
       "      <td>2.351</td>\n",
       "      <td>0.127</td>\n",
       "      <td>0.814</td>\n",
       "      <td>0.050</td>\n",
       "      <td>1.439</td>\n",
       "      <td>0.274</td>\n",
       "      <td>2.834135</td>\n",
       "      <td>0.024915</td>\n",
       "    </tr>\n",
       "    <tr>\n",
       "      <th>Sigma = 0.003</th>\n",
       "      <td>2.321</td>\n",
       "      <td>0.136</td>\n",
       "      <td>0.827</td>\n",
       "      <td>0.052</td>\n",
       "      <td>1.507</td>\n",
       "      <td>0.280</td>\n",
       "      <td>2.832848</td>\n",
       "      <td>0.025583</td>\n",
       "    </tr>\n",
       "    <tr>\n",
       "      <th>Sigma = 0.004</th>\n",
       "      <td>2.347</td>\n",
       "      <td>0.140</td>\n",
       "      <td>0.823</td>\n",
       "      <td>0.055</td>\n",
       "      <td>1.503</td>\n",
       "      <td>0.277</td>\n",
       "      <td>2.850403</td>\n",
       "      <td>0.027830</td>\n",
       "    </tr>\n",
       "    <tr>\n",
       "      <th>Sigma = 0.005</th>\n",
       "      <td>2.354</td>\n",
       "      <td>0.132</td>\n",
       "      <td>0.821</td>\n",
       "      <td>0.052</td>\n",
       "      <td>1.544</td>\n",
       "      <td>0.260</td>\n",
       "      <td>2.863230</td>\n",
       "      <td>0.026241</td>\n",
       "    </tr>\n",
       "    <tr>\n",
       "      <th>Sigma = 0.006</th>\n",
       "      <td>2.389</td>\n",
       "      <td>0.135</td>\n",
       "      <td>0.820</td>\n",
       "      <td>0.054</td>\n",
       "      <td>1.487</td>\n",
       "      <td>0.283</td>\n",
       "      <td>2.879653</td>\n",
       "      <td>0.026089</td>\n",
       "    </tr>\n",
       "    <tr>\n",
       "      <th>Sigma = 0.007</th>\n",
       "      <td>2.381</td>\n",
       "      <td>0.134</td>\n",
       "      <td>0.822</td>\n",
       "      <td>0.053</td>\n",
       "      <td>1.597</td>\n",
       "      <td>0.259</td>\n",
       "      <td>2.897441</td>\n",
       "      <td>0.026080</td>\n",
       "    </tr>\n",
       "    <tr>\n",
       "      <th>Sigma = 0.008</th>\n",
       "      <td>2.430</td>\n",
       "      <td>0.124</td>\n",
       "      <td>0.808</td>\n",
       "      <td>0.048</td>\n",
       "      <td>1.586</td>\n",
       "      <td>0.256</td>\n",
       "      <td>2.925544</td>\n",
       "      <td>0.025249</td>\n",
       "    </tr>\n",
       "    <tr>\n",
       "      <th>Sigma = 0.009</th>\n",
       "      <td>2.443</td>\n",
       "      <td>0.130</td>\n",
       "      <td>0.813</td>\n",
       "      <td>0.052</td>\n",
       "      <td>1.644</td>\n",
       "      <td>0.251</td>\n",
       "      <td>2.952302</td>\n",
       "      <td>0.026432</td>\n",
       "    </tr>\n",
       "    <tr>\n",
       "      <th>Sigma = 0.01</th>\n",
       "      <td>2.487</td>\n",
       "      <td>0.137</td>\n",
       "      <td>0.807</td>\n",
       "      <td>0.055</td>\n",
       "      <td>1.634</td>\n",
       "      <td>0.269</td>\n",
       "      <td>2.982502</td>\n",
       "      <td>0.028468</td>\n",
       "    </tr>\n",
       "    <tr>\n",
       "      <th>Sigma = 0.011</th>\n",
       "      <td>2.496</td>\n",
       "      <td>0.120</td>\n",
       "      <td>0.810</td>\n",
       "      <td>0.049</td>\n",
       "      <td>1.718</td>\n",
       "      <td>0.237</td>\n",
       "      <td>3.010410</td>\n",
       "      <td>0.023635</td>\n",
       "    </tr>\n",
       "    <tr>\n",
       "      <th>Sigma = 0.012</th>\n",
       "      <td>2.564</td>\n",
       "      <td>0.129</td>\n",
       "      <td>0.795</td>\n",
       "      <td>0.053</td>\n",
       "      <td>1.675</td>\n",
       "      <td>0.280</td>\n",
       "      <td>3.047626</td>\n",
       "      <td>0.024961</td>\n",
       "    </tr>\n",
       "    <tr>\n",
       "      <th>Sigma = 0.013</th>\n",
       "      <td>2.553</td>\n",
       "      <td>0.123</td>\n",
       "      <td>0.811</td>\n",
       "      <td>0.052</td>\n",
       "      <td>1.822</td>\n",
       "      <td>0.230</td>\n",
       "      <td>3.081935</td>\n",
       "      <td>0.023721</td>\n",
       "    </tr>\n",
       "    <tr>\n",
       "      <th>Sigma = 0.014</th>\n",
       "      <td>2.613</td>\n",
       "      <td>0.114</td>\n",
       "      <td>0.798</td>\n",
       "      <td>0.048</td>\n",
       "      <td>1.814</td>\n",
       "      <td>0.224</td>\n",
       "      <td>3.121438</td>\n",
       "      <td>0.022652</td>\n",
       "    </tr>\n",
       "    <tr>\n",
       "      <th>Sigma = 0.015</th>\n",
       "      <td>2.664</td>\n",
       "      <td>0.122</td>\n",
       "      <td>0.789</td>\n",
       "      <td>0.054</td>\n",
       "      <td>1.845</td>\n",
       "      <td>0.232</td>\n",
       "      <td>3.165477</td>\n",
       "      <td>0.024637</td>\n",
       "    </tr>\n",
       "    <tr>\n",
       "      <th>Sigma = 0.016</th>\n",
       "      <td>2.735</td>\n",
       "      <td>0.118</td>\n",
       "      <td>0.776</td>\n",
       "      <td>0.051</td>\n",
       "      <td>1.812</td>\n",
       "      <td>0.250</td>\n",
       "      <td>3.210039</td>\n",
       "      <td>0.023908</td>\n",
       "    </tr>\n",
       "    <tr>\n",
       "      <th>Sigma = 0.017</th>\n",
       "      <td>2.748</td>\n",
       "      <td>0.134</td>\n",
       "      <td>0.783</td>\n",
       "      <td>0.056</td>\n",
       "      <td>1.928</td>\n",
       "      <td>0.255</td>\n",
       "      <td>3.251621</td>\n",
       "      <td>0.028229</td>\n",
       "    </tr>\n",
       "    <tr>\n",
       "      <th>Sigma = 0.018</th>\n",
       "      <td>2.832</td>\n",
       "      <td>0.117</td>\n",
       "      <td>0.753</td>\n",
       "      <td>0.054</td>\n",
       "      <td>1.940</td>\n",
       "      <td>0.240</td>\n",
       "      <td>3.307858</td>\n",
       "      <td>0.023681</td>\n",
       "    </tr>\n",
       "    <tr>\n",
       "      <th>Sigma = 0.019</th>\n",
       "      <td>2.859</td>\n",
       "      <td>0.109</td>\n",
       "      <td>0.768</td>\n",
       "      <td>0.049</td>\n",
       "      <td>2.019</td>\n",
       "      <td>0.225</td>\n",
       "      <td>3.357999</td>\n",
       "      <td>0.021949</td>\n",
       "    </tr>\n",
       "    <tr>\n",
       "      <th>Sigma = 0.02</th>\n",
       "      <td>2.843</td>\n",
       "      <td>0.121</td>\n",
       "      <td>0.796</td>\n",
       "      <td>0.054</td>\n",
       "      <td>2.179</td>\n",
       "      <td>0.220</td>\n",
       "      <td>3.399913</td>\n",
       "      <td>0.023390</td>\n",
       "    </tr>\n",
       "    <tr>\n",
       "      <th>Sigma = 0.021</th>\n",
       "      <td>2.952</td>\n",
       "      <td>0.122</td>\n",
       "      <td>0.762</td>\n",
       "      <td>0.058</td>\n",
       "      <td>2.145</td>\n",
       "      <td>0.233</td>\n",
       "      <td>3.463817</td>\n",
       "      <td>0.024884</td>\n",
       "    </tr>\n",
       "    <tr>\n",
       "      <th>Sigma = 0.022</th>\n",
       "      <td>2.991</td>\n",
       "      <td>0.108</td>\n",
       "      <td>0.756</td>\n",
       "      <td>0.052</td>\n",
       "      <td>2.218</td>\n",
       "      <td>0.205</td>\n",
       "      <td>3.511538</td>\n",
       "      <td>0.021927</td>\n",
       "    </tr>\n",
       "    <tr>\n",
       "      <th>Sigma = 0.023</th>\n",
       "      <td>3.033</td>\n",
       "      <td>0.107</td>\n",
       "      <td>0.752</td>\n",
       "      <td>0.050</td>\n",
       "      <td>2.321</td>\n",
       "      <td>0.203</td>\n",
       "      <td>3.570867</td>\n",
       "      <td>0.021503</td>\n",
       "    </tr>\n",
       "    <tr>\n",
       "      <th>Sigma = 0.024</th>\n",
       "      <td>3.055</td>\n",
       "      <td>0.116</td>\n",
       "      <td>0.769</td>\n",
       "      <td>0.055</td>\n",
       "      <td>2.404</td>\n",
       "      <td>0.203</td>\n",
       "      <td>3.620002</td>\n",
       "      <td>0.023662</td>\n",
       "    </tr>\n",
       "    <tr>\n",
       "      <th>Sigma = 0.025</th>\n",
       "      <td>3.144</td>\n",
       "      <td>0.119</td>\n",
       "      <td>0.744</td>\n",
       "      <td>0.059</td>\n",
       "      <td>2.426</td>\n",
       "      <td>0.226</td>\n",
       "      <td>3.687927</td>\n",
       "      <td>0.024408</td>\n",
       "    </tr>\n",
       "    <tr>\n",
       "      <th>Sigma = 0.026</th>\n",
       "      <td>3.201</td>\n",
       "      <td>0.101</td>\n",
       "      <td>0.738</td>\n",
       "      <td>0.049</td>\n",
       "      <td>2.481</td>\n",
       "      <td>0.189</td>\n",
       "      <td>3.747683</td>\n",
       "      <td>0.021471</td>\n",
       "    </tr>\n",
       "    <tr>\n",
       "      <th>Sigma = 0.027</th>\n",
       "      <td>3.197</td>\n",
       "      <td>0.124</td>\n",
       "      <td>0.761</td>\n",
       "      <td>0.059</td>\n",
       "      <td>2.634</td>\n",
       "      <td>0.222</td>\n",
       "      <td>3.796511</td>\n",
       "      <td>0.024419</td>\n",
       "    </tr>\n",
       "    <tr>\n",
       "      <th>Sigma = 0.028</th>\n",
       "      <td>3.290</td>\n",
       "      <td>0.121</td>\n",
       "      <td>0.730</td>\n",
       "      <td>0.059</td>\n",
       "      <td>2.670</td>\n",
       "      <td>0.221</td>\n",
       "      <td>3.869503</td>\n",
       "      <td>0.024627</td>\n",
       "    </tr>\n",
       "    <tr>\n",
       "      <th>Sigma = 0.029</th>\n",
       "      <td>3.441</td>\n",
       "      <td>0.107</td>\n",
       "      <td>0.680</td>\n",
       "      <td>0.058</td>\n",
       "      <td>2.589</td>\n",
       "      <td>0.211</td>\n",
       "      <td>3.955067</td>\n",
       "      <td>0.022490</td>\n",
       "    </tr>\n",
       "    <tr>\n",
       "      <th>Sigma = 0.03</th>\n",
       "      <td>3.369</td>\n",
       "      <td>0.127</td>\n",
       "      <td>0.754</td>\n",
       "      <td>0.068</td>\n",
       "      <td>2.874</td>\n",
       "      <td>0.208</td>\n",
       "      <td>4.004007</td>\n",
       "      <td>0.025352</td>\n",
       "    </tr>\n",
       "  </tbody>\n",
       "</table>\n",
       "</div>"
      ],
      "text/plain": [
       "                   a  $\\Delta a$      b  $\\Delta b$      c  $\\Delta c$  \\\n",
       "Sigma = 0.0    2.316       0.139  0.827       0.054  1.474       0.285   \n",
       "Sigma = 0.001  2.330       0.133  0.821       0.051  1.442       0.283   \n",
       "Sigma = 0.002  2.351       0.127  0.814       0.050  1.439       0.274   \n",
       "Sigma = 0.003  2.321       0.136  0.827       0.052  1.507       0.280   \n",
       "Sigma = 0.004  2.347       0.140  0.823       0.055  1.503       0.277   \n",
       "Sigma = 0.005  2.354       0.132  0.821       0.052  1.544       0.260   \n",
       "Sigma = 0.006  2.389       0.135  0.820       0.054  1.487       0.283   \n",
       "Sigma = 0.007  2.381       0.134  0.822       0.053  1.597       0.259   \n",
       "Sigma = 0.008  2.430       0.124  0.808       0.048  1.586       0.256   \n",
       "Sigma = 0.009  2.443       0.130  0.813       0.052  1.644       0.251   \n",
       "Sigma = 0.01   2.487       0.137  0.807       0.055  1.634       0.269   \n",
       "Sigma = 0.011  2.496       0.120  0.810       0.049  1.718       0.237   \n",
       "Sigma = 0.012  2.564       0.129  0.795       0.053  1.675       0.280   \n",
       "Sigma = 0.013  2.553       0.123  0.811       0.052  1.822       0.230   \n",
       "Sigma = 0.014  2.613       0.114  0.798       0.048  1.814       0.224   \n",
       "Sigma = 0.015  2.664       0.122  0.789       0.054  1.845       0.232   \n",
       "Sigma = 0.016  2.735       0.118  0.776       0.051  1.812       0.250   \n",
       "Sigma = 0.017  2.748       0.134  0.783       0.056  1.928       0.255   \n",
       "Sigma = 0.018  2.832       0.117  0.753       0.054  1.940       0.240   \n",
       "Sigma = 0.019  2.859       0.109  0.768       0.049  2.019       0.225   \n",
       "Sigma = 0.02   2.843       0.121  0.796       0.054  2.179       0.220   \n",
       "Sigma = 0.021  2.952       0.122  0.762       0.058  2.145       0.233   \n",
       "Sigma = 0.022  2.991       0.108  0.756       0.052  2.218       0.205   \n",
       "Sigma = 0.023  3.033       0.107  0.752       0.050  2.321       0.203   \n",
       "Sigma = 0.024  3.055       0.116  0.769       0.055  2.404       0.203   \n",
       "Sigma = 0.025  3.144       0.119  0.744       0.059  2.426       0.226   \n",
       "Sigma = 0.026  3.201       0.101  0.738       0.049  2.481       0.189   \n",
       "Sigma = 0.027  3.197       0.124  0.761       0.059  2.634       0.222   \n",
       "Sigma = 0.028  3.290       0.121  0.730       0.059  2.670       0.221   \n",
       "Sigma = 0.029  3.441       0.107  0.680       0.058  2.589       0.211   \n",
       "Sigma = 0.03   3.369       0.127  0.754       0.068  2.874       0.208   \n",
       "\n",
       "               $\\tilde{a}$  $\\Delta \\tilde{a}$  \n",
       "Sigma = 0.0       2.821952            0.026560  \n",
       "Sigma = 0.001     2.822534            0.026008  \n",
       "Sigma = 0.002     2.834135            0.024915  \n",
       "Sigma = 0.003     2.832848            0.025583  \n",
       "Sigma = 0.004     2.850403            0.027830  \n",
       "Sigma = 0.005     2.863230            0.026241  \n",
       "Sigma = 0.006     2.879653            0.026089  \n",
       "Sigma = 0.007     2.897441            0.026080  \n",
       "Sigma = 0.008     2.925544            0.025249  \n",
       "Sigma = 0.009     2.952302            0.026432  \n",
       "Sigma = 0.01      2.982502            0.028468  \n",
       "Sigma = 0.011     3.010410            0.023635  \n",
       "Sigma = 0.012     3.047626            0.024961  \n",
       "Sigma = 0.013     3.081935            0.023721  \n",
       "Sigma = 0.014     3.121438            0.022652  \n",
       "Sigma = 0.015     3.165477            0.024637  \n",
       "Sigma = 0.016     3.210039            0.023908  \n",
       "Sigma = 0.017     3.251621            0.028229  \n",
       "Sigma = 0.018     3.307858            0.023681  \n",
       "Sigma = 0.019     3.357999            0.021949  \n",
       "Sigma = 0.02      3.399913            0.023390  \n",
       "Sigma = 0.021     3.463817            0.024884  \n",
       "Sigma = 0.022     3.511538            0.021927  \n",
       "Sigma = 0.023     3.570867            0.021503  \n",
       "Sigma = 0.024     3.620002            0.023662  \n",
       "Sigma = 0.025     3.687927            0.024408  \n",
       "Sigma = 0.026     3.747683            0.021471  \n",
       "Sigma = 0.027     3.796511            0.024419  \n",
       "Sigma = 0.028     3.869503            0.024627  \n",
       "Sigma = 0.029     3.955067            0.022490  \n",
       "Sigma = 0.03      4.004007            0.025352  "
      ]
     },
     "execution_count": 21,
     "metadata": {},
     "output_type": "execute_result"
    }
   ],
   "source": [
    "coefs_df = coefs_df.round(3)\n",
    "coefs_df.index = names\n",
    "coefs_df[r'$\\tilde{a}$'] = (coefs_df['a']**2 + (1.6 * coefs_df['b'])**2 + (coefs_df['c'] / 1.6)**2)**0.5 \n",
    "coefs_df[r'$\\Delta \\tilde{a}$'] = np.sqrt( (coefs_df['a']*coefs_df[r'$\\Delta a$'])**2 + \\\n",
    "                                           (2.56*coefs_df['b']*coefs_df[r'$\\Delta b$'])**2 + \\\n",
    "                                           (coefs_df['c']*coefs_df[r'$\\Delta c$'] / 2.56)**2) / coefs_df[r'$\\tilde{a}$']\n",
    "\n",
    "coefs_df[r'$\\Delta \\tilde{a}$'] = np.sqrt(\n",
    "    coefs_df[r'$\\Delta \\tilde{a}$']**2 + 2 * (\n",
    "        1.6**2 * coefs_df['a'] * coefs_df['b'] / coefs_df[r'$\\tilde{a}$']**2 *\\\n",
    "        corr_matrixes[:, 0, 1] * coefs_df[r'$\\Delta a$'] * coefs_df[r'$\\Delta b$'] +\\\n",
    "        \n",
    "        coefs_df['a'] * coefs_df['c'] / (coefs_df[r'$\\tilde{a}$']**2 * 1.6**2) *\\\n",
    "        corr_matrixes[:, 0, 2] * coefs_df[r'$\\Delta a$'] * coefs_df[r'$\\Delta c$'] +\\\n",
    "\n",
    "        coefs_df['b'] * coefs_df['c'] / coefs_df[r'$\\tilde{a}$']**2 *\\\n",
    "        corr_matrixes[:, 1, 2] * coefs_df[r'$\\Delta b$'] * coefs_df[r'$\\Delta c$']\n",
    "    )\n",
    ")\n",
    "\n",
    "coefs_df"
   ]
  },
  {
   "cell_type": "code",
   "execution_count": 26,
   "id": "15a2669d",
   "metadata": {},
   "outputs": [
    {
     "data": {
      "application/vnd.plotly.v1+json": {
       "config": {
        "plotlyServerURL": "https://plot.ly"
       },
       "data": [
        {
         "line": {
          "color": "black",
          "width": 0.75
         },
         "mode": "lines",
         "type": "scatter",
         "x": [
          0,
          0.001,
          0.002,
          0.003,
          0.004,
          0.005,
          0.006,
          0.007,
          0.008,
          0.009000000000000001,
          0.01,
          0.011,
          0.012,
          0.013000000000000001,
          0.014,
          0.015,
          0.016,
          0.017,
          0.018000000000000002,
          0.019,
          0.02,
          0.021,
          0.022,
          0.023,
          0.024,
          0.025,
          0.026000000000000002,
          0.027,
          0.028,
          0.029,
          0.03
         ],
         "y": [
          2.8485129173413326,
          2.8485421856812816,
          2.859049735374384,
          2.8584313024928925,
          2.878232433040667,
          2.8894713615349747,
          2.905742545296807,
          2.92352160766088,
          2.950792744421673,
          2.9787339307228518,
          3.0109699201737596,
          3.034045766264694,
          3.072587172771786,
          3.1056564696305564,
          3.144090323745522,
          3.190114463660677,
          3.233947389338702,
          3.2798494737119626,
          3.3315391096898317,
          3.379948098533314,
          3.423302710793116,
          3.4887005570838814,
          3.533465235354571,
          3.592370638727061,
          3.6436643031139986,
          3.7123347888039824,
          3.769154159842464,
          3.820930529861219,
          3.8941298216178115,
          3.9775564944226556,
          4.029359885334951
         ]
        },
        {
         "fill": "tonexty",
         "fillcolor": "darkgreen",
         "line": {
          "color": "black",
          "width": 0.75
         },
         "mode": "lines",
         "type": "scatter",
         "x": [
          0,
          0.001,
          0.002,
          0.003,
          0.004,
          0.005,
          0.006,
          0.007,
          0.008,
          0.009000000000000001,
          0.01,
          0.011,
          0.012,
          0.013000000000000001,
          0.014,
          0.015,
          0.016,
          0.017,
          0.018000000000000002,
          0.019,
          0.02,
          0.021,
          0.022,
          0.023,
          0.024,
          0.025,
          0.026000000000000002,
          0.027,
          0.028,
          0.029,
          0.03
         ],
         "y": [
          2.79539204376494,
          2.7965252266708513,
          2.809220600671701,
          2.8072646849829628,
          2.8225733453120734,
          2.8369886130042694,
          2.8535639722016324,
          2.871360808963291,
          2.900295497093746,
          2.925869659697084,
          2.9540340203111084,
          2.9867751287628272,
          3.022665821362256,
          3.058214496734654,
          3.0987860333514217,
          3.140840290758281,
          3.18613105566491,
          3.223391822749364,
          3.2841765099540474,
          3.33605039927027,
          3.3765236033490322,
          3.438933391278287,
          3.4896116466110545,
          3.5493636410190006,
          3.5963399537908276,
          3.663518306940265,
          3.726211750004767,
          3.7720920099446515,
          3.8448754277666337,
          3.9325771367178453,
          3.978655105285385
         ]
        },
        {
         "line": {
          "color": "black",
          "dash": "dash"
         },
         "marker": {
          "color": "black",
          "size": 8,
          "symbol": "x"
         },
         "mode": "lines",
         "type": "scatter",
         "x": [
          0,
          0.001,
          0.002,
          0.003,
          0.004,
          0.005,
          0.006,
          0.007,
          0.008,
          0.009000000000000001,
          0.01,
          0.011,
          0.012,
          0.013000000000000001,
          0.014,
          0.015,
          0.016,
          0.017,
          0.018000000000000002,
          0.019,
          0.02,
          0.021,
          0.022,
          0.023,
          0.024,
          0.025,
          0.026000000000000002,
          0.027,
          0.028,
          0.029,
          0.03
         ],
         "y": [
          2.8219524805531364,
          2.8225337061760665,
          2.8341351680230424,
          2.8328479937379276,
          2.85040288917637,
          2.863229987269622,
          2.8796532587492196,
          2.8974412083120855,
          2.9255441207577095,
          2.952301795209968,
          2.982501970242434,
          3.0104104475137605,
          3.047626497067021,
          3.081935483182605,
          3.121438178548472,
          3.165477377209479,
          3.210039222501806,
          3.2516206482306633,
          3.3078578098219396,
          3.357999248901792,
          3.399913157071074,
          3.4638169741810843,
          3.5115384409828128,
          3.5708671398730307,
          3.620002128452413,
          3.6879265478721237,
          3.7476829549236155,
          3.7965112699029353,
          3.8695026246922226,
          3.9550668155702504,
          4.004007495310168
         ]
        }
       ],
       "layout": {
        "font": {
         "family": "Times New Roman",
         "size": 16
        },
        "height": 500,
        "showlegend": false,
        "template": {
         "data": {
          "bar": [
           {
            "error_x": {
             "color": "#2a3f5f"
            },
            "error_y": {
             "color": "#2a3f5f"
            },
            "marker": {
             "line": {
              "color": "white",
              "width": 0.5
             },
             "pattern": {
              "fillmode": "overlay",
              "size": 10,
              "solidity": 0.2
             }
            },
            "type": "bar"
           }
          ],
          "barpolar": [
           {
            "marker": {
             "line": {
              "color": "white",
              "width": 0.5
             },
             "pattern": {
              "fillmode": "overlay",
              "size": 10,
              "solidity": 0.2
             }
            },
            "type": "barpolar"
           }
          ],
          "carpet": [
           {
            "aaxis": {
             "endlinecolor": "#2a3f5f",
             "gridcolor": "#C8D4E3",
             "linecolor": "#C8D4E3",
             "minorgridcolor": "#C8D4E3",
             "startlinecolor": "#2a3f5f"
            },
            "baxis": {
             "endlinecolor": "#2a3f5f",
             "gridcolor": "#C8D4E3",
             "linecolor": "#C8D4E3",
             "minorgridcolor": "#C8D4E3",
             "startlinecolor": "#2a3f5f"
            },
            "type": "carpet"
           }
          ],
          "choropleth": [
           {
            "colorbar": {
             "outlinewidth": 0,
             "ticks": ""
            },
            "type": "choropleth"
           }
          ],
          "contour": [
           {
            "colorbar": {
             "outlinewidth": 0,
             "ticks": ""
            },
            "colorscale": [
             [
              0,
              "#0d0887"
             ],
             [
              0.1111111111111111,
              "#46039f"
             ],
             [
              0.2222222222222222,
              "#7201a8"
             ],
             [
              0.3333333333333333,
              "#9c179e"
             ],
             [
              0.4444444444444444,
              "#bd3786"
             ],
             [
              0.5555555555555556,
              "#d8576b"
             ],
             [
              0.6666666666666666,
              "#ed7953"
             ],
             [
              0.7777777777777778,
              "#fb9f3a"
             ],
             [
              0.8888888888888888,
              "#fdca26"
             ],
             [
              1,
              "#f0f921"
             ]
            ],
            "type": "contour"
           }
          ],
          "contourcarpet": [
           {
            "colorbar": {
             "outlinewidth": 0,
             "ticks": ""
            },
            "type": "contourcarpet"
           }
          ],
          "heatmap": [
           {
            "colorbar": {
             "outlinewidth": 0,
             "ticks": ""
            },
            "colorscale": [
             [
              0,
              "#0d0887"
             ],
             [
              0.1111111111111111,
              "#46039f"
             ],
             [
              0.2222222222222222,
              "#7201a8"
             ],
             [
              0.3333333333333333,
              "#9c179e"
             ],
             [
              0.4444444444444444,
              "#bd3786"
             ],
             [
              0.5555555555555556,
              "#d8576b"
             ],
             [
              0.6666666666666666,
              "#ed7953"
             ],
             [
              0.7777777777777778,
              "#fb9f3a"
             ],
             [
              0.8888888888888888,
              "#fdca26"
             ],
             [
              1,
              "#f0f921"
             ]
            ],
            "type": "heatmap"
           }
          ],
          "heatmapgl": [
           {
            "colorbar": {
             "outlinewidth": 0,
             "ticks": ""
            },
            "colorscale": [
             [
              0,
              "#0d0887"
             ],
             [
              0.1111111111111111,
              "#46039f"
             ],
             [
              0.2222222222222222,
              "#7201a8"
             ],
             [
              0.3333333333333333,
              "#9c179e"
             ],
             [
              0.4444444444444444,
              "#bd3786"
             ],
             [
              0.5555555555555556,
              "#d8576b"
             ],
             [
              0.6666666666666666,
              "#ed7953"
             ],
             [
              0.7777777777777778,
              "#fb9f3a"
             ],
             [
              0.8888888888888888,
              "#fdca26"
             ],
             [
              1,
              "#f0f921"
             ]
            ],
            "type": "heatmapgl"
           }
          ],
          "histogram": [
           {
            "marker": {
             "pattern": {
              "fillmode": "overlay",
              "size": 10,
              "solidity": 0.2
             }
            },
            "type": "histogram"
           }
          ],
          "histogram2d": [
           {
            "colorbar": {
             "outlinewidth": 0,
             "ticks": ""
            },
            "colorscale": [
             [
              0,
              "#0d0887"
             ],
             [
              0.1111111111111111,
              "#46039f"
             ],
             [
              0.2222222222222222,
              "#7201a8"
             ],
             [
              0.3333333333333333,
              "#9c179e"
             ],
             [
              0.4444444444444444,
              "#bd3786"
             ],
             [
              0.5555555555555556,
              "#d8576b"
             ],
             [
              0.6666666666666666,
              "#ed7953"
             ],
             [
              0.7777777777777778,
              "#fb9f3a"
             ],
             [
              0.8888888888888888,
              "#fdca26"
             ],
             [
              1,
              "#f0f921"
             ]
            ],
            "type": "histogram2d"
           }
          ],
          "histogram2dcontour": [
           {
            "colorbar": {
             "outlinewidth": 0,
             "ticks": ""
            },
            "colorscale": [
             [
              0,
              "#0d0887"
             ],
             [
              0.1111111111111111,
              "#46039f"
             ],
             [
              0.2222222222222222,
              "#7201a8"
             ],
             [
              0.3333333333333333,
              "#9c179e"
             ],
             [
              0.4444444444444444,
              "#bd3786"
             ],
             [
              0.5555555555555556,
              "#d8576b"
             ],
             [
              0.6666666666666666,
              "#ed7953"
             ],
             [
              0.7777777777777778,
              "#fb9f3a"
             ],
             [
              0.8888888888888888,
              "#fdca26"
             ],
             [
              1,
              "#f0f921"
             ]
            ],
            "type": "histogram2dcontour"
           }
          ],
          "mesh3d": [
           {
            "colorbar": {
             "outlinewidth": 0,
             "ticks": ""
            },
            "type": "mesh3d"
           }
          ],
          "parcoords": [
           {
            "line": {
             "colorbar": {
              "outlinewidth": 0,
              "ticks": ""
             }
            },
            "type": "parcoords"
           }
          ],
          "pie": [
           {
            "automargin": true,
            "type": "pie"
           }
          ],
          "scatter": [
           {
            "marker": {
             "colorbar": {
              "outlinewidth": 0,
              "ticks": ""
             }
            },
            "type": "scatter"
           }
          ],
          "scatter3d": [
           {
            "line": {
             "colorbar": {
              "outlinewidth": 0,
              "ticks": ""
             }
            },
            "marker": {
             "colorbar": {
              "outlinewidth": 0,
              "ticks": ""
             }
            },
            "type": "scatter3d"
           }
          ],
          "scattercarpet": [
           {
            "marker": {
             "colorbar": {
              "outlinewidth": 0,
              "ticks": ""
             }
            },
            "type": "scattercarpet"
           }
          ],
          "scattergeo": [
           {
            "marker": {
             "colorbar": {
              "outlinewidth": 0,
              "ticks": ""
             }
            },
            "type": "scattergeo"
           }
          ],
          "scattergl": [
           {
            "marker": {
             "colorbar": {
              "outlinewidth": 0,
              "ticks": ""
             }
            },
            "type": "scattergl"
           }
          ],
          "scattermapbox": [
           {
            "marker": {
             "colorbar": {
              "outlinewidth": 0,
              "ticks": ""
             }
            },
            "type": "scattermapbox"
           }
          ],
          "scatterpolar": [
           {
            "marker": {
             "colorbar": {
              "outlinewidth": 0,
              "ticks": ""
             }
            },
            "type": "scatterpolar"
           }
          ],
          "scatterpolargl": [
           {
            "marker": {
             "colorbar": {
              "outlinewidth": 0,
              "ticks": ""
             }
            },
            "type": "scatterpolargl"
           }
          ],
          "scatterternary": [
           {
            "marker": {
             "colorbar": {
              "outlinewidth": 0,
              "ticks": ""
             }
            },
            "type": "scatterternary"
           }
          ],
          "surface": [
           {
            "colorbar": {
             "outlinewidth": 0,
             "ticks": ""
            },
            "colorscale": [
             [
              0,
              "#0d0887"
             ],
             [
              0.1111111111111111,
              "#46039f"
             ],
             [
              0.2222222222222222,
              "#7201a8"
             ],
             [
              0.3333333333333333,
              "#9c179e"
             ],
             [
              0.4444444444444444,
              "#bd3786"
             ],
             [
              0.5555555555555556,
              "#d8576b"
             ],
             [
              0.6666666666666666,
              "#ed7953"
             ],
             [
              0.7777777777777778,
              "#fb9f3a"
             ],
             [
              0.8888888888888888,
              "#fdca26"
             ],
             [
              1,
              "#f0f921"
             ]
            ],
            "type": "surface"
           }
          ],
          "table": [
           {
            "cells": {
             "fill": {
              "color": "#EBF0F8"
             },
             "line": {
              "color": "white"
             }
            },
            "header": {
             "fill": {
              "color": "#C8D4E3"
             },
             "line": {
              "color": "white"
             }
            },
            "type": "table"
           }
          ]
         },
         "layout": {
          "annotationdefaults": {
           "arrowcolor": "#2a3f5f",
           "arrowhead": 0,
           "arrowwidth": 1
          },
          "autotypenumbers": "strict",
          "coloraxis": {
           "colorbar": {
            "outlinewidth": 0,
            "ticks": ""
           }
          },
          "colorscale": {
           "diverging": [
            [
             0,
             "#8e0152"
            ],
            [
             0.1,
             "#c51b7d"
            ],
            [
             0.2,
             "#de77ae"
            ],
            [
             0.3,
             "#f1b6da"
            ],
            [
             0.4,
             "#fde0ef"
            ],
            [
             0.5,
             "#f7f7f7"
            ],
            [
             0.6,
             "#e6f5d0"
            ],
            [
             0.7,
             "#b8e186"
            ],
            [
             0.8,
             "#7fbc41"
            ],
            [
             0.9,
             "#4d9221"
            ],
            [
             1,
             "#276419"
            ]
           ],
           "sequential": [
            [
             0,
             "#0d0887"
            ],
            [
             0.1111111111111111,
             "#46039f"
            ],
            [
             0.2222222222222222,
             "#7201a8"
            ],
            [
             0.3333333333333333,
             "#9c179e"
            ],
            [
             0.4444444444444444,
             "#bd3786"
            ],
            [
             0.5555555555555556,
             "#d8576b"
            ],
            [
             0.6666666666666666,
             "#ed7953"
            ],
            [
             0.7777777777777778,
             "#fb9f3a"
            ],
            [
             0.8888888888888888,
             "#fdca26"
            ],
            [
             1,
             "#f0f921"
            ]
           ],
           "sequentialminus": [
            [
             0,
             "#0d0887"
            ],
            [
             0.1111111111111111,
             "#46039f"
            ],
            [
             0.2222222222222222,
             "#7201a8"
            ],
            [
             0.3333333333333333,
             "#9c179e"
            ],
            [
             0.4444444444444444,
             "#bd3786"
            ],
            [
             0.5555555555555556,
             "#d8576b"
            ],
            [
             0.6666666666666666,
             "#ed7953"
            ],
            [
             0.7777777777777778,
             "#fb9f3a"
            ],
            [
             0.8888888888888888,
             "#fdca26"
            ],
            [
             1,
             "#f0f921"
            ]
           ]
          },
          "colorway": [
           "#636efa",
           "#EF553B",
           "#00cc96",
           "#ab63fa",
           "#FFA15A",
           "#19d3f3",
           "#FF6692",
           "#B6E880",
           "#FF97FF",
           "#FECB52"
          ],
          "font": {
           "color": "#2a3f5f"
          },
          "geo": {
           "bgcolor": "white",
           "lakecolor": "white",
           "landcolor": "white",
           "showlakes": true,
           "showland": true,
           "subunitcolor": "#C8D4E3"
          },
          "hoverlabel": {
           "align": "left"
          },
          "hovermode": "closest",
          "mapbox": {
           "style": "light"
          },
          "paper_bgcolor": "white",
          "plot_bgcolor": "white",
          "polar": {
           "angularaxis": {
            "gridcolor": "#EBF0F8",
            "linecolor": "#EBF0F8",
            "ticks": ""
           },
           "bgcolor": "white",
           "radialaxis": {
            "gridcolor": "#EBF0F8",
            "linecolor": "#EBF0F8",
            "ticks": ""
           }
          },
          "scene": {
           "xaxis": {
            "backgroundcolor": "white",
            "gridcolor": "#DFE8F3",
            "gridwidth": 2,
            "linecolor": "#EBF0F8",
            "showbackground": true,
            "ticks": "",
            "zerolinecolor": "#EBF0F8"
           },
           "yaxis": {
            "backgroundcolor": "white",
            "gridcolor": "#DFE8F3",
            "gridwidth": 2,
            "linecolor": "#EBF0F8",
            "showbackground": true,
            "ticks": "",
            "zerolinecolor": "#EBF0F8"
           },
           "zaxis": {
            "backgroundcolor": "white",
            "gridcolor": "#DFE8F3",
            "gridwidth": 2,
            "linecolor": "#EBF0F8",
            "showbackground": true,
            "ticks": "",
            "zerolinecolor": "#EBF0F8"
           }
          },
          "shapedefaults": {
           "line": {
            "color": "#2a3f5f"
           }
          },
          "ternary": {
           "aaxis": {
            "gridcolor": "#DFE8F3",
            "linecolor": "#A2B1C6",
            "ticks": ""
           },
           "baxis": {
            "gridcolor": "#DFE8F3",
            "linecolor": "#A2B1C6",
            "ticks": ""
           },
           "bgcolor": "white",
           "caxis": {
            "gridcolor": "#DFE8F3",
            "linecolor": "#A2B1C6",
            "ticks": ""
           }
          },
          "title": {
           "x": 0.05
          },
          "xaxis": {
           "automargin": true,
           "gridcolor": "#EBF0F8",
           "linecolor": "#EBF0F8",
           "ticks": "",
           "title": {
            "standoff": 15
           },
           "zerolinecolor": "#EBF0F8",
           "zerolinewidth": 2
          },
          "yaxis": {
           "automargin": true,
           "gridcolor": "#EBF0F8",
           "linecolor": "#EBF0F8",
           "ticks": "",
           "title": {
            "standoff": 15
           },
           "zerolinecolor": "#EBF0F8",
           "zerolinewidth": 2
          }
         }
        },
        "width": 950,
        "xaxis": {
         "dtick": 0.005,
         "gridcolor": "grey",
         "gridwidth": 0.25,
         "linecolor": "black",
         "mirror": true,
         "range": [
          0,
          0.03
         ],
         "showgrid": true,
         "showline": true,
         "tick0": 1,
         "ticks": "outside",
         "title": {
          "text": "$\\sigma$"
         }
        },
        "yaxis": {
         "gridcolor": "grey",
         "gridwidth": 0.25,
         "linecolor": "black",
         "mirror": true,
         "range": [
          2.7,
          4.1
         ],
         "showgrid": true,
         "showline": true,
         "ticks": "outside",
         "title": {
          "text": "$\\tilde{a}$"
         },
         "zeroline": true,
         "zerolinecolor": "black",
         "zerolinewidth": 0.25
        }
       }
      },
      "text/html": [
       "<div>                            <div id=\"a0a3f750-cc4c-4829-99e2-e3794adf50a4\" class=\"plotly-graph-div\" style=\"height:500px; width:950px;\"></div>            <script type=\"text/javascript\">                require([\"plotly\"], function(Plotly) {                    window.PLOTLYENV=window.PLOTLYENV || {};                                    if (document.getElementById(\"a0a3f750-cc4c-4829-99e2-e3794adf50a4\")) {                    Plotly.newPlot(                        \"a0a3f750-cc4c-4829-99e2-e3794adf50a4\",                        [{\"line\":{\"color\":\"black\",\"width\":0.75},\"mode\":\"lines\",\"type\":\"scatter\",\"x\":[0.0,0.001,0.002,0.003,0.004,0.005,0.006,0.007,0.008,0.009000000000000001,0.01,0.011,0.012,0.013000000000000001,0.014,0.015,0.016,0.017,0.018000000000000002,0.019,0.02,0.021,0.022,0.023,0.024,0.025,0.026000000000000002,0.027,0.028,0.029,0.03],\"y\":[2.8485129173413326,2.8485421856812816,2.859049735374384,2.8584313024928925,2.878232433040667,2.8894713615349747,2.905742545296807,2.92352160766088,2.950792744421673,2.9787339307228518,3.0109699201737596,3.034045766264694,3.072587172771786,3.1056564696305564,3.144090323745522,3.190114463660677,3.233947389338702,3.2798494737119626,3.3315391096898317,3.379948098533314,3.423302710793116,3.4887005570838814,3.533465235354571,3.592370638727061,3.6436643031139986,3.7123347888039824,3.769154159842464,3.820930529861219,3.8941298216178115,3.9775564944226556,4.029359885334951]},{\"fill\":\"tonexty\",\"fillcolor\":\"darkgreen\",\"line\":{\"color\":\"black\",\"width\":0.75},\"mode\":\"lines\",\"type\":\"scatter\",\"x\":[0.0,0.001,0.002,0.003,0.004,0.005,0.006,0.007,0.008,0.009000000000000001,0.01,0.011,0.012,0.013000000000000001,0.014,0.015,0.016,0.017,0.018000000000000002,0.019,0.02,0.021,0.022,0.023,0.024,0.025,0.026000000000000002,0.027,0.028,0.029,0.03],\"y\":[2.79539204376494,2.7965252266708513,2.809220600671701,2.8072646849829628,2.8225733453120734,2.8369886130042694,2.8535639722016324,2.871360808963291,2.900295497093746,2.925869659697084,2.9540340203111084,2.9867751287628272,3.022665821362256,3.058214496734654,3.0987860333514217,3.140840290758281,3.18613105566491,3.223391822749364,3.2841765099540474,3.33605039927027,3.3765236033490322,3.438933391278287,3.4896116466110545,3.5493636410190006,3.5963399537908276,3.663518306940265,3.726211750004767,3.7720920099446515,3.8448754277666337,3.9325771367178453,3.978655105285385]},{\"line\":{\"color\":\"black\",\"dash\":\"dash\"},\"marker\":{\"color\":\"black\",\"size\":8,\"symbol\":\"x\"},\"mode\":\"lines\",\"type\":\"scatter\",\"x\":[0.0,0.001,0.002,0.003,0.004,0.005,0.006,0.007,0.008,0.009000000000000001,0.01,0.011,0.012,0.013000000000000001,0.014,0.015,0.016,0.017,0.018000000000000002,0.019,0.02,0.021,0.022,0.023,0.024,0.025,0.026000000000000002,0.027,0.028,0.029,0.03],\"y\":[2.8219524805531364,2.8225337061760665,2.8341351680230424,2.8328479937379276,2.85040288917637,2.863229987269622,2.8796532587492196,2.8974412083120855,2.9255441207577095,2.952301795209968,2.982501970242434,3.0104104475137605,3.047626497067021,3.081935483182605,3.121438178548472,3.165477377209479,3.210039222501806,3.2516206482306633,3.3078578098219396,3.357999248901792,3.399913157071074,3.4638169741810843,3.5115384409828128,3.5708671398730307,3.620002128452413,3.6879265478721237,3.7476829549236155,3.7965112699029353,3.8695026246922226,3.9550668155702504,4.004007495310168]}],                        {\"font\":{\"family\":\"Times New Roman\",\"size\":16},\"height\":500,\"showlegend\":false,\"template\":{\"data\":{\"bar\":[{\"error_x\":{\"color\":\"#2a3f5f\"},\"error_y\":{\"color\":\"#2a3f5f\"},\"marker\":{\"line\":{\"color\":\"white\",\"width\":0.5},\"pattern\":{\"fillmode\":\"overlay\",\"size\":10,\"solidity\":0.2}},\"type\":\"bar\"}],\"barpolar\":[{\"marker\":{\"line\":{\"color\":\"white\",\"width\":0.5},\"pattern\":{\"fillmode\":\"overlay\",\"size\":10,\"solidity\":0.2}},\"type\":\"barpolar\"}],\"carpet\":[{\"aaxis\":{\"endlinecolor\":\"#2a3f5f\",\"gridcolor\":\"#C8D4E3\",\"linecolor\":\"#C8D4E3\",\"minorgridcolor\":\"#C8D4E3\",\"startlinecolor\":\"#2a3f5f\"},\"baxis\":{\"endlinecolor\":\"#2a3f5f\",\"gridcolor\":\"#C8D4E3\",\"linecolor\":\"#C8D4E3\",\"minorgridcolor\":\"#C8D4E3\",\"startlinecolor\":\"#2a3f5f\"},\"type\":\"carpet\"}],\"choropleth\":[{\"colorbar\":{\"outlinewidth\":0,\"ticks\":\"\"},\"type\":\"choropleth\"}],\"contour\":[{\"colorbar\":{\"outlinewidth\":0,\"ticks\":\"\"},\"colorscale\":[[0.0,\"#0d0887\"],[0.1111111111111111,\"#46039f\"],[0.2222222222222222,\"#7201a8\"],[0.3333333333333333,\"#9c179e\"],[0.4444444444444444,\"#bd3786\"],[0.5555555555555556,\"#d8576b\"],[0.6666666666666666,\"#ed7953\"],[0.7777777777777778,\"#fb9f3a\"],[0.8888888888888888,\"#fdca26\"],[1.0,\"#f0f921\"]],\"type\":\"contour\"}],\"contourcarpet\":[{\"colorbar\":{\"outlinewidth\":0,\"ticks\":\"\"},\"type\":\"contourcarpet\"}],\"heatmap\":[{\"colorbar\":{\"outlinewidth\":0,\"ticks\":\"\"},\"colorscale\":[[0.0,\"#0d0887\"],[0.1111111111111111,\"#46039f\"],[0.2222222222222222,\"#7201a8\"],[0.3333333333333333,\"#9c179e\"],[0.4444444444444444,\"#bd3786\"],[0.5555555555555556,\"#d8576b\"],[0.6666666666666666,\"#ed7953\"],[0.7777777777777778,\"#fb9f3a\"],[0.8888888888888888,\"#fdca26\"],[1.0,\"#f0f921\"]],\"type\":\"heatmap\"}],\"heatmapgl\":[{\"colorbar\":{\"outlinewidth\":0,\"ticks\":\"\"},\"colorscale\":[[0.0,\"#0d0887\"],[0.1111111111111111,\"#46039f\"],[0.2222222222222222,\"#7201a8\"],[0.3333333333333333,\"#9c179e\"],[0.4444444444444444,\"#bd3786\"],[0.5555555555555556,\"#d8576b\"],[0.6666666666666666,\"#ed7953\"],[0.7777777777777778,\"#fb9f3a\"],[0.8888888888888888,\"#fdca26\"],[1.0,\"#f0f921\"]],\"type\":\"heatmapgl\"}],\"histogram\":[{\"marker\":{\"pattern\":{\"fillmode\":\"overlay\",\"size\":10,\"solidity\":0.2}},\"type\":\"histogram\"}],\"histogram2d\":[{\"colorbar\":{\"outlinewidth\":0,\"ticks\":\"\"},\"colorscale\":[[0.0,\"#0d0887\"],[0.1111111111111111,\"#46039f\"],[0.2222222222222222,\"#7201a8\"],[0.3333333333333333,\"#9c179e\"],[0.4444444444444444,\"#bd3786\"],[0.5555555555555556,\"#d8576b\"],[0.6666666666666666,\"#ed7953\"],[0.7777777777777778,\"#fb9f3a\"],[0.8888888888888888,\"#fdca26\"],[1.0,\"#f0f921\"]],\"type\":\"histogram2d\"}],\"histogram2dcontour\":[{\"colorbar\":{\"outlinewidth\":0,\"ticks\":\"\"},\"colorscale\":[[0.0,\"#0d0887\"],[0.1111111111111111,\"#46039f\"],[0.2222222222222222,\"#7201a8\"],[0.3333333333333333,\"#9c179e\"],[0.4444444444444444,\"#bd3786\"],[0.5555555555555556,\"#d8576b\"],[0.6666666666666666,\"#ed7953\"],[0.7777777777777778,\"#fb9f3a\"],[0.8888888888888888,\"#fdca26\"],[1.0,\"#f0f921\"]],\"type\":\"histogram2dcontour\"}],\"mesh3d\":[{\"colorbar\":{\"outlinewidth\":0,\"ticks\":\"\"},\"type\":\"mesh3d\"}],\"parcoords\":[{\"line\":{\"colorbar\":{\"outlinewidth\":0,\"ticks\":\"\"}},\"type\":\"parcoords\"}],\"pie\":[{\"automargin\":true,\"type\":\"pie\"}],\"scatter\":[{\"marker\":{\"colorbar\":{\"outlinewidth\":0,\"ticks\":\"\"}},\"type\":\"scatter\"}],\"scatter3d\":[{\"line\":{\"colorbar\":{\"outlinewidth\":0,\"ticks\":\"\"}},\"marker\":{\"colorbar\":{\"outlinewidth\":0,\"ticks\":\"\"}},\"type\":\"scatter3d\"}],\"scattercarpet\":[{\"marker\":{\"colorbar\":{\"outlinewidth\":0,\"ticks\":\"\"}},\"type\":\"scattercarpet\"}],\"scattergeo\":[{\"marker\":{\"colorbar\":{\"outlinewidth\":0,\"ticks\":\"\"}},\"type\":\"scattergeo\"}],\"scattergl\":[{\"marker\":{\"colorbar\":{\"outlinewidth\":0,\"ticks\":\"\"}},\"type\":\"scattergl\"}],\"scattermapbox\":[{\"marker\":{\"colorbar\":{\"outlinewidth\":0,\"ticks\":\"\"}},\"type\":\"scattermapbox\"}],\"scatterpolar\":[{\"marker\":{\"colorbar\":{\"outlinewidth\":0,\"ticks\":\"\"}},\"type\":\"scatterpolar\"}],\"scatterpolargl\":[{\"marker\":{\"colorbar\":{\"outlinewidth\":0,\"ticks\":\"\"}},\"type\":\"scatterpolargl\"}],\"scatterternary\":[{\"marker\":{\"colorbar\":{\"outlinewidth\":0,\"ticks\":\"\"}},\"type\":\"scatterternary\"}],\"surface\":[{\"colorbar\":{\"outlinewidth\":0,\"ticks\":\"\"},\"colorscale\":[[0.0,\"#0d0887\"],[0.1111111111111111,\"#46039f\"],[0.2222222222222222,\"#7201a8\"],[0.3333333333333333,\"#9c179e\"],[0.4444444444444444,\"#bd3786\"],[0.5555555555555556,\"#d8576b\"],[0.6666666666666666,\"#ed7953\"],[0.7777777777777778,\"#fb9f3a\"],[0.8888888888888888,\"#fdca26\"],[1.0,\"#f0f921\"]],\"type\":\"surface\"}],\"table\":[{\"cells\":{\"fill\":{\"color\":\"#EBF0F8\"},\"line\":{\"color\":\"white\"}},\"header\":{\"fill\":{\"color\":\"#C8D4E3\"},\"line\":{\"color\":\"white\"}},\"type\":\"table\"}]},\"layout\":{\"annotationdefaults\":{\"arrowcolor\":\"#2a3f5f\",\"arrowhead\":0,\"arrowwidth\":1},\"autotypenumbers\":\"strict\",\"coloraxis\":{\"colorbar\":{\"outlinewidth\":0,\"ticks\":\"\"}},\"colorscale\":{\"diverging\":[[0,\"#8e0152\"],[0.1,\"#c51b7d\"],[0.2,\"#de77ae\"],[0.3,\"#f1b6da\"],[0.4,\"#fde0ef\"],[0.5,\"#f7f7f7\"],[0.6,\"#e6f5d0\"],[0.7,\"#b8e186\"],[0.8,\"#7fbc41\"],[0.9,\"#4d9221\"],[1,\"#276419\"]],\"sequential\":[[0.0,\"#0d0887\"],[0.1111111111111111,\"#46039f\"],[0.2222222222222222,\"#7201a8\"],[0.3333333333333333,\"#9c179e\"],[0.4444444444444444,\"#bd3786\"],[0.5555555555555556,\"#d8576b\"],[0.6666666666666666,\"#ed7953\"],[0.7777777777777778,\"#fb9f3a\"],[0.8888888888888888,\"#fdca26\"],[1.0,\"#f0f921\"]],\"sequentialminus\":[[0.0,\"#0d0887\"],[0.1111111111111111,\"#46039f\"],[0.2222222222222222,\"#7201a8\"],[0.3333333333333333,\"#9c179e\"],[0.4444444444444444,\"#bd3786\"],[0.5555555555555556,\"#d8576b\"],[0.6666666666666666,\"#ed7953\"],[0.7777777777777778,\"#fb9f3a\"],[0.8888888888888888,\"#fdca26\"],[1.0,\"#f0f921\"]]},\"colorway\":[\"#636efa\",\"#EF553B\",\"#00cc96\",\"#ab63fa\",\"#FFA15A\",\"#19d3f3\",\"#FF6692\",\"#B6E880\",\"#FF97FF\",\"#FECB52\"],\"font\":{\"color\":\"#2a3f5f\"},\"geo\":{\"bgcolor\":\"white\",\"lakecolor\":\"white\",\"landcolor\":\"white\",\"showlakes\":true,\"showland\":true,\"subunitcolor\":\"#C8D4E3\"},\"hoverlabel\":{\"align\":\"left\"},\"hovermode\":\"closest\",\"mapbox\":{\"style\":\"light\"},\"paper_bgcolor\":\"white\",\"plot_bgcolor\":\"white\",\"polar\":{\"angularaxis\":{\"gridcolor\":\"#EBF0F8\",\"linecolor\":\"#EBF0F8\",\"ticks\":\"\"},\"bgcolor\":\"white\",\"radialaxis\":{\"gridcolor\":\"#EBF0F8\",\"linecolor\":\"#EBF0F8\",\"ticks\":\"\"}},\"scene\":{\"xaxis\":{\"backgroundcolor\":\"white\",\"gridcolor\":\"#DFE8F3\",\"gridwidth\":2,\"linecolor\":\"#EBF0F8\",\"showbackground\":true,\"ticks\":\"\",\"zerolinecolor\":\"#EBF0F8\"},\"yaxis\":{\"backgroundcolor\":\"white\",\"gridcolor\":\"#DFE8F3\",\"gridwidth\":2,\"linecolor\":\"#EBF0F8\",\"showbackground\":true,\"ticks\":\"\",\"zerolinecolor\":\"#EBF0F8\"},\"zaxis\":{\"backgroundcolor\":\"white\",\"gridcolor\":\"#DFE8F3\",\"gridwidth\":2,\"linecolor\":\"#EBF0F8\",\"showbackground\":true,\"ticks\":\"\",\"zerolinecolor\":\"#EBF0F8\"}},\"shapedefaults\":{\"line\":{\"color\":\"#2a3f5f\"}},\"ternary\":{\"aaxis\":{\"gridcolor\":\"#DFE8F3\",\"linecolor\":\"#A2B1C6\",\"ticks\":\"\"},\"baxis\":{\"gridcolor\":\"#DFE8F3\",\"linecolor\":\"#A2B1C6\",\"ticks\":\"\"},\"bgcolor\":\"white\",\"caxis\":{\"gridcolor\":\"#DFE8F3\",\"linecolor\":\"#A2B1C6\",\"ticks\":\"\"}},\"title\":{\"x\":0.05},\"xaxis\":{\"automargin\":true,\"gridcolor\":\"#EBF0F8\",\"linecolor\":\"#EBF0F8\",\"ticks\":\"\",\"title\":{\"standoff\":15},\"zerolinecolor\":\"#EBF0F8\",\"zerolinewidth\":2},\"yaxis\":{\"automargin\":true,\"gridcolor\":\"#EBF0F8\",\"linecolor\":\"#EBF0F8\",\"ticks\":\"\",\"title\":{\"standoff\":15},\"zerolinecolor\":\"#EBF0F8\",\"zerolinewidth\":2}}},\"width\":950,\"xaxis\":{\"dtick\":0.005,\"gridcolor\":\"grey\",\"gridwidth\":0.25,\"linecolor\":\"black\",\"mirror\":true,\"range\":[0,0.03],\"showgrid\":true,\"showline\":true,\"tick0\":1,\"ticks\":\"outside\",\"title\":{\"text\":\"$\\\\sigma$\"}},\"yaxis\":{\"gridcolor\":\"grey\",\"gridwidth\":0.25,\"linecolor\":\"black\",\"mirror\":true,\"range\":[2.7,4.1],\"showgrid\":true,\"showline\":true,\"ticks\":\"outside\",\"title\":{\"text\":\"$\\\\tilde{a}$\"},\"zeroline\":true,\"zerolinecolor\":\"black\",\"zerolinewidth\":0.25}},                        {\"responsive\": true}                    ).then(function(){\n",
       "                            \n",
       "var gd = document.getElementById('a0a3f750-cc4c-4829-99e2-e3794adf50a4');\n",
       "var x = new MutationObserver(function (mutations, observer) {{\n",
       "        var display = window.getComputedStyle(gd).display;\n",
       "        if (!display || display === 'none') {{\n",
       "            console.log([gd, 'removed!']);\n",
       "            Plotly.purge(gd);\n",
       "            observer.disconnect();\n",
       "        }}\n",
       "}});\n",
       "\n",
       "// Listen for the removal of the full notebook cells\n",
       "var notebookContainer = gd.closest('#notebook-container');\n",
       "if (notebookContainer) {{\n",
       "    x.observe(notebookContainer, {childList: true});\n",
       "}}\n",
       "\n",
       "// Listen for the clearing of the current output cell\n",
       "var outputEl = gd.closest('.output');\n",
       "if (outputEl) {{\n",
       "    x.observe(outputEl, {childList: true});\n",
       "}}\n",
       "\n",
       "                        })                };                });            </script>        </div>"
      ]
     },
     "metadata": {},
     "output_type": "display_data"
    }
   ],
   "source": [
    "pio.templates.default = 'plotly_white'\n",
    "\n",
    "fig = go.Figure()\n",
    "\n",
    "fig.add_trace(\n",
    "    go.Scatter(\n",
    "        x=sigmas,\n",
    "        y=coefs_df[r'$\\tilde{a}$']+coefs_df[r'$\\Delta \\tilde{a}$'],\n",
    "        mode='lines',\n",
    "        line=dict(color='black', width=0.75),\n",
    "    )\n",
    ")\n",
    "\n",
    "fig.add_trace(\n",
    "    go.Scatter(\n",
    "        x=sigmas,\n",
    "        y=coefs_df[r'$\\tilde{a}$']-coefs_df[r'$\\Delta \\tilde{a}$'],\n",
    "        fill='tonexty',\n",
    "        fillcolor='darkgreen',\n",
    "        mode='lines',\n",
    "        line=dict(color='black', width=0.75)\n",
    "    )\n",
    ")\n",
    "\n",
    "fig.add_trace(\n",
    "    go.Scatter(\n",
    "        x=sigmas,\n",
    "        y=coefs_df[r'$\\tilde{a}$'],\n",
    "        mode='lines',#'lines+markers',\n",
    "        line=dict(\n",
    "            dash='dash',\n",
    "            color='black'\n",
    "        ),\n",
    "        marker=dict(\n",
    "            color='black',\n",
    "            size=8,\n",
    "            symbol='x'\n",
    "        ),\n",
    "    )\n",
    ")\n",
    "\n",
    "xaxis = lambda range: dict(\n",
    "    showline=True,\n",
    "    ticks='outside',\n",
    "    mirror=True,\n",
    "    tick0=1,\n",
    "    dtick=0.005,\n",
    "    range=range,\n",
    "    linecolor='black',\n",
    "    showgrid=True,\n",
    "    gridcolor='grey',\n",
    "    gridwidth=0.25,\n",
    ")\n",
    "\n",
    "yaxis = lambda range: dict(\n",
    "    showline=True,\n",
    "    ticks='outside',\n",
    "    mirror=True,\n",
    "    linecolor='black',\n",
    "    range=range,\n",
    "    showgrid=True,\n",
    "    gridcolor='grey',\n",
    "    gridwidth=0.25,\n",
    "    zeroline=True,\n",
    "    zerolinecolor='black',\n",
    "    zerolinewidth=0.25\n",
    ")\n",
    "\n",
    "fig.update_layout(\n",
    "    xaxis_title=r\"$\\sigma$\",\n",
    "    yaxis_title=r'$\\tilde{a}$',\n",
    "    xaxis = xaxis([0, 0.03]),\n",
    "    yaxis = yaxis([2.7, 4.1]),\n",
    "\n",
    "    showlegend=False,\n",
    "    height=500,\n",
    "    width=950,\n",
    "    font=dict(\n",
    "            family=\"Times New Roman\",\n",
    "            size=16,\n",
    "    ),\n",
    ")\n",
    "\n",
    "fig.show()\n",
    "pio.write_image(fig, 'plots/atilde_vs_noise.pdf', height=500, width=950)"
   ]
  },
  {
   "cell_type": "code",
   "execution_count": 29,
   "id": "903b0a82",
   "metadata": {},
   "outputs": [],
   "source": [
    "# coefs_df.to_csv('plots/params_vs_noise.csv', index=False)"
   ]
  },
  {
   "cell_type": "code",
   "execution_count": null,
   "id": "61d5f757",
   "metadata": {},
   "outputs": [],
   "source": []
  }
 ],
 "metadata": {
  "kernelspec": {
   "display_name": "Python 3",
   "language": "python",
   "name": "python3"
  },
  "language_info": {
   "codemirror_mode": {
    "name": "ipython",
    "version": 3
   },
   "file_extension": ".py",
   "mimetype": "text/x-python",
   "name": "python",
   "nbconvert_exporter": "python",
   "pygments_lexer": "ipython3",
   "version": "3.8.10"
  }
 },
 "nbformat": 4,
 "nbformat_minor": 5
}
