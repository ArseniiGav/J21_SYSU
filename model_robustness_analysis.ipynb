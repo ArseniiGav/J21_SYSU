{
 "cells": [
  {
   "cell_type": "code",
   "execution_count": 1,
   "id": "6ffcef3a",
   "metadata": {},
   "outputs": [],
   "source": [
    "import pandas as pd\n",
    "import numpy as np\n",
    "from tqdm.notebook import tqdm\n",
    "\n",
    "import plotly.graph_objs as go\n",
    "from plotly.subplots import make_subplots\n",
    "import plotly.io as pio\n",
    "\n",
    "from xgboost import XGBRegressor\n",
    "import pickle\n",
    "\n",
    "import warnings\n",
    "warnings.filterwarnings(\"ignore\")"
   ]
  },
  {
   "cell_type": "code",
   "execution_count": 2,
   "id": "199824aa",
   "metadata": {},
   "outputs": [],
   "source": [
    "def noised(X):\n",
    "    noise = np.random.normal(0, 0.05, size=(X.shape[0], X.shape[1]))\n",
    "    noise *= (X.max() - X.min())\n",
    "    return X + noise"
   ]
  },
  {
   "cell_type": "code",
   "execution_count": 3,
   "id": "56d2a34c",
   "metadata": {},
   "outputs": [],
   "source": [
    "models = []\n",
    "models.append(pickle.load(open(\"models/xgb_energy_ideal_opt_16.dat\", \"rb\")))\n",
    "models.append(pickle.load(open(\"models/xgb_energy_real_opt_16.dat\", \"rb\")))"
   ]
  },
  {
   "cell_type": "code",
   "execution_count": 4,
   "id": "8d97f15a",
   "metadata": {},
   "outputs": [],
   "source": [
    "opt_features = ['AccumCharge', 'R_cht', 'z_cc', 'pe_std',\n",
    "                'nPMTs', 'ht_kurtosis', 'ht_25-20p', 'R_cc',\n",
    "                'ht_5-2p', 'pe_mean', 'jacob_cht', 'phi_cc',\n",
    "                'ht_35-30p', 'ht_20-15p', 'pe_35p', 'ht_30-25p']\n",
    "\n",
    "opt_features += ['edep']"
   ]
  },
  {
   "cell_type": "code",
   "execution_count": 5,
   "id": "0b3a102f",
   "metadata": {},
   "outputs": [
    {
     "data": {
      "application/vnd.jupyter.widget-view+json": {
       "model_id": "",
       "version_major": 2,
       "version_minor": 0
      },
      "text/plain": [
       "Options...:   0%|          | 0/2 [00:00<?, ?it/s]"
      ]
     },
     "metadata": {},
     "output_type": "display_data"
    },
    {
     "data": {
      "application/vnd.jupyter.widget-view+json": {
       "model_id": "",
       "version_major": 2,
       "version_minor": 0
      },
      "text/plain": [
       "Energies...:   0%|          | 0/14 [00:00<?, ?it/s]"
      ]
     },
     "metadata": {},
     "output_type": "display_data"
    },
    {
     "data": {
      "application/vnd.jupyter.widget-view+json": {
       "model_id": "",
       "version_major": 2,
       "version_minor": 0
      },
      "text/plain": [
       "Energies...:   0%|          | 0/14 [00:00<?, ?it/s]"
      ]
     },
     "metadata": {},
     "output_type": "display_data"
    },
    {
     "name": "stdout",
     "output_type": "stream",
     "text": [
      "CPU times: user 2min 59s, sys: 983 ms, total: 3min\n",
      "Wall time: 1min 37s\n"
     ]
    }
   ],
   "source": [
    "%%time\n",
    "path='/mnt/cephfs/ml_data/mc_2021/'\n",
    "energies = [0, 0.1, 0.3, 0.6] + list(range(1, 11))\n",
    "y_true_array = []\n",
    "y_pred_array = []\n",
    "for j in tqdm(range(2), \"Options...\"):\n",
    "    if j == 0:\n",
    "        name = 'ProcessedTestIdeal'\n",
    "    elif j == 1:\n",
    "        name = 'ProcessedTestReal'\n",
    "    y_true = []\n",
    "    y_pred = []\n",
    "    for energy in tqdm(energies, \"Energies...\", leave=False):\n",
    "        test = pd.read_csv('{}processed_data/{}/{}MeV.csv.gz'.format(path, name, energy))\n",
    "        test = test[test['edepR'] < 17.2]\n",
    "        edep = np.array(test['edep'])\n",
    "        X_test = test[opt_features].iloc[:, :-1]\n",
    "        edep_preds = models[j].predict(np.array(X_test))\n",
    "\n",
    "        y_true.append(edep)\n",
    "        y_pred.append(edep_preds)\n",
    "    y_true_array.append(y_true)\n",
    "    y_pred_array.append(y_pred)"
   ]
  },
  {
   "cell_type": "code",
   "execution_count": 6,
   "id": "4592ff50",
   "metadata": {},
   "outputs": [
    {
     "data": {
      "application/vnd.jupyter.widget-view+json": {
       "model_id": "",
       "version_major": 2,
       "version_minor": 0
      },
      "text/plain": [
       "Options...:   0%|          | 0/2 [00:00<?, ?it/s]"
      ]
     },
     "metadata": {},
     "output_type": "display_data"
    },
    {
     "data": {
      "application/vnd.jupyter.widget-view+json": {
       "model_id": "",
       "version_major": 2,
       "version_minor": 0
      },
      "text/plain": [
       "Energies...:   0%|          | 0/14 [00:00<?, ?it/s]"
      ]
     },
     "metadata": {},
     "output_type": "display_data"
    },
    {
     "data": {
      "application/vnd.jupyter.widget-view+json": {
       "model_id": "",
       "version_major": 2,
       "version_minor": 0
      },
      "text/plain": [
       "Energies...:   0%|          | 0/14 [00:00<?, ?it/s]"
      ]
     },
     "metadata": {},
     "output_type": "display_data"
    }
   ],
   "source": [
    "for j in tqdm(range(2), \"Options...\"):\n",
    "    if j == 0:\n",
    "        name = 'ProcessedTestIdeal'\n",
    "    elif j == 1:\n",
    "        name = 'ProcessedTestReal'\n",
    "    y_true = []\n",
    "    y_pred = []\n",
    "    for energy in tqdm(energies, \"Energies...\", leave=False):\n",
    "        test = pd.read_csv('{}processed_data/{}/{}MeV.csv.gz'.format(path, name, energy))\n",
    "        test = test[test['edepR'] < 17.2]\n",
    "        edep = np.array(test['edep'])\n",
    "        X_test = test[opt_features].iloc[:, :-1]\n",
    "        edep_preds = models[j].predict(noised(np.array(X_test)))\n",
    "\n",
    "        y_true.append(edep)\n",
    "        y_pred.append(edep_preds)\n",
    "    y_true_array.append(y_true)\n",
    "    y_pred_array.append(y_pred)"
   ]
  },
  {
   "cell_type": "code",
   "execution_count": 7,
   "id": "165e67c4",
   "metadata": {},
   "outputs": [],
   "source": [
    "diffs = np.array([\n",
    "    [y_pred_array[j][i] - y_true_array[j][i] for i in range(len(y_pred_array[0]))]\n",
    "    for j in range(len(y_pred_array))\n",
    "])"
   ]
  },
  {
   "cell_type": "code",
   "execution_count": 8,
   "id": "904f5210",
   "metadata": {},
   "outputs": [
    {
     "data": {
      "text/plain": [
       "array([ 1.022,  1.122,  1.322,  1.622,  2.022,  3.022,  4.022,  5.022,\n",
       "        6.022,  7.022,  8.022,  9.022, 10.022, 11.022])"
      ]
     },
     "execution_count": 8,
     "metadata": {},
     "output_type": "execute_result"
    }
   ],
   "source": [
    "energies = [0, 0.1, 0.3, 0.6] + list(range(1, 11))\n",
    "energies = np.array([1.022+i for i in energies]).round(5)\n",
    "energies"
   ]
  },
  {
   "cell_type": "code",
   "execution_count": 9,
   "id": "7b9db479",
   "metadata": {},
   "outputs": [],
   "source": [
    "names = ['Elecsim 5M Ideal', 'Elecsim 5M Real', 'Elecsim+Noise 5M Ideal', 'Elecsim+Noise 5M Real']"
   ]
  },
  {
   "cell_type": "code",
   "execution_count": 10,
   "id": "b7812878",
   "metadata": {},
   "outputs": [],
   "source": [
    "import matplotlib.pyplot as plt\n",
    "from scipy.optimize import curve_fit\n",
    "from scipy.stats import norm\n",
    "\n",
    "a_array = []\n",
    "errors_array = []\n",
    "for k in range(diffs.shape[0]):\n",
    "    a = []\n",
    "    e = []\n",
    "    for i in range(diffs.shape[1]):\n",
    "        fig, ax = plt.subplots()\n",
    "        nbins = 150\n",
    "        n, bins, patches = ax.hist(diffs[k][i], nbins, density=True, facecolor = 'grey', alpha = 0.5, label='before');\n",
    "        plt.close(fig)\n",
    "        centers = (0.5*(bins[1:]+bins[:-1]))\n",
    "        pars, cov = curve_fit(lambda x, mu, sig : norm.pdf(x, loc=mu, scale=sig), centers, n, p0=[0,1])  \n",
    "        a.append(pars)\n",
    "        e.append(cov)\n",
    "    a_array.append(a)\n",
    "    errors_array.append(e)"
   ]
  },
  {
   "cell_type": "code",
   "execution_count": 11,
   "id": "ae26c832",
   "metadata": {},
   "outputs": [
    {
     "ename": "NameError",
     "evalue": "name 'all_data' is not defined",
     "output_type": "error",
     "traceback": [
      "\u001b[0;31m---------------------------------------------------------------------------\u001b[0m",
      "\u001b[0;31mNameError\u001b[0m                                 Traceback (most recent call last)",
      "\u001b[0;32m<ipython-input-11-a14335f7db2c>\u001b[0m in \u001b[0;36m<module>\u001b[0;34m\u001b[0m\n\u001b[1;32m      2\u001b[0m \u001b[0;34m\u001b[0m\u001b[0m\n\u001b[1;32m      3\u001b[0m \u001b[0;32mfrom\u001b[0m \u001b[0mscipy\u001b[0m \u001b[0;32mimport\u001b[0m \u001b[0mstats\u001b[0m\u001b[0;34m\u001b[0m\u001b[0;34m\u001b[0m\u001b[0m\n\u001b[0;32m----> 4\u001b[0;31m \u001b[0;32mfor\u001b[0m \u001b[0mk\u001b[0m \u001b[0;32min\u001b[0m \u001b[0mrange\u001b[0m\u001b[0;34m(\u001b[0m\u001b[0mlen\u001b[0m\u001b[0;34m(\u001b[0m\u001b[0mall_data\u001b[0m\u001b[0;34m)\u001b[0m\u001b[0;34m)\u001b[0m\u001b[0;34m:\u001b[0m\u001b[0;34m\u001b[0m\u001b[0;34m\u001b[0m\u001b[0m\n\u001b[0m\u001b[1;32m      5\u001b[0m     \u001b[0mfig\u001b[0m \u001b[0;34m=\u001b[0m \u001b[0mgo\u001b[0m\u001b[0;34m.\u001b[0m\u001b[0mFigure\u001b[0m\u001b[0;34m(\u001b[0m\u001b[0;34m)\u001b[0m\u001b[0;34m\u001b[0m\u001b[0;34m\u001b[0m\u001b[0m\n\u001b[1;32m      6\u001b[0m \u001b[0;34m\u001b[0m\u001b[0m\n",
      "\u001b[0;31mNameError\u001b[0m: name 'all_data' is not defined"
     ]
    }
   ],
   "source": [
    "pio.templates.default = 'plotly_white'\n",
    "\n",
    "from scipy import stats\n",
    "for k in range(4):\n",
    "    fig = go.Figure()\n",
    "\n",
    "    for i in range(len(diffs[k])): \n",
    "        x = np.linspace(diffs[k][i][:22500].min(), diffs[k][i][:22500].max(), 100)\n",
    "        p = stats.norm.pdf(x, a_array[k][i][0], a_array[k][i][1])\n",
    "\n",
    "        fig.add_trace(go.Scatter(x=x,\n",
    "                     y=p, mode='lines', name='mu={:.3f} +- {:.3f}, sigma={:.3f} +- {:.3f}'.format(\n",
    "                         a_array[k][i][0], np.sqrt(errors_array[k][i][0][0]),\n",
    "                         a_array[k][i][1], np.sqrt(errors_array[k][i][1][1])),\n",
    "                        visible = (i==0)\n",
    "                    ))\n",
    "\n",
    "    for i in range(len(diffs[k])): \n",
    "        fig.add_trace(go.Histogram(x=diffs[k][i][:22500], xbins=dict(size=0.005),\n",
    "                      showlegend=False, histnorm='probability density',\n",
    "                     visible = (i==0)\n",
    "                    ))\n",
    "\n",
    "    buttons = []\n",
    "    for N in range(0, len(diffs[k])): \n",
    "        buttons.append(\n",
    "            dict(\n",
    "                 args=['visible', [False]*N + [True] + [False]*(len(diffs[k])-1-N)],\n",
    "                     label='Energy =  {} MeV'.format(energies[N]),\n",
    "                 method='restyle'\n",
    "            )\n",
    "        )\n",
    "        \n",
    "    fig.update_layout(\n",
    "\n",
    "        xaxis = dict(\n",
    "            showline=True,\n",
    "            ticks='outside',\n",
    "            mirror=True,\n",
    "            linecolor='black',\n",
    "            showgrid=True,\n",
    "            gridcolor='grey',\n",
    "            gridwidth=0.25,\n",
    "        ),\n",
    "\n",
    "        yaxis = dict(\n",
    "            showline=True,\n",
    "            ticks='outside',\n",
    "            mirror=True,\n",
    "            linecolor='black',\n",
    "            tick0=0,\n",
    "#             dtick=1,\n",
    "            showgrid=True,\n",
    "            gridcolor='grey',\n",
    "            gridwidth=0.25,\n",
    "            zeroline=True,\n",
    "            zerolinecolor='black',\n",
    "            zerolinewidth=0.25\n",
    "            ),\n",
    "    )\n",
    "\n",
    "\n",
    "    fig.update_layout(\n",
    "        title = '{}'.format(names[k]),\n",
    "        xaxis_title=r\"$$E_{rec} - E_{true}$$\",\n",
    "#         yaxis_title=\"y\",\n",
    "        showlegend=True,\n",
    "        updatemenus=list([\n",
    "            dict(\n",
    "                x=0.5,\n",
    "                y=1.2,\n",
    "                yanchor='top',\n",
    "                buttons=buttons\n",
    "            ),\n",
    "        ]),\n",
    "        legend=dict(\n",
    "            orientation=\"h\",\n",
    "            yanchor=\"bottom\",\n",
    "            y=1.05,\n",
    "            xanchor=\"right\",\n",
    "            x=1\n",
    "        )\n",
    "    )\n",
    "    \n",
    "    fig.show()"
   ]
  },
  {
   "cell_type": "code",
   "execution_count": 12,
   "id": "3294394a",
   "metadata": {},
   "outputs": [],
   "source": [
    "def plot_results(appr=False):\n",
    "\n",
    "    fig = make_subplots(rows=2, cols=1,\n",
    "                        shared_xaxes=True,\n",
    "                        vertical_spacing=0.01,\n",
    "                        row_width=[0.25, 0.75]\n",
    "    )\n",
    "\n",
    "    for k in range(diffs.shape[0]):\n",
    "        fig.add_trace(\n",
    "            go.Scatter(\n",
    "                x=energies,\n",
    "                y=res[k],\n",
    "                mode='markers',\n",
    "                marker=dict(\n",
    "                    color=colors[k],\n",
    "                    symbol=symbols[k]\n",
    "                ),\n",
    "                showlegend=True,\n",
    "                error_y=dict(\n",
    "                    type='data',\n",
    "                    width=10,\n",
    "                    array=error_sigma[k],\n",
    "                    visible=True\n",
    "                ),\n",
    "                name=names[k]\n",
    "            ), row=1, col=1\n",
    "        )\n",
    "\n",
    "        fig.add_trace(\n",
    "            go.Scatter(\n",
    "                x=energies,\n",
    "                y=bias[k],\n",
    "                mode='markers',\n",
    "                showlegend=False,\n",
    "                marker=dict(\n",
    "                    color=colors[k],\n",
    "                    symbol=symbols[k]\n",
    "                ),\n",
    "                error_y=dict(\n",
    "                        type='data',\n",
    "                        width=10,\n",
    "                        array=error_mu[k],\n",
    "                        visible=True\n",
    "                ),\n",
    "                name=names[k]\n",
    "            ), row=2, col=1\n",
    "        )\n",
    "\n",
    "    if appr:\n",
    "        for k in range(len(names)):\n",
    "            fig.add_trace(\n",
    "                go.Scatter(\n",
    "                    x=x_lin,\n",
    "                    y=func(x_lin, a[k], b[k], c[k]),\n",
    "                    mode='lines',\n",
    "                    line=dict(\n",
    "                    ),\n",
    "                    opacity=0.5,\n",
    "                    showlegend=False,\n",
    "                    name=names[k],\n",
    "                    marker=dict(\n",
    "                        color=colors[k]\n",
    "                    )\n",
    "                ), row=1, col=1\n",
    "            )\n",
    "\n",
    "    xaxis = dict(\n",
    "        showline=True,\n",
    "        ticks='outside',\n",
    "        mirror=True,\n",
    "        tick0=1,\n",
    "        dtick=1,\n",
    "        linecolor='black',\n",
    "        showgrid=True,\n",
    "        gridcolor='grey',\n",
    "        gridwidth=0.25,\n",
    "    )\n",
    "\n",
    "    yaxis = lambda range: dict(\n",
    "        showline=True,\n",
    "        ticks='outside',\n",
    "        mirror=True,\n",
    "        linecolor='black',\n",
    "        range=range,\n",
    "        showgrid=True,\n",
    "        gridcolor='grey',\n",
    "        gridwidth=0.25,\n",
    "        zeroline=True,\n",
    "        zerolinecolor='black',\n",
    "        zerolinewidth=0.25\n",
    "    )\n",
    "\n",
    "    fig.update_layout(\n",
    "        xaxis2_title=\"Visible energy, MeV\",\n",
    "        yaxis1_title=\"Resolution, %\",\n",
    "        yaxis2_title=\"Bias, %\",\n",
    "\n",
    "        xaxis1 = xaxis,\n",
    "        xaxis2 = xaxis,\n",
    "        yaxis1 = yaxis([0, 3.5]),\n",
    "        yaxis2 = yaxis([-0.25, 0.25]),\n",
    "\n",
    "        showlegend=True,\n",
    "        font=dict(\n",
    "                family=\"Times New Roman\",\n",
    "                size=18,\n",
    "        ),\n",
    "        legend=dict(\n",
    "            x=0.75,\n",
    "            y=0.99,\n",
    "            title_font_family=\"Times New Roman\",\n",
    "            font=dict(\n",
    "                family=\"Times New Roman\",\n",
    "                size=18,\n",
    "                color=\"black\"\n",
    "            ),\n",
    "            bordercolor=\"Black\",\n",
    "            borderwidth=2\n",
    "        )\n",
    "    )\n",
    "\n",
    "    fig.show()\n",
    "#     if appr:\n",
    "#         pio.write_image(fig, 'plots/appr_results_opt_{}.pdf'.format(len(opt_features)-1), width=900, height=600, scale=1)\n",
    "#         run['output/appr_results.pdf'].upload(File.as_html(fig))\n",
    "#     else:\n",
    "#         pio.write_image(fig, 'plots/results_opt_{}.pdf'.format(len(opt_features)-1), width=900, height=600, scale=1)\n",
    "#         run['output/results.pdf'].upload(File.as_html(fig))"
   ]
  },
  {
   "cell_type": "code",
   "execution_count": 19,
   "id": "d4757968",
   "metadata": {},
   "outputs": [],
   "source": [
    "colors = ['red', 'darkviolet', 'blue', 'green']\n",
    "symbols = ['hexagon-open', 'star-square', 1, 2]"
   ]
  },
  {
   "cell_type": "code",
   "execution_count": 20,
   "id": "977292b6",
   "metadata": {},
   "outputs": [
    {
     "ename": "IndexError",
     "evalue": "invalid index to scalar variable.",
     "output_type": "error",
     "traceback": [
      "\u001b[0;31m---------------------------------------------------------------------------\u001b[0m",
      "\u001b[0;31mIndexError\u001b[0m                                Traceback (most recent call last)",
      "\u001b[0;32m<ipython-input-20-319d1504f5d0>\u001b[0m in \u001b[0;36m<module>\u001b[0;34m\u001b[0m\n\u001b[1;32m      1\u001b[0m \u001b[0merror_sigma\u001b[0m \u001b[0;34m=\u001b[0m \u001b[0;34m[\u001b[0m\u001b[0;34m]\u001b[0m\u001b[0;34m\u001b[0m\u001b[0;34m\u001b[0m\u001b[0m\n\u001b[1;32m      2\u001b[0m \u001b[0;32mfor\u001b[0m \u001b[0mk\u001b[0m \u001b[0;32min\u001b[0m \u001b[0mrange\u001b[0m\u001b[0;34m(\u001b[0m\u001b[0mdiffs\u001b[0m\u001b[0;34m.\u001b[0m\u001b[0mshape\u001b[0m\u001b[0;34m[\u001b[0m\u001b[0;36m0\u001b[0m\u001b[0;34m]\u001b[0m\u001b[0;34m)\u001b[0m\u001b[0;34m:\u001b[0m\u001b[0;34m\u001b[0m\u001b[0;34m\u001b[0m\u001b[0m\n\u001b[0;32m----> 3\u001b[0;31m     \u001b[0merror\u001b[0m \u001b[0;34m=\u001b[0m \u001b[0;34m[\u001b[0m\u001b[0;36m100\u001b[0m \u001b[0;34m*\u001b[0m \u001b[0mnp\u001b[0m\u001b[0;34m.\u001b[0m\u001b[0msqrt\u001b[0m\u001b[0;34m(\u001b[0m\u001b[0merrors_array\u001b[0m\u001b[0;34m[\u001b[0m\u001b[0mk\u001b[0m\u001b[0;34m]\u001b[0m\u001b[0;34m[\u001b[0m\u001b[0mi\u001b[0m\u001b[0;34m]\u001b[0m\u001b[0;34m[\u001b[0m\u001b[0;36m1\u001b[0m\u001b[0;34m]\u001b[0m\u001b[0;34m[\u001b[0m\u001b[0;36m1\u001b[0m\u001b[0;34m]\u001b[0m\u001b[0;34m)\u001b[0m \u001b[0;34m/\u001b[0m \u001b[0menergies\u001b[0m\u001b[0;34m[\u001b[0m\u001b[0mi\u001b[0m\u001b[0;34m]\u001b[0m \u001b[0;32mfor\u001b[0m \u001b[0mi\u001b[0m \u001b[0;32min\u001b[0m \u001b[0mrange\u001b[0m\u001b[0;34m(\u001b[0m\u001b[0mlen\u001b[0m\u001b[0;34m(\u001b[0m\u001b[0menergies\u001b[0m\u001b[0;34m)\u001b[0m\u001b[0;34m)\u001b[0m\u001b[0;34m]\u001b[0m\u001b[0;34m\u001b[0m\u001b[0;34m\u001b[0m\u001b[0m\n\u001b[0m\u001b[1;32m      4\u001b[0m     \u001b[0merror_sigma\u001b[0m\u001b[0;34m.\u001b[0m\u001b[0mappend\u001b[0m\u001b[0;34m(\u001b[0m\u001b[0merror\u001b[0m\u001b[0;34m)\u001b[0m\u001b[0;34m\u001b[0m\u001b[0;34m\u001b[0m\u001b[0m\n\u001b[1;32m      5\u001b[0m \u001b[0;34m\u001b[0m\u001b[0m\n",
      "\u001b[0;32m<ipython-input-20-319d1504f5d0>\u001b[0m in \u001b[0;36m<listcomp>\u001b[0;34m(.0)\u001b[0m\n\u001b[1;32m      1\u001b[0m \u001b[0merror_sigma\u001b[0m \u001b[0;34m=\u001b[0m \u001b[0;34m[\u001b[0m\u001b[0;34m]\u001b[0m\u001b[0;34m\u001b[0m\u001b[0;34m\u001b[0m\u001b[0m\n\u001b[1;32m      2\u001b[0m \u001b[0;32mfor\u001b[0m \u001b[0mk\u001b[0m \u001b[0;32min\u001b[0m \u001b[0mrange\u001b[0m\u001b[0;34m(\u001b[0m\u001b[0mdiffs\u001b[0m\u001b[0;34m.\u001b[0m\u001b[0mshape\u001b[0m\u001b[0;34m[\u001b[0m\u001b[0;36m0\u001b[0m\u001b[0;34m]\u001b[0m\u001b[0;34m)\u001b[0m\u001b[0;34m:\u001b[0m\u001b[0;34m\u001b[0m\u001b[0;34m\u001b[0m\u001b[0m\n\u001b[0;32m----> 3\u001b[0;31m     \u001b[0merror\u001b[0m \u001b[0;34m=\u001b[0m \u001b[0;34m[\u001b[0m\u001b[0;36m100\u001b[0m \u001b[0;34m*\u001b[0m \u001b[0mnp\u001b[0m\u001b[0;34m.\u001b[0m\u001b[0msqrt\u001b[0m\u001b[0;34m(\u001b[0m\u001b[0merrors_array\u001b[0m\u001b[0;34m[\u001b[0m\u001b[0mk\u001b[0m\u001b[0;34m]\u001b[0m\u001b[0;34m[\u001b[0m\u001b[0mi\u001b[0m\u001b[0;34m]\u001b[0m\u001b[0;34m[\u001b[0m\u001b[0;36m1\u001b[0m\u001b[0;34m]\u001b[0m\u001b[0;34m[\u001b[0m\u001b[0;36m1\u001b[0m\u001b[0;34m]\u001b[0m\u001b[0;34m)\u001b[0m \u001b[0;34m/\u001b[0m \u001b[0menergies\u001b[0m\u001b[0;34m[\u001b[0m\u001b[0mi\u001b[0m\u001b[0;34m]\u001b[0m \u001b[0;32mfor\u001b[0m \u001b[0mi\u001b[0m \u001b[0;32min\u001b[0m \u001b[0mrange\u001b[0m\u001b[0;34m(\u001b[0m\u001b[0mlen\u001b[0m\u001b[0;34m(\u001b[0m\u001b[0menergies\u001b[0m\u001b[0;34m)\u001b[0m\u001b[0;34m)\u001b[0m\u001b[0;34m]\u001b[0m\u001b[0;34m\u001b[0m\u001b[0;34m\u001b[0m\u001b[0m\n\u001b[0m\u001b[1;32m      4\u001b[0m     \u001b[0merror_sigma\u001b[0m\u001b[0;34m.\u001b[0m\u001b[0mappend\u001b[0m\u001b[0;34m(\u001b[0m\u001b[0merror\u001b[0m\u001b[0;34m)\u001b[0m\u001b[0;34m\u001b[0m\u001b[0;34m\u001b[0m\u001b[0m\n\u001b[1;32m      5\u001b[0m \u001b[0;34m\u001b[0m\u001b[0m\n",
      "\u001b[0;31mIndexError\u001b[0m: invalid index to scalar variable."
     ]
    }
   ],
   "source": [
    "error_sigma = []\n",
    "for k in range(diffs.shape[0]):\n",
    "    error = [100 * np.sqrt(errors_array[k][i][1][1]) / energies[i] for i in range(len(energies))]\n",
    "    error_sigma.append(error)\n",
    "    \n",
    "error_mu = []\n",
    "for k in range(diffs.shape[0]):\n",
    "    error = [100 * np.sqrt(errors_array[k][i][0][0]) / energies[i] for i in range(len(energies))]\n",
    "    error_mu.append(error)"
   ]
  },
  {
   "cell_type": "code",
   "execution_count": null,
   "id": "5fac6fd9",
   "metadata": {},
   "outputs": [],
   "source": [
    "res = []\n",
    "bias = []\n",
    "for k in range(diffs.shape[0]):\n",
    "    sigma = [100 * a_array[k][i][1] / energies[i] for i in range(len(energies))]\n",
    "    mu = [100 * a_array[k][i][0] / energies[i] for i in range(len(energies))]\n",
    "    res.append(sigma)\n",
    "    bias.append(mu)\n",
    "    \n",
    "plot_results()"
   ]
  },
  {
   "cell_type": "code",
   "execution_count": null,
   "id": "a6455e51",
   "metadata": {},
   "outputs": [],
   "source": [
    "def a(x, a):\n",
    "    return np.sqrt((a/x**0.5)**2)\n",
    "\n",
    "\n",
    "def b(x, b):\n",
    "    b_list = []\n",
    "    b_list.append(np.sqrt(b**2))\n",
    "    return b_list*len(x)\n",
    "\n",
    "\n",
    "def c(x, c):\n",
    "    return np.sqrt((c/x)**2)\n",
    "\n",
    "\n",
    "def func(x, a, b, c):\n",
    "    return np.sqrt((a/x**0.5)**2 + b**2 + (c/x)**2) \n",
    "\n",
    "\n",
    "def approximated(x, y, yerr):\n",
    "    popt, pcov = curve_fit(func, x, y, sigma=yerr, maxfev=10**8, bounds=([0, 0, 0.25], [5, 5, 5]))\n",
    "    a, b, c = popt\n",
    "    #perr = np.sqrt(abs(pcov.diagonal()))\n",
    "\n",
    "    return func(x, a, b, c), popt, pcov"
   ]
  },
  {
   "cell_type": "code",
   "execution_count": 21,
   "id": "30c49ab4",
   "metadata": {},
   "outputs": [
    {
     "ename": "IndexError",
     "evalue": "list index out of range",
     "output_type": "error",
     "traceback": [
      "\u001b[0;31m---------------------------------------------------------------------------\u001b[0m",
      "\u001b[0;31mIndexError\u001b[0m                                Traceback (most recent call last)",
      "\u001b[0;32m<ipython-input-21-693d419fc133>\u001b[0m in \u001b[0;36m<module>\u001b[0;34m\u001b[0m\n\u001b[1;32m      7\u001b[0m \u001b[0;32mfor\u001b[0m \u001b[0mi\u001b[0m \u001b[0;32min\u001b[0m \u001b[0mrange\u001b[0m\u001b[0;34m(\u001b[0m\u001b[0mdiffs\u001b[0m\u001b[0;34m.\u001b[0m\u001b[0mshape\u001b[0m\u001b[0;34m[\u001b[0m\u001b[0;36m0\u001b[0m\u001b[0;34m]\u001b[0m\u001b[0;34m)\u001b[0m\u001b[0;34m:\u001b[0m\u001b[0;34m\u001b[0m\u001b[0;34m\u001b[0m\u001b[0m\n\u001b[1;32m      8\u001b[0m     y_approximated, coefs, pcov = approximated(\n\u001b[0;32m----> 9\u001b[0;31m         energies[1:13], res[i][1:13], error_sigma[i][1:13])\n\u001b[0m\u001b[1;32m     10\u001b[0m     \u001b[0my_approximated_array\u001b[0m\u001b[0;34m.\u001b[0m\u001b[0mappend\u001b[0m\u001b[0;34m(\u001b[0m\u001b[0my_approximated\u001b[0m\u001b[0;34m)\u001b[0m\u001b[0;34m\u001b[0m\u001b[0;34m\u001b[0m\u001b[0m\n\u001b[1;32m     11\u001b[0m     \u001b[0mcoefs_array\u001b[0m\u001b[0;34m.\u001b[0m\u001b[0mappend\u001b[0m\u001b[0;34m(\u001b[0m\u001b[0mcoefs\u001b[0m\u001b[0;34m)\u001b[0m\u001b[0;34m\u001b[0m\u001b[0;34m\u001b[0m\u001b[0m\n",
      "\u001b[0;31mIndexError\u001b[0m: list index out of range"
     ]
    }
   ],
   "source": [
    "from statsmodels.stats.moment_helpers import cov2corr\n",
    "\n",
    "y_approximated_array = []\n",
    "coefs_array = []\n",
    "errors_array = []\n",
    "corr_matrixes = []\n",
    "for i in range(diffs.shape[0]):\n",
    "    y_approximated, coefs, pcov = approximated(\n",
    "        energies[1:13], res[i][1:13], error_sigma[i][1:13])\n",
    "    y_approximated_array.append(y_approximated)\n",
    "    coefs_array.append(coefs)\n",
    "    errors_array.append(np.sqrt(abs(pcov.diagonal())))\n",
    "    corr_matrixes.append(cov2corr(pcov))\n",
    "\n",
    "corr_matrixes = np.array(corr_matrixes)"
   ]
  },
  {
   "cell_type": "code",
   "execution_count": null,
   "id": "49649b76",
   "metadata": {},
   "outputs": [],
   "source": [
    "x_lin = np.linspace(0.8, 11.5, 1000)\n",
    "plot_results(appr=True)"
   ]
  },
  {
   "cell_type": "code",
   "execution_count": null,
   "id": "c970e175",
   "metadata": {},
   "outputs": [],
   "source": [
    "coefs_df = coefs_df.round(3)\n",
    "coefs_df.index = names\n",
    "coefs_df[r'$\\tilde{a}$'] = (coefs_df['a']**2 + (1.6 * coefs_df['b'])**2 + (coefs_df['c'] / 1.6)**2)**0.5 \n",
    "coefs_df[r'$\\Delta \\tilde{a}$'] = np.sqrt( (coefs_df['a']*coefs_df[r'$\\Delta a$'])**2 + \\\n",
    "                                           (2.56*coefs_df['b']*coefs_df[r'$\\Delta b$'])**2 + \\\n",
    "                                           (coefs_df['c']*coefs_df[r'$\\Delta c$'] / 2.56)**2) / coefs_df[r'$\\tilde{a}$']\n",
    "\n",
    "coefs_df[r'$\\Delta \\tilde{a}$'] = np.sqrt(\n",
    "    coefs_df[r'$\\Delta \\tilde{a}$']**2 + 2 * (\n",
    "        1.6**2 * coefs_df['a'] * coefs_df['b'] / coefs_df[r'$\\tilde{a}$']**2 *\\\n",
    "        corr_matrixes[:, 0, 1] * coefs_df[r'$\\Delta a$'] * coefs_df[r'$\\Delta b$'] +\\\n",
    "        \n",
    "        coefs_df['a'] * coefs_df['c'] / (coefs_df[r'$\\tilde{a}$']**2 * 1.6**2) *\\\n",
    "        corr_matrixes[:, 0, 2] * coefs_df[r'$\\Delta a$'] * coefs_df[r'$\\Delta c$'] +\\\n",
    "\n",
    "        coefs_df['b'] * coefs_df['c'] / coefs_df[r'$\\tilde{a}$']**2 *\\\n",
    "        corr_matrixes[:, 1, 2] * coefs_df[r'$\\Delta b$'] * coefs_df[r'$\\Delta c$']\n",
    "    )\n",
    ")\n",
    "\n",
    "coefs_df"
   ]
  },
  {
   "cell_type": "code",
   "execution_count": null,
   "id": "15a2669d",
   "metadata": {},
   "outputs": [],
   "source": []
  },
  {
   "cell_type": "code",
   "execution_count": null,
   "id": "d22ca7dc",
   "metadata": {},
   "outputs": [],
   "source": []
  }
 ],
 "metadata": {
  "kernelspec": {
   "display_name": "Python 3",
   "language": "python",
   "name": "python3"
  },
  "language_info": {
   "codemirror_mode": {
    "name": "ipython",
    "version": 3
   },
   "file_extension": ".py",
   "mimetype": "text/x-python",
   "name": "python",
   "nbconvert_exporter": "python",
   "pygments_lexer": "ipython3",
   "version": "3.8.10"
  }
 },
 "nbformat": 4,
 "nbformat_minor": 5
}
