{
 "cells": [
  {
   "cell_type": "code",
   "execution_count": 1,
   "id": "c1d9b6ca",
   "metadata": {},
   "outputs": [],
   "source": [
    "import pandas as pd\n",
    "import numpy as np\n",
    "from tqdm.notebook import tqdm\n",
    "from convert_pmt_ids import *"
   ]
  },
  {
   "cell_type": "code",
   "execution_count": 2,
   "id": "30083275",
   "metadata": {},
   "outputs": [
    {
     "name": "stdout",
     "output_type": "stream",
     "text": [
      "yes\n"
     ]
    }
   ],
   "source": [
    "vm = input()\n",
    "if vm.lower()=='yes':\n",
    "    path='/mnt/cephfs/ml_data/mc_2021/'\n",
    "else:\n",
    "    path=''"
   ]
  },
  {
   "cell_type": "code",
   "execution_count": 3,
   "id": "87c98666",
   "metadata": {},
   "outputs": [
    {
     "name": "stdout",
     "output_type": "stream",
     "text": [
      "Enter mode: nPE/FHT... FHT\n"
     ]
    }
   ],
   "source": [
    "mode = input(\"Enter mode: nPE/FHT... \", )"
   ]
  },
  {
   "cell_type": "code",
   "execution_count": 4,
   "id": "66567f0e",
   "metadata": {},
   "outputs": [],
   "source": [
    "if mode==\"nPE\":\n",
    "    ind=1\n",
    "    bins = np.linspace(0, 15, 61)\n",
    "    bins[-1] = 100\n",
    "    xaxis_title=\"nPE\"\n",
    "    y_range = [0, 1100]\n",
    "    dtick = 1\n",
    "elif mode==\"FHT\":\n",
    "    ind=2\n",
    "    bins = np.linspace(0, 1000, 51)\n",
    "    bins[-1] = 1200\n",
    "    xaxis_title=\"t, ns\"\n",
    "    y_range = [0, 675]\n",
    "    dtick = 100"
   ]
  },
  {
   "cell_type": "code",
   "execution_count": 5,
   "id": "6238204e",
   "metadata": {},
   "outputs": [],
   "source": [
    "all_data_in_bins = []"
   ]
  },
  {
   "cell_type": "code",
   "execution_count": null,
   "id": "161c1521",
   "metadata": {},
   "outputs": [
    {
     "data": {
      "application/vnd.jupyter.widget-view+json": {
       "model_id": "382919ffca764153b2756a5026c9f2eb",
       "version_major": 2,
       "version_minor": 0
      },
      "text/plain": [
       "  0%|          | 0/100 [00:00<?, ?it/s]"
      ]
     },
     "metadata": {},
     "output_type": "display_data"
    },
    {
     "data": {
      "application/vnd.jupyter.widget-view+json": {
       "model_id": "bafd8a67b0864e8cb4e8bdd8cf329406",
       "version_major": 2,
       "version_minor": 0
      },
      "text/plain": [
       "  0%|          | 0/100997 [00:00<?, ?it/s]"
      ]
     },
     "metadata": {},
     "output_type": "display_data"
    },
    {
     "data": {
      "application/vnd.jupyter.widget-view+json": {
       "model_id": "192f47c397954930bffec3085c1d8ab0",
       "version_major": 2,
       "version_minor": 0
      },
      "text/plain": [
       "  0%|          | 0/100 [00:00<?, ?it/s]"
      ]
     },
     "metadata": {},
     "output_type": "display_data"
    },
    {
     "data": {
      "application/vnd.jupyter.widget-view+json": {
       "model_id": "0c210073f82340168531b933698039af",
       "version_major": 2,
       "version_minor": 0
      },
      "text/plain": [
       "  0%|          | 0/100997 [00:00<?, ?it/s]"
      ]
     },
     "metadata": {},
     "output_type": "display_data"
    },
    {
     "data": {
      "application/vnd.jupyter.widget-view+json": {
       "model_id": "94197bfbe2cd422e8e21a3fd2feec4e3",
       "version_major": 2,
       "version_minor": 0
      },
      "text/plain": [
       "  0%|          | 0/100 [00:00<?, ?it/s]"
      ]
     },
     "metadata": {},
     "output_type": "display_data"
    },
    {
     "data": {
      "application/vnd.jupyter.widget-view+json": {
       "model_id": "76429b8dacab4a298d5696d8a2c40dfa",
       "version_major": 2,
       "version_minor": 0
      },
      "text/plain": [
       "  0%|          | 0/99393 [00:00<?, ?it/s]"
      ]
     },
     "metadata": {},
     "output_type": "display_data"
    },
    {
     "data": {
      "application/vnd.jupyter.widget-view+json": {
       "model_id": "1dee8212b4e14e3e9413e36957a5a916",
       "version_major": 2,
       "version_minor": 0
      },
      "text/plain": [
       "  0%|          | 0/100 [00:00<?, ?it/s]"
      ]
     },
     "metadata": {},
     "output_type": "display_data"
    },
    {
     "data": {
      "application/vnd.jupyter.widget-view+json": {
       "model_id": "c0e195652e854f4e98b61d175656be86",
       "version_major": 2,
       "version_minor": 0
      },
      "text/plain": [
       "  0%|          | 0/99307 [00:00<?, ?it/s]"
      ]
     },
     "metadata": {},
     "output_type": "display_data"
    }
   ],
   "source": [
    "R_lower = 15.995\n",
    "R_upper = 16.005\n",
    "energy = 4\n",
    "\n",
    "for type_of_particle in ['e+', 'gamma']:\n",
    "    for option in ['ideal', 'real']:\n",
    "    \n",
    "        if type_of_particle=='gamma':\n",
    "            energy+=1\n",
    "\n",
    "        data = np.load(\n",
    "            '{0}raw_data/{1}/{2}/test/data/{1}_{3}/raw_data_test_0.npz'.format(path, type_of_particle, option, energy),\n",
    "            allow_pickle=True)['a']\n",
    "        data_true = pd.read_csv(\n",
    "            '{0}raw_data/{1}/{2}/test/targets/{1}_{3}/targets_test_0.csv'.format(path, type_of_particle, option, energy))\n",
    "\n",
    "        for i in tqdm(range(100)):\n",
    "            data = np.append(\n",
    "                data,\n",
    "                np.load(\n",
    "                    '{0}raw_data/{1}/{2}/test/data/{1}_{3}/raw_data_test_{4}.npz'.format(\n",
    "                        path, type_of_particle, option, energy, i), allow_pickle=True)['a'],\n",
    "                axis=1\n",
    "            )\n",
    "\n",
    "            data_true = data_true.append(\n",
    "                pd.read_csv(\n",
    "                    '{0}raw_data/{1}/{2}/test/targets/{1}_{3}/targets_test_{4}.csv'.format(\n",
    "                        path, type_of_particle, option, energy, i))\n",
    "            )\n",
    "            data_true['edepR'] = (data_true['edepX']**2 + data_true['edepY']**2 + data_true['edepZ']**2)**0.5\n",
    "\n",
    "        data_true = data_true.reset_index().drop('index', axis=1)\n",
    "        data_true['edepR'] = (data_true['edepX']**2 + data_true['edepY']**2 + data_true['edepZ']**2)**0.5\n",
    "\n",
    "        NEvents = data.shape[1]\n",
    "        for i in tqdm(range(NEvents)):\n",
    "            nonzeros_inds = np.where(data[2, :][i] != 0.0)[0]\n",
    "            data[0, :][i] = convert_pmt_ids(data[0, :][i])\n",
    "            data[0, :][i] = data[0, :][i][nonzeros_inds]\n",
    "            data[1, :][i] = data[1, :][i][nonzeros_inds]\n",
    "            data[2, :][i] = data[2, :][i][nonzeros_inds]\n",
    "\n",
    "        evts = data_true[(data_true['edepR'] < R_upper) & (data_true['edepR'] > R_lower)].index\n",
    "        data_same_RE = data[:, evts]\n",
    "        data_true_same_RE = data_true.loc[evts]\n",
    "\n",
    "        data_in_bins = []\n",
    "        for i in range(data_same_RE.shape[1]):\n",
    "            data_in_bin = []\n",
    "            for j in range(len(bins)-1):\n",
    "                value = np.where((data_same_RE[ind, i] >= bins[j]) & (data_same_RE[ind, i] <= bins[j+1]))[0].shape[0]\n",
    "                data_in_bin.append(value)\n",
    "            data_in_bins.append(data_in_bin)\n",
    "\n",
    "        data_in_bins = np.array(data_in_bins)\n",
    "        all_data_in_bins.append(data_in_bins)"
   ]
  },
  {
   "cell_type": "code",
   "execution_count": null,
   "id": "f249cbb7",
   "metadata": {},
   "outputs": [],
   "source": [
    "all_data_in_bins = np.array(all_data_in_bins).reshape(2, 2)"
   ]
  },
  {
   "cell_type": "code",
   "execution_count": null,
   "id": "f076b48b",
   "metadata": {},
   "outputs": [],
   "source": [
    "if type_of_particle=='e+':\n",
    "    edep_energy = energy+1\n",
    "elif type_of_particle=='gamma':\n",
    "    edep_energy = energy"
   ]
  },
  {
   "cell_type": "code",
   "execution_count": null,
   "id": "c1309e20",
   "metadata": {},
   "outputs": [],
   "source": [
    "import plotly.graph_objects as go\n",
    "from plotly.subplots import make_subplots\n",
    "import plotly.io as pio\n",
    "pio.templates.default = 'plotly_white'\n",
    "\n",
    "colors = [['#0D2A63', '#FF6692'], ['red', 'darkviolet']]\n",
    "names = [['e+ Ideal', 'e+ Real'], ['gamma Ideal', 'gamma Real']]\n",
    "\n",
    "fig = make_subplots(rows=2, cols=1)\n",
    "for i in range(1, 3):\n",
    "    for j in range(1, 3):\n",
    "        fig.add_trace(\n",
    "            go.Bar(\n",
    "                x=bins,\n",
    "                y=all_data_in_bins[i-1][j-1].mean(axis=0),\n",
    "                opacity=0.9,\n",
    "                name=names[i-1][j-1],\n",
    "                showlegend=True,\n",
    "                marker=dict(\n",
    "                    color=colors[i-1][j-1]\n",
    "                ),\n",
    "                error_y=dict(\n",
    "                        type='data',\n",
    "                        array=all_data_in_bins[i-1][j-1].std(axis=0),\n",
    "                        visible=True,\n",
    "                        width=8\n",
    "                    ),\n",
    "    #                 marker=dict(color=bar_color)\n",
    "            ), row=j, col=1\n",
    "        )\n",
    "\n",
    "xaxis = dict(\n",
    "    showline=True,\n",
    "    ticks='outside',\n",
    "    mirror=True,\n",
    "    linecolor='black',\n",
    "    showgrid=True,\n",
    "    dtick=dtick,\n",
    "    gridcolor='grey',\n",
    "    gridwidth=0.25,\n",
    ")\n",
    "\n",
    "yaxis = dict(\n",
    "    showline=True,\n",
    "    ticks='outside',\n",
    "    mirror=True,\n",
    "    linecolor='black',\n",
    "    showgrid=True,\n",
    "    gridcolor='grey',\n",
    "    gridwidth=0.25,\n",
    "    range=y_range\n",
    ")\n",
    "\n",
    "fig.update_layout(\n",
    "#     title='Energy = {} MeV, R = [{}-{}] m.'.format(\n",
    "#         edep_energy, R_lower, R_upper),\n",
    "    xaxis1_title=xaxis_title,\n",
    "    xaxis2_title=xaxis_title,\n",
    "    xaxis1 = xaxis,\n",
    "    xaxis2 = xaxis,\n",
    "    yaxis1 = yaxis,\n",
    "    yaxis2 = yaxis,\n",
    "    width=975,\n",
    "    height=800,\n",
    "#     barmode='overlay',\n",
    "    font = dict(\n",
    "        family=\"Times New Roman\",\n",
    "        size=16,\n",
    "        color='black'\n",
    "    ),\n",
    "    legend = dict(\n",
    "        orientation=\"h\",\n",
    "        yanchor=\"bottom\",\n",
    "        y=1.02,\n",
    "        xanchor=\"right\",\n",
    "        x=1\n",
    "    ),\n",
    "    bargap=0.1,\n",
    "    bargroupgap=0\n",
    ")\n",
    "\n",
    "fig.show()\n",
    "pio.write_image(\n",
    "    fig, 'plots/plot_avg_signals_comparison_{}.pdf'.format(mode),\n",
    "    width=975, height=800)"
   ]
  },
  {
   "cell_type": "code",
   "execution_count": null,
   "id": "1640fbba",
   "metadata": {},
   "outputs": [],
   "source": []
  }
 ],
 "metadata": {
  "kernelspec": {
   "display_name": "Python 3",
   "language": "python",
   "name": "python3"
  },
  "language_info": {
   "codemirror_mode": {
    "name": "ipython",
    "version": 3
   },
   "file_extension": ".py",
   "mimetype": "text/x-python",
   "name": "python",
   "nbconvert_exporter": "python",
   "pygments_lexer": "ipython3",
   "version": "3.8.10"
  }
 },
 "nbformat": 4,
 "nbformat_minor": 5
}
