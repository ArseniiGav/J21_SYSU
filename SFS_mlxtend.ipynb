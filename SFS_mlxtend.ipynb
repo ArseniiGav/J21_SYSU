{
 "cells": [
  {
   "cell_type": "code",
   "execution_count": 1,
   "id": "e5b11d17",
   "metadata": {},
   "outputs": [],
   "source": [
    "from mlxtend.feature_selection import SequentialFeatureSelector as SFS\n",
    "from mlxtend.plotting import plot_sequential_feature_selection as plot_sfs\n",
    "import matplotlib.pyplot as plt\n",
    "from xgboost import XGBRegressor\n",
    "from lightgbm import LGBMRegressor\n",
    "\n",
    "import pandas as pd\n",
    "import numpy as np\n",
    "from tqdm.notebook import tqdm\n",
    "\n",
    "import warnings\n",
    "warnings.filterwarnings(\"ignore\")"
   ]
  },
  {
   "cell_type": "code",
   "execution_count": 2,
   "id": "b0653beb",
   "metadata": {},
   "outputs": [],
   "source": [
    "path='/mnt/cephfs/ml_data/mc_2021/'\n",
    "\n",
    "data_real = pd.read_csv('{}processed_data/ProcessedTrainReal/ProcessedTrain_1M.csv.gz'.format(path))\n",
    "data_real = data_real[data_real['edepR'] < 17.2]"
   ]
  },
  {
   "cell_type": "code",
   "execution_count": 3,
   "id": "24652dd8",
   "metadata": {},
   "outputs": [],
   "source": [
    "# size = int(8e5)\n",
    "n_feats = len(data_real.columns) - 5\n",
    "\n",
    "X = data_real.iloc[:, :-5]#[:size]\n",
    "y = data_real.iloc[:, -5]#[:size]"
   ]
  },
  {
   "cell_type": "code",
   "execution_count": null,
   "id": "dcaa4ff2",
   "metadata": {
    "scrolled": false
   },
   "outputs": [
    {
     "name": "stderr",
     "output_type": "stream",
     "text": [
      "[Parallel(n_jobs=-1)]: Using backend LokyBackend with 20 concurrent workers.\n"
     ]
    }
   ],
   "source": [
    "model = XGBRegressor(\n",
    "    max_depth=9,\n",
    "    learning_rate=0.08,\n",
    "    n_estimators=300,\n",
    "    random_state=22,\n",
    "    tree_method='gpu_hist'\n",
    ")\n",
    "\n",
    "sfs = SFS(model,\n",
    "          k_features=15,\n",
    "          forward=True,\n",
    "          floating=False,\n",
    "          scoring='neg_mean_absolute_percentage_error',\n",
    "          cv=5,\n",
    "          verbose=10,\n",
    "          n_jobs=-1\n",
    ")\n",
    "\n",
    "sfs = sfs.fit(X, y)\n",
    "\n",
    "fig = plot_sfs(sfs.get_metric_dict(), kind='std_err')\n",
    "plt.title('Sequential Forward Selection (w. StdErr)')\n",
    "plt.grid()\n",
    "plt.show()"
   ]
  },
  {
   "cell_type": "code",
   "execution_count": null,
   "id": "a709512c",
   "metadata": {},
   "outputs": [],
   "source": [
    "plt.savefig('feature_selection/SFS_XGB.png')"
   ]
  },
  {
   "cell_type": "code",
   "execution_count": null,
   "id": "6fb02d96",
   "metadata": {},
   "outputs": [],
   "source": [
    "results = pd.DataFrame.from_dict(sfs.get_metric_dict()).T\n",
    "results.to_csv('feature_selection/SFS_XGB_mlxtend_output.csv', index=False)"
   ]
  },
  {
   "cell_type": "code",
   "execution_count": null,
   "id": "a808a18c",
   "metadata": {},
   "outputs": [],
   "source": [
    "results['feature_names'].iloc[-1]"
   ]
  },
  {
   "cell_type": "code",
   "execution_count": null,
   "id": "763bb193",
   "metadata": {},
   "outputs": [],
   "source": []
  }
 ],
 "metadata": {
  "kernelspec": {
   "display_name": "Python 3",
   "language": "python",
   "name": "python3"
  },
  "language_info": {
   "codemirror_mode": {
    "name": "ipython",
    "version": 3
   },
   "file_extension": ".py",
   "mimetype": "text/x-python",
   "name": "python",
   "nbconvert_exporter": "python",
   "pygments_lexer": "ipython3",
   "version": "3.8.10"
  }
 },
 "nbformat": 4,
 "nbformat_minor": 5
}
