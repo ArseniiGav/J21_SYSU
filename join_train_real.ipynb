{
 "cells": [
  {
   "cell_type": "code",
   "execution_count": 1,
   "id": "0c93fc54",
   "metadata": {},
   "outputs": [],
   "source": [
    "import numpy as np\n",
    "import pandas as pd \n",
    "from tqdm import tqdm"
   ]
  },
  {
   "cell_type": "code",
   "execution_count": 2,
   "id": "c8fcb2b6",
   "metadata": {},
   "outputs": [
    {
     "name": "stderr",
     "output_type": "stream",
     "text": [
      "100%|██████████| 9/9 [05:52<00:00, 39.22s/it]\n"
     ]
    }
   ],
   "source": [
    "path='/mnt/cephfs/ml_data/mc_2021/processed_data/ProcessedTrainReal/'\n",
    "data_real = pd.read_csv('{}ProcessedTrain_0.csv.gz'.format(path))\n",
    "for i in tqdm(np.linspace(100, 900, 9)):\n",
    "    data_real = data_real.append(pd.read_csv('{}ProcessedTrain_{}.csv.gz'.format(path, int(i))))"
   ]
  },
  {
   "cell_type": "code",
   "execution_count": 3,
   "id": "24f3dab0",
   "metadata": {},
   "outputs": [],
   "source": [
    "data_real = data_real.reset_index().drop('index', axis=1)"
   ]
  },
  {
   "cell_type": "code",
   "execution_count": 4,
   "id": "9bd307ce",
   "metadata": {},
   "outputs": [],
   "source": [
    "data_real.to_csv('/mnt/cephfs/ml_data/mc_2021/processed_data/ProcessedTrainReal/ProcessedTrain.csv.gz', index=False, compression='gzip')"
   ]
  },
  {
   "cell_type": "code",
   "execution_count": null,
   "id": "bbe1e5b6",
   "metadata": {},
   "outputs": [],
   "source": []
  }
 ],
 "metadata": {
  "kernelspec": {
   "display_name": "Python 3",
   "language": "python",
   "name": "python3"
  },
  "language_info": {
   "codemirror_mode": {
    "name": "ipython",
    "version": 3
   },
   "file_extension": ".py",
   "mimetype": "text/x-python",
   "name": "python",
   "nbconvert_exporter": "python",
   "pygments_lexer": "ipython3",
   "version": "3.8.10"
  }
 },
 "nbformat": 4,
 "nbformat_minor": 5
}
