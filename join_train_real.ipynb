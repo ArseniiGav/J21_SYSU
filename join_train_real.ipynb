{
 "cells": [
  {
   "cell_type": "code",
   "execution_count": 1,
   "id": "0c93fc54",
   "metadata": {},
   "outputs": [],
   "source": [
    "import numpy as np\n",
    "import pandas as pd \n",
    "from tqdm.notebook import tqdm"
   ]
  },
  {
   "cell_type": "code",
   "execution_count": 2,
   "id": "c8fcb2b6",
   "metadata": {},
   "outputs": [
    {
     "name": "stdout",
     "output_type": "stream",
     "text": [
      "go\n"
     ]
    },
    {
     "data": {
      "application/vnd.jupyter.widget-view+json": {
       "model_id": "f4f0adee87864b2ba698b0293c9794b8",
       "version_major": 2,
       "version_minor": 0
      },
      "text/plain": [
       "  0%|          | 0/9 [00:00<?, ?it/s]"
      ]
     },
     "metadata": {},
     "output_type": "display_data"
    }
   ],
   "source": [
    "path='/mnt/cephfs/ml_data/mc_2021/processed_data/ProcessedTrainIdeal/'\n",
    "data_ideal = pd.read_csv('{}ProcessedTrain_0.csv.gz'.format(path))\n",
    "for i in tqdm(np.linspace(100, 900, 9)):\n",
    "    data_ideal = data_ideal.append(pd.read_csv('{}ProcessedTrain_{}.csv.gz'.format(path, int(i))))"
   ]
  },
  {
   "cell_type": "code",
   "execution_count": 3,
   "id": "24f3dab0",
   "metadata": {},
   "outputs": [],
   "source": [
    "data_ideal = data_ideal.reset_index().drop('index', axis=1)"
   ]
  },
  {
   "cell_type": "code",
   "execution_count": 5,
   "id": "9bd307ce",
   "metadata": {},
   "outputs": [],
   "source": [
    "data_ideal.to_csv('/mnt/cephfs/ml_data/mc_2021/processed_data/ProcessedTrainIdeal/ProcessedTrain.csv.gz', index=False, compression='gzip')"
   ]
  },
  {
   "cell_type": "code",
   "execution_count": null,
   "id": "b941b623",
   "metadata": {},
   "outputs": [],
   "source": []
  }
 ],
 "metadata": {
  "kernelspec": {
   "display_name": "Python 3",
   "language": "python",
   "name": "python3"
  },
  "language_info": {
   "codemirror_mode": {
    "name": "ipython",
    "version": 3
   },
   "file_extension": ".py",
   "mimetype": "text/x-python",
   "name": "python",
   "nbconvert_exporter": "python",
   "pygments_lexer": "ipython3",
   "version": "3.8.3"
  }
 },
 "nbformat": 4,
 "nbformat_minor": 5
}
