{
 "cells": [
  {
   "cell_type": "code",
   "execution_count": 2,
   "id": "02d11750",
   "metadata": {},
   "outputs": [],
   "source": [
    "import numpy as np\n",
    "from tqdm.notebook import tqdm"
   ]
  },
  {
   "cell_type": "code",
   "execution_count": 3,
   "id": "672137b4",
   "metadata": {},
   "outputs": [
    {
     "data": {
      "application/vnd.jupyter.widget-view+json": {
       "model_id": "f5721cd1b2f344c2b2f5f33c3625ce4d",
       "version_major": 2,
       "version_minor": 0
      },
      "text/plain": [
       "  0%|          | 0/2 [00:00<?, ?it/s]"
      ]
     },
     "metadata": {},
     "output_type": "display_data"
    }
   ],
   "source": [
    "for ind in tqdm(range(118, 120)):\n",
    "    data_0 = np.load('raw_data/real/train/data/raw_data_train_{}_0.npz'.format(ind), allow_pickle=True)['a']\n",
    "    data_1 = np.load('raw_data/real/train/data/raw_data_train_{}_1.npz'.format(ind), allow_pickle=True)['a']\n",
    "    data = np.concatenate((data_0, data_1), axis=1)\n",
    "    np.savez_compressed('raw_data/real/train/data/raw_data_train_{}.npz'.format(ind), a=data)"
   ]
  },
  {
   "cell_type": "code",
   "execution_count": null,
   "id": "0c93fc54",
   "metadata": {},
   "outputs": [],
   "source": []
  }
 ],
 "metadata": {
  "kernelspec": {
   "display_name": "Python 3",
   "language": "python",
   "name": "python3"
  },
  "language_info": {
   "codemirror_mode": {
    "name": "ipython",
    "version": 3
   },
   "file_extension": ".py",
   "mimetype": "text/x-python",
   "name": "python",
   "nbconvert_exporter": "python",
   "pygments_lexer": "ipython3",
   "version": "3.8.8"
  }
 },
 "nbformat": 4,
 "nbformat_minor": 5
}
