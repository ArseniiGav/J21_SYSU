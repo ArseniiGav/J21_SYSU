{
 "cells": [
  {
   "cell_type": "code",
   "execution_count": 1,
   "id": "e3e3d82b",
   "metadata": {},
   "outputs": [],
   "source": [
    "import pandas as pd\n",
    "import numpy as np\n",
    "from tqdm import tqdm\n",
    "\n",
    "import warnings\n",
    "warnings.filterwarnings(\"ignore\")"
   ]
  },
  {
   "cell_type": "code",
   "execution_count": 2,
   "id": "31c2513f",
   "metadata": {},
   "outputs": [
    {
     "name": "stdout",
     "output_type": "stream",
     "text": [
      "yes\n"
     ]
    }
   ],
   "source": [
    "vm = input()\n",
    "if vm.lower()=='yes':\n",
    "    vm=True\n",
    "else:\n",
    "    vm=False"
   ]
  },
  {
   "cell_type": "code",
   "execution_count": 3,
   "id": "24f35928",
   "metadata": {},
   "outputs": [
    {
     "name": "stdout",
     "output_type": "stream",
     "text": [
      "no\n"
     ]
    }
   ],
   "source": [
    "train_mode = input()\n",
    "if train_mode.lower()=='yes':\n",
    "    train_mode=True\n",
    "else:\n",
    "    train_mode=False"
   ]
  },
  {
   "cell_type": "code",
   "execution_count": 4,
   "id": "cc351142",
   "metadata": {},
   "outputs": [],
   "source": [
    "if vm:\n",
    "    path='/mnt/cephfs/ml_data/mc_2021/'\n",
    "else:\n",
    "    path=''\n",
    "    \n",
    "data_real = pd.read_csv('{}processed_data/ProcessedTrainReal/ProcessedTrain_1M.csv.gz'.format(path))\n",
    "data_real = data_real[data_real['edepR'] < 17.2]"
   ]
  },
  {
   "cell_type": "code",
   "execution_count": 5,
   "id": "7161be43",
   "metadata": {},
   "outputs": [],
   "source": [
    "from sklearn.metrics import mean_squared_error\n",
    "\n",
    "def mean_absolute_percentage_error(y_true, y_pred): \n",
    "    y_true, y_pred = np.array(y_true), np.array(y_pred)\n",
    "    return np.mean(np.abs((y_true - y_pred) / y_true)) * 100"
   ]
  },
  {
   "cell_type": "code",
   "execution_count": 6,
   "id": "a3016fec",
   "metadata": {},
   "outputs": [],
   "source": [
    "size = int(1e6)\n",
    "n_feats = len(data_real.columns) - 5\n",
    "\n",
    "X_val = data_real.iloc[:, :-5][size:]\n",
    "y_val = data_real.iloc[:, -5][size:]\n",
    "data_real = data_real[:size]"
   ]
  },
  {
   "cell_type": "code",
   "execution_count": 7,
   "id": "43a5c487",
   "metadata": {},
   "outputs": [],
   "source": [
    "from sklearn.model_selection import cross_val_score\n",
    "from xgboost import XGBRegressor\n",
    "from sklearn.model_selection import KFold\n",
    "\n",
    "if train_mode:    \n",
    "    n_folds = 10\n",
    "    rmse_scores = []\n",
    "    mape_scores = []\n",
    "    \n",
    "    kfold = KFold(n_folds, True, random_state=22)    \n",
    "    for train, test in tqdm(kfold.split(data_real), \"Folds... \", leave=False):        \n",
    "        xgbreg = XGBRegressor(\n",
    "                max_depth=9,\n",
    "                learning_rate=0.08,\n",
    "                n_estimators=3000,\n",
    "                n_jobs=10\n",
    "        )\n",
    "                            \n",
    "        X_train = np.array(data_real)[train][:, :n_feats]\n",
    "        y_train = np.array(data_real)[train][:, n_feats]\n",
    "                            \n",
    "        X_test = np.array(data_real)[test][:, :n_feats]\n",
    "        y_test = np.array(data_real)[test][:, n_feats]\n",
    "\n",
    "        xgbreg.fit(X_train, y_train,\n",
    "                   verbose=False,\n",
    "                   eval_set=[(np.array(X_val), np.array(y_val))],\n",
    "                   early_stopping_rounds=5)\n",
    "        \n",
    "        y_predict = xgbreg.predict(X_test)\n",
    "        rmse = mean_squared_error(y_predict, y_test)**0.5\n",
    "        mape = mean_absolute_percentage_error(y_predict, y_test)\n",
    "        rmse_scores.append(rmse)\n",
    "        mape_scores.append(mape)\n",
    "    \n",
    "    result = np.array([[np.mean(mape_scores), np.std(mape_scores)], [np.mean(rmse_scores), np.std(rmse_scores)]])\n",
    "    np.savez_compressed('feature_selection/all_features_metrics.npz', a=result)"
   ]
  },
  {
   "cell_type": "code",
   "execution_count": 8,
   "id": "da91a79a",
   "metadata": {},
   "outputs": [
    {
     "data": {
      "text/plain": [
       "array([[1.16912462e+00, 1.42562468e-03],\n",
       "       [8.23215983e-02, 5.00626567e-04]])"
      ]
     },
     "execution_count": 8,
     "metadata": {},
     "output_type": "execute_result"
    }
   ],
   "source": [
    "all_features_metrics =np.load('feature_selection/all_features_metrics.npz', allow_pickle=True)['a']\n",
    "all_features_metrics"
   ]
  },
  {
   "cell_type": "code",
   "execution_count": null,
   "id": "f59afb0f",
   "metadata": {},
   "outputs": [
    {
     "name": "stderr",
     "output_type": "stream",
     "text": [
      "Features loop:   1%|          | 1/106 [01:12<2:06:27, 72.26s/it]"
     ]
    }
   ],
   "source": [
    "all_features_metric = np.load('feature_selection/all_features_metrics.npz', allow_pickle=True)['a'][0][0]\n",
    "eps = np.load('feature_selection/all_features_metrics.npz', allow_pickle=True)['a'][0][1]\n",
    "\n",
    "opt_features = []\n",
    "current_metrics = []\n",
    "current_metric_stds = []\n",
    "current_metric = 100\n",
    "\n",
    "features = data_real.iloc[:, :-5].columns\n",
    "while abs(all_features_metric - current_metric) > eps:\n",
    "    metrics = []\n",
    "    metric_stds = []\n",
    "    for feature in tqdm(features, \"Features loop\"):\n",
    "        \n",
    "        X = data_real.iloc[:, :-5][opt_features+[feature]]\n",
    "        y = data_real.iloc[:, -5]\n",
    "        \n",
    "        xgbreg = XGBRegressor(\n",
    "            max_depth=9,\n",
    "            learning_rate=0.08,\n",
    "            n_estimators=3000,\n",
    "            random_state=22,\n",
    "            nthread=4,\n",
    "        )\n",
    "        \n",
    "        scores = cross_val_score(\n",
    "            xgbreg,\n",
    "            X,\n",
    "            y,\n",
    "            cv=5,\n",
    "            n_jobs=5,\n",
    "            verbose=False,\n",
    "            fit_params={\n",
    "                'eval_set': [(X_val[opt_features+[feature]], y_val)],\n",
    "                'early_stopping_rounds':5\n",
    "            },\n",
    "            scoring='neg_mean_absolute_percentage_error'\n",
    "        )\n",
    "        \n",
    "        metric = -100*scores.mean()\n",
    "        metric_std = -100*scores.std()\n",
    "        metrics.append(metric)\n",
    "        metric_stds.append(metric_std)\n",
    "    \n",
    "    best_metric_ind = np.argmin(metrics)\n",
    "    current_metric = metrics[best_metric_ind]\n",
    "    current_metrics.append(current_metric)\n",
    "\n",
    "    current_metric_std = metric_stds[best_metric_ind]\n",
    "    current_metric_stds.append(current_metric_std)\n",
    "    \n",
    "    opt_features.append(features[best_metric_ind])\n",
    "    features = features.drop(features[best_metric_ind])\n",
    "\n",
    "    print(current_metrics)\n",
    "    print(current_metric_stds)\n",
    "    print(opt_features)\n",
    "    \n",
    "    np.savez_compressed('feature_selection/opt_features.npz', a=np.array(opt_features))\n",
    "    np.savez_compressed('feature_selection/current_metrics.npz', a=np.array(current_metrics))\n",
    "    np.savez_compressed('feature_selection/current_metric_stds.npz', a=np.array(current_metric_stds))"
   ]
  },
  {
   "cell_type": "code",
   "execution_count": null,
   "id": "243051ff",
   "metadata": {},
   "outputs": [],
   "source": [
    "np.savez_compressed('feature_selection/opt_features.npz', a=np.array(opt_features))\n",
    "np.savez_compressed('feature_selection/current_metrics.npz', a=np.array(current_metrics))\n",
    "np.savez_compressed('feature_selection/current_metric_stds.npz', a=np.array(current_metric_stds))"
   ]
  },
  {
   "cell_type": "code",
   "execution_count": null,
   "id": "589a08ed",
   "metadata": {},
   "outputs": [],
   "source": []
  },
  {
   "cell_type": "code",
   "execution_count": null,
   "id": "7667ad3b",
   "metadata": {},
   "outputs": [],
   "source": []
  }
 ],
 "metadata": {
  "kernelspec": {
   "display_name": "Python 3",
   "language": "python",
   "name": "python3"
  },
  "language_info": {
   "codemirror_mode": {
    "name": "ipython",
    "version": 3
   },
   "file_extension": ".py",
   "mimetype": "text/x-python",
   "name": "python",
   "nbconvert_exporter": "python",
   "pygments_lexer": "ipython3",
   "version": "3.8.10"
  }
 },
 "nbformat": 4,
 "nbformat_minor": 5
}
