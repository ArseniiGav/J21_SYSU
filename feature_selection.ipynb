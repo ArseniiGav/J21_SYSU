{
 "cells": [
  {
   "cell_type": "code",
   "execution_count": 4,
   "id": "e3e3d82b",
   "metadata": {},
   "outputs": [],
   "source": [
    "import pandas as pd\n",
    "import numpy as np\n",
    "from tqdm.notebook import tqdm\n",
    "\n",
    "import warnings\n",
    "warnings.filterwarnings(\"ignore\")"
   ]
  },
  {
   "cell_type": "code",
   "execution_count": 5,
   "id": "31c2513f",
   "metadata": {},
   "outputs": [
    {
     "name": "stdout",
     "output_type": "stream",
     "text": [
      "yes\n"
     ]
    }
   ],
   "source": [
    "vm = input()\n",
    "if vm.lower()=='yes':\n",
    "    vm=True\n",
    "else:\n",
    "    vm=False"
   ]
  },
  {
   "cell_type": "code",
   "execution_count": 9,
   "id": "cc351142",
   "metadata": {},
   "outputs": [
    {
     "ename": "FileNotFoundError",
     "evalue": "[Errno 2] No such file or directory: '/mnt/cephfs/ml_data/mc_2021/processed_data/ProcessedTrainReal/ProcessedTrain_100.csv.gz'",
     "output_type": "error",
     "traceback": [
      "\u001b[0;31m---------------------------------------------------------------------------\u001b[0m",
      "\u001b[0;31mFileNotFoundError\u001b[0m                         Traceback (most recent call last)",
      "\u001b[0;32m<ipython-input-9-cde914485ea9>\u001b[0m in \u001b[0;36m<module>\u001b[0;34m\u001b[0m\n\u001b[1;32m      2\u001b[0m     \u001b[0mpath\u001b[0m\u001b[0;34m=\u001b[0m\u001b[0;34m'/mnt/cephfs/ml_data/mc_2021/processed_data/ProcessedTrainReal/'\u001b[0m\u001b[0;34m\u001b[0m\u001b[0;34m\u001b[0m\u001b[0m\n\u001b[1;32m      3\u001b[0m     \u001b[0mdata_real\u001b[0m \u001b[0;34m=\u001b[0m \u001b[0mpd\u001b[0m\u001b[0;34m.\u001b[0m\u001b[0mread_csv\u001b[0m\u001b[0;34m(\u001b[0m\u001b[0;34m'{}ProcessedTrain_0.csv.gz'\u001b[0m\u001b[0;34m.\u001b[0m\u001b[0mformat\u001b[0m\u001b[0;34m(\u001b[0m\u001b[0mpath\u001b[0m\u001b[0;34m)\u001b[0m\u001b[0;34m)\u001b[0m\u001b[0;34m\u001b[0m\u001b[0;34m\u001b[0m\u001b[0m\n\u001b[0;32m----> 4\u001b[0;31m     \u001b[0mdata_real\u001b[0m\u001b[0;34m.\u001b[0m\u001b[0mappend\u001b[0m\u001b[0;34m(\u001b[0m\u001b[0mpd\u001b[0m\u001b[0;34m.\u001b[0m\u001b[0mread_csv\u001b[0m\u001b[0;34m(\u001b[0m\u001b[0;34m'{}ProcessedTrain_100.csv.gz'\u001b[0m\u001b[0;34m.\u001b[0m\u001b[0mformat\u001b[0m\u001b[0;34m(\u001b[0m\u001b[0mpath\u001b[0m\u001b[0;34m)\u001b[0m\u001b[0;34m)\u001b[0m\u001b[0;34m)\u001b[0m\u001b[0;34m\u001b[0m\u001b[0;34m\u001b[0m\u001b[0m\n\u001b[0m\u001b[1;32m      5\u001b[0m     \u001b[0mdata_real\u001b[0m\u001b[0;34m.\u001b[0m\u001b[0mappend\u001b[0m\u001b[0;34m(\u001b[0m\u001b[0mpd\u001b[0m\u001b[0;34m.\u001b[0m\u001b[0mread_csv\u001b[0m\u001b[0;34m(\u001b[0m\u001b[0;34m'{}ProcessedTrain_200.csv.gz'\u001b[0m\u001b[0;34m.\u001b[0m\u001b[0mformat\u001b[0m\u001b[0;34m(\u001b[0m\u001b[0mpath\u001b[0m\u001b[0;34m)\u001b[0m\u001b[0;34m)\u001b[0m\u001b[0;34m)\u001b[0m\u001b[0;34m\u001b[0m\u001b[0;34m\u001b[0m\u001b[0m\n\u001b[1;32m      6\u001b[0m \u001b[0;32melse\u001b[0m\u001b[0;34m:\u001b[0m\u001b[0;34m\u001b[0m\u001b[0;34m\u001b[0m\u001b[0m\n",
      "\u001b[0;32m~/miniconda3/lib/python3.8/site-packages/pandas/io/parsers.py\u001b[0m in \u001b[0;36mread_csv\u001b[0;34m(filepath_or_buffer, sep, delimiter, header, names, index_col, usecols, squeeze, prefix, mangle_dupe_cols, dtype, engine, converters, true_values, false_values, skipinitialspace, skiprows, skipfooter, nrows, na_values, keep_default_na, na_filter, verbose, skip_blank_lines, parse_dates, infer_datetime_format, keep_date_col, date_parser, dayfirst, cache_dates, iterator, chunksize, compression, thousands, decimal, lineterminator, quotechar, quoting, doublequote, escapechar, comment, encoding, dialect, error_bad_lines, warn_bad_lines, delim_whitespace, low_memory, memory_map, float_precision, storage_options)\u001b[0m\n\u001b[1;32m    608\u001b[0m     \u001b[0mkwds\u001b[0m\u001b[0;34m.\u001b[0m\u001b[0mupdate\u001b[0m\u001b[0;34m(\u001b[0m\u001b[0mkwds_defaults\u001b[0m\u001b[0;34m)\u001b[0m\u001b[0;34m\u001b[0m\u001b[0;34m\u001b[0m\u001b[0m\n\u001b[1;32m    609\u001b[0m \u001b[0;34m\u001b[0m\u001b[0m\n\u001b[0;32m--> 610\u001b[0;31m     \u001b[0;32mreturn\u001b[0m \u001b[0m_read\u001b[0m\u001b[0;34m(\u001b[0m\u001b[0mfilepath_or_buffer\u001b[0m\u001b[0;34m,\u001b[0m \u001b[0mkwds\u001b[0m\u001b[0;34m)\u001b[0m\u001b[0;34m\u001b[0m\u001b[0;34m\u001b[0m\u001b[0m\n\u001b[0m\u001b[1;32m    611\u001b[0m \u001b[0;34m\u001b[0m\u001b[0m\n\u001b[1;32m    612\u001b[0m \u001b[0;34m\u001b[0m\u001b[0m\n",
      "\u001b[0;32m~/miniconda3/lib/python3.8/site-packages/pandas/io/parsers.py\u001b[0m in \u001b[0;36m_read\u001b[0;34m(filepath_or_buffer, kwds)\u001b[0m\n\u001b[1;32m    460\u001b[0m \u001b[0;34m\u001b[0m\u001b[0m\n\u001b[1;32m    461\u001b[0m     \u001b[0;31m# Create the parser.\u001b[0m\u001b[0;34m\u001b[0m\u001b[0;34m\u001b[0m\u001b[0;34m\u001b[0m\u001b[0m\n\u001b[0;32m--> 462\u001b[0;31m     \u001b[0mparser\u001b[0m \u001b[0;34m=\u001b[0m \u001b[0mTextFileReader\u001b[0m\u001b[0;34m(\u001b[0m\u001b[0mfilepath_or_buffer\u001b[0m\u001b[0;34m,\u001b[0m \u001b[0;34m**\u001b[0m\u001b[0mkwds\u001b[0m\u001b[0;34m)\u001b[0m\u001b[0;34m\u001b[0m\u001b[0;34m\u001b[0m\u001b[0m\n\u001b[0m\u001b[1;32m    463\u001b[0m \u001b[0;34m\u001b[0m\u001b[0m\n\u001b[1;32m    464\u001b[0m     \u001b[0;32mif\u001b[0m \u001b[0mchunksize\u001b[0m \u001b[0;32mor\u001b[0m \u001b[0miterator\u001b[0m\u001b[0;34m:\u001b[0m\u001b[0;34m\u001b[0m\u001b[0;34m\u001b[0m\u001b[0m\n",
      "\u001b[0;32m~/miniconda3/lib/python3.8/site-packages/pandas/io/parsers.py\u001b[0m in \u001b[0;36m__init__\u001b[0;34m(self, f, engine, **kwds)\u001b[0m\n\u001b[1;32m    817\u001b[0m             \u001b[0mself\u001b[0m\u001b[0;34m.\u001b[0m\u001b[0moptions\u001b[0m\u001b[0;34m[\u001b[0m\u001b[0;34m\"has_index_names\"\u001b[0m\u001b[0;34m]\u001b[0m \u001b[0;34m=\u001b[0m \u001b[0mkwds\u001b[0m\u001b[0;34m[\u001b[0m\u001b[0;34m\"has_index_names\"\u001b[0m\u001b[0;34m]\u001b[0m\u001b[0;34m\u001b[0m\u001b[0;34m\u001b[0m\u001b[0m\n\u001b[1;32m    818\u001b[0m \u001b[0;34m\u001b[0m\u001b[0m\n\u001b[0;32m--> 819\u001b[0;31m         \u001b[0mself\u001b[0m\u001b[0;34m.\u001b[0m\u001b[0m_engine\u001b[0m \u001b[0;34m=\u001b[0m \u001b[0mself\u001b[0m\u001b[0;34m.\u001b[0m\u001b[0m_make_engine\u001b[0m\u001b[0;34m(\u001b[0m\u001b[0mself\u001b[0m\u001b[0;34m.\u001b[0m\u001b[0mengine\u001b[0m\u001b[0;34m)\u001b[0m\u001b[0;34m\u001b[0m\u001b[0;34m\u001b[0m\u001b[0m\n\u001b[0m\u001b[1;32m    820\u001b[0m \u001b[0;34m\u001b[0m\u001b[0m\n\u001b[1;32m    821\u001b[0m     \u001b[0;32mdef\u001b[0m \u001b[0mclose\u001b[0m\u001b[0;34m(\u001b[0m\u001b[0mself\u001b[0m\u001b[0;34m)\u001b[0m\u001b[0;34m:\u001b[0m\u001b[0;34m\u001b[0m\u001b[0;34m\u001b[0m\u001b[0m\n",
      "\u001b[0;32m~/miniconda3/lib/python3.8/site-packages/pandas/io/parsers.py\u001b[0m in \u001b[0;36m_make_engine\u001b[0;34m(self, engine)\u001b[0m\n\u001b[1;32m   1048\u001b[0m             )\n\u001b[1;32m   1049\u001b[0m         \u001b[0;31m# error: Too many arguments for \"ParserBase\"\u001b[0m\u001b[0;34m\u001b[0m\u001b[0;34m\u001b[0m\u001b[0;34m\u001b[0m\u001b[0m\n\u001b[0;32m-> 1050\u001b[0;31m         \u001b[0;32mreturn\u001b[0m \u001b[0mmapping\u001b[0m\u001b[0;34m[\u001b[0m\u001b[0mengine\u001b[0m\u001b[0;34m]\u001b[0m\u001b[0;34m(\u001b[0m\u001b[0mself\u001b[0m\u001b[0;34m.\u001b[0m\u001b[0mf\u001b[0m\u001b[0;34m,\u001b[0m \u001b[0;34m**\u001b[0m\u001b[0mself\u001b[0m\u001b[0;34m.\u001b[0m\u001b[0moptions\u001b[0m\u001b[0;34m)\u001b[0m  \u001b[0;31m# type: ignore[call-arg]\u001b[0m\u001b[0;34m\u001b[0m\u001b[0;34m\u001b[0m\u001b[0m\n\u001b[0m\u001b[1;32m   1051\u001b[0m \u001b[0;34m\u001b[0m\u001b[0m\n\u001b[1;32m   1052\u001b[0m     \u001b[0;32mdef\u001b[0m \u001b[0m_failover_to_python\u001b[0m\u001b[0;34m(\u001b[0m\u001b[0mself\u001b[0m\u001b[0;34m)\u001b[0m\u001b[0;34m:\u001b[0m\u001b[0;34m\u001b[0m\u001b[0;34m\u001b[0m\u001b[0m\n",
      "\u001b[0;32m~/miniconda3/lib/python3.8/site-packages/pandas/io/parsers.py\u001b[0m in \u001b[0;36m__init__\u001b[0;34m(self, src, **kwds)\u001b[0m\n\u001b[1;32m   1865\u001b[0m \u001b[0;34m\u001b[0m\u001b[0m\n\u001b[1;32m   1866\u001b[0m         \u001b[0;31m# open handles\u001b[0m\u001b[0;34m\u001b[0m\u001b[0;34m\u001b[0m\u001b[0;34m\u001b[0m\u001b[0m\n\u001b[0;32m-> 1867\u001b[0;31m         \u001b[0mself\u001b[0m\u001b[0;34m.\u001b[0m\u001b[0m_open_handles\u001b[0m\u001b[0;34m(\u001b[0m\u001b[0msrc\u001b[0m\u001b[0;34m,\u001b[0m \u001b[0mkwds\u001b[0m\u001b[0;34m)\u001b[0m\u001b[0;34m\u001b[0m\u001b[0;34m\u001b[0m\u001b[0m\n\u001b[0m\u001b[1;32m   1868\u001b[0m         \u001b[0;32massert\u001b[0m \u001b[0mself\u001b[0m\u001b[0;34m.\u001b[0m\u001b[0mhandles\u001b[0m \u001b[0;32mis\u001b[0m \u001b[0;32mnot\u001b[0m \u001b[0;32mNone\u001b[0m\u001b[0;34m\u001b[0m\u001b[0;34m\u001b[0m\u001b[0m\n\u001b[1;32m   1869\u001b[0m         \u001b[0;32mfor\u001b[0m \u001b[0mkey\u001b[0m \u001b[0;32min\u001b[0m \u001b[0;34m(\u001b[0m\u001b[0;34m\"storage_options\"\u001b[0m\u001b[0;34m,\u001b[0m \u001b[0;34m\"encoding\"\u001b[0m\u001b[0;34m,\u001b[0m \u001b[0;34m\"memory_map\"\u001b[0m\u001b[0;34m,\u001b[0m \u001b[0;34m\"compression\"\u001b[0m\u001b[0;34m)\u001b[0m\u001b[0;34m:\u001b[0m\u001b[0;34m\u001b[0m\u001b[0;34m\u001b[0m\u001b[0m\n",
      "\u001b[0;32m~/miniconda3/lib/python3.8/site-packages/pandas/io/parsers.py\u001b[0m in \u001b[0;36m_open_handles\u001b[0;34m(self, src, kwds)\u001b[0m\n\u001b[1;32m   1360\u001b[0m         \u001b[0mLet\u001b[0m \u001b[0mthe\u001b[0m \u001b[0mreaders\u001b[0m \u001b[0mopen\u001b[0m \u001b[0mIOHanldes\u001b[0m \u001b[0mafter\u001b[0m \u001b[0mthey\u001b[0m \u001b[0mare\u001b[0m \u001b[0mdone\u001b[0m \u001b[0;32mwith\u001b[0m \u001b[0mtheir\u001b[0m \u001b[0mpotential\u001b[0m \u001b[0mraises\u001b[0m\u001b[0;34m.\u001b[0m\u001b[0;34m\u001b[0m\u001b[0;34m\u001b[0m\u001b[0m\n\u001b[1;32m   1361\u001b[0m         \"\"\"\n\u001b[0;32m-> 1362\u001b[0;31m         self.handles = get_handle(\n\u001b[0m\u001b[1;32m   1363\u001b[0m             \u001b[0msrc\u001b[0m\u001b[0;34m,\u001b[0m\u001b[0;34m\u001b[0m\u001b[0;34m\u001b[0m\u001b[0m\n\u001b[1;32m   1364\u001b[0m             \u001b[0;34m\"r\"\u001b[0m\u001b[0;34m,\u001b[0m\u001b[0;34m\u001b[0m\u001b[0;34m\u001b[0m\u001b[0m\n",
      "\u001b[0;32m~/miniconda3/lib/python3.8/site-packages/pandas/io/common.py\u001b[0m in \u001b[0;36mget_handle\u001b[0;34m(path_or_buf, mode, encoding, compression, memory_map, is_text, errors, storage_options)\u001b[0m\n\u001b[1;32m    584\u001b[0m             \u001b[0;32mif\u001b[0m \u001b[0mis_path\u001b[0m\u001b[0;34m:\u001b[0m\u001b[0;34m\u001b[0m\u001b[0;34m\u001b[0m\u001b[0m\n\u001b[1;32m    585\u001b[0m                 \u001b[0;32massert\u001b[0m \u001b[0misinstance\u001b[0m\u001b[0;34m(\u001b[0m\u001b[0mhandle\u001b[0m\u001b[0;34m,\u001b[0m \u001b[0mstr\u001b[0m\u001b[0;34m)\u001b[0m\u001b[0;34m\u001b[0m\u001b[0;34m\u001b[0m\u001b[0m\n\u001b[0;32m--> 586\u001b[0;31m                 handle = gzip.GzipFile(\n\u001b[0m\u001b[1;32m    587\u001b[0m                     \u001b[0mfilename\u001b[0m\u001b[0;34m=\u001b[0m\u001b[0mhandle\u001b[0m\u001b[0;34m,\u001b[0m\u001b[0;34m\u001b[0m\u001b[0;34m\u001b[0m\u001b[0m\n\u001b[1;32m    588\u001b[0m                     \u001b[0mmode\u001b[0m\u001b[0;34m=\u001b[0m\u001b[0mioargs\u001b[0m\u001b[0;34m.\u001b[0m\u001b[0mmode\u001b[0m\u001b[0;34m,\u001b[0m\u001b[0;34m\u001b[0m\u001b[0;34m\u001b[0m\u001b[0m\n",
      "\u001b[0;32m~/miniconda3/lib/python3.8/gzip.py\u001b[0m in \u001b[0;36m__init__\u001b[0;34m(self, filename, mode, compresslevel, fileobj, mtime)\u001b[0m\n\u001b[1;32m    171\u001b[0m             \u001b[0mmode\u001b[0m \u001b[0;34m+=\u001b[0m \u001b[0;34m'b'\u001b[0m\u001b[0;34m\u001b[0m\u001b[0;34m\u001b[0m\u001b[0m\n\u001b[1;32m    172\u001b[0m         \u001b[0;32mif\u001b[0m \u001b[0mfileobj\u001b[0m \u001b[0;32mis\u001b[0m \u001b[0;32mNone\u001b[0m\u001b[0;34m:\u001b[0m\u001b[0;34m\u001b[0m\u001b[0;34m\u001b[0m\u001b[0m\n\u001b[0;32m--> 173\u001b[0;31m             \u001b[0mfileobj\u001b[0m \u001b[0;34m=\u001b[0m \u001b[0mself\u001b[0m\u001b[0;34m.\u001b[0m\u001b[0mmyfileobj\u001b[0m \u001b[0;34m=\u001b[0m \u001b[0mbuiltins\u001b[0m\u001b[0;34m.\u001b[0m\u001b[0mopen\u001b[0m\u001b[0;34m(\u001b[0m\u001b[0mfilename\u001b[0m\u001b[0;34m,\u001b[0m \u001b[0mmode\u001b[0m \u001b[0;32mor\u001b[0m \u001b[0;34m'rb'\u001b[0m\u001b[0;34m)\u001b[0m\u001b[0;34m\u001b[0m\u001b[0;34m\u001b[0m\u001b[0m\n\u001b[0m\u001b[1;32m    174\u001b[0m         \u001b[0;32mif\u001b[0m \u001b[0mfilename\u001b[0m \u001b[0;32mis\u001b[0m \u001b[0;32mNone\u001b[0m\u001b[0;34m:\u001b[0m\u001b[0;34m\u001b[0m\u001b[0;34m\u001b[0m\u001b[0m\n\u001b[1;32m    175\u001b[0m             \u001b[0mfilename\u001b[0m \u001b[0;34m=\u001b[0m \u001b[0mgetattr\u001b[0m\u001b[0;34m(\u001b[0m\u001b[0mfileobj\u001b[0m\u001b[0;34m,\u001b[0m \u001b[0;34m'name'\u001b[0m\u001b[0;34m,\u001b[0m \u001b[0;34m''\u001b[0m\u001b[0;34m)\u001b[0m\u001b[0;34m\u001b[0m\u001b[0;34m\u001b[0m\u001b[0m\n",
      "\u001b[0;31mFileNotFoundError\u001b[0m: [Errno 2] No such file or directory: '/mnt/cephfs/ml_data/mc_2021/processed_data/ProcessedTrainReal/ProcessedTrain_100.csv.gz'"
     ]
    }
   ],
   "source": [
    "if vm:\n",
    "    path='/mnt/cephfs/ml_data/mc_2021/processed_data/ProcessedTrainReal/'\n",
    "    data_real = pd.read_csv('{}ProcessedTrain_0.csv.gz'.format(path))\n",
    "    data_real.append(pd.read_csv('{}ProcessedTrain_100.csv.gz'.format(path)))\n",
    "    data_real.append(pd.read_csv('{}ProcessedTrain_200.csv.gz'.format(path)))\n",
    "else:\n",
    "    data_real = pd.read_csv('processed_data/ProcessedTrainReal/ProcessedTrain.csv.gz')\n",
    "data_real = data_real[data_real['edepR'] < 17.2]"
   ]
  },
  {
   "cell_type": "code",
   "execution_count": 8,
   "id": "c970234d",
   "metadata": {},
   "outputs": [
    {
     "data": {
      "text/html": [
       "<div>\n",
       "<style scoped>\n",
       "    .dataframe tbody tr th:only-of-type {\n",
       "        vertical-align: middle;\n",
       "    }\n",
       "\n",
       "    .dataframe tbody tr th {\n",
       "        vertical-align: top;\n",
       "    }\n",
       "\n",
       "    .dataframe thead th {\n",
       "        text-align: right;\n",
       "    }\n",
       "</style>\n",
       "<table border=\"1\" class=\"dataframe\">\n",
       "  <thead>\n",
       "    <tr style=\"text-align: right;\">\n",
       "      <th></th>\n",
       "      <th>AccumCharge</th>\n",
       "      <th>nPMTs</th>\n",
       "      <th>R_cc</th>\n",
       "      <th>pho_cc</th>\n",
       "      <th>x_cc</th>\n",
       "      <th>y_cc</th>\n",
       "      <th>z_cc</th>\n",
       "      <th>gamma_z_cc</th>\n",
       "      <th>gamma_y_cc</th>\n",
       "      <th>gamma_x_cc</th>\n",
       "      <th>...</th>\n",
       "      <th>pe_95p</th>\n",
       "      <th>pe_96p</th>\n",
       "      <th>pe_97p</th>\n",
       "      <th>pe_98p</th>\n",
       "      <th>pe_99p</th>\n",
       "      <th>edep</th>\n",
       "      <th>edepX</th>\n",
       "      <th>edepY</th>\n",
       "      <th>edepZ</th>\n",
       "      <th>edepR</th>\n",
       "    </tr>\n",
       "  </thead>\n",
       "  <tbody>\n",
       "    <tr>\n",
       "      <th>0</th>\n",
       "      <td>16795.398556</td>\n",
       "      <td>6698.0</td>\n",
       "      <td>12.025256</td>\n",
       "      <td>8.872896</td>\n",
       "      <td>7.972470</td>\n",
       "      <td>-3.894611</td>\n",
       "      <td>8.116558</td>\n",
       "      <td>0.914759</td>\n",
       "      <td>-0.342320</td>\n",
       "      <td>0.885576</td>\n",
       "      <td>...</td>\n",
       "      <td>8.531833</td>\n",
       "      <td>10.440701</td>\n",
       "      <td>12.698865</td>\n",
       "      <td>15.875377</td>\n",
       "      <td>21.189132</td>\n",
       "      <td>8.309155</td>\n",
       "      <td>10.414397</td>\n",
       "      <td>-5.163487</td>\n",
       "      <td>10.787749</td>\n",
       "      <td>15.858651</td>\n",
       "    </tr>\n",
       "    <tr>\n",
       "      <th>1</th>\n",
       "      <td>6658.966649</td>\n",
       "      <td>3645.0</td>\n",
       "      <td>10.909448</td>\n",
       "      <td>10.318122</td>\n",
       "      <td>-8.104657</td>\n",
       "      <td>6.385779</td>\n",
       "      <td>-3.542939</td>\n",
       "      <td>-0.343370</td>\n",
       "      <td>0.721947</td>\n",
       "      <td>-1.109805</td>\n",
       "      <td>...</td>\n",
       "      <td>5.868211</td>\n",
       "      <td>6.806834</td>\n",
       "      <td>7.978919</td>\n",
       "      <td>10.161503</td>\n",
       "      <td>12.634588</td>\n",
       "      <td>3.298830</td>\n",
       "      <td>-12.139917</td>\n",
       "      <td>9.371063</td>\n",
       "      <td>-5.497660</td>\n",
       "      <td>16.291675</td>\n",
       "    </tr>\n",
       "    <tr>\n",
       "      <th>2</th>\n",
       "      <td>7296.981869</td>\n",
       "      <td>4395.0</td>\n",
       "      <td>10.514288</td>\n",
       "      <td>9.325840</td>\n",
       "      <td>-1.437017</td>\n",
       "      <td>9.214460</td>\n",
       "      <td>-4.855816</td>\n",
       "      <td>-0.520684</td>\n",
       "      <td>1.819606</td>\n",
       "      <td>-0.137967</td>\n",
       "      <td>...</td>\n",
       "      <td>4.598118</td>\n",
       "      <td>5.096357</td>\n",
       "      <td>5.661463</td>\n",
       "      <td>6.343645</td>\n",
       "      <td>7.667880</td>\n",
       "      <td>3.555040</td>\n",
       "      <td>-1.927146</td>\n",
       "      <td>12.013859</td>\n",
       "      <td>-6.652611</td>\n",
       "      <td>13.867370</td>\n",
       "    </tr>\n",
       "    <tr>\n",
       "      <th>3</th>\n",
       "      <td>14586.374299</td>\n",
       "      <td>8350.0</td>\n",
       "      <td>6.747823</td>\n",
       "      <td>4.152723</td>\n",
       "      <td>0.959516</td>\n",
       "      <td>-4.040351</td>\n",
       "      <td>5.318648</td>\n",
       "      <td>1.280762</td>\n",
       "      <td>-0.747589</td>\n",
       "      <td>0.143656</td>\n",
       "      <td>...</td>\n",
       "      <td>4.278572</td>\n",
       "      <td>4.571887</td>\n",
       "      <td>5.073629</td>\n",
       "      <td>5.766348</td>\n",
       "      <td>6.876392</td>\n",
       "      <td>7.941365</td>\n",
       "      <td>1.193331</td>\n",
       "      <td>-5.172269</td>\n",
       "      <td>6.760569</td>\n",
       "      <td>8.595446</td>\n",
       "    </tr>\n",
       "    <tr>\n",
       "      <th>5</th>\n",
       "      <td>11599.028010</td>\n",
       "      <td>5631.0</td>\n",
       "      <td>11.202894</td>\n",
       "      <td>3.015708</td>\n",
       "      <td>-1.945551</td>\n",
       "      <td>-2.304198</td>\n",
       "      <td>10.789362</td>\n",
       "      <td>3.577721</td>\n",
       "      <td>-0.210172</td>\n",
       "      <td>-0.176345</td>\n",
       "      <td>...</td>\n",
       "      <td>6.491171</td>\n",
       "      <td>7.242658</td>\n",
       "      <td>8.537913</td>\n",
       "      <td>10.235875</td>\n",
       "      <td>12.480641</td>\n",
       "      <td>6.084913</td>\n",
       "      <td>-2.486934</td>\n",
       "      <td>-3.070554</td>\n",
       "      <td>14.368409</td>\n",
       "      <td>14.901823</td>\n",
       "    </tr>\n",
       "    <tr>\n",
       "      <th>...</th>\n",
       "      <td>...</td>\n",
       "      <td>...</td>\n",
       "      <td>...</td>\n",
       "      <td>...</td>\n",
       "      <td>...</td>\n",
       "      <td>...</td>\n",
       "      <td>...</td>\n",
       "      <td>...</td>\n",
       "      <td>...</td>\n",
       "      <td>...</td>\n",
       "      <td>...</td>\n",
       "      <td>...</td>\n",
       "      <td>...</td>\n",
       "      <td>...</td>\n",
       "      <td>...</td>\n",
       "      <td>...</td>\n",
       "      <td>...</td>\n",
       "      <td>...</td>\n",
       "      <td>...</td>\n",
       "      <td>...</td>\n",
       "      <td>...</td>\n",
       "    </tr>\n",
       "    <tr>\n",
       "      <th>499991</th>\n",
       "      <td>17645.792096</td>\n",
       "      <td>9566.0</td>\n",
       "      <td>6.401662</td>\n",
       "      <td>6.399485</td>\n",
       "      <td>-3.613185</td>\n",
       "      <td>5.281884</td>\n",
       "      <td>-0.166932</td>\n",
       "      <td>-0.026085</td>\n",
       "      <td>1.460278</td>\n",
       "      <td>-0.683730</td>\n",
       "      <td>...</td>\n",
       "      <td>4.554131</td>\n",
       "      <td>4.881093</td>\n",
       "      <td>5.325058</td>\n",
       "      <td>6.036111</td>\n",
       "      <td>7.241303</td>\n",
       "      <td>9.661757</td>\n",
       "      <td>-4.187454</td>\n",
       "      <td>6.428227</td>\n",
       "      <td>-0.329893</td>\n",
       "      <td>7.678913</td>\n",
       "    </tr>\n",
       "    <tr>\n",
       "      <th>499992</th>\n",
       "      <td>4527.875238</td>\n",
       "      <td>3202.0</td>\n",
       "      <td>9.583840</td>\n",
       "      <td>6.761842</td>\n",
       "      <td>-6.415191</td>\n",
       "      <td>2.137248</td>\n",
       "      <td>6.791722</td>\n",
       "      <td>1.004419</td>\n",
       "      <td>0.228766</td>\n",
       "      <td>-0.901002</td>\n",
       "      <td>...</td>\n",
       "      <td>3.244383</td>\n",
       "      <td>3.497992</td>\n",
       "      <td>3.986275</td>\n",
       "      <td>4.594840</td>\n",
       "      <td>5.805680</td>\n",
       "      <td>2.209429</td>\n",
       "      <td>-8.634691</td>\n",
       "      <td>3.063204</td>\n",
       "      <td>9.308643</td>\n",
       "      <td>13.061085</td>\n",
       "    </tr>\n",
       "    <tr>\n",
       "      <th>499993</th>\n",
       "      <td>8836.093129</td>\n",
       "      <td>6091.0</td>\n",
       "      <td>5.786115</td>\n",
       "      <td>5.328440</td>\n",
       "      <td>-5.242109</td>\n",
       "      <td>-0.955284</td>\n",
       "      <td>-2.255405</td>\n",
       "      <td>-0.423277</td>\n",
       "      <td>-0.167397</td>\n",
       "      <td>-2.140185</td>\n",
       "      <td>...</td>\n",
       "      <td>3.278268</td>\n",
       "      <td>3.514569</td>\n",
       "      <td>3.774848</td>\n",
       "      <td>4.445277</td>\n",
       "      <td>5.633961</td>\n",
       "      <td>4.617710</td>\n",
       "      <td>-6.977357</td>\n",
       "      <td>-1.314527</td>\n",
       "      <td>-3.055542</td>\n",
       "      <td>7.729672</td>\n",
       "    </tr>\n",
       "    <tr>\n",
       "      <th>499994</th>\n",
       "      <td>5310.483546</td>\n",
       "      <td>4135.0</td>\n",
       "      <td>4.705767</td>\n",
       "      <td>4.704155</td>\n",
       "      <td>-2.976096</td>\n",
       "      <td>3.643066</td>\n",
       "      <td>-0.123157</td>\n",
       "      <td>-0.026181</td>\n",
       "      <td>1.223062</td>\n",
       "      <td>-0.816454</td>\n",
       "      <td>...</td>\n",
       "      <td>2.602201</td>\n",
       "      <td>2.817573</td>\n",
       "      <td>3.239565</td>\n",
       "      <td>3.796524</td>\n",
       "      <td>4.667874</td>\n",
       "      <td>2.772685</td>\n",
       "      <td>-3.901820</td>\n",
       "      <td>5.120572</td>\n",
       "      <td>0.203931</td>\n",
       "      <td>6.440966</td>\n",
       "    </tr>\n",
       "    <tr>\n",
       "      <th>499995</th>\n",
       "      <td>9389.609300</td>\n",
       "      <td>5392.0</td>\n",
       "      <td>10.147404</td>\n",
       "      <td>10.070633</td>\n",
       "      <td>3.560694</td>\n",
       "      <td>9.420144</td>\n",
       "      <td>1.245857</td>\n",
       "      <td>0.123712</td>\n",
       "      <td>2.497149</td>\n",
       "      <td>0.374724</td>\n",
       "      <td>...</td>\n",
       "      <td>4.840379</td>\n",
       "      <td>5.163416</td>\n",
       "      <td>5.590005</td>\n",
       "      <td>6.435758</td>\n",
       "      <td>7.738431</td>\n",
       "      <td>4.609738</td>\n",
       "      <td>4.538496</td>\n",
       "      <td>11.709763</td>\n",
       "      <td>1.599886</td>\n",
       "      <td>12.660021</td>\n",
       "    </tr>\n",
       "  </tbody>\n",
       "</table>\n",
       "<p>458958 rows × 111 columns</p>\n",
       "</div>"
      ],
      "text/plain": [
       "         AccumCharge   nPMTs       R_cc     pho_cc      x_cc      y_cc  \\\n",
       "0       16795.398556  6698.0  12.025256   8.872896  7.972470 -3.894611   \n",
       "1        6658.966649  3645.0  10.909448  10.318122 -8.104657  6.385779   \n",
       "2        7296.981869  4395.0  10.514288   9.325840 -1.437017  9.214460   \n",
       "3       14586.374299  8350.0   6.747823   4.152723  0.959516 -4.040351   \n",
       "5       11599.028010  5631.0  11.202894   3.015708 -1.945551 -2.304198   \n",
       "...              ...     ...        ...        ...       ...       ...   \n",
       "499991  17645.792096  9566.0   6.401662   6.399485 -3.613185  5.281884   \n",
       "499992   4527.875238  3202.0   9.583840   6.761842 -6.415191  2.137248   \n",
       "499993   8836.093129  6091.0   5.786115   5.328440 -5.242109 -0.955284   \n",
       "499994   5310.483546  4135.0   4.705767   4.704155 -2.976096  3.643066   \n",
       "499995   9389.609300  5392.0  10.147404  10.070633  3.560694  9.420144   \n",
       "\n",
       "             z_cc  gamma_z_cc  gamma_y_cc  gamma_x_cc  ...    pe_95p  \\\n",
       "0        8.116558    0.914759   -0.342320    0.885576  ...  8.531833   \n",
       "1       -3.542939   -0.343370    0.721947   -1.109805  ...  5.868211   \n",
       "2       -4.855816   -0.520684    1.819606   -0.137967  ...  4.598118   \n",
       "3        5.318648    1.280762   -0.747589    0.143656  ...  4.278572   \n",
       "5       10.789362    3.577721   -0.210172   -0.176345  ...  6.491171   \n",
       "...           ...         ...         ...         ...  ...       ...   \n",
       "499991  -0.166932   -0.026085    1.460278   -0.683730  ...  4.554131   \n",
       "499992   6.791722    1.004419    0.228766   -0.901002  ...  3.244383   \n",
       "499993  -2.255405   -0.423277   -0.167397   -2.140185  ...  3.278268   \n",
       "499994  -0.123157   -0.026181    1.223062   -0.816454  ...  2.602201   \n",
       "499995   1.245857    0.123712    2.497149    0.374724  ...  4.840379   \n",
       "\n",
       "           pe_96p     pe_97p     pe_98p     pe_99p      edep      edepX  \\\n",
       "0       10.440701  12.698865  15.875377  21.189132  8.309155  10.414397   \n",
       "1        6.806834   7.978919  10.161503  12.634588  3.298830 -12.139917   \n",
       "2        5.096357   5.661463   6.343645   7.667880  3.555040  -1.927146   \n",
       "3        4.571887   5.073629   5.766348   6.876392  7.941365   1.193331   \n",
       "5        7.242658   8.537913  10.235875  12.480641  6.084913  -2.486934   \n",
       "...           ...        ...        ...        ...       ...        ...   \n",
       "499991   4.881093   5.325058   6.036111   7.241303  9.661757  -4.187454   \n",
       "499992   3.497992   3.986275   4.594840   5.805680  2.209429  -8.634691   \n",
       "499993   3.514569   3.774848   4.445277   5.633961  4.617710  -6.977357   \n",
       "499994   2.817573   3.239565   3.796524   4.667874  2.772685  -3.901820   \n",
       "499995   5.163416   5.590005   6.435758   7.738431  4.609738   4.538496   \n",
       "\n",
       "            edepY      edepZ      edepR  \n",
       "0       -5.163487  10.787749  15.858651  \n",
       "1        9.371063  -5.497660  16.291675  \n",
       "2       12.013859  -6.652611  13.867370  \n",
       "3       -5.172269   6.760569   8.595446  \n",
       "5       -3.070554  14.368409  14.901823  \n",
       "...           ...        ...        ...  \n",
       "499991   6.428227  -0.329893   7.678913  \n",
       "499992   3.063204   9.308643  13.061085  \n",
       "499993  -1.314527  -3.055542   7.729672  \n",
       "499994   5.120572   0.203931   6.440966  \n",
       "499995  11.709763   1.599886  12.660021  \n",
       "\n",
       "[458958 rows x 111 columns]"
      ]
     },
     "execution_count": 8,
     "metadata": {},
     "output_type": "execute_result"
    }
   ],
   "source": [
    "data_real"
   ]
  },
  {
   "cell_type": "code",
   "execution_count": 3,
   "id": "43a5c487",
   "metadata": {},
   "outputs": [],
   "source": [
    "N = int(5e5)\n",
    "\n",
    "X = data_real.iloc[:, :-5]\n",
    "y = data_real.iloc[:, -5]\n",
    "\n",
    "X_train = X[:N]\n",
    "y_train = y[:N]\n",
    "\n",
    "X_val = X[N:]\n",
    "y_val = y[N:]"
   ]
  },
  {
   "cell_type": "code",
   "execution_count": 5,
   "id": "299c4c85",
   "metadata": {},
   "outputs": [],
   "source": [
    "import pickle\n",
    "xgbreg = pickle.load(open(\"models/xgb_energy_real.dat\", \"rb\"))\n",
    "y_predict = xgbreg.predict(X_val)"
   ]
  },
  {
   "cell_type": "code",
   "execution_count": 6,
   "id": "8076472d",
   "metadata": {},
   "outputs": [
    {
     "data": {
      "text/plain": [
       "0.08370266641937904"
      ]
     },
     "execution_count": 6,
     "metadata": {},
     "output_type": "execute_result"
    }
   ],
   "source": [
    "from sklearn.metrics import mean_squared_error\n",
    "all_features_rmse = mean_squared_error(y_val, y_predict)**0.5\n",
    "all_features_rmse"
   ]
  },
  {
   "cell_type": "code",
   "execution_count": 7,
   "id": "f59afb0f",
   "metadata": {},
   "outputs": [
    {
     "data": {
      "application/vnd.jupyter.widget-view+json": {
       "model_id": "7ceb104ac1f745f9ad2c3deda1f5f3dc",
       "version_major": 2,
       "version_minor": 0
      },
      "text/plain": [
       "Features loop:   0%|          | 0/106 [00:00<?, ?it/s]"
      ]
     },
     "metadata": {},
     "output_type": "display_data"
    },
    {
     "name": "stdout",
     "output_type": "stream",
     "text": [
      "[0.29581919183216415]\n",
      "['AccumCharge']\n"
     ]
    },
    {
     "data": {
      "application/vnd.jupyter.widget-view+json": {
       "model_id": "c38762d6917548c29d64d46310923ff6",
       "version_major": 2,
       "version_minor": 0
      },
      "text/plain": [
       "Features loop:   0%|          | 0/105 [00:00<?, ?it/s]"
      ]
     },
     "metadata": {},
     "output_type": "display_data"
    },
    {
     "name": "stdout",
     "output_type": "stream",
     "text": [
      "[0.29581919183216415, 0.12584598058842072]\n",
      "['AccumCharge', 'R_cht']\n"
     ]
    },
    {
     "data": {
      "application/vnd.jupyter.widget-view+json": {
       "model_id": "9469eae2367c4fa6a8f237afcfeca82c",
       "version_major": 2,
       "version_minor": 0
      },
      "text/plain": [
       "Features loop:   0%|          | 0/104 [00:00<?, ?it/s]"
      ]
     },
     "metadata": {},
     "output_type": "display_data"
    },
    {
     "name": "stdout",
     "output_type": "stream",
     "text": [
      "[0.29581919183216415, 0.12584598058842072, 0.09795718313210483]\n",
      "['AccumCharge', 'R_cht', 'z_cc']\n"
     ]
    },
    {
     "data": {
      "application/vnd.jupyter.widget-view+json": {
       "model_id": "388f402be9504cf6ac06a6c58878f9c9",
       "version_major": 2,
       "version_minor": 0
      },
      "text/plain": [
       "Features loop:   0%|          | 0/103 [00:00<?, ?it/s]"
      ]
     },
     "metadata": {},
     "output_type": "display_data"
    },
    {
     "name": "stdout",
     "output_type": "stream",
     "text": [
      "[0.29581919183216415, 0.12584598058842072, 0.09795718313210483, 0.08594291184221113]\n",
      "['AccumCharge', 'R_cht', 'z_cc', 'pe_std']\n"
     ]
    },
    {
     "data": {
      "application/vnd.jupyter.widget-view+json": {
       "model_id": "25ce7ebd2cf349bfbb70578da02c3194",
       "version_major": 2,
       "version_minor": 0
      },
      "text/plain": [
       "Features loop:   0%|          | 0/102 [00:00<?, ?it/s]"
      ]
     },
     "metadata": {},
     "output_type": "display_data"
    },
    {
     "name": "stdout",
     "output_type": "stream",
     "text": [
      "[0.29581919183216415, 0.12584598058842072, 0.09795718313210483, 0.08594291184221113, 0.08480974405042735]\n",
      "['AccumCharge', 'R_cht', 'z_cc', 'pe_std', 'nPMTs']\n"
     ]
    },
    {
     "data": {
      "application/vnd.jupyter.widget-view+json": {
       "model_id": "5f26c0b9b51347cd805e58619b2960a2",
       "version_major": 2,
       "version_minor": 0
      },
      "text/plain": [
       "Features loop:   0%|          | 0/101 [00:00<?, ?it/s]"
      ]
     },
     "metadata": {},
     "output_type": "display_data"
    },
    {
     "name": "stdout",
     "output_type": "stream",
     "text": [
      "[0.29581919183216415, 0.12584598058842072, 0.09795718313210483, 0.08594291184221113, 0.08480974405042735, 0.08452724565102354]\n",
      "['AccumCharge', 'R_cht', 'z_cc', 'pe_std', 'nPMTs', 'pe_mean']\n"
     ]
    },
    {
     "data": {
      "application/vnd.jupyter.widget-view+json": {
       "model_id": "15ad950043124cf08d0128808898b94d",
       "version_major": 2,
       "version_minor": 0
      },
      "text/plain": [
       "Features loop:   0%|          | 0/100 [00:00<?, ?it/s]"
      ]
     },
     "metadata": {},
     "output_type": "display_data"
    },
    {
     "name": "stdout",
     "output_type": "stream",
     "text": [
      "[0.29581919183216415, 0.12584598058842072, 0.09795718313210483, 0.08594291184221113, 0.08480974405042735, 0.08452724565102354, 0.08428262336588634]\n",
      "['AccumCharge', 'R_cht', 'z_cc', 'pe_std', 'nPMTs', 'pe_mean', 'ht_std']\n"
     ]
    },
    {
     "data": {
      "application/vnd.jupyter.widget-view+json": {
       "model_id": "558384751a3c4db3a83a3da5354612e0",
       "version_major": 2,
       "version_minor": 0
      },
      "text/plain": [
       "Features loop:   0%|          | 0/99 [00:00<?, ?it/s]"
      ]
     },
     "metadata": {},
     "output_type": "display_data"
    },
    {
     "name": "stdout",
     "output_type": "stream",
     "text": [
      "[0.29581919183216415, 0.12584598058842072, 0.09795718313210483, 0.08594291184221113, 0.08480974405042735, 0.08452724565102354, 0.08428262336588634, 0.08396141732193628]\n",
      "['AccumCharge', 'R_cht', 'z_cc', 'pe_std', 'nPMTs', 'pe_mean', 'ht_std', 'sin_theta_cc']\n"
     ]
    },
    {
     "data": {
      "application/vnd.jupyter.widget-view+json": {
       "model_id": "d0fca70884764533a935bbc485d24f61",
       "version_major": 2,
       "version_minor": 0
      },
      "text/plain": [
       "Features loop:   0%|          | 0/98 [00:00<?, ?it/s]"
      ]
     },
     "metadata": {},
     "output_type": "display_data"
    },
    {
     "name": "stdout",
     "output_type": "stream",
     "text": [
      "[0.29581919183216415, 0.12584598058842072, 0.09795718313210483, 0.08594291184221113, 0.08480974405042735, 0.08452724565102354, 0.08428262336588634, 0.08396141732193628, 0.08375710047382079]\n",
      "['AccumCharge', 'R_cht', 'z_cc', 'pe_std', 'nPMTs', 'pe_mean', 'ht_std', 'sin_theta_cc', 'phi_cc']\n"
     ]
    }
   ],
   "source": [
    "from xgboost import XGBRegressor\n",
    "\n",
    "opt_features = []\n",
    "current_rmses = []\n",
    "current_rmse = 100\n",
    "\n",
    "features = X_train.columns\n",
    "while abs(all_features_rmse - current_rmse) > 0.0002:\n",
    "    rmses = []\n",
    "    for feature in tqdm(features, \"Features loop\"):\n",
    "        xgbreg = XGBRegressor(\n",
    "            max_depth=9,\n",
    "            learning_rate=0.08,\n",
    "            n_estimators=3000,\n",
    "            random_state=22,\n",
    "        )\n",
    "        \n",
    "        xgbreg.fit(X_train[opt_features+[feature]], y_train, verbose=False,\n",
    "                   eval_set=[(X_val[opt_features+[feature]], y_val)],\n",
    "                   early_stopping_rounds=7)\n",
    "        \n",
    "        y_predict = xgbreg.predict(X_val[opt_features+[feature]])\n",
    "        rmse = mean_squared_error(y_val, y_predict)**0.5\n",
    "        rmses.append(rmse)\n",
    "    \n",
    "    best_rmse_ind = np.argmin(rmses)\n",
    "    current_rmse = rmses[best_rmse_ind]\n",
    "    current_rmses.append(current_rmse)\n",
    "    opt_features.append(features[best_rmse_ind])\n",
    "    features = features.drop(features[best_rmse_ind])\n",
    "\n",
    "    print(current_rmses)\n",
    "    print(opt_features)"
   ]
  },
  {
   "cell_type": "code",
   "execution_count": 8,
   "id": "243051ff",
   "metadata": {},
   "outputs": [],
   "source": [
    "np.savez_compressed('feature_selection/opt_features.npz', a=np.array(opt_features))\n",
    "np.savez_compressed('feature_selection/current_rmses.npz', a=np.array(current_rmses))"
   ]
  },
  {
   "cell_type": "code",
   "execution_count": null,
   "id": "589a08ed",
   "metadata": {},
   "outputs": [],
   "source": []
  }
 ],
 "metadata": {
  "kernelspec": {
   "display_name": "Python 3",
   "language": "python",
   "name": "python3"
  },
  "language_info": {
   "codemirror_mode": {
    "name": "ipython",
    "version": 3
   },
   "file_extension": ".py",
   "mimetype": "text/x-python",
   "name": "python",
   "nbconvert_exporter": "python",
   "pygments_lexer": "ipython3",
   "version": "3.8.3"
  }
 },
 "nbformat": 4,
 "nbformat_minor": 5
}
