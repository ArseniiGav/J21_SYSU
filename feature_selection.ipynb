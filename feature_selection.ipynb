{
 "cells": [
  {
   "cell_type": "code",
   "execution_count": 1,
   "id": "e3e3d82b",
   "metadata": {},
   "outputs": [],
   "source": [
    "import pandas as pd\n",
    "import numpy as np\n",
    "from tqdm.notebook import tqdm\n",
    "\n",
    "import warnings\n",
    "warnings.filterwarnings(\"ignore\")"
   ]
  },
  {
   "cell_type": "code",
   "execution_count": 2,
   "id": "31c2513f",
   "metadata": {},
   "outputs": [
    {
     "name": "stdout",
     "output_type": "stream",
     "text": [
      "yes\n"
     ]
    }
   ],
   "source": [
    "vm = input()\n",
    "if vm.lower()=='yes':\n",
    "    vm=True\n",
    "else:\n",
    "    vm=False"
   ]
  },
  {
   "cell_type": "code",
   "execution_count": 3,
   "id": "24f35928",
   "metadata": {},
   "outputs": [
    {
     "name": "stdout",
     "output_type": "stream",
     "text": [
      "yes\n"
     ]
    }
   ],
   "source": [
    "train = input()\n",
    "if train.lower()=='yes':\n",
    "    train=True\n",
    "else:\n",
    "    train=False"
   ]
  },
  {
   "cell_type": "code",
   "execution_count": 4,
   "id": "cc351142",
   "metadata": {},
   "outputs": [],
   "source": [
    "if vm:\n",
    "    path='/mnt/cephfs/ml_data/mc_2021/processed_data/ProcessedTrainReal/'\n",
    "    data_real = pd.read_csv('{}ProcessedTrain_1M.csv.gz'.format(path))\n",
    "else:\n",
    "    data_real = pd.read_csv('processed_data/ProcessedTrainReal/ProcessedTrain_1M.csv.gz')"
   ]
  },
  {
   "cell_type": "code",
   "execution_count": 5,
   "id": "5ca30ff0",
   "metadata": {},
   "outputs": [],
   "source": [
    "data_real = data_real[data_real['edepR'] < 17.2]"
   ]
  },
  {
   "cell_type": "code",
   "execution_count": 6,
   "id": "81791cac",
   "metadata": {},
   "outputs": [
    {
     "data": {
      "text/plain": [
       "(1147444, 111)"
      ]
     },
     "execution_count": 6,
     "metadata": {},
     "output_type": "execute_result"
    }
   ],
   "source": [
    "data_real.shape"
   ]
  },
  {
   "cell_type": "code",
   "execution_count": null,
   "id": "43a5c487",
   "metadata": {},
   "outputs": [
    {
     "name": "stderr",
     "output_type": "stream",
     "text": [
      "[Parallel(n_jobs=5)]: Using backend LokyBackend with 5 concurrent workers.\n"
     ]
    }
   ],
   "source": [
    "from sklearn.model_selection import cross_val_score\n",
    "from xgboost import XGBRegressor\n",
    "\n",
    "if train:\n",
    "    xgbreg = XGBRegressor(\n",
    "        max_depth=11,\n",
    "        learning_rate=0.08,\n",
    "        n_estimators=3000,\n",
    "        random_state=22,\n",
    "    )\n",
    "\n",
    "    scores = cross_val_score(\n",
    "        xgbreg,\n",
    "        data_real.iloc[:, :-5],\n",
    "        data_real.iloc[:, -5],\n",
    "        cv=5,\n",
    "        n_jobs=5,\n",
    "        verbose=10,\n",
    "        scoring='neg_mean_absolute_percentage_error'\n",
    "    )\n",
    "    \n",
    "    result = 100 * np.array([-scores.mean(), -scores.std()**0.5])\n",
    "    np.savez_compressed('feature_selection/all_features_metric.npz', a=result)"
   ]
  },
  {
   "cell_type": "code",
   "execution_count": null,
   "id": "2f38a9a5",
   "metadata": {},
   "outputs": [],
   "source": [
    "print(result)"
   ]
  },
  {
   "cell_type": "code",
   "execution_count": null,
   "id": "8076472d",
   "metadata": {},
   "outputs": [],
   "source": [
    "from sklearn.metrics import mean_squared_error\n",
    "\n",
    "def mean_absolute_percentage_error(y_true, y_pred): \n",
    "    y_true, y_pred = np.array(y_true), np.array(y_pred)\n",
    "    return np.mean(np.abs((y_true - y_pred) / y_true)) * 100"
   ]
  },
  {
   "cell_type": "code",
   "execution_count": null,
   "id": "f59afb0f",
   "metadata": {},
   "outputs": [],
   "source": [
    "all_features_metric = np.load('feature_selection/all_features_metric.npz', allow_pickle=True)['a'][0]\n",
    "eps = np.load('feature_selection/all_features_metric.npz', allow_pickle=True)['a'][1]\n",
    "\n",
    "opt_features = []\n",
    "current_metrics = []\n",
    "current_metric = 100\n",
    "\n",
    "features = data_real.iloc[:, :-5].columns\n",
    "while abs(all_features_metric - current_metric) > eps:\n",
    "    metrics = []\n",
    "    for feature in tqdm(features, \"Features loop\"):\n",
    "        xgbreg = XGBRegressor(\n",
    "            max_depth=11,\n",
    "            learning_rate=0.08,\n",
    "            n_estimators=3000,\n",
    "            random_state=22,\n",
    "        )\n",
    "        \n",
    "        scores = cross_val_score(\n",
    "            xgbreg,\n",
    "            data_real.iloc[:, :-5][opt_features+[feature]],\n",
    "            data_real.iloc[:, -5],\n",
    "            cv=5,\n",
    "            n_jobs=5,\n",
    "            verbose=10,\n",
    "            scoring='neg_mean_absolute_percentage_error'\n",
    "        )\n",
    "        \n",
    "        metric = -100*scores.mean()\n",
    "        metrics.append(metric)\n",
    "\n",
    "    best_metric_ind = np.argmin(metrics)\n",
    "    current_metric = metrics[best_metric_ind]\n",
    "    current_metrics.append(current_metric)\n",
    "    opt_features.append(features[best_metric_ind])\n",
    "    features = features.drop(features[best_metric_ind])\n",
    "\n",
    "    print(current_metrics)\n",
    "    print(opt_features)\n",
    "    \n",
    "    np.savez_compressed('feature_selection/opt_features.npz', a=np.array(opt_features))\n",
    "    np.savez_compressed('feature_selection/current_metrics.npz', a=np.array(current_metrics))"
   ]
  },
  {
   "cell_type": "code",
   "execution_count": null,
   "id": "243051ff",
   "metadata": {},
   "outputs": [],
   "source": [
    "np.savez_compressed('feature_selection/opt_features.npz', a=np.array(opt_features))\n",
    "np.savez_compressed('feature_selection/current_metrics.npz', a=np.array(current_metrics))"
   ]
  },
  {
   "cell_type": "code",
   "execution_count": null,
   "id": "589a08ed",
   "metadata": {},
   "outputs": [],
   "source": []
  }
 ],
 "metadata": {
  "kernelspec": {
   "display_name": "Python 3",
   "language": "python",
   "name": "python3"
  },
  "language_info": {
   "codemirror_mode": {
    "name": "ipython",
    "version": 3
   },
   "file_extension": ".py",
   "mimetype": "text/x-python",
   "name": "python",
   "nbconvert_exporter": "python",
   "pygments_lexer": "ipython3",
   "version": "3.8.3"
  }
 },
 "nbformat": 4,
 "nbformat_minor": 5
}
