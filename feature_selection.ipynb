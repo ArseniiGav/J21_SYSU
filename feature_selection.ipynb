{
 "cells": [
  {
   "cell_type": "code",
   "execution_count": 23,
   "id": "31c7e4cd",
   "metadata": {},
   "outputs": [],
   "source": [
    "import pandas as pd\n",
    "import numpy as np\n",
    "from tqdm.notebook import tqdm\n",
    "\n",
    "import warnings\n",
    "warnings.filterwarnings(\"ignore\")"
   ]
  },
  {
   "cell_type": "code",
   "execution_count": 24,
   "id": "ef36b30d",
   "metadata": {},
   "outputs": [],
   "source": [
    "data_real = pd.read_csv('processed_data/ProcessedTrainReal//ProcessedTrain.csv.gz')\n",
    "data_real = data_real[data_real['edepR'] < 17.2]"
   ]
  },
  {
   "cell_type": "code",
   "execution_count": 25,
   "id": "0278312f",
   "metadata": {},
   "outputs": [],
   "source": [
    "N = int(5e4)\n",
    "\n",
    "X = data_real.iloc[:, :-5]\n",
    "y = data_real.iloc[:, -5]\n",
    "\n",
    "X_train = X[:N]\n",
    "y_train = y[:N]\n",
    "\n",
    "X_val = X[N:]\n",
    "y_val = y[N:]"
   ]
  },
  {
   "cell_type": "code",
   "execution_count": 26,
   "id": "d9d9b0b4",
   "metadata": {},
   "outputs": [],
   "source": [
    "# import pickle\n",
    "#\n",
    "# xgbreg = XGBRegressor(\n",
    "#         max_depth=9,\n",
    "#         learning_rate=0.08,\n",
    "#         n_estimators=3000,\n",
    "#         random_state=22,\n",
    "# )\n",
    "\n",
    "# xgbreg.fit(X_train, y_train, verbose=False,\n",
    "#            eval_set=[(X_val, y_val)],\n",
    "#            early_stopping_rounds=7)\n",
    "\n",
    "# pickle.dump(xgbreg, open(\"models/xgb_energy_real_fs.dat\", \"wb\"))"
   ]
  },
  {
   "cell_type": "code",
   "execution_count": 27,
   "id": "8c74ae35",
   "metadata": {},
   "outputs": [],
   "source": [
    "import pickle\n",
    "xgbreg = pickle.load(open(\"models/xgb_energy_real.dat\", \"rb\"))\n",
    "y_predict = xgbreg.predict(X_val)"
   ]
  },
  {
   "cell_type": "code",
   "execution_count": 28,
   "id": "b354eba8",
   "metadata": {},
   "outputs": [
    {
     "data": {
      "text/plain": [
       "0.0723105782057552"
      ]
     },
     "execution_count": 28,
     "metadata": {},
     "output_type": "execute_result"
    }
   ],
   "source": [
    "from sklearn.metrics import mean_squared_error\n",
    "all_features_rmse = mean_squared_error(y_val, y_predict)**0.5\n",
    "all_features_rmse"
   ]
  },
  {
   "cell_type": "code",
   "execution_count": 29,
   "id": "3f6db148",
   "metadata": {},
   "outputs": [
    {
     "ename": "NameError",
     "evalue": "name 'XGBRegressor' is not defined",
     "output_type": "error",
     "traceback": [
      "\u001b[1;31m---------------------------------------------------------------------------\u001b[0m",
      "\u001b[1;31mNameError\u001b[0m                                 Traceback (most recent call last)",
      "\u001b[1;32m<ipython-input-29-60b1edf78ce8>\u001b[0m in \u001b[0;36m<module>\u001b[1;34m\u001b[0m\n\u001b[0;32m      8\u001b[0m     \u001b[0mrmses\u001b[0m \u001b[1;33m=\u001b[0m \u001b[1;33m[\u001b[0m\u001b[1;33m]\u001b[0m\u001b[1;33m\u001b[0m\u001b[1;33m\u001b[0m\u001b[0m\n\u001b[0;32m      9\u001b[0m     \u001b[1;32mfor\u001b[0m \u001b[0mfeature\u001b[0m \u001b[1;32min\u001b[0m \u001b[0mfeatures\u001b[0m\u001b[1;33m:\u001b[0m\u001b[1;33m\u001b[0m\u001b[1;33m\u001b[0m\u001b[0m\n\u001b[1;32m---> 10\u001b[1;33m         xgbreg = XGBRegressor(\n\u001b[0m\u001b[0;32m     11\u001b[0m             \u001b[0mmax_depth\u001b[0m\u001b[1;33m=\u001b[0m\u001b[1;36m9\u001b[0m\u001b[1;33m,\u001b[0m\u001b[1;33m\u001b[0m\u001b[1;33m\u001b[0m\u001b[0m\n\u001b[0;32m     12\u001b[0m             \u001b[0mlearning_rate\u001b[0m\u001b[1;33m=\u001b[0m\u001b[1;36m0.08\u001b[0m\u001b[1;33m,\u001b[0m\u001b[1;33m\u001b[0m\u001b[1;33m\u001b[0m\u001b[0m\n",
      "\u001b[1;31mNameError\u001b[0m: name 'XGBRegressor' is not defined"
     ]
    }
   ],
   "source": [
    "opt_features = ['AccumCharge']\n",
    "current_rmses = []\n",
    "current_rmse = 100\n",
    "\n",
    "features = X_train.columns\n",
    "features.drop('AccumCharge')\n",
    "while abs(all_features_rmse - current_rmse) > 0.0002:\n",
    "    rmses = []\n",
    "    for feature in features:\n",
    "        xgbreg = XGBRegressor(\n",
    "            max_depth=9,\n",
    "            learning_rate=0.08,\n",
    "            n_estimators=3000,\n",
    "            random_state=22,\n",
    "        )\n",
    "        \n",
    "        xgbreg.fit(X_train[opt_features+feature], y_train, verbose=False,\n",
    "                   eval_set=[(X_val[features+feature], y_val)],\n",
    "                   early_stopping_rounds=7)\n",
    "        \n",
    "        y_predict = xgbreg.predict(X_val)\n",
    "        rmse = mean_squared_error(y_val, y_predict)**0.5\n",
    "        rmses.append(rmse)\n",
    "    \n",
    "    best_rmse_ind = np.argmax(rmses)\n",
    "    current_rmse = rmses[best_rmse_ind]\n",
    "    current_rmses.append(current_rmse)\n",
    "    opt_features.append(features[best_rmse_ind])\n",
    "    features.drop(features[best_rmse_ind])\n",
    "\n",
    "    print(current_rmses)\n",
    "    print(opt_features)"
   ]
  },
  {
   "cell_type": "code",
   "execution_count": null,
   "id": "b4d47068",
   "metadata": {},
   "outputs": [],
   "source": []
  }
 ],
 "metadata": {
  "kernelspec": {
   "display_name": "Python 3",
   "language": "python",
   "name": "python3"
  },
  "language_info": {
   "codemirror_mode": {
    "name": "ipython",
    "version": 3
   },
   "file_extension": ".py",
   "mimetype": "text/x-python",
   "name": "python",
   "nbconvert_exporter": "python",
   "pygments_lexer": "ipython3",
   "version": "3.8.8"
  }
 },
 "nbformat": 4,
 "nbformat_minor": 5
}
