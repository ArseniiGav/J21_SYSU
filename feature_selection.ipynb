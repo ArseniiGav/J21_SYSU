{
 "cells": [
  {
   "cell_type": "code",
   "execution_count": 1,
   "id": "e3e3d82b",
   "metadata": {},
   "outputs": [],
   "source": [
    "import pandas as pd\n",
    "import numpy as np\n",
    "from tqdm import tqdm\n",
    "\n",
    "import warnings\n",
    "warnings.filterwarnings(\"ignore\")"
   ]
  },
  {
   "cell_type": "code",
   "execution_count": 2,
   "id": "31c2513f",
   "metadata": {},
   "outputs": [
    {
     "name": "stdout",
     "output_type": "stream",
     "text": [
      "yes\n"
     ]
    }
   ],
   "source": [
    "vm = input()\n",
    "if vm.lower()=='yes':\n",
    "    vm=True\n",
    "else:\n",
    "    vm=False"
   ]
  },
  {
   "cell_type": "code",
   "execution_count": 3,
   "id": "24f35928",
   "metadata": {},
   "outputs": [
    {
     "name": "stdout",
     "output_type": "stream",
     "text": [
      "no\n"
     ]
    }
   ],
   "source": [
    "train_mode = input()\n",
    "if train_mode.lower()=='yes':\n",
    "    train_mode=True\n",
    "else:\n",
    "    train_mode=False"
   ]
  },
  {
   "cell_type": "code",
   "execution_count": 4,
   "id": "cc351142",
   "metadata": {},
   "outputs": [],
   "source": [
    "if vm:\n",
    "    path='/mnt/cephfs/ml_data/mc_2021/'\n",
    "else:\n",
    "    path=''\n",
    "    \n",
    "data_real = pd.read_csv('{}processed_data/ProcessedTrainReal/ProcessedTrain_1M.csv.gz'.format(path))\n",
    "data_real = data_real[data_real['edepR'] < 17.2]"
   ]
  },
  {
   "cell_type": "code",
   "execution_count": 5,
   "id": "7161be43",
   "metadata": {},
   "outputs": [],
   "source": [
    "from sklearn.metrics import mean_squared_error\n",
    "\n",
    "def mean_absolute_percentage_error(y_true, y_pred): \n",
    "    y_true, y_pred = np.array(y_true), np.array(y_pred)\n",
    "    return np.mean(np.abs((y_true - y_pred) / y_true)) * 100"
   ]
  },
  {
   "cell_type": "code",
   "execution_count": 6,
   "id": "b438b967",
   "metadata": {},
   "outputs": [],
   "source": [
    "size = int(1e6)\n",
    "n_feats = len(data_real.columns) - 5\n",
    "\n",
    "X_val = data_real.iloc[:, :-5][size:]\n",
    "y_val = data_real.iloc[:, -5][size:]\n",
    "data_real = data_real[:size]"
   ]
  },
  {
   "cell_type": "code",
   "execution_count": 7,
   "id": "43a5c487",
   "metadata": {},
   "outputs": [],
   "source": [
    "from sklearn.model_selection import cross_val_score\n",
    "from xgboost import XGBRegressor\n",
    "from sklearn.model_selection import KFold\n",
    "\n",
    "if train_mode:    \n",
    "    n_folds = 5\n",
    "    rmse_scores = []\n",
    "    mape_scores = []\n",
    "    \n",
    "    kfold = KFold(n_folds, True, random_state=22)    \n",
    "    for train, test in tqdm(kfold.split(data_real), \"Folds... \", leave=False):        \n",
    "        xgbreg = XGBRegressor(\n",
    "                max_depth=9,\n",
    "                learning_rate=0.08,\n",
    "                n_estimators=3000,\n",
    "        )\n",
    "                            \n",
    "        X_train = np.array(data_real)[train][:, :n_feats]\n",
    "        y_train = np.array(data_real)[train][:, n_feats]\n",
    "                            \n",
    "        X_test = np.array(data_real)[test][:, :n_feats]\n",
    "        y_test = np.array(data_real)[test][:, n_feats]\n",
    "\n",
    "        xgbreg.fit(X_train, y_train,\n",
    "                   verbose=True,\n",
    "                   eval_set=[(np.array(X_val), np.array(y_val))],\n",
    "                   early_stopping_rounds=5)\n",
    "        \n",
    "        y_predict = xgbreg.predict(X_test)\n",
    "        rmse = mean_squared_error(y_predict, y_test)**0.5\n",
    "        mape = mean_absolute_percentage_error(y_predict, y_test)\n",
    "        rmse_scores.append(rmse)\n",
    "        mape_scores.append(mape)\n",
    "    \n",
    "    result = np.array([[np.mean(mape_scores), np.std(mape_scores)], [np.mean(rmse_scores), np.std(rmse_scores)]])\n",
    "    np.savez_compressed('feature_selection/all_features_metrics.npz', a=result)"
   ]
  },
  {
   "cell_type": "code",
   "execution_count": 8,
   "id": "3665a41a",
   "metadata": {},
   "outputs": [
    {
     "data": {
      "text/plain": [
       "array([[1.17148284e+00, 1.04254392e-03],\n",
       "       [8.24929407e-02, 2.95541135e-04]])"
      ]
     },
     "execution_count": 8,
     "metadata": {},
     "output_type": "execute_result"
    }
   ],
   "source": [
    "all_features_metrics = np.load('feature_selection/all_features_metrics.npz', allow_pickle=True)['a']\n",
    "all_features_metrics"
   ]
  },
  {
   "cell_type": "code",
   "execution_count": null,
   "id": "f59afb0f",
   "metadata": {
    "scrolled": false
   },
   "outputs": [
    {
     "name": "stderr",
     "output_type": "stream",
     "text": [
      "Features loop:   1%|          | 1/99 [12:46<20:51:24, 766.17s/it]"
     ]
    },
    {
     "name": "stdout",
     "output_type": "stream",
     "text": [
      "[1.200005862078454]\n",
      "[0.0027734935534794378]\n",
      "pho_cc\n"
     ]
    },
    {
     "name": "stderr",
     "output_type": "stream",
     "text": [
      "\r",
      "Features loop:   2%|▏         | 2/99 [29:27<24:22:13, 904.47s/it]"
     ]
    },
    {
     "name": "stdout",
     "output_type": "stream",
     "text": [
      "[1.200005862078454, 1.2000146802493408]\n",
      "[0.0027734935534794378, 0.0022500933337003975]\n",
      "x_cc\n"
     ]
    },
    {
     "name": "stderr",
     "output_type": "stream",
     "text": [
      "\r",
      "Features loop:   3%|▎         | 3/99 [46:59<25:54:49, 971.77s/it]"
     ]
    },
    {
     "name": "stdout",
     "output_type": "stream",
     "text": [
      "[1.200005862078454, 1.2000146802493408, 1.19984617175303]\n",
      "[0.0027734935534794378, 0.0022500933337003975, 0.0019586406846201655]\n",
      "y_cc\n"
     ]
    },
    {
     "name": "stderr",
     "output_type": "stream",
     "text": [
      "\r",
      "Features loop:   4%|▍         | 4/99 [1:02:57<25:30:21, 966.54s/it]"
     ]
    },
    {
     "name": "stdout",
     "output_type": "stream",
     "text": [
      "[1.200005862078454, 1.2000146802493408, 1.19984617175303, 1.199521059966139]\n",
      "[0.0027734935534794378, 0.0022500933337003975, 0.0019586406846201655, 0.002537239461298353]\n",
      "z_cc\n"
     ]
    },
    {
     "name": "stderr",
     "output_type": "stream",
     "text": [
      "\r",
      "Features loop:   5%|▌         | 5/99 [1:19:55<25:43:10, 985.01s/it]"
     ]
    },
    {
     "name": "stdout",
     "output_type": "stream",
     "text": [
      "[1.200005862078454, 1.2000146802493408, 1.19984617175303, 1.199521059966139, 1.1988511143085019]\n",
      "[0.0027734935534794378, 0.0022500933337003975, 0.0019586406846201655, 0.002537239461298353, 0.0020221414255399716]\n",
      "gamma_z_cc\n"
     ]
    },
    {
     "name": "stderr",
     "output_type": "stream",
     "text": [
      "\r",
      "Features loop:   6%|▌         | 6/99 [1:38:02<26:20:42, 1019.81s/it]"
     ]
    },
    {
     "name": "stdout",
     "output_type": "stream",
     "text": [
      "[1.200005862078454, 1.2000146802493408, 1.19984617175303, 1.199521059966139, 1.1988511143085019, 1.199482633287603]\n",
      "[0.0027734935534794378, 0.0022500933337003975, 0.0019586406846201655, 0.002537239461298353, 0.0020221414255399716, 0.0020281378455875645]\n",
      "gamma_y_cc\n"
     ]
    },
    {
     "name": "stderr",
     "output_type": "stream",
     "text": [
      "\r",
      "Features loop:   7%|▋         | 7/99 [1:56:16<26:40:33, 1043.84s/it]"
     ]
    },
    {
     "name": "stdout",
     "output_type": "stream",
     "text": [
      "[1.200005862078454, 1.2000146802493408, 1.19984617175303, 1.199521059966139, 1.1988511143085019, 1.199482633287603, 1.1997023044682298]\n",
      "[0.0027734935534794378, 0.0022500933337003975, 0.0019586406846201655, 0.002537239461298353, 0.0020221414255399716, 0.0020281378455875645, 0.002126423004061803]\n",
      "gamma_x_cc\n"
     ]
    },
    {
     "name": "stderr",
     "output_type": "stream",
     "text": [
      "\r",
      "Features loop:   8%|▊         | 8/99 [2:15:46<27:24:11, 1084.08s/it]"
     ]
    },
    {
     "name": "stdout",
     "output_type": "stream",
     "text": [
      "[1.200005862078454, 1.2000146802493408, 1.19984617175303, 1.199521059966139, 1.1988511143085019, 1.199482633287603, 1.1997023044682298, 1.1983052761007111]\n",
      "[0.0027734935534794378, 0.0022500933337003975, 0.0019586406846201655, 0.002537239461298353, 0.0020221414255399716, 0.0020281378455875645, 0.002126423004061803, 0.0022986819650009068]\n",
      "theta_cc\n"
     ]
    },
    {
     "name": "stderr",
     "output_type": "stream",
     "text": [
      "\r",
      "Features loop:   9%|▉         | 9/99 [2:33:37<26:59:45, 1079.84s/it]"
     ]
    },
    {
     "name": "stdout",
     "output_type": "stream",
     "text": [
      "[1.200005862078454, 1.2000146802493408, 1.19984617175303, 1.199521059966139, 1.1988511143085019, 1.199482633287603, 1.1997023044682298, 1.1983052761007111, 1.1993593175990853]\n",
      "[0.0027734935534794378, 0.0022500933337003975, 0.0019586406846201655, 0.002537239461298353, 0.0020221414255399716, 0.0020281378455875645, 0.002126423004061803, 0.0022986819650009068, 0.002398208085844706]\n",
      "phi_cc\n"
     ]
    },
    {
     "name": "stderr",
     "output_type": "stream",
     "text": [
      "\r",
      "Features loop:  10%|█         | 10/99 [2:50:57<26:23:47, 1067.72s/it]"
     ]
    },
    {
     "name": "stdout",
     "output_type": "stream",
     "text": [
      "[1.200005862078454, 1.2000146802493408, 1.19984617175303, 1.199521059966139, 1.1988511143085019, 1.199482633287603, 1.1997023044682298, 1.1983052761007111, 1.1993593175990853, 1.1998967035560315]\n",
      "[0.0027734935534794378, 0.0022500933337003975, 0.0019586406846201655, 0.002537239461298353, 0.0020221414255399716, 0.0020281378455875645, 0.002126423004061803, 0.0022986819650009068, 0.002398208085844706, 0.0021074437207745]\n",
      "sin_theta_cc\n"
     ]
    },
    {
     "name": "stderr",
     "output_type": "stream",
     "text": [
      "\r",
      "Features loop:  11%|█         | 11/99 [3:10:45<26:59:57, 1104.52s/it]"
     ]
    },
    {
     "name": "stdout",
     "output_type": "stream",
     "text": [
      "[1.200005862078454, 1.2000146802493408, 1.19984617175303, 1.199521059966139, 1.1988511143085019, 1.199482633287603, 1.1997023044682298, 1.1983052761007111, 1.1993593175990853, 1.1998967035560315, 1.197910835591998]\n",
      "[0.0027734935534794378, 0.0022500933337003975, 0.0019586406846201655, 0.002537239461298353, 0.0020221414255399716, 0.0020281378455875645, 0.002126423004061803, 0.0022986819650009068, 0.002398208085844706, 0.0021074437207745, 0.0017468101087806036]\n",
      "cos_theta_cc\n"
     ]
    },
    {
     "name": "stderr",
     "output_type": "stream",
     "text": [
      "\r",
      "Features loop:  12%|█▏        | 12/99 [3:29:43<26:56:24, 1114.76s/it]"
     ]
    },
    {
     "name": "stdout",
     "output_type": "stream",
     "text": [
      "[1.200005862078454, 1.2000146802493408, 1.19984617175303, 1.199521059966139, 1.1988511143085019, 1.199482633287603, 1.1997023044682298, 1.1983052761007111, 1.1993593175990853, 1.1998967035560315, 1.197910835591998, 1.199484011520259]\n",
      "[0.0027734935534794378, 0.0022500933337003975, 0.0019586406846201655, 0.002537239461298353, 0.0020221414255399716, 0.0020281378455875645, 0.002126423004061803, 0.0022986819650009068, 0.002398208085844706, 0.0021074437207745, 0.0017468101087806036, 0.002306161297060108]\n",
      "sin_phi_cc\n"
     ]
    },
    {
     "name": "stderr",
     "output_type": "stream",
     "text": [
      "\r",
      "Features loop:  13%|█▎        | 13/99 [3:45:10<25:16:18, 1057.89s/it]"
     ]
    },
    {
     "name": "stdout",
     "output_type": "stream",
     "text": [
      "[1.200005862078454, 1.2000146802493408, 1.19984617175303, 1.199521059966139, 1.1988511143085019, 1.199482633287603, 1.1997023044682298, 1.1983052761007111, 1.1993593175990853, 1.1998967035560315, 1.197910835591998, 1.199484011520259, 1.1995963847725926]\n",
      "[0.0027734935534794378, 0.0022500933337003975, 0.0019586406846201655, 0.002537239461298353, 0.0020221414255399716, 0.0020281378455875645, 0.002126423004061803, 0.0022986819650009068, 0.002398208085844706, 0.0021074437207745, 0.0017468101087806036, 0.002306161297060108, 0.0016862551236887762]\n",
      "cos_phi_cc\n"
     ]
    },
    {
     "name": "stderr",
     "output_type": "stream",
     "text": [
      "\r",
      "Features loop:  14%|█▍        | 14/99 [3:59:00<23:21:09, 989.05s/it] "
     ]
    },
    {
     "name": "stdout",
     "output_type": "stream",
     "text": [
      "[1.200005862078454, 1.2000146802493408, 1.19984617175303, 1.199521059966139, 1.1988511143085019, 1.199482633287603, 1.1997023044682298, 1.1983052761007111, 1.1993593175990853, 1.1998967035560315, 1.197910835591998, 1.199484011520259, 1.1995963847725926, 1.1996965398245139]\n",
      "[0.0027734935534794378, 0.0022500933337003975, 0.0019586406846201655, 0.002537239461298353, 0.0020221414255399716, 0.0020281378455875645, 0.002126423004061803, 0.0022986819650009068, 0.002398208085844706, 0.0021074437207745, 0.0017468101087806036, 0.002306161297060108, 0.0016862551236887762, 0.0018897535214832818]\n",
      "pho_cht\n"
     ]
    },
    {
     "name": "stderr",
     "output_type": "stream",
     "text": [
      "\r",
      "Features loop:  15%|█▌        | 15/99 [4:12:15<21:42:45, 930.54s/it]"
     ]
    },
    {
     "name": "stdout",
     "output_type": "stream",
     "text": [
      "[1.200005862078454, 1.2000146802493408, 1.19984617175303, 1.199521059966139, 1.1988511143085019, 1.199482633287603, 1.1997023044682298, 1.1983052761007111, 1.1993593175990853, 1.1998967035560315, 1.197910835591998, 1.199484011520259, 1.1995963847725926, 1.1996965398245139, 1.2004480137317408]\n",
      "[0.0027734935534794378, 0.0022500933337003975, 0.0019586406846201655, 0.002537239461298353, 0.0020221414255399716, 0.0020281378455875645, 0.002126423004061803, 0.0022986819650009068, 0.002398208085844706, 0.0021074437207745, 0.0017468101087806036, 0.002306161297060108, 0.0016862551236887762, 0.0018897535214832818, 0.0027675848714792434]\n",
      "x_cht\n"
     ]
    },
    {
     "name": "stderr",
     "output_type": "stream",
     "text": [
      "\r",
      "Features loop:  16%|█▌        | 16/99 [4:25:01<20:18:29, 880.84s/it]"
     ]
    },
    {
     "name": "stdout",
     "output_type": "stream",
     "text": [
      "[1.200005862078454, 1.2000146802493408, 1.19984617175303, 1.199521059966139, 1.1988511143085019, 1.199482633287603, 1.1997023044682298, 1.1983052761007111, 1.1993593175990853, 1.1998967035560315, 1.197910835591998, 1.199484011520259, 1.1995963847725926, 1.1996965398245139, 1.2004480137317408, 1.2009901653846446]\n",
      "[0.0027734935534794378, 0.0022500933337003975, 0.0019586406846201655, 0.002537239461298353, 0.0020221414255399716, 0.0020281378455875645, 0.002126423004061803, 0.0022986819650009068, 0.002398208085844706, 0.0021074437207745, 0.0017468101087806036, 0.002306161297060108, 0.0016862551236887762, 0.0018897535214832818, 0.0027675848714792434, 0.0020457874720896953]\n",
      "y_cht\n"
     ]
    },
    {
     "name": "stderr",
     "output_type": "stream",
     "text": [
      "\r",
      "Features loop:  17%|█▋        | 17/99 [4:38:18<19:29:19, 855.60s/it]"
     ]
    },
    {
     "name": "stdout",
     "output_type": "stream",
     "text": [
      "[1.200005862078454, 1.2000146802493408, 1.19984617175303, 1.199521059966139, 1.1988511143085019, 1.199482633287603, 1.1997023044682298, 1.1983052761007111, 1.1993593175990853, 1.1998967035560315, 1.197910835591998, 1.199484011520259, 1.1995963847725926, 1.1996965398245139, 1.2004480137317408, 1.2009901653846446, 1.1997561980629832]\n",
      "[0.0027734935534794378, 0.0022500933337003975, 0.0019586406846201655, 0.002537239461298353, 0.0020221414255399716, 0.0020281378455875645, 0.002126423004061803, 0.0022986819650009068, 0.002398208085844706, 0.0021074437207745, 0.0017468101087806036, 0.002306161297060108, 0.0016862551236887762, 0.0018897535214832818, 0.0027675848714792434, 0.0020457874720896953, 0.0014079715919168123]\n",
      "z_cht\n"
     ]
    }
   ],
   "source": [
    "all_features_metric = np.load('feature_selection/all_features_metrics.npz', allow_pickle=True)['a'][0][0]\n",
    "eps = np.load('feature_selection/all_features_metrics.npz', allow_pickle=True)['a'][0][1]\n",
    "\n",
    "opt_features = ['AccumCharge', 'R_cht', 'jacob_cc', 'pe_std', 'nPMTs', 'R_cc', 'ht_std']#[]\n",
    "current_metrics = [3.8076375114186476, 1.6799966127524213, 1.381430894229591, 1.2331565442044647, 1.2229199895455005, 1.2102288938739276, 1.2002026796670915]#[]\n",
    "current_metric_stds = [0.004450264146659087, 0.0022321956920953352, 0.0025158649260755114, 0.0019016478876169257, 0.0022581303993379166, 0.002170871162578412, 0.0016240114340703806]#[]\n",
    "current_metric = 100\n",
    "\n",
    "features = data_real.iloc[:, :-5].columns\n",
    "features = features.drop(opt_features)\n",
    "while abs(all_features_metric - current_metric) > eps:\n",
    "    metrics = []\n",
    "    metric_stds = []\n",
    "    for feature in tqdm(features[len(metrics):], \"Features loop\"):\n",
    "        \n",
    "        X = data_real.iloc[:, :-5][opt_features+[feature]]\n",
    "        y = data_real.iloc[:, -5]\n",
    "        \n",
    "        xgbreg = XGBRegressor(\n",
    "            max_depth=9,\n",
    "            learning_rate=0.08,\n",
    "            n_estimators=3000,\n",
    "            random_state=22,\n",
    "        )\n",
    "        \n",
    "        scores = cross_val_score(\n",
    "            xgbreg,\n",
    "            X,\n",
    "            y,\n",
    "            cv=5,\n",
    "            n_jobs=-1,\n",
    "            verbose=False,\n",
    "            fit_params={\n",
    "                'eval_set': [(X_val[opt_features+[feature]], y_val)],\n",
    "                'early_stopping_rounds':5\n",
    "            },\n",
    "            scoring='neg_mean_absolute_percentage_error'\n",
    "        )\n",
    "        \n",
    "        metric = -100*scores.mean()\n",
    "        metric_std = (100*scores).std()\n",
    "        metrics.append(metric)\n",
    "        metric_stds.append(metric_std)\n",
    "        \n",
    "        print(metrics)\n",
    "        print(metric_stds)\n",
    "        print(feature)\n",
    "    \n",
    "    best_metric_ind = np.argmin(metrics)\n",
    "    current_metric = metrics[best_metric_ind]\n",
    "    current_metrics.append(current_metric)\n",
    "\n",
    "    current_metric_std = metric_stds[best_metric_ind]\n",
    "    current_metric_stds.append(current_metric_std)\n",
    "    \n",
    "    opt_features.append(features[best_metric_ind])\n",
    "    features = features.drop(features[best_metric_ind])\n",
    "\n",
    "    print(current_metrics)\n",
    "    print(current_metric_stds)\n",
    "    print(opt_features)\n",
    "    \n",
    "    np.savez_compressed('feature_selection/opt_features.npz', a=np.array(opt_features))\n",
    "    np.savez_compressed('feature_selection/current_metrics.npz', a=np.array(current_metrics))\n",
    "    np.savez_compressed('feature_selection/current_metric_stds.npz', a=np.array(current_metric_stds))"
   ]
  },
  {
   "cell_type": "code",
   "execution_count": null,
   "id": "243051ff",
   "metadata": {},
   "outputs": [],
   "source": [
    "np.savez_compressed('feature_selection/opt_features.npz', a=np.array(opt_features))\n",
    "np.savez_compressed('feature_selection/current_metrics.npz', a=np.array(current_metrics))\n",
    "np.savez_compressed('feature_selection/current_metric_stds.npz', a=np.array(current_metric_stds))"
   ]
  },
  {
   "cell_type": "markdown",
   "id": "b2f515fd",
   "metadata": {},
   "source": [
    "opt_features = ['AccumCharge', 'R_cht', 'jacob_cc', 'pe_std', 'nPMTs', 'R_cc', 'ht_std']\n",
    "\n",
    "current_metrics = [3.8076375114186476, 1.6799966127524213, 1.381430894229591, 1.2331565442044647, 1.2229199895455005, 1.2102288938739276, 1.2002026796670915]\n",
    "\n",
    "current_metric_stds = [0.004450264146659087, 0.0022321956920953352, 0.0025158649260755114, 0.0019016478876169257, 0.0022581303993379166, 0.002170871162578412, 0.0016240114340703806]"
   ]
  },
  {
   "cell_type": "code",
   "execution_count": null,
   "id": "77e36e76",
   "metadata": {},
   "outputs": [],
   "source": []
  }
 ],
 "metadata": {
  "kernelspec": {
   "display_name": "Python 3",
   "language": "python",
   "name": "python3"
  },
  "language_info": {
   "codemirror_mode": {
    "name": "ipython",
    "version": 3
   },
   "file_extension": ".py",
   "mimetype": "text/x-python",
   "name": "python",
   "nbconvert_exporter": "python",
   "pygments_lexer": "ipython3",
   "version": "3.8.10"
  }
 },
 "nbformat": 4,
 "nbformat_minor": 5
}
