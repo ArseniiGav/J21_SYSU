{
 "cells": [
  {
   "cell_type": "code",
   "execution_count": 1,
   "id": "e3e3d82b",
   "metadata": {},
   "outputs": [],
   "source": [
    "import pandas as pd\n",
    "import numpy as np\n",
    "from tqdm.notebook import tqdm\n",
    "\n",
    "import warnings\n",
    "warnings.filterwarnings(\"ignore\")"
   ]
  },
  {
   "cell_type": "code",
   "execution_count": 2,
   "id": "cc351142",
   "metadata": {},
   "outputs": [],
   "source": [
    "data_real = pd.read_csv('processed_data/ProcessedTrainReal//ProcessedTrain.csv.gz')\n",
    "data_real = data_real[data_real['edepR'] < 17.2]"
   ]
  },
  {
   "cell_type": "code",
   "execution_count": 3,
   "id": "43a5c487",
   "metadata": {},
   "outputs": [],
   "source": [
    "N = int(5e5)\n",
    "\n",
    "X = data_real.iloc[:, :-5]\n",
    "y = data_real.iloc[:, -5]\n",
    "\n",
    "X_train = X[:N]\n",
    "y_train = y[:N]\n",
    "\n",
    "X_val = X[N:]\n",
    "y_val = y[N:]"
   ]
  },
  {
   "cell_type": "code",
   "execution_count": 5,
   "id": "299c4c85",
   "metadata": {},
   "outputs": [],
   "source": [
    "import pickle\n",
    "xgbreg = pickle.load(open(\"models/xgb_energy_real.dat\", \"rb\"))\n",
    "y_predict = xgbreg.predict(X_val)"
   ]
  },
  {
   "cell_type": "code",
   "execution_count": 6,
   "id": "8076472d",
   "metadata": {},
   "outputs": [
    {
     "data": {
      "text/plain": [
       "0.08370266641937904"
      ]
     },
     "execution_count": 6,
     "metadata": {},
     "output_type": "execute_result"
    }
   ],
   "source": [
    "from sklearn.metrics import mean_squared_error\n",
    "all_features_rmse = mean_squared_error(y_val, y_predict)**0.5\n",
    "all_features_rmse"
   ]
  },
  {
   "cell_type": "code",
   "execution_count": 7,
   "id": "f59afb0f",
   "metadata": {},
   "outputs": [
    {
     "data": {
      "application/vnd.jupyter.widget-view+json": {
       "model_id": "7ceb104ac1f745f9ad2c3deda1f5f3dc",
       "version_major": 2,
       "version_minor": 0
      },
      "text/plain": [
       "Features loop:   0%|          | 0/106 [00:00<?, ?it/s]"
      ]
     },
     "metadata": {},
     "output_type": "display_data"
    },
    {
     "name": "stdout",
     "output_type": "stream",
     "text": [
      "[0.29581919183216415]\n",
      "['AccumCharge']\n"
     ]
    },
    {
     "data": {
      "application/vnd.jupyter.widget-view+json": {
       "model_id": "c38762d6917548c29d64d46310923ff6",
       "version_major": 2,
       "version_minor": 0
      },
      "text/plain": [
       "Features loop:   0%|          | 0/105 [00:00<?, ?it/s]"
      ]
     },
     "metadata": {},
     "output_type": "display_data"
    },
    {
     "name": "stdout",
     "output_type": "stream",
     "text": [
      "[0.29581919183216415, 0.12584598058842072]\n",
      "['AccumCharge', 'R_cht']\n"
     ]
    },
    {
     "data": {
      "application/vnd.jupyter.widget-view+json": {
       "model_id": "9469eae2367c4fa6a8f237afcfeca82c",
       "version_major": 2,
       "version_minor": 0
      },
      "text/plain": [
       "Features loop:   0%|          | 0/104 [00:00<?, ?it/s]"
      ]
     },
     "metadata": {},
     "output_type": "display_data"
    },
    {
     "name": "stdout",
     "output_type": "stream",
     "text": [
      "[0.29581919183216415, 0.12584598058842072, 0.09795718313210483]\n",
      "['AccumCharge', 'R_cht', 'z_cc']\n"
     ]
    },
    {
     "data": {
      "application/vnd.jupyter.widget-view+json": {
       "model_id": "388f402be9504cf6ac06a6c58878f9c9",
       "version_major": 2,
       "version_minor": 0
      },
      "text/plain": [
       "Features loop:   0%|          | 0/103 [00:00<?, ?it/s]"
      ]
     },
     "metadata": {},
     "output_type": "display_data"
    },
    {
     "name": "stdout",
     "output_type": "stream",
     "text": [
      "[0.29581919183216415, 0.12584598058842072, 0.09795718313210483, 0.08594291184221113]\n",
      "['AccumCharge', 'R_cht', 'z_cc', 'pe_std']\n"
     ]
    },
    {
     "data": {
      "application/vnd.jupyter.widget-view+json": {
       "model_id": "25ce7ebd2cf349bfbb70578da02c3194",
       "version_major": 2,
       "version_minor": 0
      },
      "text/plain": [
       "Features loop:   0%|          | 0/102 [00:00<?, ?it/s]"
      ]
     },
     "metadata": {},
     "output_type": "display_data"
    },
    {
     "name": "stdout",
     "output_type": "stream",
     "text": [
      "[0.29581919183216415, 0.12584598058842072, 0.09795718313210483, 0.08594291184221113, 0.08480974405042735]\n",
      "['AccumCharge', 'R_cht', 'z_cc', 'pe_std', 'nPMTs']\n"
     ]
    },
    {
     "data": {
      "application/vnd.jupyter.widget-view+json": {
       "model_id": "5f26c0b9b51347cd805e58619b2960a2",
       "version_major": 2,
       "version_minor": 0
      },
      "text/plain": [
       "Features loop:   0%|          | 0/101 [00:00<?, ?it/s]"
      ]
     },
     "metadata": {},
     "output_type": "display_data"
    },
    {
     "name": "stdout",
     "output_type": "stream",
     "text": [
      "[0.29581919183216415, 0.12584598058842072, 0.09795718313210483, 0.08594291184221113, 0.08480974405042735, 0.08452724565102354]\n",
      "['AccumCharge', 'R_cht', 'z_cc', 'pe_std', 'nPMTs', 'pe_mean']\n"
     ]
    },
    {
     "data": {
      "application/vnd.jupyter.widget-view+json": {
       "model_id": "15ad950043124cf08d0128808898b94d",
       "version_major": 2,
       "version_minor": 0
      },
      "text/plain": [
       "Features loop:   0%|          | 0/100 [00:00<?, ?it/s]"
      ]
     },
     "metadata": {},
     "output_type": "display_data"
    },
    {
     "name": "stdout",
     "output_type": "stream",
     "text": [
      "[0.29581919183216415, 0.12584598058842072, 0.09795718313210483, 0.08594291184221113, 0.08480974405042735, 0.08452724565102354, 0.08428262336588634]\n",
      "['AccumCharge', 'R_cht', 'z_cc', 'pe_std', 'nPMTs', 'pe_mean', 'ht_std']\n"
     ]
    },
    {
     "data": {
      "application/vnd.jupyter.widget-view+json": {
       "model_id": "558384751a3c4db3a83a3da5354612e0",
       "version_major": 2,
       "version_minor": 0
      },
      "text/plain": [
       "Features loop:   0%|          | 0/99 [00:00<?, ?it/s]"
      ]
     },
     "metadata": {},
     "output_type": "display_data"
    },
    {
     "name": "stdout",
     "output_type": "stream",
     "text": [
      "[0.29581919183216415, 0.12584598058842072, 0.09795718313210483, 0.08594291184221113, 0.08480974405042735, 0.08452724565102354, 0.08428262336588634, 0.08396141732193628]\n",
      "['AccumCharge', 'R_cht', 'z_cc', 'pe_std', 'nPMTs', 'pe_mean', 'ht_std', 'sin_theta_cc']\n"
     ]
    },
    {
     "data": {
      "application/vnd.jupyter.widget-view+json": {
       "model_id": "d0fca70884764533a935bbc485d24f61",
       "version_major": 2,
       "version_minor": 0
      },
      "text/plain": [
       "Features loop:   0%|          | 0/98 [00:00<?, ?it/s]"
      ]
     },
     "metadata": {},
     "output_type": "display_data"
    },
    {
     "name": "stdout",
     "output_type": "stream",
     "text": [
      "[0.29581919183216415, 0.12584598058842072, 0.09795718313210483, 0.08594291184221113, 0.08480974405042735, 0.08452724565102354, 0.08428262336588634, 0.08396141732193628, 0.08375710047382079]\n",
      "['AccumCharge', 'R_cht', 'z_cc', 'pe_std', 'nPMTs', 'pe_mean', 'ht_std', 'sin_theta_cc', 'phi_cc']\n"
     ]
    }
   ],
   "source": [
    "from xgboost import XGBRegressor\n",
    "\n",
    "opt_features = []\n",
    "current_rmses = []\n",
    "current_rmse = 100\n",
    "\n",
    "features = X_train.columns\n",
    "while abs(all_features_rmse - current_rmse) > 0.0002:\n",
    "    rmses = []\n",
    "    for feature in tqdm(features, \"Features loop\"):\n",
    "        xgbreg = XGBRegressor(\n",
    "            max_depth=9,\n",
    "            learning_rate=0.08,\n",
    "            n_estimators=3000,\n",
    "            random_state=22,\n",
    "        )\n",
    "        \n",
    "        xgbreg.fit(X_train[opt_features+[feature]], y_train, verbose=False,\n",
    "                   eval_set=[(X_val[opt_features+[feature]], y_val)],\n",
    "                   early_stopping_rounds=7)\n",
    "        \n",
    "        y_predict = xgbreg.predict(X_val[opt_features+[feature]])\n",
    "        rmse = mean_squared_error(y_val, y_predict)**0.5\n",
    "        rmses.append(rmse)\n",
    "    \n",
    "    best_rmse_ind = np.argmin(rmses)\n",
    "    current_rmse = rmses[best_rmse_ind]\n",
    "    current_rmses.append(current_rmse)\n",
    "    opt_features.append(features[best_rmse_ind])\n",
    "    features = features.drop(features[best_rmse_ind])\n",
    "\n",
    "    print(current_rmses)\n",
    "    print(opt_features)"
   ]
  },
  {
   "cell_type": "code",
   "execution_count": 8,
   "id": "243051ff",
   "metadata": {},
   "outputs": [],
   "source": [
    "np.savez_compressed('feature_selection/opt_features.npz', a=np.array(opt_features))\n",
    "np.savez_compressed('feature_selection/current_rmses.npz', a=np.array(current_rmses))"
   ]
  },
  {
   "cell_type": "code",
   "execution_count": null,
   "id": "589a08ed",
   "metadata": {},
   "outputs": [],
   "source": []
  }
 ],
 "metadata": {
  "kernelspec": {
   "display_name": "Python 3",
   "language": "python",
   "name": "python3"
  },
  "language_info": {
   "codemirror_mode": {
    "name": "ipython",
    "version": 3
   },
   "file_extension": ".py",
   "mimetype": "text/x-python",
   "name": "python",
   "nbconvert_exporter": "python",
   "pygments_lexer": "ipython3",
   "version": "3.8.8"
  }
 },
 "nbformat": 4,
 "nbformat_minor": 5
}
