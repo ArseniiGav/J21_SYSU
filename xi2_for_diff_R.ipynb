{
 "cells": [
  {
   "cell_type": "code",
   "execution_count": 5,
   "id": "07106568",
   "metadata": {},
   "outputs": [],
   "source": [
    "import plotly.graph_objs as go\n",
    "from plotly.subplots import make_subplots\n",
    "import plotly.io as pio\n",
    "pio.templates.default = 'plotly_white'\n",
    "\n",
    "import pandas as pd\n",
    "import numpy as np\n",
    "import pickle\n",
    "import os\n",
    "import re"
   ]
  },
  {
   "cell_type": "code",
   "execution_count": 6,
   "id": "799dbaa3",
   "metadata": {},
   "outputs": [],
   "source": [
    "_nsre = re.compile('([0-9]+)')\n",
    "def natural_sort_key(s):\n",
    "    return [int(text) if text.isdigit() else text.lower()\n",
    "            for text in re.split(_nsre, s)]"
   ]
  },
  {
   "cell_type": "code",
   "execution_count": 7,
   "id": "a5b9354f",
   "metadata": {},
   "outputs": [],
   "source": [
    "def conditions(name_of_file, model, mode):\n",
    "    if model in name_of_file:\n",
    "        if 'fit' in name_of_file:\n",
    "            if 'pkl' in name_of_file:\n",
    "                if mode in name_of_file:\n",
    "                    return True\n",
    "    return False"
   ]
  },
  {
   "cell_type": "code",
   "execution_count": 8,
   "id": "4a408fe6",
   "metadata": {},
   "outputs": [],
   "source": [
    "path = 'plots/fv_old/fitst_junotao_v05d'\n",
    "all_xi2 = []\n",
    "all_files = os.listdir(path)\n",
    "all_files.sort(key=natural_sort_key)\n",
    "models = ['neural_network', 'xgboost']\n",
    "modes = ['all', 'none']\n",
    "for model in models:\n",
    "    for mode in modes:\n",
    "        xi2_array = []\n",
    "        for name_of_file in all_files:\n",
    "            if conditions(name_of_file, model, mode):\n",
    "                with open(f'{path}/{name_of_file}', 'rb') as file:\n",
    "                    xi2 = pickle.load(file)['fitresult']['juno']['fun']\n",
    "                    xi2_array.append(xi2)\n",
    "        all_xi2.append(xi2_array)"
   ]
  },
  {
   "cell_type": "code",
   "execution_count": 35,
   "id": "8ff2a482",
   "metadata": {},
   "outputs": [],
   "source": [
    "names = ['NN w. systematics', 'NN w/o systematics', 'BDT w. systematics', 'BDT w/o systematics']\n",
    "colors = ['darkviolet', 'darkviolet', 'darkred', 'darkred']"
   ]
  },
  {
   "cell_type": "code",
   "execution_count": 68,
   "id": "6327c799",
   "metadata": {
    "scrolled": false
   },
   "outputs": [
    {
     "data": {
      "application/vnd.plotly.v1+json": {
       "config": {
        "plotlyServerURL": "https://plot.ly"
       },
       "data": [
        {
         "line": {
          "color": "darkviolet",
          "dash": "solid"
         },
         "marker": {
          "size": 7,
          "symbol": "x"
         },
         "mode": "markers+lines",
         "name": "NN w. systematics",
         "type": "scatter",
         "x": [
          14,
          14.1,
          14.2,
          14.3,
          14.4,
          14.5,
          14.6,
          14.7,
          14.8,
          14.9,
          15,
          15.1,
          15.2,
          15.3,
          15.4,
          15.5,
          15.6,
          15.7,
          15.799999999999999,
          15.899999999999999,
          16,
          16.1,
          16.2,
          16.3,
          16.4,
          16.5,
          16.6,
          16.7,
          16.8,
          16.9,
          17,
          17.099999999999998,
          17.2
         ],
         "y": [
          5.335075299701803,
          5.444462083157033,
          5.546656931069545,
          5.67166113208271,
          5.805076291571672,
          5.927019714913869,
          6.051073639290134,
          6.1606797463330825,
          6.272960745528501,
          6.392650705746106,
          6.5138837542922206,
          6.636645974960282,
          6.760508257546254,
          6.89173373790913,
          6.9952612277361945,
          7.125910606674735,
          7.253285217201515,
          7.3673357665147945,
          7.493608629644998,
          7.616203952631187,
          7.711172451700857,
          7.8205925888993715,
          7.915202346452958,
          8.011579251243452,
          8.108528200894334,
          8.201409149762632,
          8.293513263804737,
          8.378743047004438,
          8.46276382131438,
          8.537419875945842,
          8.596228092341649,
          8.603308409203105,
          8.51070421234373
         ]
        },
        {
         "line": {
          "color": "darkviolet",
          "dash": "dash"
         },
         "marker": {
          "size": 7,
          "symbol": "x"
         },
         "mode": "markers+lines",
         "name": "NN w/o systematics",
         "type": "scatter",
         "x": [
          14,
          14.1,
          14.2,
          14.3,
          14.4,
          14.5,
          14.6,
          14.7,
          14.8,
          14.9,
          15,
          15.1,
          15.2,
          15.3,
          15.4,
          15.5,
          15.6,
          15.7,
          15.799999999999999,
          15.899999999999999,
          16,
          16.1,
          16.2,
          16.3,
          16.4,
          16.5,
          16.6,
          16.7,
          16.8,
          16.9,
          17,
          17.099999999999998,
          17.2
         ],
         "y": [
          6.170882771093625,
          6.316759528618648,
          6.444921331309624,
          6.601461659685544,
          6.768750698295061,
          6.922512364378781,
          7.078775198864348,
          7.218363407336613,
          7.361235307684931,
          7.513787733497173,
          7.668730147227195,
          7.8261119557744685,
          7.985359028069883,
          8.154181666992411,
          8.289208300624093,
          8.458430735880127,
          8.624058246953528,
          8.773149194143274,
          8.938847700444091,
          9.099561666739081,
          9.226010340482617,
          9.371342636891734,
          9.498146479864278,
          9.627749783630295,
          9.758959833269497,
          9.886079414526266,
          10.014282355563449,
          10.13722079806979,
          10.264280383105273,
          10.390194593612769,
          10.518106926709706,
          10.626965109526777,
          10.720118545794918
         ]
        },
        {
         "line": {
          "color": "darkred",
          "dash": "solid"
         },
         "marker": {
          "size": 7,
          "symbol": "x"
         },
         "mode": "markers+lines",
         "name": "BDT w. systematics",
         "type": "scatter",
         "x": [
          14,
          14.1,
          14.2,
          14.3,
          14.4,
          14.5,
          14.6,
          14.7,
          14.8,
          14.9,
          15,
          15.1,
          15.2,
          15.3,
          15.4,
          15.5,
          15.6,
          15.7,
          15.799999999999999,
          15.899999999999999,
          16,
          16.1,
          16.2,
          16.3,
          16.4,
          16.5,
          16.6,
          16.7,
          16.8,
          16.9,
          17,
          17.099999999999998,
          17.2
         ],
         "y": [
          5.056864215924007,
          5.164352665671199,
          5.257527888545984,
          5.368671213995877,
          5.49227664375396,
          5.592047156861001,
          5.6983499840833325,
          5.7958489363108265,
          5.903823530996219,
          6.01202154640897,
          6.123833879190285,
          6.231891321385413,
          6.343003029461225,
          6.465320544623568,
          6.562909895690423,
          6.681241008733879,
          6.793873069476473,
          6.895528881862451,
          7.004302791845685,
          7.108642127139918,
          7.185378635202225,
          7.2741732237232215,
          7.349642131268447,
          7.422486523650153,
          7.505042595643854,
          7.586015242558552,
          7.655943310553899,
          7.7295470576002625,
          7.80011967649945,
          7.863608834662585,
          7.918516242075296,
          7.934743716366592,
          7.849414869227169
         ]
        },
        {
         "line": {
          "color": "darkred",
          "dash": "dash"
         },
         "marker": {
          "size": 7,
          "symbol": "x"
         },
         "mode": "markers+lines",
         "name": "BDT w/o systematics",
         "type": "scatter",
         "x": [
          14,
          14.1,
          14.2,
          14.3,
          14.4,
          14.5,
          14.6,
          14.7,
          14.8,
          14.9,
          15,
          15.1,
          15.2,
          15.3,
          15.4,
          15.5,
          15.6,
          15.7,
          15.799999999999999,
          15.899999999999999,
          16,
          16.1,
          16.2,
          16.3,
          16.4,
          16.5,
          16.6,
          16.7,
          16.8,
          16.9,
          17,
          17.099999999999998,
          17.2
         ],
         "y": [
          5.834710846011386,
          5.9658246238201125,
          6.080137230634921,
          6.216399611814793,
          6.36847105605714,
          6.504652637518302,
          6.638492384569516,
          6.761966251976293,
          6.898549081446178,
          7.036372456624493,
          7.178699149564687,
          7.3167737263609975,
          7.459149278038951,
          7.616097290889546,
          7.742366615996884,
          7.89516304677407,
          8.041051684719614,
          8.17342166213934,
          8.315555894179386,
          8.452007619163485,
          8.554162431334783,
          8.672100354735521,
          8.77363840934839,
          8.872033759188017,
          8.984041875850977,
          9.094864264990417,
          9.193414053848157,
          9.300145688986127,
          9.408275868696848,
          9.51701185234509,
          9.637137517736353,
          9.75176252629917,
          9.839732764616585
         ]
        }
       ],
       "layout": {
        "font": {
         "family": "Times New Roman",
         "size": 18
        },
        "legend": {
         "bordercolor": "Black",
         "borderwidth": 1,
         "x": 0.025,
         "y": 0.99
        },
        "template": {
         "data": {
          "bar": [
           {
            "error_x": {
             "color": "#2a3f5f"
            },
            "error_y": {
             "color": "#2a3f5f"
            },
            "marker": {
             "line": {
              "color": "white",
              "width": 0.5
             },
             "pattern": {
              "fillmode": "overlay",
              "size": 10,
              "solidity": 0.2
             }
            },
            "type": "bar"
           }
          ],
          "barpolar": [
           {
            "marker": {
             "line": {
              "color": "white",
              "width": 0.5
             },
             "pattern": {
              "fillmode": "overlay",
              "size": 10,
              "solidity": 0.2
             }
            },
            "type": "barpolar"
           }
          ],
          "carpet": [
           {
            "aaxis": {
             "endlinecolor": "#2a3f5f",
             "gridcolor": "#C8D4E3",
             "linecolor": "#C8D4E3",
             "minorgridcolor": "#C8D4E3",
             "startlinecolor": "#2a3f5f"
            },
            "baxis": {
             "endlinecolor": "#2a3f5f",
             "gridcolor": "#C8D4E3",
             "linecolor": "#C8D4E3",
             "minorgridcolor": "#C8D4E3",
             "startlinecolor": "#2a3f5f"
            },
            "type": "carpet"
           }
          ],
          "choropleth": [
           {
            "colorbar": {
             "outlinewidth": 0,
             "ticks": ""
            },
            "type": "choropleth"
           }
          ],
          "contour": [
           {
            "colorbar": {
             "outlinewidth": 0,
             "ticks": ""
            },
            "colorscale": [
             [
              0,
              "#0d0887"
             ],
             [
              0.1111111111111111,
              "#46039f"
             ],
             [
              0.2222222222222222,
              "#7201a8"
             ],
             [
              0.3333333333333333,
              "#9c179e"
             ],
             [
              0.4444444444444444,
              "#bd3786"
             ],
             [
              0.5555555555555556,
              "#d8576b"
             ],
             [
              0.6666666666666666,
              "#ed7953"
             ],
             [
              0.7777777777777778,
              "#fb9f3a"
             ],
             [
              0.8888888888888888,
              "#fdca26"
             ],
             [
              1,
              "#f0f921"
             ]
            ],
            "type": "contour"
           }
          ],
          "contourcarpet": [
           {
            "colorbar": {
             "outlinewidth": 0,
             "ticks": ""
            },
            "type": "contourcarpet"
           }
          ],
          "heatmap": [
           {
            "colorbar": {
             "outlinewidth": 0,
             "ticks": ""
            },
            "colorscale": [
             [
              0,
              "#0d0887"
             ],
             [
              0.1111111111111111,
              "#46039f"
             ],
             [
              0.2222222222222222,
              "#7201a8"
             ],
             [
              0.3333333333333333,
              "#9c179e"
             ],
             [
              0.4444444444444444,
              "#bd3786"
             ],
             [
              0.5555555555555556,
              "#d8576b"
             ],
             [
              0.6666666666666666,
              "#ed7953"
             ],
             [
              0.7777777777777778,
              "#fb9f3a"
             ],
             [
              0.8888888888888888,
              "#fdca26"
             ],
             [
              1,
              "#f0f921"
             ]
            ],
            "type": "heatmap"
           }
          ],
          "heatmapgl": [
           {
            "colorbar": {
             "outlinewidth": 0,
             "ticks": ""
            },
            "colorscale": [
             [
              0,
              "#0d0887"
             ],
             [
              0.1111111111111111,
              "#46039f"
             ],
             [
              0.2222222222222222,
              "#7201a8"
             ],
             [
              0.3333333333333333,
              "#9c179e"
             ],
             [
              0.4444444444444444,
              "#bd3786"
             ],
             [
              0.5555555555555556,
              "#d8576b"
             ],
             [
              0.6666666666666666,
              "#ed7953"
             ],
             [
              0.7777777777777778,
              "#fb9f3a"
             ],
             [
              0.8888888888888888,
              "#fdca26"
             ],
             [
              1,
              "#f0f921"
             ]
            ],
            "type": "heatmapgl"
           }
          ],
          "histogram": [
           {
            "marker": {
             "pattern": {
              "fillmode": "overlay",
              "size": 10,
              "solidity": 0.2
             }
            },
            "type": "histogram"
           }
          ],
          "histogram2d": [
           {
            "colorbar": {
             "outlinewidth": 0,
             "ticks": ""
            },
            "colorscale": [
             [
              0,
              "#0d0887"
             ],
             [
              0.1111111111111111,
              "#46039f"
             ],
             [
              0.2222222222222222,
              "#7201a8"
             ],
             [
              0.3333333333333333,
              "#9c179e"
             ],
             [
              0.4444444444444444,
              "#bd3786"
             ],
             [
              0.5555555555555556,
              "#d8576b"
             ],
             [
              0.6666666666666666,
              "#ed7953"
             ],
             [
              0.7777777777777778,
              "#fb9f3a"
             ],
             [
              0.8888888888888888,
              "#fdca26"
             ],
             [
              1,
              "#f0f921"
             ]
            ],
            "type": "histogram2d"
           }
          ],
          "histogram2dcontour": [
           {
            "colorbar": {
             "outlinewidth": 0,
             "ticks": ""
            },
            "colorscale": [
             [
              0,
              "#0d0887"
             ],
             [
              0.1111111111111111,
              "#46039f"
             ],
             [
              0.2222222222222222,
              "#7201a8"
             ],
             [
              0.3333333333333333,
              "#9c179e"
             ],
             [
              0.4444444444444444,
              "#bd3786"
             ],
             [
              0.5555555555555556,
              "#d8576b"
             ],
             [
              0.6666666666666666,
              "#ed7953"
             ],
             [
              0.7777777777777778,
              "#fb9f3a"
             ],
             [
              0.8888888888888888,
              "#fdca26"
             ],
             [
              1,
              "#f0f921"
             ]
            ],
            "type": "histogram2dcontour"
           }
          ],
          "mesh3d": [
           {
            "colorbar": {
             "outlinewidth": 0,
             "ticks": ""
            },
            "type": "mesh3d"
           }
          ],
          "parcoords": [
           {
            "line": {
             "colorbar": {
              "outlinewidth": 0,
              "ticks": ""
             }
            },
            "type": "parcoords"
           }
          ],
          "pie": [
           {
            "automargin": true,
            "type": "pie"
           }
          ],
          "scatter": [
           {
            "marker": {
             "colorbar": {
              "outlinewidth": 0,
              "ticks": ""
             }
            },
            "type": "scatter"
           }
          ],
          "scatter3d": [
           {
            "line": {
             "colorbar": {
              "outlinewidth": 0,
              "ticks": ""
             }
            },
            "marker": {
             "colorbar": {
              "outlinewidth": 0,
              "ticks": ""
             }
            },
            "type": "scatter3d"
           }
          ],
          "scattercarpet": [
           {
            "marker": {
             "colorbar": {
              "outlinewidth": 0,
              "ticks": ""
             }
            },
            "type": "scattercarpet"
           }
          ],
          "scattergeo": [
           {
            "marker": {
             "colorbar": {
              "outlinewidth": 0,
              "ticks": ""
             }
            },
            "type": "scattergeo"
           }
          ],
          "scattergl": [
           {
            "marker": {
             "colorbar": {
              "outlinewidth": 0,
              "ticks": ""
             }
            },
            "type": "scattergl"
           }
          ],
          "scattermapbox": [
           {
            "marker": {
             "colorbar": {
              "outlinewidth": 0,
              "ticks": ""
             }
            },
            "type": "scattermapbox"
           }
          ],
          "scatterpolar": [
           {
            "marker": {
             "colorbar": {
              "outlinewidth": 0,
              "ticks": ""
             }
            },
            "type": "scatterpolar"
           }
          ],
          "scatterpolargl": [
           {
            "marker": {
             "colorbar": {
              "outlinewidth": 0,
              "ticks": ""
             }
            },
            "type": "scatterpolargl"
           }
          ],
          "scatterternary": [
           {
            "marker": {
             "colorbar": {
              "outlinewidth": 0,
              "ticks": ""
             }
            },
            "type": "scatterternary"
           }
          ],
          "surface": [
           {
            "colorbar": {
             "outlinewidth": 0,
             "ticks": ""
            },
            "colorscale": [
             [
              0,
              "#0d0887"
             ],
             [
              0.1111111111111111,
              "#46039f"
             ],
             [
              0.2222222222222222,
              "#7201a8"
             ],
             [
              0.3333333333333333,
              "#9c179e"
             ],
             [
              0.4444444444444444,
              "#bd3786"
             ],
             [
              0.5555555555555556,
              "#d8576b"
             ],
             [
              0.6666666666666666,
              "#ed7953"
             ],
             [
              0.7777777777777778,
              "#fb9f3a"
             ],
             [
              0.8888888888888888,
              "#fdca26"
             ],
             [
              1,
              "#f0f921"
             ]
            ],
            "type": "surface"
           }
          ],
          "table": [
           {
            "cells": {
             "fill": {
              "color": "#EBF0F8"
             },
             "line": {
              "color": "white"
             }
            },
            "header": {
             "fill": {
              "color": "#C8D4E3"
             },
             "line": {
              "color": "white"
             }
            },
            "type": "table"
           }
          ]
         },
         "layout": {
          "annotationdefaults": {
           "arrowcolor": "#2a3f5f",
           "arrowhead": 0,
           "arrowwidth": 1
          },
          "autotypenumbers": "strict",
          "coloraxis": {
           "colorbar": {
            "outlinewidth": 0,
            "ticks": ""
           }
          },
          "colorscale": {
           "diverging": [
            [
             0,
             "#8e0152"
            ],
            [
             0.1,
             "#c51b7d"
            ],
            [
             0.2,
             "#de77ae"
            ],
            [
             0.3,
             "#f1b6da"
            ],
            [
             0.4,
             "#fde0ef"
            ],
            [
             0.5,
             "#f7f7f7"
            ],
            [
             0.6,
             "#e6f5d0"
            ],
            [
             0.7,
             "#b8e186"
            ],
            [
             0.8,
             "#7fbc41"
            ],
            [
             0.9,
             "#4d9221"
            ],
            [
             1,
             "#276419"
            ]
           ],
           "sequential": [
            [
             0,
             "#0d0887"
            ],
            [
             0.1111111111111111,
             "#46039f"
            ],
            [
             0.2222222222222222,
             "#7201a8"
            ],
            [
             0.3333333333333333,
             "#9c179e"
            ],
            [
             0.4444444444444444,
             "#bd3786"
            ],
            [
             0.5555555555555556,
             "#d8576b"
            ],
            [
             0.6666666666666666,
             "#ed7953"
            ],
            [
             0.7777777777777778,
             "#fb9f3a"
            ],
            [
             0.8888888888888888,
             "#fdca26"
            ],
            [
             1,
             "#f0f921"
            ]
           ],
           "sequentialminus": [
            [
             0,
             "#0d0887"
            ],
            [
             0.1111111111111111,
             "#46039f"
            ],
            [
             0.2222222222222222,
             "#7201a8"
            ],
            [
             0.3333333333333333,
             "#9c179e"
            ],
            [
             0.4444444444444444,
             "#bd3786"
            ],
            [
             0.5555555555555556,
             "#d8576b"
            ],
            [
             0.6666666666666666,
             "#ed7953"
            ],
            [
             0.7777777777777778,
             "#fb9f3a"
            ],
            [
             0.8888888888888888,
             "#fdca26"
            ],
            [
             1,
             "#f0f921"
            ]
           ]
          },
          "colorway": [
           "#636efa",
           "#EF553B",
           "#00cc96",
           "#ab63fa",
           "#FFA15A",
           "#19d3f3",
           "#FF6692",
           "#B6E880",
           "#FF97FF",
           "#FECB52"
          ],
          "font": {
           "color": "#2a3f5f"
          },
          "geo": {
           "bgcolor": "white",
           "lakecolor": "white",
           "landcolor": "white",
           "showlakes": true,
           "showland": true,
           "subunitcolor": "#C8D4E3"
          },
          "hoverlabel": {
           "align": "left"
          },
          "hovermode": "closest",
          "mapbox": {
           "style": "light"
          },
          "paper_bgcolor": "white",
          "plot_bgcolor": "white",
          "polar": {
           "angularaxis": {
            "gridcolor": "#EBF0F8",
            "linecolor": "#EBF0F8",
            "ticks": ""
           },
           "bgcolor": "white",
           "radialaxis": {
            "gridcolor": "#EBF0F8",
            "linecolor": "#EBF0F8",
            "ticks": ""
           }
          },
          "scene": {
           "xaxis": {
            "backgroundcolor": "white",
            "gridcolor": "#DFE8F3",
            "gridwidth": 2,
            "linecolor": "#EBF0F8",
            "showbackground": true,
            "ticks": "",
            "zerolinecolor": "#EBF0F8"
           },
           "yaxis": {
            "backgroundcolor": "white",
            "gridcolor": "#DFE8F3",
            "gridwidth": 2,
            "linecolor": "#EBF0F8",
            "showbackground": true,
            "ticks": "",
            "zerolinecolor": "#EBF0F8"
           },
           "zaxis": {
            "backgroundcolor": "white",
            "gridcolor": "#DFE8F3",
            "gridwidth": 2,
            "linecolor": "#EBF0F8",
            "showbackground": true,
            "ticks": "",
            "zerolinecolor": "#EBF0F8"
           }
          },
          "shapedefaults": {
           "line": {
            "color": "#2a3f5f"
           }
          },
          "ternary": {
           "aaxis": {
            "gridcolor": "#DFE8F3",
            "linecolor": "#A2B1C6",
            "ticks": ""
           },
           "baxis": {
            "gridcolor": "#DFE8F3",
            "linecolor": "#A2B1C6",
            "ticks": ""
           },
           "bgcolor": "white",
           "caxis": {
            "gridcolor": "#DFE8F3",
            "linecolor": "#A2B1C6",
            "ticks": ""
           }
          },
          "title": {
           "x": 0.05
          },
          "xaxis": {
           "automargin": true,
           "gridcolor": "#EBF0F8",
           "linecolor": "#EBF0F8",
           "ticks": "",
           "title": {
            "standoff": 15
           },
           "zerolinecolor": "#EBF0F8",
           "zerolinewidth": 2
          },
          "yaxis": {
           "automargin": true,
           "gridcolor": "#EBF0F8",
           "linecolor": "#EBF0F8",
           "ticks": "",
           "title": {
            "standoff": 15
           },
           "zerolinecolor": "#EBF0F8",
           "zerolinewidth": 2
          }
         }
        },
        "xaxis": {
         "dtick": 0.5,
         "gridcolor": "grey",
         "gridwidth": 0.25,
         "linecolor": "black",
         "mirror": true,
         "showgrid": true,
         "showline": true,
         "tick0": 14,
         "ticks": "outside",
         "title": {
          "text": "R, m"
         }
        },
        "yaxis": {
         "dtick": 1,
         "gridcolor": "grey",
         "gridwidth": 0.25,
         "linecolor": "black",
         "mirror": true,
         "range": [
          4.75,
          11
         ],
         "showgrid": true,
         "showline": true,
         "ticks": "outside",
         "title": {
          "text": "Δχ²"
         },
         "zeroline": true,
         "zerolinecolor": "black",
         "zerolinewidth": 0.25
        }
       }
      },
      "text/html": [
       "<div>                            <div id=\"01c1557c-a835-44df-8d0d-a73b36f94032\" class=\"plotly-graph-div\" style=\"height:525px; width:100%;\"></div>            <script type=\"text/javascript\">                require([\"plotly\"], function(Plotly) {                    window.PLOTLYENV=window.PLOTLYENV || {};                                    if (document.getElementById(\"01c1557c-a835-44df-8d0d-a73b36f94032\")) {                    Plotly.newPlot(                        \"01c1557c-a835-44df-8d0d-a73b36f94032\",                        [{\"line\":{\"color\":\"darkviolet\",\"dash\":\"solid\"},\"marker\":{\"size\":7,\"symbol\":\"x\"},\"mode\":\"markers+lines\",\"name\":\"NN w. systematics\",\"type\":\"scatter\",\"x\":[14.0,14.1,14.2,14.3,14.4,14.5,14.6,14.7,14.8,14.9,15.0,15.1,15.2,15.3,15.4,15.5,15.6,15.7,15.799999999999999,15.899999999999999,16.0,16.1,16.2,16.3,16.4,16.5,16.6,16.7,16.8,16.9,17.0,17.099999999999998,17.2],\"y\":[5.335075299701803,5.444462083157033,5.546656931069545,5.67166113208271,5.805076291571672,5.927019714913869,6.051073639290134,6.1606797463330825,6.272960745528501,6.392650705746106,6.5138837542922206,6.636645974960282,6.760508257546254,6.89173373790913,6.9952612277361945,7.125910606674735,7.253285217201515,7.3673357665147945,7.493608629644998,7.616203952631187,7.711172451700857,7.8205925888993715,7.915202346452958,8.011579251243452,8.108528200894334,8.201409149762632,8.293513263804737,8.378743047004438,8.46276382131438,8.537419875945842,8.596228092341649,8.603308409203105,8.51070421234373]},{\"line\":{\"color\":\"darkviolet\",\"dash\":\"dash\"},\"marker\":{\"size\":7,\"symbol\":\"x\"},\"mode\":\"markers+lines\",\"name\":\"NN w/o systematics\",\"type\":\"scatter\",\"x\":[14.0,14.1,14.2,14.3,14.4,14.5,14.6,14.7,14.8,14.9,15.0,15.1,15.2,15.3,15.4,15.5,15.6,15.7,15.799999999999999,15.899999999999999,16.0,16.1,16.2,16.3,16.4,16.5,16.6,16.7,16.8,16.9,17.0,17.099999999999998,17.2],\"y\":[6.170882771093625,6.316759528618648,6.444921331309624,6.601461659685544,6.768750698295061,6.922512364378781,7.078775198864348,7.218363407336613,7.361235307684931,7.513787733497173,7.668730147227195,7.8261119557744685,7.985359028069883,8.154181666992411,8.289208300624093,8.458430735880127,8.624058246953528,8.773149194143274,8.938847700444091,9.099561666739081,9.226010340482617,9.371342636891734,9.498146479864278,9.627749783630295,9.758959833269497,9.886079414526266,10.014282355563449,10.13722079806979,10.264280383105273,10.390194593612769,10.518106926709706,10.626965109526777,10.720118545794918]},{\"line\":{\"color\":\"darkred\",\"dash\":\"solid\"},\"marker\":{\"size\":7,\"symbol\":\"x\"},\"mode\":\"markers+lines\",\"name\":\"BDT w. systematics\",\"type\":\"scatter\",\"x\":[14.0,14.1,14.2,14.3,14.4,14.5,14.6,14.7,14.8,14.9,15.0,15.1,15.2,15.3,15.4,15.5,15.6,15.7,15.799999999999999,15.899999999999999,16.0,16.1,16.2,16.3,16.4,16.5,16.6,16.7,16.8,16.9,17.0,17.099999999999998,17.2],\"y\":[5.056864215924007,5.164352665671199,5.257527888545984,5.368671213995877,5.49227664375396,5.592047156861001,5.6983499840833325,5.7958489363108265,5.903823530996219,6.01202154640897,6.123833879190285,6.231891321385413,6.343003029461225,6.465320544623568,6.562909895690423,6.681241008733879,6.793873069476473,6.895528881862451,7.004302791845685,7.108642127139918,7.185378635202225,7.2741732237232215,7.349642131268447,7.422486523650153,7.505042595643854,7.586015242558552,7.655943310553899,7.7295470576002625,7.80011967649945,7.863608834662585,7.918516242075296,7.934743716366592,7.849414869227169]},{\"line\":{\"color\":\"darkred\",\"dash\":\"dash\"},\"marker\":{\"size\":7,\"symbol\":\"x\"},\"mode\":\"markers+lines\",\"name\":\"BDT w/o systematics\",\"type\":\"scatter\",\"x\":[14.0,14.1,14.2,14.3,14.4,14.5,14.6,14.7,14.8,14.9,15.0,15.1,15.2,15.3,15.4,15.5,15.6,15.7,15.799999999999999,15.899999999999999,16.0,16.1,16.2,16.3,16.4,16.5,16.6,16.7,16.8,16.9,17.0,17.099999999999998,17.2],\"y\":[5.834710846011386,5.9658246238201125,6.080137230634921,6.216399611814793,6.36847105605714,6.504652637518302,6.638492384569516,6.761966251976293,6.898549081446178,7.036372456624493,7.178699149564687,7.3167737263609975,7.459149278038951,7.616097290889546,7.742366615996884,7.89516304677407,8.041051684719614,8.17342166213934,8.315555894179386,8.452007619163485,8.554162431334783,8.672100354735521,8.77363840934839,8.872033759188017,8.984041875850977,9.094864264990417,9.193414053848157,9.300145688986127,9.408275868696848,9.51701185234509,9.637137517736353,9.75176252629917,9.839732764616585]}],                        {\"font\":{\"family\":\"Times New Roman\",\"size\":18},\"legend\":{\"bordercolor\":\"Black\",\"borderwidth\":1,\"x\":0.025,\"y\":0.99},\"template\":{\"data\":{\"bar\":[{\"error_x\":{\"color\":\"#2a3f5f\"},\"error_y\":{\"color\":\"#2a3f5f\"},\"marker\":{\"line\":{\"color\":\"white\",\"width\":0.5},\"pattern\":{\"fillmode\":\"overlay\",\"size\":10,\"solidity\":0.2}},\"type\":\"bar\"}],\"barpolar\":[{\"marker\":{\"line\":{\"color\":\"white\",\"width\":0.5},\"pattern\":{\"fillmode\":\"overlay\",\"size\":10,\"solidity\":0.2}},\"type\":\"barpolar\"}],\"carpet\":[{\"aaxis\":{\"endlinecolor\":\"#2a3f5f\",\"gridcolor\":\"#C8D4E3\",\"linecolor\":\"#C8D4E3\",\"minorgridcolor\":\"#C8D4E3\",\"startlinecolor\":\"#2a3f5f\"},\"baxis\":{\"endlinecolor\":\"#2a3f5f\",\"gridcolor\":\"#C8D4E3\",\"linecolor\":\"#C8D4E3\",\"minorgridcolor\":\"#C8D4E3\",\"startlinecolor\":\"#2a3f5f\"},\"type\":\"carpet\"}],\"choropleth\":[{\"colorbar\":{\"outlinewidth\":0,\"ticks\":\"\"},\"type\":\"choropleth\"}],\"contour\":[{\"colorbar\":{\"outlinewidth\":0,\"ticks\":\"\"},\"colorscale\":[[0.0,\"#0d0887\"],[0.1111111111111111,\"#46039f\"],[0.2222222222222222,\"#7201a8\"],[0.3333333333333333,\"#9c179e\"],[0.4444444444444444,\"#bd3786\"],[0.5555555555555556,\"#d8576b\"],[0.6666666666666666,\"#ed7953\"],[0.7777777777777778,\"#fb9f3a\"],[0.8888888888888888,\"#fdca26\"],[1.0,\"#f0f921\"]],\"type\":\"contour\"}],\"contourcarpet\":[{\"colorbar\":{\"outlinewidth\":0,\"ticks\":\"\"},\"type\":\"contourcarpet\"}],\"heatmap\":[{\"colorbar\":{\"outlinewidth\":0,\"ticks\":\"\"},\"colorscale\":[[0.0,\"#0d0887\"],[0.1111111111111111,\"#46039f\"],[0.2222222222222222,\"#7201a8\"],[0.3333333333333333,\"#9c179e\"],[0.4444444444444444,\"#bd3786\"],[0.5555555555555556,\"#d8576b\"],[0.6666666666666666,\"#ed7953\"],[0.7777777777777778,\"#fb9f3a\"],[0.8888888888888888,\"#fdca26\"],[1.0,\"#f0f921\"]],\"type\":\"heatmap\"}],\"heatmapgl\":[{\"colorbar\":{\"outlinewidth\":0,\"ticks\":\"\"},\"colorscale\":[[0.0,\"#0d0887\"],[0.1111111111111111,\"#46039f\"],[0.2222222222222222,\"#7201a8\"],[0.3333333333333333,\"#9c179e\"],[0.4444444444444444,\"#bd3786\"],[0.5555555555555556,\"#d8576b\"],[0.6666666666666666,\"#ed7953\"],[0.7777777777777778,\"#fb9f3a\"],[0.8888888888888888,\"#fdca26\"],[1.0,\"#f0f921\"]],\"type\":\"heatmapgl\"}],\"histogram\":[{\"marker\":{\"pattern\":{\"fillmode\":\"overlay\",\"size\":10,\"solidity\":0.2}},\"type\":\"histogram\"}],\"histogram2d\":[{\"colorbar\":{\"outlinewidth\":0,\"ticks\":\"\"},\"colorscale\":[[0.0,\"#0d0887\"],[0.1111111111111111,\"#46039f\"],[0.2222222222222222,\"#7201a8\"],[0.3333333333333333,\"#9c179e\"],[0.4444444444444444,\"#bd3786\"],[0.5555555555555556,\"#d8576b\"],[0.6666666666666666,\"#ed7953\"],[0.7777777777777778,\"#fb9f3a\"],[0.8888888888888888,\"#fdca26\"],[1.0,\"#f0f921\"]],\"type\":\"histogram2d\"}],\"histogram2dcontour\":[{\"colorbar\":{\"outlinewidth\":0,\"ticks\":\"\"},\"colorscale\":[[0.0,\"#0d0887\"],[0.1111111111111111,\"#46039f\"],[0.2222222222222222,\"#7201a8\"],[0.3333333333333333,\"#9c179e\"],[0.4444444444444444,\"#bd3786\"],[0.5555555555555556,\"#d8576b\"],[0.6666666666666666,\"#ed7953\"],[0.7777777777777778,\"#fb9f3a\"],[0.8888888888888888,\"#fdca26\"],[1.0,\"#f0f921\"]],\"type\":\"histogram2dcontour\"}],\"mesh3d\":[{\"colorbar\":{\"outlinewidth\":0,\"ticks\":\"\"},\"type\":\"mesh3d\"}],\"parcoords\":[{\"line\":{\"colorbar\":{\"outlinewidth\":0,\"ticks\":\"\"}},\"type\":\"parcoords\"}],\"pie\":[{\"automargin\":true,\"type\":\"pie\"}],\"scatter\":[{\"marker\":{\"colorbar\":{\"outlinewidth\":0,\"ticks\":\"\"}},\"type\":\"scatter\"}],\"scatter3d\":[{\"line\":{\"colorbar\":{\"outlinewidth\":0,\"ticks\":\"\"}},\"marker\":{\"colorbar\":{\"outlinewidth\":0,\"ticks\":\"\"}},\"type\":\"scatter3d\"}],\"scattercarpet\":[{\"marker\":{\"colorbar\":{\"outlinewidth\":0,\"ticks\":\"\"}},\"type\":\"scattercarpet\"}],\"scattergeo\":[{\"marker\":{\"colorbar\":{\"outlinewidth\":0,\"ticks\":\"\"}},\"type\":\"scattergeo\"}],\"scattergl\":[{\"marker\":{\"colorbar\":{\"outlinewidth\":0,\"ticks\":\"\"}},\"type\":\"scattergl\"}],\"scattermapbox\":[{\"marker\":{\"colorbar\":{\"outlinewidth\":0,\"ticks\":\"\"}},\"type\":\"scattermapbox\"}],\"scatterpolar\":[{\"marker\":{\"colorbar\":{\"outlinewidth\":0,\"ticks\":\"\"}},\"type\":\"scatterpolar\"}],\"scatterpolargl\":[{\"marker\":{\"colorbar\":{\"outlinewidth\":0,\"ticks\":\"\"}},\"type\":\"scatterpolargl\"}],\"scatterternary\":[{\"marker\":{\"colorbar\":{\"outlinewidth\":0,\"ticks\":\"\"}},\"type\":\"scatterternary\"}],\"surface\":[{\"colorbar\":{\"outlinewidth\":0,\"ticks\":\"\"},\"colorscale\":[[0.0,\"#0d0887\"],[0.1111111111111111,\"#46039f\"],[0.2222222222222222,\"#7201a8\"],[0.3333333333333333,\"#9c179e\"],[0.4444444444444444,\"#bd3786\"],[0.5555555555555556,\"#d8576b\"],[0.6666666666666666,\"#ed7953\"],[0.7777777777777778,\"#fb9f3a\"],[0.8888888888888888,\"#fdca26\"],[1.0,\"#f0f921\"]],\"type\":\"surface\"}],\"table\":[{\"cells\":{\"fill\":{\"color\":\"#EBF0F8\"},\"line\":{\"color\":\"white\"}},\"header\":{\"fill\":{\"color\":\"#C8D4E3\"},\"line\":{\"color\":\"white\"}},\"type\":\"table\"}]},\"layout\":{\"annotationdefaults\":{\"arrowcolor\":\"#2a3f5f\",\"arrowhead\":0,\"arrowwidth\":1},\"autotypenumbers\":\"strict\",\"coloraxis\":{\"colorbar\":{\"outlinewidth\":0,\"ticks\":\"\"}},\"colorscale\":{\"diverging\":[[0,\"#8e0152\"],[0.1,\"#c51b7d\"],[0.2,\"#de77ae\"],[0.3,\"#f1b6da\"],[0.4,\"#fde0ef\"],[0.5,\"#f7f7f7\"],[0.6,\"#e6f5d0\"],[0.7,\"#b8e186\"],[0.8,\"#7fbc41\"],[0.9,\"#4d9221\"],[1,\"#276419\"]],\"sequential\":[[0.0,\"#0d0887\"],[0.1111111111111111,\"#46039f\"],[0.2222222222222222,\"#7201a8\"],[0.3333333333333333,\"#9c179e\"],[0.4444444444444444,\"#bd3786\"],[0.5555555555555556,\"#d8576b\"],[0.6666666666666666,\"#ed7953\"],[0.7777777777777778,\"#fb9f3a\"],[0.8888888888888888,\"#fdca26\"],[1.0,\"#f0f921\"]],\"sequentialminus\":[[0.0,\"#0d0887\"],[0.1111111111111111,\"#46039f\"],[0.2222222222222222,\"#7201a8\"],[0.3333333333333333,\"#9c179e\"],[0.4444444444444444,\"#bd3786\"],[0.5555555555555556,\"#d8576b\"],[0.6666666666666666,\"#ed7953\"],[0.7777777777777778,\"#fb9f3a\"],[0.8888888888888888,\"#fdca26\"],[1.0,\"#f0f921\"]]},\"colorway\":[\"#636efa\",\"#EF553B\",\"#00cc96\",\"#ab63fa\",\"#FFA15A\",\"#19d3f3\",\"#FF6692\",\"#B6E880\",\"#FF97FF\",\"#FECB52\"],\"font\":{\"color\":\"#2a3f5f\"},\"geo\":{\"bgcolor\":\"white\",\"lakecolor\":\"white\",\"landcolor\":\"white\",\"showlakes\":true,\"showland\":true,\"subunitcolor\":\"#C8D4E3\"},\"hoverlabel\":{\"align\":\"left\"},\"hovermode\":\"closest\",\"mapbox\":{\"style\":\"light\"},\"paper_bgcolor\":\"white\",\"plot_bgcolor\":\"white\",\"polar\":{\"angularaxis\":{\"gridcolor\":\"#EBF0F8\",\"linecolor\":\"#EBF0F8\",\"ticks\":\"\"},\"bgcolor\":\"white\",\"radialaxis\":{\"gridcolor\":\"#EBF0F8\",\"linecolor\":\"#EBF0F8\",\"ticks\":\"\"}},\"scene\":{\"xaxis\":{\"backgroundcolor\":\"white\",\"gridcolor\":\"#DFE8F3\",\"gridwidth\":2,\"linecolor\":\"#EBF0F8\",\"showbackground\":true,\"ticks\":\"\",\"zerolinecolor\":\"#EBF0F8\"},\"yaxis\":{\"backgroundcolor\":\"white\",\"gridcolor\":\"#DFE8F3\",\"gridwidth\":2,\"linecolor\":\"#EBF0F8\",\"showbackground\":true,\"ticks\":\"\",\"zerolinecolor\":\"#EBF0F8\"},\"zaxis\":{\"backgroundcolor\":\"white\",\"gridcolor\":\"#DFE8F3\",\"gridwidth\":2,\"linecolor\":\"#EBF0F8\",\"showbackground\":true,\"ticks\":\"\",\"zerolinecolor\":\"#EBF0F8\"}},\"shapedefaults\":{\"line\":{\"color\":\"#2a3f5f\"}},\"ternary\":{\"aaxis\":{\"gridcolor\":\"#DFE8F3\",\"linecolor\":\"#A2B1C6\",\"ticks\":\"\"},\"baxis\":{\"gridcolor\":\"#DFE8F3\",\"linecolor\":\"#A2B1C6\",\"ticks\":\"\"},\"bgcolor\":\"white\",\"caxis\":{\"gridcolor\":\"#DFE8F3\",\"linecolor\":\"#A2B1C6\",\"ticks\":\"\"}},\"title\":{\"x\":0.05},\"xaxis\":{\"automargin\":true,\"gridcolor\":\"#EBF0F8\",\"linecolor\":\"#EBF0F8\",\"ticks\":\"\",\"title\":{\"standoff\":15},\"zerolinecolor\":\"#EBF0F8\",\"zerolinewidth\":2},\"yaxis\":{\"automargin\":true,\"gridcolor\":\"#EBF0F8\",\"linecolor\":\"#EBF0F8\",\"ticks\":\"\",\"title\":{\"standoff\":15},\"zerolinecolor\":\"#EBF0F8\",\"zerolinewidth\":2}}},\"xaxis\":{\"dtick\":0.5,\"gridcolor\":\"grey\",\"gridwidth\":0.25,\"linecolor\":\"black\",\"mirror\":true,\"showgrid\":true,\"showline\":true,\"tick0\":14,\"ticks\":\"outside\",\"title\":{\"text\":\"R, m\"}},\"yaxis\":{\"dtick\":1,\"gridcolor\":\"grey\",\"gridwidth\":0.25,\"linecolor\":\"black\",\"mirror\":true,\"range\":[4.75,11],\"showgrid\":true,\"showline\":true,\"ticks\":\"outside\",\"title\":{\"text\":\"\\u0394\\u03c7\\u00b2\"},\"zeroline\":true,\"zerolinecolor\":\"black\",\"zerolinewidth\":0.25}},                        {\"responsive\": true}                    ).then(function(){\n",
       "                            \n",
       "var gd = document.getElementById('01c1557c-a835-44df-8d0d-a73b36f94032');\n",
       "var x = new MutationObserver(function (mutations, observer) {{\n",
       "        var display = window.getComputedStyle(gd).display;\n",
       "        if (!display || display === 'none') {{\n",
       "            console.log([gd, 'removed!']);\n",
       "            Plotly.purge(gd);\n",
       "            observer.disconnect();\n",
       "        }}\n",
       "}});\n",
       "\n",
       "// Listen for the removal of the full notebook cells\n",
       "var notebookContainer = gd.closest('#notebook-container');\n",
       "if (notebookContainer) {{\n",
       "    x.observe(notebookContainer, {childList: true});\n",
       "}}\n",
       "\n",
       "// Listen for the clearing of the current output cell\n",
       "var outputEl = gd.closest('.output');\n",
       "if (outputEl) {{\n",
       "    x.observe(outputEl, {childList: true});\n",
       "}}\n",
       "\n",
       "                        })                };                });            </script>        </div>"
      ]
     },
     "metadata": {},
     "output_type": "display_data"
    }
   ],
   "source": [
    "Rs = np.linspace(14, 17.2, 33)\n",
    "fig = go.Figure()#make_subplots(rows=2, cols=2,\n",
    "#                    vertical_spacing=0.15)\n",
    "\n",
    "\n",
    "# for row in range(2):\n",
    "#     for col in range(2):\n",
    "for i in range(4):\n",
    "    if i%2 != 0:\n",
    "        dash='dash'\n",
    "    else:\n",
    "        dash='solid'\n",
    "        \n",
    "    fig.add_trace(\n",
    "        go.Scatter(\n",
    "            x=Rs,\n",
    "            y=all_xi2[i],\n",
    "            mode='markers+lines',\n",
    "            line=dict(\n",
    "                dash=dash,\n",
    "                color=colors[i],\n",
    "            ),\n",
    "            marker=dict(\n",
    "                symbol='x',\n",
    "                size=7\n",
    "            ),\n",
    "            name=names[i],\n",
    "        ),\n",
    "#             row=row+1, col=col+1\n",
    "    )\n",
    "\n",
    "xaxis = dict(\n",
    "    showline=True,\n",
    "    ticks='outside',\n",
    "    mirror=True,\n",
    "    tick0=14,\n",
    "    dtick=0.5,\n",
    "    linecolor='black',\n",
    "    showgrid=True,\n",
    "    gridcolor='grey',\n",
    "    gridwidth=0.25,\n",
    ")\n",
    "\n",
    "yaxis = dict(\n",
    "    showline=True,\n",
    "    ticks='outside',\n",
    "    mirror=True,\n",
    "    linecolor='black',\n",
    "    showgrid=True,\n",
    "    dtick=1,\n",
    "    range=[4.75, 11],\n",
    "    gridcolor='grey',\n",
    "    gridwidth=0.25,\n",
    "    zeroline=True,\n",
    "    zerolinecolor='black',\n",
    "    zerolinewidth=0.25\n",
    ")\n",
    "\n",
    "# axis_params = {}\n",
    "# for i in range(1, 5):\n",
    "#     axis_params[f'xaxis{i}'] = xaxis\n",
    "#     axis_params[f'yaxis{i}'] = yaxis\n",
    "#     axis_params[f'xaxis{i}_title'] = 'R, m'\n",
    "#     axis_params[f'yaxis{i}_title'] = 'σ'\n",
    "\n",
    "fig.update_layout(\n",
    "    xaxis_title = \"R, m\",\n",
    "    yaxis_title = \"Δχ²\",\n",
    "    xaxis=xaxis,\n",
    "    yaxis=yaxis,\n",
    "    legend=dict(\n",
    "#         orientation=\"h\",\n",
    "        x=0.025,\n",
    "        y=0.99,\n",
    "#         y=1.12,\n",
    "        bordercolor=\"Black\",\n",
    "        borderwidth=1\n",
    "    ),\n",
    "    font=dict(\n",
    "        family=\"Times New Roman\",\n",
    "        size=18,\n",
    "    ),\n",
    "#     **axis_params,\n",
    "#     height=700\n",
    ")\n",
    "\n",
    "\n",
    "fig.show()\n",
    "pio.write_image(fig, 'plots/fv_old/xi2.pdf', width=900, height=600)"
   ]
  },
  {
   "cell_type": "code",
   "execution_count": null,
   "id": "8488e66a",
   "metadata": {},
   "outputs": [],
   "source": []
  }
 ],
 "metadata": {
  "kernelspec": {
   "display_name": "Python 3",
   "language": "python",
   "name": "python3"
  },
  "language_info": {
   "codemirror_mode": {
    "name": "ipython",
    "version": 3
   },
   "file_extension": ".py",
   "mimetype": "text/x-python",
   "name": "python",
   "nbconvert_exporter": "python",
   "pygments_lexer": "ipython3",
   "version": "3.8.10"
  }
 },
 "nbformat": 4,
 "nbformat_minor": 5
}
