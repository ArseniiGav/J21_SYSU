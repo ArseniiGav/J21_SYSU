{
 "cells": [
  {
   "cell_type": "code",
   "execution_count": 1,
   "id": "042c0929",
   "metadata": {},
   "outputs": [],
   "source": [
    "import pandas as pd\n",
    "import numpy as np"
   ]
  },
  {
   "cell_type": "code",
   "execution_count": 2,
   "id": "31b14705",
   "metadata": {},
   "outputs": [],
   "source": [
    "import plotly.graph_objs as go\n",
    "import plotly.io as pio\n",
    "pio.templates.default = 'plotly_white'"
   ]
  },
  {
   "cell_type": "markdown",
   "id": "2ebd9f81",
   "metadata": {},
   "source": [
    "# 5 MeV"
   ]
  },
  {
   "cell_type": "code",
   "execution_count": 3,
   "id": "150f3377",
   "metadata": {},
   "outputs": [],
   "source": [
    "test_targets = pd.read_csv('/mnt/cephfs/ml_data/mc_2021/raw_data/ideal/test/targets/e+_5/targets_test_0.csv')\n",
    "for i in range(99):\n",
    "    test_targets = test_targets.append(\n",
    "        pd.read_csv('/mnt/cephfs/ml_data/mc_2021/raw_data/ideal/test/targets/e+_5/targets_test_{}.csv'.format(i+1))\n",
    "    )\n",
    "test_targets = test_targets.reset_index().drop('index', axis=1)"
   ]
  },
  {
   "cell_type": "code",
   "execution_count": 4,
   "id": "1dde706f",
   "metadata": {},
   "outputs": [],
   "source": [
    "test_targets['edepR'] = (test_targets['edepX']**2 + test_targets['edepY']**2 + test_targets['edepZ']**2)**0.5"
   ]
  },
  {
   "cell_type": "code",
   "execution_count": 5,
   "id": "b03ec93d",
   "metadata": {},
   "outputs": [],
   "source": [
    "test_targets = test_targets[test_targets['edepR'] < 17.2]"
   ]
  },
  {
   "cell_type": "code",
   "execution_count": 6,
   "id": "3f30fa9c",
   "metadata": {},
   "outputs": [],
   "source": [
    "einit = pd.read_csv('/mnt/cephfs/ml_data/mc_2021/raw_data/ideal/test/targets/e+_5/einit_test_0.csv')\n",
    "for i in range(99):\n",
    "    einit = einit.append(\n",
    "        pd.read_csv('/mnt/cephfs/ml_data/mc_2021/raw_data/ideal/test/targets/e+_5/einit_test_{}.csv'.format(i+1))\n",
    "    )\n",
    "einit = einit.reset_index().drop('index', axis=1)\n",
    "einit = einit.iloc[test_targets.index]"
   ]
  },
  {
   "cell_type": "code",
   "execution_count": 7,
   "id": "7cb4c7b8",
   "metadata": {},
   "outputs": [],
   "source": [
    "en_diff = test_targets['edep'] - einit['einit']"
   ]
  },
  {
   "cell_type": "code",
   "execution_count": 8,
   "id": "e9d47892",
   "metadata": {},
   "outputs": [],
   "source": [
    "# fig = go.Figure()\n",
    "\n",
    "# fig.add_trace(\n",
    "#     go.Histogram(\n",
    "#         x=en_diff,\n",
    "#         xbins=dict(\n",
    "#             size=0.1\n",
    "#         ),\n",
    "#         histnorm='probability',\n",
    "#     )\n",
    "# )\n",
    "\n",
    "# fig.update_yaxes(type=\"log\")\n",
    "\n",
    "# fig.show()"
   ]
  },
  {
   "cell_type": "code",
   "execution_count": 9,
   "id": "4e526488",
   "metadata": {},
   "outputs": [
    {
     "name": "stderr",
     "output_type": "stream",
     "text": [
      "100%|██████████| 1002/1002 [02:03<00:00,  8.14it/s]\n"
     ]
    }
   ],
   "source": [
    "from tqdm import tqdm\n",
    "\n",
    "train_targets = pd.read_csv('/mnt/cephfs/ml_data/mc_2021/raw_data/real/train/targets/targets_train_0.csv')\n",
    "for i in tqdm(range(1002)):\n",
    "    train_targets = train_targets.append(\n",
    "        pd.read_csv('/mnt/cephfs/ml_data/mc_2021/raw_data/real/train/targets/targets_train_{}.csv'.format(i+1))\n",
    "    )\n",
    "train_targets = train_targets.reset_index().drop('index', axis=1)"
   ]
  },
  {
   "cell_type": "code",
   "execution_count": 10,
   "id": "850587d0",
   "metadata": {},
   "outputs": [],
   "source": [
    "train_targets['edepR'] = (train_targets['edepX']**2 + train_targets['edepY']**2 + train_targets['edepZ']**2)**0.5"
   ]
  },
  {
   "cell_type": "code",
   "execution_count": 11,
   "id": "1a8a4fe5",
   "metadata": {},
   "outputs": [],
   "source": [
    "train_targets = train_targets[train_targets['edepR'] < 17.2]"
   ]
  },
  {
   "cell_type": "code",
   "execution_count": 12,
   "id": "56be1500",
   "metadata": {},
   "outputs": [
    {
     "name": "stderr",
     "output_type": "stream",
     "text": [
      "100%|██████████| 1002/1002 [01:07<00:00, 14.87it/s]\n"
     ]
    }
   ],
   "source": [
    "einit = pd.read_csv('/mnt/cephfs/ml_data/mc_2021/raw_data/real/train/targets/einit_train_0.csv')\n",
    "for i in tqdm(range(1002)):\n",
    "    einit = einit.append(\n",
    "        pd.read_csv('/mnt/cephfs/ml_data/mc_2021/raw_data/real/train/targets/einit_train_{}.csv'.format(i+1))\n",
    "    )\n",
    "einit = einit.reset_index().drop('index', axis=1)\n",
    "einit = einit.iloc[train_targets.index]"
   ]
  },
  {
   "cell_type": "code",
   "execution_count": 13,
   "id": "de56a013",
   "metadata": {},
   "outputs": [],
   "source": [
    "en_diff = train_targets['edep'] - einit['einit']"
   ]
  },
  {
   "cell_type": "code",
   "execution_count": 14,
   "id": "49ee75a2",
   "metadata": {},
   "outputs": [],
   "source": [
    "# fig = go.Figure()\n",
    "\n",
    "# fig.add_trace(\n",
    "#     go.Histogram(\n",
    "#         x=en_diff,\n",
    "#         xbins=dict(\n",
    "#             size=0.2\n",
    "#         ),\n",
    "#         histnorm='probability',\n",
    "#     )\n",
    "# )\n",
    "\n",
    "# fig.update_yaxes(type=\"log\")\n",
    "\n",
    "# fig.show()"
   ]
  },
  {
   "cell_type": "code",
   "execution_count": 16,
   "id": "ebd4f372",
   "metadata": {},
   "outputs": [],
   "source": [
    "y = pd.DataFrame(en_diff, columns=['targets'])\n",
    "y['targets'] = np.zeros(shape=len(y), dtype=np.int32)\n",
    "y.loc[en_diff[abs(en_diff - 0.511) > train_targets['edep']*0.03 / train_targets['edep']**0.5].index] = 1"
   ]
  },
  {
   "cell_type": "code",
   "execution_count": 17,
   "id": "359cb9bc",
   "metadata": {},
   "outputs": [],
   "source": [
    "y.to_csv('/mnt/cephfs/ml_data/mc_2021/processed_data/train_real_Einit_clf.csv', index=False)"
   ]
  },
  {
   "cell_type": "code",
   "execution_count": null,
   "id": "f7acc47b",
   "metadata": {},
   "outputs": [],
   "source": []
  }
 ],
 "metadata": {
  "kernelspec": {
   "display_name": "Python 3",
   "language": "python",
   "name": "python3"
  },
  "language_info": {
   "codemirror_mode": {
    "name": "ipython",
    "version": 3
   },
   "file_extension": ".py",
   "mimetype": "text/x-python",
   "name": "python",
   "nbconvert_exporter": "python",
   "pygments_lexer": "ipython3",
   "version": "3.8.10"
  }
 },
 "nbformat": 4,
 "nbformat_minor": 5
}
