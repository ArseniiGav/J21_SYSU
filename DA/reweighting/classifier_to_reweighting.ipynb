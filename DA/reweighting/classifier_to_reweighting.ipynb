{
 "cells": [
  {
   "cell_type": "code",
   "execution_count": 1,
   "id": "27ca8b2e",
   "metadata": {},
   "outputs": [],
   "source": [
    "import pandas as pd\n",
    "import numpy as np\n",
    "from tqdm.notebook import tqdm\n",
    "from xgboost import XGBClassifier\n",
    "\n",
    "import warnings\n",
    "warnings.filterwarnings(\"ignore\")"
   ]
  },
  {
   "cell_type": "code",
   "execution_count": 2,
   "id": "8a0f8e5f",
   "metadata": {},
   "outputs": [],
   "source": [
    "def plot_multiclass_roc(clf, X_test, y_test, n_classes, figsize=(17, 6)):\n",
    "    y_score = clf.predict_proba(X_test)\n",
    "\n",
    "    fpr = dict()\n",
    "    tpr = dict()\n",
    "    roc_auc = dict()\n",
    "\n",
    "    y_test_dummies = pd.get_dummies(y_test, drop_first=False).values\n",
    "    for i in range(n_classes):\n",
    "        fpr[i], tpr[i], _ = roc_curve(y_test_dummies[:, i], y_score[:, i])\n",
    "        roc_auc[i] = auc(fpr[i], tpr[i])\n",
    "\n",
    "    fig, ax = plt.subplots(figsize=figsize)\n",
    "    ax.plot([0, 1], [0, 1], 'k--')\n",
    "    ax.set_xlim([0.0, 1.0])\n",
    "    ax.set_ylim([0.0, 1.05])\n",
    "    ax.set_xlabel('False Positive Rate')\n",
    "    ax.set_ylabel('True Positive Rate')\n",
    "    ax.set_title('Receiver operating characteristic example')\n",
    "    for i in range(n_classes):\n",
    "        ax.plot(fpr[i], tpr[i], label=f'ROC curve (area = {roc_auc[i].round(4)}) for label {i}')\n",
    "    ax.legend(loc=\"best\")\n",
    "    ax.grid(alpha=.4)\n",
    "    sns.despine()\n",
    "    plt.show()"
   ]
  },
  {
   "cell_type": "code",
   "execution_count": 3,
   "id": "ed1c3e9c",
   "metadata": {},
   "outputs": [],
   "source": [
    "opt_features = ['AccumCharge', 'R_cht', 'z_cc', 'pe_std',\n",
    "               'nPMTs',] #'ht_kurtosis', 'ht_25-20p', 'R_cc',\n",
    "               #'ht_5-2p', 'pe_mean', 'jacob_cht', 'phi_cc',\n",
    "               #'ht_35-30p', 'ht_20-15p', 'pe_35p', 'ht_30-25p']"
   ]
  },
  {
   "cell_type": "code",
   "execution_count": 4,
   "id": "0751249c",
   "metadata": {},
   "outputs": [],
   "source": [
    "path='/mnt/cephfs/ml_data/mc_2021/'\n",
    "data = pd.read_csv(f'{path}processed_data/ProcessedTrainReal/ProcessedTrain.csv.gz')\n",
    "data = data[data['edepR'] < 17.2]"
   ]
  },
  {
   "cell_type": "code",
   "execution_count": 5,
   "id": "ecf50822",
   "metadata": {},
   "outputs": [],
   "source": [
    "def noised(X, ε_mean, ε_std):\n",
    "    μ = ε_mean * np.mean(X.to_numpy(), axis=0)*np.random.uniform(size=[X.shape[1],])\n",
    "    σ = ε_std * np.std(X.to_numpy(), axis=0)*np.random.uniform(size=[X.shape[1],])\n",
    "    noise = np.random.normal(μ, σ, size=(X.shape[0], X.shape[1]))\n",
    "    return X + noise"
   ]
  },
  {
   "cell_type": "code",
   "execution_count": 6,
   "id": "6d88a39f",
   "metadata": {},
   "outputs": [],
   "source": [
    "from sklearn.utils import shuffle\n",
    "\n",
    "data = shuffle(data)"
   ]
  },
  {
   "cell_type": "code",
   "execution_count": 7,
   "id": "2e5b3462",
   "metadata": {},
   "outputs": [],
   "source": [
    "import numpy\n",
    "\n",
    "original = data[opt_features][400000:]\n",
    "target = noised(original[:400000], 0.05, 0.25)\n",
    "\n",
    "original_weights = numpy.ones(len(original))"
   ]
  },
  {
   "cell_type": "code",
   "execution_count": 8,
   "id": "87573317",
   "metadata": {},
   "outputs": [],
   "source": [
    "columns = original.columns"
   ]
  },
  {
   "cell_type": "code",
   "execution_count": 9,
   "id": "1ca60c5e",
   "metadata": {},
   "outputs": [],
   "source": [
    "import numpy \n",
    "from matplotlib import pyplot as plt\n",
    "from hep_ml.metrics_utils import ks_2samp_weighted\n",
    "hist_settings = {'bins': 100, 'density': True, 'alpha': 0.7}\n",
    "\n",
    "def draw_distributions(original, target, new_original_weights):\n",
    "    plt.figure(figsize=[15, 15])\n",
    "    for id, column in enumerate(columns, 1):\n",
    "        xlim = numpy.percentile(numpy.hstack([target[column]]), [0.01, 99.99])\n",
    "        plt.subplot(4, 4, id)\n",
    "        plt.hist(original[column], weights=new_original_weights, range=xlim, **hist_settings)\n",
    "        plt.hist(target[column], range=xlim, **hist_settings)\n",
    "        plt.title(column)\n",
    "        print('KS over ', column, ' = ', ks_2samp_weighted(original[column], target[column], \n",
    "                                         weights1=new_original_weights, weights2=numpy.ones(len(target), dtype=float)))"
   ]
  },
  {
   "cell_type": "code",
   "execution_count": 10,
   "id": "2763e403",
   "metadata": {
    "scrolled": false
   },
   "outputs": [
    {
     "name": "stdout",
     "output_type": "stream",
     "text": [
      "KS over  AccumCharge  =  0.03329945220538677\n",
      "KS over  R_cht  =  0.06193224756854099\n",
      "KS over  z_cc  =  0.0056160922537674685\n",
      "KS over  pe_std  =  0.030901499465245702\n",
      "KS over  nPMTs  =  0.021285737941470928\n"
     ]
    },
    {
     "data": {
      "image/png": "[encoded data removed]",
      "text/plain": [
       "<Figure size 1080x1080 with 5 Axes>"
      ]
     },
     "metadata": {
      "needs_background": "light"
     },
     "output_type": "display_data"
    }
   ],
   "source": [
    "draw_distributions(original, target, original_weights)"
   ]
  },
  {
   "cell_type": "code",
   "execution_count": 11,
   "id": "202dd794",
   "metadata": {},
   "outputs": [],
   "source": [
    "from sklearn.model_selection import train_test_split\n",
    "\n",
    "original_train, original_test = train_test_split(original, test_size=0.2)\n",
    "target_train, target_test = train_test_split(target, test_size=0.2)\n",
    "\n",
    "original_weights_train = numpy.ones(len(original_train))\n",
    "original_weights_test = numpy.ones(len(original_test))"
   ]
  },
  {
   "cell_type": "code",
   "execution_count": 12,
   "id": "e16e5a36",
   "metadata": {},
   "outputs": [
    {
     "data": {
      "text/plain": [
       "((3363550, 5), (840888, 5), (320000, 5), (80000, 5))"
      ]
     },
     "execution_count": 12,
     "metadata": {},
     "output_type": "execute_result"
    }
   ],
   "source": [
    "original_train.shape, original_test.shape, target_train.shape, target_test.shape "
   ]
  },
  {
   "cell_type": "code",
   "execution_count": 13,
   "id": "f0a9d1f4",
   "metadata": {},
   "outputs": [],
   "source": [
    "from hep_ml import reweight"
   ]
  },
  {
   "cell_type": "code",
   "execution_count": 14,
   "id": "c7a198e1",
   "metadata": {
    "scrolled": false
   },
   "outputs": [
    {
     "name": "stdout",
     "output_type": "stream",
     "text": [
      "KS over  AccumCharge  =  0.013154339674080973\n",
      "KS over  R_cht  =  0.018437431684314887\n",
      "KS over  z_cc  =  0.015708688449105335\n",
      "KS over  pe_std  =  0.015897524397751606\n",
      "KS over  nPMTs  =  0.011647822619189285\n",
      "CPU times: user 57min 5s, sys: 3.41 s, total: 57min 9s\n",
      "Wall time: 57min 37s\n"
     ]
    },
    {
     "data": {
      "image/png": "[encoded data removed]",
      "text/plain": [
       "<Figure size 1080x1080 with 5 Axes>"
      ]
     },
     "metadata": {
      "needs_background": "light"
     },
     "output_type": "display_data"
    }
   ],
   "source": [
    "%%time\n",
    "\n",
    "reweighter = reweight.GBReweighter(\n",
    "    n_estimators=200,\n",
    "    learning_rate=0.1,\n",
    "    max_depth=3,\n",
    "    min_samples_leaf=5000,\n",
    ")\n",
    "reweighter.fit(\n",
    "    original_train, target_train,\n",
    ")\n",
    "\n",
    "gb_weights_test = reweighter.predict_weights(original_test)\n",
    "draw_distributions(original_test, target_test, gb_weights_test)"
   ]
  },
  {
   "cell_type": "code",
   "execution_count": 15,
   "id": "1b36ed9a",
   "metadata": {},
   "outputs": [
    {
     "name": "stdout",
     "output_type": "stream",
     "text": [
      "original 0.6823988721780838\n",
      "gb_weights 0.6723716946647508\n"
     ]
    }
   ],
   "source": [
    "from sklearn.ensemble import GradientBoostingClassifier\n",
    "from sklearn.metrics import roc_auc_score\n",
    "\n",
    "data_conc = numpy.concatenate([original_test, target_test])\n",
    "labels = numpy.array([0] * len(original_test) + [1] * len(target_test))\n",
    "\n",
    "weights = {}\n",
    "weights['original'] = original_weights_test\n",
    "weights['gb_weights'] = gb_weights_test\n",
    "\n",
    "for name, new_weights in weights.items():\n",
    "    W = numpy.concatenate([new_weights / new_weights.sum() * len(target_test), [1] * len(target_test)])\n",
    "    Xtr, Xts, Ytr, Yts, Wtr, Wts = train_test_split(data_conc, labels, W, random_state=42, train_size=0.51)\n",
    "    clf = GradientBoostingClassifier(subsample=0.3, n_estimators=50).fit(Xtr, Ytr, sample_weight=Wtr)\n",
    "    \n",
    "    print(name, roc_auc_score(Yts, clf.predict_proba(Xts)[:, 1], sample_weight=Wts))"
   ]
  },
  {
   "cell_type": "code",
   "execution_count": 16,
   "id": "2ee63657",
   "metadata": {},
   "outputs": [],
   "source": [
    "# original 0.7615415063874171\n",
    "# gb_weights 0.7718626785125609\n"
   ]
  },
  {
   "cell_type": "code",
   "execution_count": null,
   "id": "540f9c9d",
   "metadata": {},
   "outputs": [],
   "source": []
  }
 ],
 "metadata": {
  "kernelspec": {
   "display_name": "Python 3",
   "language": "python",
   "name": "python3"
  },
  "language_info": {
   "codemirror_mode": {
    "name": "ipython",
    "version": 3
   },
   "file_extension": ".py",
   "mimetype": "text/x-python",
   "name": "python",
   "nbconvert_exporter": "python",
   "pygments_lexer": "ipython3",
   "version": "3.8.10"
  }
 },
 "nbformat": 4,
 "nbformat_minor": 5
}
