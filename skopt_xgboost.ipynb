{
 "cells": [
  {
   "cell_type": "code",
   "execution_count": null,
   "id": "6cd04010",
   "metadata": {},
   "outputs": [],
   "source": [
    "import neptune\n",
    "\n",
    "neptune.init(\n",
    "         project_qualified_name='arsde/J21-BDT'\n",
    ")\n",
    "\n",
    "neptune.create_experiment(name='skopt-xgb')"
   ]
  },
  {
   "cell_type": "code",
   "execution_count": null,
   "id": "e493535d",
   "metadata": {},
   "outputs": [],
   "source": [
    "# !pip install sklearn==0.23.2"
   ]
  },
  {
   "cell_type": "code",
   "execution_count": 17,
   "id": "2347546e",
   "metadata": {},
   "outputs": [],
   "source": [
    "from skopt import BayesSearchCV\n",
    "import pandas as pd\n",
    "from skopt.space import Real, Integer"
   ]
  },
  {
   "cell_type": "code",
   "execution_count": null,
   "id": "13ce95fd",
   "metadata": {},
   "outputs": [],
   "source": [
    "path='/mnt/cephfs/ml_data/mc_2021/'\n",
    "\n",
    "data_real = pd.read_csv('{}processed_data/ProcessedTrainReal/ProcessedTrain_1M.csv.gz'.format(path))\n",
    "data_real = data_real[data_real['edepR'] < 17.2]"
   ]
  },
  {
   "cell_type": "code",
   "execution_count": null,
   "id": "5bdf50ef",
   "metadata": {},
   "outputs": [],
   "source": [
    "size = int(1e6)\n",
    "n_feats = len(data_real.columns)-5\n",
    "\n",
    "X_val = data_real.iloc[:, :-5][size:]\n",
    "y_val = data_real.iloc[:, -5][size:]\n",
    "\n",
    "X = data_real.iloc[:, :-5][:size]\n",
    "y = data_real.iloc[:, -5][:size]"
   ]
  },
  {
   "cell_type": "code",
   "execution_count": null,
   "id": "1af802d4",
   "metadata": {},
   "outputs": [],
   "source": [
    "import neptunecontrib.monitoring.skopt as skopt_utils\n",
    "from xgboost import XGBRegressor\n",
    "neptune_callback = skopt_utils.NeptuneCallback()\n",
    "\n",
    "def print_status(optimal_result):\n",
    "    \"\"\"Shows the best parameters found and accuracy attained of the search so far.\"\"\"\n",
    "    models_tested = pd.DataFrame(tuner.cv_results_)\n",
    "    best_parameters_so_far = pd.Series(tuner.best_params_)\n",
    "    print(\n",
    "        \"Model #{}\\nBest accuracy so far: {}\\nBest parameters so far: {}\\n\".format(\n",
    "            len(models_tested),\n",
    "            np.round(tuner.best_score_, 3),\n",
    "            tuner.best_params_,\n",
    "        )\n",
    "    )\n",
    "    \n",
    "    clf_type = tuner.estimator.__class__.__name__\n",
    "    models_tested.to_csv(\"xgboost_optimize/\" + clf_type + \"_cv_results_summary.csv\")\n",
    "\n",
    "model = XGBRegressor(\n",
    "    n_estimators=3000,\n",
    "    random_state=22\n",
    ")\n",
    "    \n",
    "params_space = {\n",
    "    \"learning_rate\": Real(0.01, 1.0, \"log-uniform\"),\n",
    "    \"min_child_weight\": Integer(0, 10),\n",
    "    \"max_depth\": Integer(6, 14),\n",
    "    \"max_delta_step\": Integer(0, 10),\n",
    "    \"subsample\": Real(0.01, 1.0, \"uniform\"),\n",
    "    \"colsample_bytree\": Real(0.01, 1.0, \"log-uniform\"),\n",
    "    \"colsample_bylevel\": Real(0.01, 1.0, \"log-uniform\"),\n",
    "    \"reg_lambda\": Real(1e-9, 1000, \"log-uniform\"),\n",
    "    \"reg_alpha\": Real(1e-9, 1.0, \"log-uniform\"),\n",
    "    \"gamma\": Real(1e-9, 0.5, \"log-uniform\"),\n",
    "    \"min_child_weight\": Integer(0, 5),\n",
    "}\n",
    "    \n",
    "tuner = BayesSearchCV(\n",
    "    model,\n",
    "    params_space,\n",
    "    n_iter=50,\n",
    "    cv=5,\n",
    "    random_state=22,\n",
    "    n_jobs=-1,\n",
    "    verbose=10,\n",
    "    scoring=\"neg_mean_absolute_percentage_error\",\n",
    "    fit_params={\n",
    "        'eval_set': [(X_val, y_val)]\n",
    "        'early_stopping_rounds':3\n",
    "    }\n",
    ")\n",
    "\n",
    "results = tuner.fit(\n",
    "    X, y,\n",
    "    callbacks=[\n",
    "        neptune_callback,\n",
    "        print_status\n",
    "    ]\n",
    ")"
   ]
  },
  {
   "cell_type": "code",
   "execution_count": null,
   "id": "02558572",
   "metadata": {},
   "outputs": [],
   "source": [
    "skopt_utils.log_results(results._optim_results[0])"
   ]
  },
  {
   "cell_type": "code",
   "execution_count": null,
   "id": "2bd9c1be",
   "metadata": {},
   "outputs": [],
   "source": [
    "# !pip install sklearn==0.24"
   ]
  }
 ],
 "metadata": {
  "kernelspec": {
   "display_name": "Python 3",
   "language": "python",
   "name": "python3"
  },
  "language_info": {
   "codemirror_mode": {
    "name": "ipython",
    "version": 3
   },
   "file_extension": ".py",
   "mimetype": "text/x-python",
   "name": "python",
   "nbconvert_exporter": "python",
   "pygments_lexer": "ipython3",
   "version": "3.8.10"
  }
 },
 "nbformat": 4,
 "nbformat_minor": 5
}
